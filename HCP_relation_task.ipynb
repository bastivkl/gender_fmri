{
 "cells": [
  {
   "cell_type": "code",
   "metadata": {
    "id": "jpL_XHG2ZTm_",
    "cell_id": "00000-a9a16a31-a08c-43b0-b9c8-ddebde98ea8b",
    "deepnote_to_be_reexecuted": false,
    "source_hash": "faf3d1a1",
    "execution_start": 1627034682890,
    "execution_millis": 4056,
    "deepnote_cell_type": "code"
   },
   "source": "import os\nimport numpy as np\nimport matplotlib.pyplot as plt\nimport pandas as pd\nimport seaborn as sns",
   "execution_count": 1,
   "outputs": []
  },
  {
   "cell_type": "code",
   "metadata": {
    "colab": {
     "base_uri": "https://localhost:8080/"
    },
    "id": "WK6WAUuSiOro",
    "outputId": "7a5c207a-8e31-4c20-a50e-792cfd728c8f",
    "cell_id": "00001-1961c28b-105b-4aec-8ed8-88fc2bd89e07",
    "deepnote_to_be_reexecuted": false,
    "source_hash": "150e26f4",
    "execution_start": 1627034686963,
    "execution_millis": 9996,
    "deepnote_cell_type": "code"
   },
   "source": "!pip install nilearn --quiet\nfrom nilearn import plotting, datasets\nfrom nilearn import datasets\nfrom nilearn import input_data\nfrom nilearn.connectome import ConnectivityMeasure\nfrom nilearn import plotting",
   "execution_count": 2,
   "outputs": [
    {
     "name": "stderr",
     "text": "/root/venv/lib/python3.7/site-packages/nilearn/datasets/__init__.py:89: FutureWarning: Fetchers from the nilearn.datasets module will be updated in version 0.9 to return python strings instead of bytes and Pandas dataframes instead of Numpy arrays.\n  \"Numpy arrays.\", FutureWarning)\n",
     "output_type": "stream"
    }
   ]
  },
  {
   "cell_type": "code",
   "metadata": {
    "id": "26g92KudZZjS",
    "cellView": "form",
    "cell_id": "00002-3c05c101-caa2-43ea-a05d-a80d97f04268",
    "deepnote_to_be_reexecuted": false,
    "source_hash": "bfd4920d",
    "execution_start": 1627034696956,
    "execution_millis": 149,
    "deepnote_cell_type": "code"
   },
   "source": "#@title Figure settings\n%matplotlib inline\n%config InlineBackend.figure_format = 'retina'\nplt.style.use(\"https://raw.githubusercontent.com/NeuromatchAcademy/course-content/master/nma.mplstyle\")",
   "execution_count": 3,
   "outputs": []
  },
  {
   "cell_type": "code",
   "metadata": {
    "cellView": "code",
    "id": "YPn6Wd75ZeQ5",
    "cell_id": "00003-07d16d69-7e30-4daa-bfe5-68b44010ec40",
    "deepnote_to_be_reexecuted": false,
    "source_hash": "11deefbf",
    "execution_start": 1627034697117,
    "execution_millis": 5,
    "deepnote_cell_type": "code"
   },
   "source": "#@title Default title text\n# The download cells will store the data in nested directories starting here:\nHCP_DIR = \"./hcp\"\nif not os.path.isdir(HCP_DIR):\n  os.mkdir(HCP_DIR)\n\n# The data shared for NMA projects is a subset of the full HCP dataset\nN_SUBJECTS = 100\n\n# The data have already been aggregated into ROIs from the Glasser parcellation\nN_PARCELS = 360\n\n# The acquisition parameters for all tasks were identical\nTR = 0.72  # Time resolution, in seconds\n\n# The parcels are matched across hemispheres with the same order\nHEMIS = [\"Right\", \"Left\"]\n\n# Each experiment was repeated twice in each subject\nRUNS   = ['LR','RL']\nN_RUNS = 2\n\n# There are 7 tasks. Each has a number of 'conditions'\n# TIP: look inside the data folders for more fine-graned conditions\n\nEXPERIMENTS = {\n    'MOTOR'      : {'cond':['lf','rf','lh','rh','t','cue']},\n    'WM'         : {'cond':['0bk_body','0bk_faces','0bk_places','0bk_tools','2bk_body','2bk_faces','2bk_places','2bk_tools']},\n    'EMOTION'    : {'cond':['fear','neut']},\n    'GAMBLING'   : {'cond':['loss','win']},\n    'LANGUAGE'   : {'cond':['math','story']},\n    'RELATIONAL' : {'cond':['match','relation']},\n    'SOCIAL'     : {'cond':['ment','rnd']}\n}\n\n",
   "execution_count": 4,
   "outputs": []
  },
  {
   "cell_type": "code",
   "metadata": {
    "colab": {
     "base_uri": "https://localhost:8080/"
    },
    "id": "Z_S34irtZf-_",
    "outputId": "8a38512f-cabe-4f00-b0f9-bbe8e4f3bafe",
    "cell_id": "00004-8667a257-e20d-417a-b139-304523d9b411",
    "deepnote_to_be_reexecuted": false,
    "source_hash": "f11c8010",
    "execution_start": 1627034697136,
    "execution_millis": 123435,
    "deepnote_cell_type": "code"
   },
   "source": "fname = \"hcp_task.tgz\"\nif not os.path.exists(fname):\n  !wget -qO $fname https://osf.io/2y3fw/download\n  !tar -xzf $fname -C $HCP_DIR --strip-components=1\n\nsubjects = np.loadtxt(os.path.join(HCP_DIR,'subjects_list.txt'),dtype='str')\nsubjects = [i for i in subjects if i.startswith('.') == False]\nsubjects[:10]",
   "execution_count": 5,
   "outputs": [
    {
     "output_type": "execute_result",
     "execution_count": 5,
     "data": {
      "text/plain": "['100307',\n '100408',\n '101915',\n '102816',\n '103414',\n '103515',\n '103818',\n '105115',\n '105216',\n '106016']"
     },
     "metadata": {}
    }
   ]
  },
  {
   "cell_type": "code",
   "metadata": {
    "colab": {
     "base_uri": "https://localhost:8080/"
    },
    "id": "M2DkTX59Zpa1",
    "outputId": "6c32a44c-b808-4695-8c8f-4ad5a55e785b",
    "cell_id": "00005-a23958f3-7cd9-4c8f-9b0e-cbff793e8be7",
    "deepnote_to_be_reexecuted": false,
    "source_hash": "225edce9",
    "execution_start": 1627034820563,
    "execution_millis": 8,
    "deepnote_cell_type": "code"
   },
   "source": "regions = np.load(f\"{HCP_DIR}/regions.npy\").T\nregion_info = dict(\n    name=regions[0].tolist(),\n    network=regions[1],\n    hemi=['Right']*int(N_PARCELS/2) + ['Left']*int(N_PARCELS/2),\n)\n\nprint(type(region_info['network']),region_info['network'].shape)\nprint(region_info['name'][0:5], len(region_info['name']))\n\nprint(region_info['network'][0:5])",
   "execution_count": 6,
   "outputs": [
    {
     "name": "stdout",
     "text": "<class 'numpy.ndarray'> (360,)\n['R_V1', 'R_MST', 'R_V6', 'R_V2', 'R_V3'] 360\n['Visual1' 'Visual2' 'Visual2' 'Visual2' 'Visual2']\n",
     "output_type": "stream"
    }
   ]
  },
  {
   "cell_type": "code",
   "metadata": {
    "id": "0HxaZDsQZreK",
    "cell_id": "00006-81c5c396-1993-4a3c-8eee-26c6daab07c7",
    "deepnote_to_be_reexecuted": false,
    "source_hash": "b4408ab1",
    "execution_start": 1627034820564,
    "execution_millis": 1,
    "deepnote_cell_type": "code"
   },
   "source": "def load_single_timeseries(subject, experiment, run, remove_mean=True):\n  \"\"\"Load timeseries data for a single subject and single run.\n  \n  Args:\n    subject (str):      subject ID to load\n    experiment (str):   Name of experiment \n    run (int):          (0 or 1)\n    remove_mean (bool): If True, subtract the parcel-wise mean (typically the mean BOLD signal is not of interest)\n\n  Returns\n    ts (n_parcel x n_timepoint array): Array of BOLD data values\n\n  \"\"\"\n  bold_run  = RUNS[run]\n  bold_path = f\"{HCP_DIR}/subjects/{subject}/{experiment}/tfMRI_{experiment}_{bold_run}\"\n  bold_file = \"data.npy\"\n  ts = np.load(f\"{bold_path}/{bold_file}\")\n  if remove_mean:\n    ts -= ts.mean(axis=1, keepdims=True)\n  return ts\n\n\ndef load_evs(subject, experiment, run):\n  \"\"\"Load EVs (explanatory variables) data for one task experiment.\n\n  Args:\n    subject (str): subject ID to load\n    experiment (str) : Name of experiment\n    run (int): 0 or 1\n\n  Returns\n    evs (list of lists): A list of frames associated with each condition\n\n  \"\"\"\n  frames_list = []\n  task_key = f'tfMRI_{experiment}_{RUNS[run]}'\n  for cond in EXPERIMENTS[experiment]['cond']:    \n    ev_file  = f\"{HCP_DIR}/subjects/{subject}/{experiment}/{task_key}/EVs/{cond}.txt\"\n    ev_array = np.loadtxt(ev_file, ndmin=2, unpack=True)\n    ev       = dict(zip([\"onset\", \"duration\", \"amplitude\"], ev_array))\n    # Determine when trial starts, rounded down\n    start = np.floor(ev[\"onset\"] / TR).astype(int)\n    # Use trial duration to determine how many frames to include for trial\n    duration = np.ceil(ev[\"duration\"] / TR).astype(int)\n    # Take the range of frames that correspond to this specific trial\n    frames = [s + np.arange(0, d) for s, d in zip(start, duration)]\n    frames_list.append(frames)\n\n  return frames_list",
   "execution_count": 7,
   "outputs": []
  },
  {
   "cell_type": "code",
   "metadata": {
    "id": "J7tdxBnZNXIt",
    "cell_id": "00007-82c688d6-2c3b-4997-ac6b-eeb89a5c564b",
    "deepnote_to_be_reexecuted": false,
    "source_hash": "50eb673e",
    "execution_start": 1627034820606,
    "execution_millis": 0,
    "deepnote_cell_type": "code"
   },
   "source": "network_dict = {1: 'Visual1', \n       2: 'Visual2', \n       3:'Somatomotor',\n       4:'Cingulo-Oper',\n       5:'Language',\n       6:'Default',\n       7:'Frontopariet',\n       8:'Auditory',\n       9:'Posterior-Mu',\n       10:'Dorsal-atten',\n       11:'Ventral-Mult',\n       12:'Orbito-Affec'}",
   "execution_count": 8,
   "outputs": []
  },
  {
   "cell_type": "code",
   "metadata": {
    "colab": {
     "base_uri": "https://localhost:8080/",
     "height": 456
    },
    "id": "_66y7GJIZwRy",
    "outputId": "0ec46578-b459-44d9-eccb-740b98e9cd06",
    "cell_id": "00008-45dee508-da20-4c64-8828-688ac5c1e2c3",
    "deepnote_to_be_reexecuted": false,
    "source_hash": "8ef2bffd",
    "execution_start": 1627034820606,
    "execution_millis": 874,
    "deepnote_cell_type": "code"
   },
   "source": "my_exp  = 'RELATIONAL'\nmy_subj = subjects[0]\nmy_run  = 1\n\ndata = load_single_timeseries(subject=my_subj,experiment=my_exp,run=my_run,remove_mean=True)\n\nprint(type(data), data.shape) #(number of regions x number of time points)\ndata_reshape = data.T\ndata_reshape.shape\ndata\n\ndf = pd.DataFrame(data)\n\ndf.insert(0, \"region_network\", region_info['network'], True)\n\ndf.insert(1,'region_name',region_info['name'], True)\n  \ndf",
   "execution_count": 9,
   "outputs": [
    {
     "name": "stdout",
     "text": "<class 'numpy.ndarray'> (360, 232)\n",
     "output_type": "stream"
    },
    {
     "output_type": "execute_result",
     "execution_count": 9,
     "data": {
      "application/vnd.deepnote.dataframe.v2+json": {
       "row_count": 360,
       "column_count": 234,
       "columns": [
        {
         "name": "region_network",
         "dtype": "object",
         "stats": {
          "unique_count": 12,
          "nan_count": 0,
          "categories": [
           {
            "name": "Posterior-Mu",
            "count": 77
           },
           {
            "name": "Cingulo-Oper",
            "count": 56
           },
           {
            "name": "10 others",
            "count": 227
           }
          ]
         }
        },
        {
         "name": "region_name",
         "dtype": "object",
         "stats": {
          "unique_count": 360,
          "nan_count": 0,
          "categories": [
           {
            "name": "R_V1",
            "count": 1
           },
           {
            "name": "R_MST",
            "count": 1
           },
           {
            "name": "358 others",
            "count": 358
           }
          ]
         }
        },
        {
         "name": 0,
         "dtype": "float64",
         "stats": {
          "unique_count": 360,
          "nan_count": 0,
          "min": "-473.4993834558809",
          "max": "271.50405067558677",
          "histogram": [
           {
            "bin_start": -473.4993834558809,
            "bin_end": -398.9990400427341,
            "count": 1
           },
           {
            "bin_start": -398.9990400427341,
            "bin_end": -324.49869662958736,
            "count": 0
           },
           {
            "bin_start": -324.49869662958736,
            "bin_end": -249.9983532164406,
            "count": 1
           },
           {
            "bin_start": -249.9983532164406,
            "bin_end": -175.49800980329383,
            "count": 1
           },
           {
            "bin_start": -175.49800980329383,
            "bin_end": -100.99766639014706,
            "count": 6
           },
           {
            "bin_start": -100.99766639014706,
            "bin_end": -26.497322977000294,
            "count": 36
           },
           {
            "bin_start": -26.497322977000294,
            "bin_end": 48.00302043614647,
            "count": 118
           },
           {
            "bin_start": 48.00302043614647,
            "bin_end": 122.50336384929324,
            "count": 155
           },
           {
            "bin_start": 122.50336384929324,
            "bin_end": 197.00370726244,
            "count": 38
           },
           {
            "bin_start": 197.00370726244,
            "bin_end": 271.50405067558677,
            "count": 4
           }
          ]
         }
        },
        {
         "name": 1,
         "dtype": "float64",
         "stats": {
          "unique_count": 360,
          "nan_count": 0,
          "min": "-453.1961044594864",
          "max": "234.09959422144493",
          "histogram": [
           {
            "bin_start": -453.1961044594864,
            "bin_end": -384.46653459139327,
            "count": 1
           },
           {
            "bin_start": -384.46653459139327,
            "bin_end": -315.7369647233001,
            "count": 0
           },
           {
            "bin_start": -315.7369647233001,
            "bin_end": -247.00739485520697,
            "count": 1
           },
           {
            "bin_start": -247.00739485520697,
            "bin_end": -178.27782498711383,
            "count": 1
           },
           {
            "bin_start": -178.27782498711383,
            "bin_end": -109.54825511902072,
            "count": 10
           },
           {
            "bin_start": -109.54825511902072,
            "bin_end": -40.81868525092756,
            "count": 51
           },
           {
            "bin_start": -40.81868525092756,
            "bin_end": 27.910884617165607,
            "count": 139
           },
           {
            "bin_start": 27.910884617165607,
            "bin_end": 96.64045448525872,
            "count": 119
           },
           {
            "bin_start": 96.64045448525872,
            "bin_end": 165.37002435335182,
            "count": 28
           },
           {
            "bin_start": 165.37002435335182,
            "bin_end": 234.09959422144493,
            "count": 10
           }
          ]
         }
        },
        {
         "name": 2,
         "dtype": "float64",
         "stats": {
          "unique_count": 360,
          "nan_count": 0,
          "min": "-322.660904389375",
          "max": "204.53017184912824",
          "histogram": [
           {
            "bin_start": -322.660904389375,
            "bin_end": -269.94179676552466,
            "count": 2
           },
           {
            "bin_start": -269.94179676552466,
            "bin_end": -217.22268914167435,
            "count": 2
           },
           {
            "bin_start": -217.22268914167435,
            "bin_end": -164.50358151782405,
            "count": 1
           },
           {
            "bin_start": -164.50358151782405,
            "bin_end": -111.78447389397371,
            "count": 11
           },
           {
            "bin_start": -111.78447389397371,
            "bin_end": -59.06536627012338,
            "count": 45
           },
           {
            "bin_start": -59.06536627012338,
            "bin_end": -6.3462586462731,
            "count": 101
           },
           {
            "bin_start": -6.3462586462731,
            "bin_end": 46.372848977577235,
            "count": 120
           },
           {
            "bin_start": 46.372848977577235,
            "bin_end": 99.09195660142757,
            "count": 55
           },
           {
            "bin_start": 99.09195660142757,
            "bin_end": 151.8110642252779,
            "count": 17
           },
           {
            "bin_start": 151.8110642252779,
            "bin_end": 204.53017184912824,
            "count": 6
           }
          ]
         }
        },
        {
         "name": 3,
         "dtype": "float64",
         "stats": {
          "unique_count": 360,
          "nan_count": 0,
          "min": "-625.3750376275566",
          "max": "223.90150652682314",
          "histogram": [
           {
            "bin_start": -625.3750376275566,
            "bin_end": -540.4473832121187,
            "count": 1
           },
           {
            "bin_start": -540.4473832121187,
            "bin_end": -455.5197287966806,
            "count": 0
           },
           {
            "bin_start": -455.5197287966806,
            "bin_end": -370.5920743812427,
            "count": 0
           },
           {
            "bin_start": -370.5920743812427,
            "bin_end": -285.6644199658047,
            "count": 1
           },
           {
            "bin_start": -285.6644199658047,
            "bin_end": -200.73676555036673,
            "count": 1
           },
           {
            "bin_start": -200.73676555036673,
            "bin_end": -115.8091111349288,
            "count": 17
           },
           {
            "bin_start": -115.8091111349288,
            "bin_end": -30.881456719490757,
            "count": 117
           },
           {
            "bin_start": -30.881456719490757,
            "bin_end": 54.04619769594717,
            "count": 180
           },
           {
            "bin_start": 54.04619769594717,
            "bin_end": 138.9738521113851,
            "count": 35
           },
           {
            "bin_start": 138.9738521113851,
            "bin_end": 223.90150652682314,
            "count": 8
           }
          ]
         }
        },
        {
         "name": 4,
         "dtype": "float64",
         "stats": {
          "unique_count": 360,
          "nan_count": 0,
          "min": "-502.73744873532814",
          "max": "215.67768452777636",
          "histogram": [
           {
            "bin_start": -502.73744873532814,
            "bin_end": -430.8959354090177,
            "count": 1
           },
           {
            "bin_start": -430.8959354090177,
            "bin_end": -359.0544220827072,
            "count": 0
           },
           {
            "bin_start": -359.0544220827072,
            "bin_end": -287.2129087563968,
            "count": 1
           },
           {
            "bin_start": -287.2129087563968,
            "bin_end": -215.37139543008635,
            "count": 4
           },
           {
            "bin_start": -215.37139543008635,
            "bin_end": -143.5298821037759,
            "count": 10
           },
           {
            "bin_start": -143.5298821037759,
            "bin_end": -71.68836877746548,
            "count": 67
           },
           {
            "bin_start": -71.68836877746548,
            "bin_end": 0.15314454884497763,
            "count": 151
           },
           {
            "bin_start": 0.15314454884497763,
            "bin_end": 71.99465787515544,
            "count": 99
           },
           {
            "bin_start": 71.99465787515544,
            "bin_end": 143.83617120146585,
            "count": 18
           },
           {
            "bin_start": 143.83617120146585,
            "bin_end": 215.67768452777636,
            "count": 9
           }
          ]
         }
        },
        {
         "name": 5,
         "dtype": "float64",
         "stats": {
          "unique_count": 360,
          "nan_count": 0,
          "min": "-446.8152325644551",
          "max": "215.9674642027312",
          "histogram": [
           {
            "bin_start": -446.8152325644551,
            "bin_end": -380.5369628877364,
            "count": 1
           },
           {
            "bin_start": -380.5369628877364,
            "bin_end": -314.2586932110178,
            "count": 1
           },
           {
            "bin_start": -314.2586932110178,
            "bin_end": -247.9804235342992,
            "count": 2
           },
           {
            "bin_start": -247.9804235342992,
            "bin_end": -181.70215385758058,
            "count": 4
           },
           {
            "bin_start": -181.70215385758058,
            "bin_end": -115.42388418086193,
            "count": 14
           },
           {
            "bin_start": -115.42388418086193,
            "bin_end": -49.14561450414334,
            "count": 67
           },
           {
            "bin_start": -49.14561450414334,
            "bin_end": 17.132655172575255,
            "count": 167
           },
           {
            "bin_start": 17.132655172575255,
            "bin_end": 83.4109248492939,
            "count": 76
           },
           {
            "bin_start": 83.4109248492939,
            "bin_end": 149.68919452601256,
            "count": 23
           },
           {
            "bin_start": 149.68919452601256,
            "bin_end": 215.9674642027312,
            "count": 5
           }
          ]
         }
        },
        {
         "name": 6,
         "dtype": "float64",
         "stats": {
          "unique_count": 360,
          "nan_count": 0,
          "min": "-811.9951391650156",
          "max": "194.6956812722692",
          "histogram": [
           {
            "bin_start": -811.9951391650156,
            "bin_end": -711.3260571212871,
            "count": 1
           },
           {
            "bin_start": -711.3260571212871,
            "bin_end": -610.6569750775586,
            "count": 0
           },
           {
            "bin_start": -610.6569750775586,
            "bin_end": -509.98789303383023,
            "count": 0
           },
           {
            "bin_start": -509.98789303383023,
            "bin_end": -409.3188109901017,
            "count": 0
           },
           {
            "bin_start": -409.3188109901017,
            "bin_end": -308.6497289463732,
            "count": 1
           },
           {
            "bin_start": -308.6497289463732,
            "bin_end": -207.98064690264482,
            "count": 3
           },
           {
            "bin_start": -207.98064690264482,
            "bin_end": -107.31156485891631,
            "count": 18
           },
           {
            "bin_start": -107.31156485891631,
            "bin_end": -6.642482815187805,
            "count": 179
           },
           {
            "bin_start": -6.642482815187805,
            "bin_end": 94.0265992285407,
            "count": 137
           },
           {
            "bin_start": 94.0265992285407,
            "bin_end": 194.6956812722692,
            "count": 21
           }
          ]
         }
        },
        {
         "name": 7,
         "dtype": "float64",
         "stats": {
          "unique_count": 360,
          "nan_count": 0,
          "min": "-451.7600473931816",
          "max": "308.6720724967963",
          "histogram": [
           {
            "bin_start": -451.7600473931816,
            "bin_end": -375.7168354041838,
            "count": 2
           },
           {
            "bin_start": -375.7168354041838,
            "bin_end": -299.673623415186,
            "count": 1
           },
           {
            "bin_start": -299.673623415186,
            "bin_end": -223.6304114261882,
            "count": 1
           },
           {
            "bin_start": -223.6304114261882,
            "bin_end": -147.5871994371904,
            "count": 7
           },
           {
            "bin_start": -147.5871994371904,
            "bin_end": -71.54398744819264,
            "count": 43
           },
           {
            "bin_start": -71.54398744819264,
            "bin_end": 4.499224540805187,
            "count": 151
           },
           {
            "bin_start": 4.499224540805187,
            "bin_end": 80.54243652980301,
            "count": 117
           },
           {
            "bin_start": 80.54243652980301,
            "bin_end": 156.58564851880078,
            "count": 28
           },
           {
            "bin_start": 156.58564851880078,
            "bin_end": 232.62886050779855,
            "count": 7
           },
           {
            "bin_start": 232.62886050779855,
            "bin_end": 308.6720724967963,
            "count": 3
           }
          ]
         }
        },
        {
         "name": 8,
         "dtype": "float64",
         "stats": {
          "unique_count": 360,
          "nan_count": 0,
          "min": "-589.6185459909375",
          "max": "227.76703551382707",
          "histogram": [
           {
            "bin_start": -589.6185459909375,
            "bin_end": -507.879987840461,
            "count": 1
           },
           {
            "bin_start": -507.879987840461,
            "bin_end": -426.1414296899846,
            "count": 1
           },
           {
            "bin_start": -426.1414296899846,
            "bin_end": -344.40287153950817,
            "count": 0
           },
           {
            "bin_start": -344.40287153950817,
            "bin_end": -262.6643133890317,
            "count": 2
           },
           {
            "bin_start": -262.6643133890317,
            "bin_end": -180.9257552385552,
            "count": 4
           },
           {
            "bin_start": -180.9257552385552,
            "bin_end": -99.18719708807879,
            "count": 31
           },
           {
            "bin_start": -99.18719708807879,
            "bin_end": -17.448638937602368,
            "count": 162
           },
           {
            "bin_start": -17.448638937602368,
            "bin_end": 64.28991921287411,
            "count": 116
           },
           {
            "bin_start": 64.28991921287411,
            "bin_end": 146.0284773633506,
            "count": 33
           },
           {
            "bin_start": 146.0284773633506,
            "bin_end": 227.76703551382707,
            "count": 10
           }
          ]
         }
        },
        {
         "name": 9,
         "dtype": "float64",
         "stats": {
          "unique_count": 360,
          "nan_count": 0,
          "min": "-677.5204233697441",
          "max": "195.67001614884975",
          "histogram": [
           {
            "bin_start": -677.5204233697441,
            "bin_end": -590.2013794178847,
            "count": 1
           },
           {
            "bin_start": -590.2013794178847,
            "bin_end": -502.8823354660253,
            "count": 0
           },
           {
            "bin_start": -502.8823354660253,
            "bin_end": -415.56329151416594,
            "count": 0
           },
           {
            "bin_start": -415.56329151416594,
            "bin_end": -328.24424756230655,
            "count": 2
           },
           {
            "bin_start": -328.24424756230655,
            "bin_end": -240.92520361044717,
            "count": 1
           },
           {
            "bin_start": -240.92520361044717,
            "bin_end": -153.60615965858779,
            "count": 13
           },
           {
            "bin_start": -153.60615965858779,
            "bin_end": -66.2871157067284,
            "count": 92
           },
           {
            "bin_start": -66.2871157067284,
            "bin_end": 21.031928245130985,
            "count": 193
           },
           {
            "bin_start": 21.031928245130985,
            "bin_end": 108.35097219699037,
            "count": 46
           },
           {
            "bin_start": 108.35097219699037,
            "bin_end": 195.67001614884975,
            "count": 12
           }
          ]
         }
        },
        {
         "name": 10,
         "dtype": "float64",
         "stats": {
          "unique_count": 360,
          "nan_count": 0,
          "min": "-414.73870898178575",
          "max": "164.27403563503685",
          "histogram": [
           {
            "bin_start": -414.73870898178575,
            "bin_end": -356.8374345201035,
            "count": 2
           },
           {
            "bin_start": -356.8374345201035,
            "bin_end": -298.93616005842125,
            "count": 0
           },
           {
            "bin_start": -298.93616005842125,
            "bin_end": -241.03488559673895,
            "count": 2
           },
           {
            "bin_start": -241.03488559673895,
            "bin_end": -183.1336111350567,
            "count": 4
           },
           {
            "bin_start": -183.1336111350567,
            "bin_end": -125.23233667337445,
            "count": 13
           },
           {
            "bin_start": -125.23233667337445,
            "bin_end": -67.33106221169214,
            "count": 61
           },
           {
            "bin_start": -67.33106221169214,
            "bin_end": -9.429787750009893,
            "count": 152
           },
           {
            "bin_start": -9.429787750009893,
            "bin_end": 48.471486711672355,
            "count": 92
           },
           {
            "bin_start": 48.471486711672355,
            "bin_end": 106.37276117335466,
            "count": 27
           },
           {
            "bin_start": 106.37276117335466,
            "bin_end": 164.27403563503685,
            "count": 7
           }
          ]
         }
        },
        {
         "name": 11,
         "dtype": "float64",
         "stats": {
          "unique_count": 360,
          "nan_count": 0,
          "min": "-607.8930079434576",
          "max": "216.58769055987977",
          "histogram": [
           {
            "bin_start": -607.8930079434576,
            "bin_end": -525.4449380931239,
            "count": 1
           },
           {
            "bin_start": -525.4449380931239,
            "bin_end": -442.99686824279013,
            "count": 0
           },
           {
            "bin_start": -442.99686824279013,
            "bin_end": -360.54879839245643,
            "count": 1
           },
           {
            "bin_start": -360.54879839245643,
            "bin_end": -278.1007285421227,
            "count": 1
           },
           {
            "bin_start": -278.1007285421227,
            "bin_end": -195.65265869178893,
            "count": 3
           },
           {
            "bin_start": -195.65265869178893,
            "bin_end": -113.20458884145523,
            "count": 13
           },
           {
            "bin_start": -113.20458884145523,
            "bin_end": -30.756518991121425,
            "count": 131
           },
           {
            "bin_start": -30.756518991121425,
            "bin_end": 51.69155085921227,
            "count": 174
           },
           {
            "bin_start": 51.69155085921227,
            "bin_end": 134.13962070954597,
            "count": 30
           },
           {
            "bin_start": 134.13962070954597,
            "bin_end": 216.58769055987977,
            "count": 6
           }
          ]
         }
        },
        {
         "name": 12,
         "dtype": "float64",
         "stats": {
          "unique_count": 360,
          "nan_count": 0,
          "min": "-548.52003524875",
          "max": "200.22510631773912",
          "histogram": [
           {
            "bin_start": -548.52003524875,
            "bin_end": -473.6455210921011,
            "count": 1
           },
           {
            "bin_start": -473.6455210921011,
            "bin_end": -398.7710069354522,
            "count": 1
           },
           {
            "bin_start": -398.7710069354522,
            "bin_end": -323.89649277880324,
            "count": 0
           },
           {
            "bin_start": -323.89649277880324,
            "bin_end": -249.02197862215434,
            "count": 1
           },
           {
            "bin_start": -249.02197862215434,
            "bin_end": -174.14746446550544,
            "count": 1
           },
           {
            "bin_start": -174.14746446550544,
            "bin_end": -99.27295030885648,
            "count": 21
           },
           {
            "bin_start": -99.27295030885648,
            "bin_end": -24.398436152207637,
            "count": 152
           },
           {
            "bin_start": -24.398436152207637,
            "bin_end": 50.47607800444132,
            "count": 143
           },
           {
            "bin_start": 50.47607800444132,
            "bin_end": 125.35059216109028,
            "count": 37
           },
           {
            "bin_start": 125.35059216109028,
            "bin_end": 200.22510631773912,
            "count": 3
           }
          ]
         }
        },
        {
         "name": 13,
         "dtype": "float64",
         "stats": {
          "unique_count": 360,
          "nan_count": 0,
          "min": "-547.0413036531972",
          "max": "251.41036981766229",
          "histogram": [
           {
            "bin_start": -547.0413036531972,
            "bin_end": -467.19613630611127,
            "count": 1
           },
           {
            "bin_start": -467.19613630611127,
            "bin_end": -387.35096895902535,
            "count": 1
           },
           {
            "bin_start": -387.35096895902535,
            "bin_end": -307.50580161193943,
            "count": 3
           },
           {
            "bin_start": -307.50580161193943,
            "bin_end": -227.66063426485346,
            "count": 1
           },
           {
            "bin_start": -227.66063426485346,
            "bin_end": -147.81546691776748,
            "count": 6
           },
           {
            "bin_start": -147.81546691776748,
            "bin_end": -67.97029957068156,
            "count": 53
           },
           {
            "bin_start": -67.97029957068156,
            "bin_end": 11.874867776404358,
            "count": 198
           },
           {
            "bin_start": 11.874867776404358,
            "bin_end": 91.72003512349033,
            "count": 79
           },
           {
            "bin_start": 91.72003512349033,
            "bin_end": 171.5652024705763,
            "count": 14
           },
           {
            "bin_start": 171.5652024705763,
            "bin_end": 251.41036981766229,
            "count": 4
           }
          ]
         }
        },
        {
         "name": 14,
         "dtype": "float64",
         "stats": {
          "unique_count": 360,
          "nan_count": 0,
          "min": "-416.66348028253196",
          "max": "223.6848148267345",
          "histogram": [
           {
            "bin_start": -416.66348028253196,
            "bin_end": -352.6286507716053,
            "count": 1
           },
           {
            "bin_start": -352.6286507716053,
            "bin_end": -288.5938212606787,
            "count": 1
           },
           {
            "bin_start": -288.5938212606787,
            "bin_end": -224.55899174975204,
            "count": 1
           },
           {
            "bin_start": -224.55899174975204,
            "bin_end": -160.5241622388254,
            "count": 3
           },
           {
            "bin_start": -160.5241622388254,
            "bin_end": -96.48933272789873,
            "count": 29
           },
           {
            "bin_start": -96.48933272789873,
            "bin_end": -32.454503216972114,
            "count": 107
           },
           {
            "bin_start": -32.454503216972114,
            "bin_end": 31.5803262939545,
            "count": 166
           },
           {
            "bin_start": 31.5803262939545,
            "bin_end": 95.61515580488117,
            "count": 46
           },
           {
            "bin_start": 95.61515580488117,
            "bin_end": 159.64998531580784,
            "count": 5
           },
           {
            "bin_start": 159.64998531580784,
            "bin_end": 223.6848148267345,
            "count": 1
           }
          ]
         }
        },
        {
         "name": 15,
         "dtype": "float64",
         "stats": {
          "unique_count": 360,
          "nan_count": 0,
          "min": "-518.3533967521544",
          "max": "213.15267738764123",
          "histogram": [
           {
            "bin_start": -518.3533967521544,
            "bin_end": -445.2027893381748,
            "count": 1
           },
           {
            "bin_start": -445.2027893381748,
            "bin_end": -372.0521819241952,
            "count": 0
           },
           {
            "bin_start": -372.0521819241952,
            "bin_end": -298.9015745102157,
            "count": 0
           },
           {
            "bin_start": -298.9015745102157,
            "bin_end": -225.75096709623614,
            "count": 0
           },
           {
            "bin_start": -225.75096709623614,
            "bin_end": -152.60035968225657,
            "count": 5
           },
           {
            "bin_start": -152.60035968225657,
            "bin_end": -79.44975226827705,
            "count": 32
           },
           {
            "bin_start": -79.44975226827705,
            "bin_end": -6.299144854297424,
            "count": 150
           },
           {
            "bin_start": -6.299144854297424,
            "bin_end": 66.85146255968209,
            "count": 144
           },
           {
            "bin_start": 66.85146255968209,
            "bin_end": 140.0020699736616,
            "count": 24
           },
           {
            "bin_start": 140.0020699736616,
            "bin_end": 213.15267738764123,
            "count": 4
           }
          ]
         }
        },
        {
         "name": 16,
         "dtype": "float64",
         "stats": {
          "unique_count": 360,
          "nan_count": 0,
          "min": "-659.1852934118106",
          "max": "228.7105868311719",
          "histogram": [
           {
            "bin_start": -659.1852934118106,
            "bin_end": -570.3957053875123,
            "count": 1
           },
           {
            "bin_start": -570.3957053875123,
            "bin_end": -481.6061173632141,
            "count": 0
           },
           {
            "bin_start": -481.6061173632141,
            "bin_end": -392.81652933891587,
            "count": 0
           },
           {
            "bin_start": -392.81652933891587,
            "bin_end": -304.0269413146176,
            "count": 1
           },
           {
            "bin_start": -304.0269413146176,
            "bin_end": -215.23735329031933,
            "count": 2
           },
           {
            "bin_start": -215.23735329031933,
            "bin_end": -126.44776526602118,
            "count": 4
           },
           {
            "bin_start": -126.44776526602118,
            "bin_end": -37.65817724172291,
            "count": 69
           },
           {
            "bin_start": -37.65817724172291,
            "bin_end": 51.13141078257536,
            "count": 220
           },
           {
            "bin_start": 51.13141078257536,
            "bin_end": 139.92099880687363,
            "count": 59
           },
           {
            "bin_start": 139.92099880687363,
            "bin_end": 228.7105868311719,
            "count": 4
           }
          ]
         }
        },
        {
         "name": 17,
         "dtype": "float64",
         "stats": {
          "unique_count": 360,
          "nan_count": 0,
          "min": "-452.87172920908597",
          "max": "241.19406616733977",
          "histogram": [
           {
            "bin_start": -452.87172920908597,
            "bin_end": -383.4651496714434,
            "count": 2
           },
           {
            "bin_start": -383.4651496714434,
            "bin_end": -314.0585701338008,
            "count": 0
           },
           {
            "bin_start": -314.0585701338008,
            "bin_end": -244.65199059615827,
            "count": 3
           },
           {
            "bin_start": -244.65199059615827,
            "bin_end": -175.24541105851569,
            "count": 4
           },
           {
            "bin_start": -175.24541105851569,
            "bin_end": -105.8388315208731,
            "count": 12
           },
           {
            "bin_start": -105.8388315208731,
            "bin_end": -36.43225198323057,
            "count": 72
           },
           {
            "bin_start": -36.43225198323057,
            "bin_end": 32.974327554412014,
            "count": 206
           },
           {
            "bin_start": 32.974327554412014,
            "bin_end": 102.3809070920546,
            "count": 53
           },
           {
            "bin_start": 102.3809070920546,
            "bin_end": 171.78748662969713,
            "count": 5
           },
           {
            "bin_start": 171.78748662969713,
            "bin_end": 241.19406616733977,
            "count": 3
           }
          ]
         }
        },
        {
         "name": 18,
         "dtype": "float64",
         "stats": {
          "unique_count": 360,
          "nan_count": 0,
          "min": "-418.9644910664538",
          "max": "204.19375797555585",
          "histogram": [
           {
            "bin_start": -418.9644910664538,
            "bin_end": -356.6486661622528,
            "count": 1
           },
           {
            "bin_start": -356.6486661622528,
            "bin_end": -294.3328412580519,
            "count": 2
           },
           {
            "bin_start": -294.3328412580519,
            "bin_end": -232.01701635385086,
            "count": 3
           },
           {
            "bin_start": -232.01701635385086,
            "bin_end": -169.7011914496499,
            "count": 3
           },
           {
            "bin_start": -169.7011914496499,
            "bin_end": -107.38536654544896,
            "count": 26
           },
           {
            "bin_start": -107.38536654544896,
            "bin_end": -45.06954164124795,
            "count": 77
           },
           {
            "bin_start": -45.06954164124795,
            "bin_end": 17.246283262953,
            "count": 170
           },
           {
            "bin_start": 17.246283262953,
            "bin_end": 79.56210816715395,
            "count": 63
           },
           {
            "bin_start": 79.56210816715395,
            "bin_end": 141.87793307135496,
            "count": 13
           },
           {
            "bin_start": 141.87793307135496,
            "bin_end": 204.19375797555585,
            "count": 2
           }
          ]
         }
        },
        {
         "name": 19,
         "dtype": "float64",
         "stats": {
          "unique_count": 360,
          "nan_count": 0,
          "min": "-498.484137912832",
          "max": "335.44250571673365",
          "histogram": [
           {
            "bin_start": -498.484137912832,
            "bin_end": -415.09147354987545,
            "count": 3
           },
           {
            "bin_start": -415.09147354987545,
            "bin_end": -331.6988091869189,
            "count": 1
           },
           {
            "bin_start": -331.6988091869189,
            "bin_end": -248.3061448239623,
            "count": 5
           },
           {
            "bin_start": -248.3061448239623,
            "bin_end": -164.91348046100575,
            "count": 1
           },
           {
            "bin_start": -164.91348046100575,
            "bin_end": -81.52081609804918,
            "count": 27
           },
           {
            "bin_start": -81.52081609804918,
            "bin_end": 1.8718482649073849,
            "count": 161
           },
           {
            "bin_start": 1.8718482649073849,
            "bin_end": 85.26451262786395,
            "count": 133
           },
           {
            "bin_start": 85.26451262786395,
            "bin_end": 168.65717699082052,
            "count": 22
           },
           {
            "bin_start": 168.65717699082052,
            "bin_end": 252.04984135377708,
            "count": 6
           },
           {
            "bin_start": 252.04984135377708,
            "bin_end": 335.44250571673365,
            "count": 1
           }
          ]
         }
        },
        {
         "name": 20,
         "dtype": "float64",
         "stats": {
          "unique_count": 360,
          "nan_count": 0,
          "min": "-558.3291078899765",
          "max": "248.67247148295792",
          "histogram": [
           {
            "bin_start": -558.3291078899765,
            "bin_end": -477.62894995268306,
            "count": 2
           },
           {
            "bin_start": -477.62894995268306,
            "bin_end": -396.9287920153896,
            "count": 0
           },
           {
            "bin_start": -396.9287920153896,
            "bin_end": -316.2286340780962,
            "count": 1
           },
           {
            "bin_start": -316.2286340780962,
            "bin_end": -235.52847614080275,
            "count": 3
           },
           {
            "bin_start": -235.52847614080275,
            "bin_end": -154.8283182035093,
            "count": 6
           },
           {
            "bin_start": -154.8283182035093,
            "bin_end": -74.1281602662159,
            "count": 32
           },
           {
            "bin_start": -74.1281602662159,
            "bin_end": 6.571997671077611,
            "count": 146
           },
           {
            "bin_start": 6.571997671077611,
            "bin_end": 87.27215560837101,
            "count": 145
           },
           {
            "bin_start": 87.27215560837101,
            "bin_end": 167.9723135456644,
            "count": 21
           },
           {
            "bin_start": 167.9723135456644,
            "bin_end": 248.67247148295792,
            "count": 4
           }
          ]
         }
        },
        {
         "name": 21,
         "dtype": "float64",
         "stats": {
          "unique_count": 360,
          "nan_count": 0,
          "min": "-645.0984356894551",
          "max": "223.11057026996423",
          "histogram": [
           {
            "bin_start": -645.0984356894551,
            "bin_end": -558.2775350935132,
            "count": 1
           },
           {
            "bin_start": -558.2775350935132,
            "bin_end": -471.4566344975712,
            "count": 0
           },
           {
            "bin_start": -471.4566344975712,
            "bin_end": -384.63573390162924,
            "count": 2
           },
           {
            "bin_start": -384.63573390162924,
            "bin_end": -297.81483330568733,
            "count": 1
           },
           {
            "bin_start": -297.81483330568733,
            "bin_end": -210.99393270974542,
            "count": 3
           },
           {
            "bin_start": -210.99393270974542,
            "bin_end": -124.1730321138034,
            "count": 2
           },
           {
            "bin_start": -124.1730321138034,
            "bin_end": -37.352131517861494,
            "count": 62
           },
           {
            "bin_start": -37.352131517861494,
            "bin_end": 49.46876907808041,
            "count": 226
           },
           {
            "bin_start": 49.46876907808041,
            "bin_end": 136.28966967402232,
            "count": 57
           },
           {
            "bin_start": 136.28966967402232,
            "bin_end": 223.11057026996423,
            "count": 6
           }
          ]
         }
        },
        {
         "name": 22,
         "dtype": "float64",
         "stats": {
          "unique_count": 360,
          "nan_count": 0,
          "min": "-447.5153829100709",
          "max": "233.3156871461415",
          "histogram": [
           {
            "bin_start": -447.5153829100709,
            "bin_end": -379.4322759044497,
            "count": 4
           },
           {
            "bin_start": -379.4322759044497,
            "bin_end": -311.34916889882845,
            "count": 3
           },
           {
            "bin_start": -311.34916889882845,
            "bin_end": -243.26606189320717,
            "count": 1
           },
           {
            "bin_start": -243.26606189320717,
            "bin_end": -175.18295488758594,
            "count": 3
           },
           {
            "bin_start": -175.18295488758594,
            "bin_end": -107.0998478819647,
            "count": 10
           },
           {
            "bin_start": -107.0998478819647,
            "bin_end": -39.01674087634342,
            "count": 78
           },
           {
            "bin_start": -39.01674087634342,
            "bin_end": 29.06636612927781,
            "count": 163
           },
           {
            "bin_start": 29.06636612927781,
            "bin_end": 97.14947313489904,
            "count": 79
           },
           {
            "bin_start": 97.14947313489904,
            "bin_end": 165.23258014052033,
            "count": 13
           },
           {
            "bin_start": 165.23258014052033,
            "bin_end": 233.3156871461415,
            "count": 6
           }
          ]
         }
        },
        {
         "name": 23,
         "dtype": "float64",
         "stats": {
          "unique_count": 360,
          "nan_count": 0,
          "min": "-358.9582124322769",
          "max": "209.23119645540828",
          "histogram": [
           {
            "bin_start": -358.9582124322769,
            "bin_end": -302.1392715435084,
            "count": 2
           },
           {
            "bin_start": -302.1392715435084,
            "bin_end": -245.32033065473988,
            "count": 3
           },
           {
            "bin_start": -245.32033065473988,
            "bin_end": -188.50138976597134,
            "count": 2
           },
           {
            "bin_start": -188.50138976597134,
            "bin_end": -131.68244887720283,
            "count": 9
           },
           {
            "bin_start": -131.68244887720283,
            "bin_end": -74.86350798843432,
            "count": 42
           },
           {
            "bin_start": -74.86350798843432,
            "bin_end": -18.044567099665755,
            "count": 109
           },
           {
            "bin_start": -18.044567099665755,
            "bin_end": 38.774373789102754,
            "count": 113
           },
           {
            "bin_start": 38.774373789102754,
            "bin_end": 95.59331467787126,
            "count": 63
           },
           {
            "bin_start": 95.59331467787126,
            "bin_end": 152.41225556663977,
            "count": 11
           },
           {
            "bin_start": 152.41225556663977,
            "bin_end": 209.23119645540828,
            "count": 6
           }
          ]
         }
        },
        {
         "name": 24,
         "dtype": "float64",
         "stats": {
          "unique_count": 360,
          "nan_count": 0,
          "min": "-590.9345515999121",
          "max": "218.9928764994056",
          "histogram": [
           {
            "bin_start": -590.9345515999121,
            "bin_end": -509.9418087899803,
            "count": 1
           },
           {
            "bin_start": -509.9418087899803,
            "bin_end": -428.94906598004854,
            "count": 0
           },
           {
            "bin_start": -428.94906598004854,
            "bin_end": -347.9563231701168,
            "count": 0
           },
           {
            "bin_start": -347.9563231701168,
            "bin_end": -266.963580360185,
            "count": 5
           },
           {
            "bin_start": -266.963580360185,
            "bin_end": -185.97083755025324,
            "count": 3
           },
           {
            "bin_start": -185.97083755025324,
            "bin_end": -104.97809474032147,
            "count": 14
           },
           {
            "bin_start": -104.97809474032147,
            "bin_end": -23.985351930389697,
            "count": 121
           },
           {
            "bin_start": -23.985351930389697,
            "bin_end": 57.00739087954207,
            "count": 156
           },
           {
            "bin_start": 57.00739087954207,
            "bin_end": 138.00013368947384,
            "count": 55
           },
           {
            "bin_start": 138.00013368947384,
            "bin_end": 218.9928764994056,
            "count": 5
           }
          ]
         }
        },
        {
         "name": 25,
         "dtype": "float64",
         "stats": {
          "unique_count": 360,
          "nan_count": 0,
          "min": "-455.52219182427143",
          "max": "304.05416093608255",
          "histogram": [
           {
            "bin_start": -455.52219182427143,
            "bin_end": -379.56455654823606,
            "count": 1
           },
           {
            "bin_start": -379.56455654823606,
            "bin_end": -303.6069212722006,
            "count": 1
           },
           {
            "bin_start": -303.6069212722006,
            "bin_end": -227.64928599616522,
            "count": 1
           },
           {
            "bin_start": -227.64928599616522,
            "bin_end": -151.69165072012981,
            "count": 14
           },
           {
            "bin_start": -151.69165072012981,
            "bin_end": -75.73401544409444,
            "count": 27
           },
           {
            "bin_start": -75.73401544409444,
            "bin_end": 0.22361983194099366,
            "count": 143
           },
           {
            "bin_start": 0.22361983194099366,
            "bin_end": 76.18125510797643,
            "count": 135
           },
           {
            "bin_start": 76.18125510797643,
            "bin_end": 152.1388903840118,
            "count": 34
           },
           {
            "bin_start": 152.1388903840118,
            "bin_end": 228.09652566004718,
            "count": 3
           },
           {
            "bin_start": 228.09652566004718,
            "bin_end": 304.05416093608255,
            "count": 1
           }
          ]
         }
        },
        {
         "name": 26,
         "dtype": "float64",
         "stats": {
          "unique_count": 360,
          "nan_count": 0,
          "min": "-527.8990197489493",
          "max": "254.21927961540496",
          "histogram": [
           {
            "bin_start": -527.8990197489493,
            "bin_end": -449.68718981251385,
            "count": 2
           },
           {
            "bin_start": -449.68718981251385,
            "bin_end": -371.4753598760784,
            "count": 1
           },
           {
            "bin_start": -371.4753598760784,
            "bin_end": -293.26352993964304,
            "count": 2
           },
           {
            "bin_start": -293.26352993964304,
            "bin_end": -215.0517000032076,
            "count": 4
           },
           {
            "bin_start": -215.0517000032076,
            "bin_end": -136.83987006677216,
            "count": 7
           },
           {
            "bin_start": -136.83987006677216,
            "bin_end": -58.628040130336785,
            "count": 55
           },
           {
            "bin_start": -58.628040130336785,
            "bin_end": 19.583789806098707,
            "count": 194
           },
           {
            "bin_start": 19.583789806098707,
            "bin_end": 97.79561974253409,
            "count": 82
           },
           {
            "bin_start": 97.79561974253409,
            "bin_end": 176.00744967896946,
            "count": 11
           },
           {
            "bin_start": 176.00744967896946,
            "bin_end": 254.21927961540496,
            "count": 2
           }
          ]
         }
        },
        {
         "name": 27,
         "dtype": "float64",
         "stats": {
          "unique_count": 360,
          "nan_count": 0,
          "min": "-485.3017452564909",
          "max": "173.36542293831735",
          "histogram": [
           {
            "bin_start": -485.3017452564909,
            "bin_end": -419.4350284370101,
            "count": 2
           },
           {
            "bin_start": -419.4350284370101,
            "bin_end": -353.5683116175293,
            "count": 0
           },
           {
            "bin_start": -353.5683116175293,
            "bin_end": -287.7015947980484,
            "count": 0
           },
           {
            "bin_start": -287.7015947980484,
            "bin_end": -221.8348779785676,
            "count": 4
           },
           {
            "bin_start": -221.8348779785676,
            "bin_end": -155.96816115908678,
            "count": 9
           },
           {
            "bin_start": -155.96816115908678,
            "bin_end": -90.1014443396059,
            "count": 18
           },
           {
            "bin_start": -90.1014443396059,
            "bin_end": -24.23472752012509,
            "count": 90
           },
           {
            "bin_start": -24.23472752012509,
            "bin_end": 41.63198929935572,
            "count": 173
           },
           {
            "bin_start": 41.63198929935572,
            "bin_end": 107.4987061188366,
            "count": 56
           },
           {
            "bin_start": 107.4987061188366,
            "bin_end": 173.36542293831735,
            "count": 8
           }
          ]
         }
        },
        {
         "name": 28,
         "dtype": "float64",
         "stats": {
          "unique_count": 360,
          "nan_count": 0,
          "min": "-410.37924748833393",
          "max": "169.41196096248314",
          "histogram": [
           {
            "bin_start": -410.37924748833393,
            "bin_end": -352.40012664325224,
            "count": 1
           },
           {
            "bin_start": -352.40012664325224,
            "bin_end": -294.42100579817054,
            "count": 0
           },
           {
            "bin_start": -294.42100579817054,
            "bin_end": -236.4418849530888,
            "count": 3
           },
           {
            "bin_start": -236.4418849530888,
            "bin_end": -178.4627641080071,
            "count": 3
           },
           {
            "bin_start": -178.4627641080071,
            "bin_end": -120.4836432629254,
            "count": 3
           },
           {
            "bin_start": -120.4836432629254,
            "bin_end": -62.504522417843646,
            "count": 25
           },
           {
            "bin_start": -62.504522417843646,
            "bin_end": -4.52540157276195,
            "count": 111
           },
           {
            "bin_start": -4.52540157276195,
            "bin_end": 53.453719272319745,
            "count": 145
           },
           {
            "bin_start": 53.453719272319745,
            "bin_end": 111.4328401174015,
            "count": 55
           },
           {
            "bin_start": 111.4328401174015,
            "bin_end": 169.41196096248314,
            "count": 14
           }
          ]
         }
        },
        {
         "name": 29,
         "dtype": "float64",
         "stats": {
          "unique_count": 360,
          "nan_count": 0,
          "min": "-609.1265337713867",
          "max": "223.88769018059065",
          "histogram": [
           {
            "bin_start": -609.1265337713867,
            "bin_end": -525.8251113761889,
            "count": 1
           },
           {
            "bin_start": -525.8251113761889,
            "bin_end": -442.5236889809912,
            "count": 0
           },
           {
            "bin_start": -442.5236889809912,
            "bin_end": -359.2222665857935,
            "count": 0
           },
           {
            "bin_start": -359.2222665857935,
            "bin_end": -275.92084419059574,
            "count": 0
           },
           {
            "bin_start": -275.92084419059574,
            "bin_end": -192.619421795398,
            "count": 4
           },
           {
            "bin_start": -192.619421795398,
            "bin_end": -109.31799940020028,
            "count": 9
           },
           {
            "bin_start": -109.31799940020028,
            "bin_end": -26.016577005002546,
            "count": 67
           },
           {
            "bin_start": -26.016577005002546,
            "bin_end": 57.28484539019519,
            "count": 218
           },
           {
            "bin_start": 57.28484539019519,
            "bin_end": 140.58626778539292,
            "count": 56
           },
           {
            "bin_start": 140.58626778539292,
            "bin_end": 223.88769018059065,
            "count": 5
           }
          ]
         }
        },
        {
         "name": 30,
         "dtype": "float64",
         "stats": {
          "unique_count": 360,
          "nan_count": 0,
          "min": "-662.2176232645743",
          "max": "226.99132684891083",
          "histogram": [
           {
            "bin_start": -662.2176232645743,
            "bin_end": -573.2967282532258,
            "count": 1
           },
           {
            "bin_start": -573.2967282532258,
            "bin_end": -484.3758332418773,
            "count": 0
           },
           {
            "bin_start": -484.3758332418773,
            "bin_end": -395.4549382305288,
            "count": 0
           },
           {
            "bin_start": -395.4549382305288,
            "bin_end": -306.53404321918026,
            "count": 1
           },
           {
            "bin_start": -306.53404321918026,
            "bin_end": -217.61314820783173,
            "count": 2
           },
           {
            "bin_start": -217.61314820783173,
            "bin_end": -128.6922531964833,
            "count": 4
           },
           {
            "bin_start": -128.6922531964833,
            "bin_end": -39.77135818513477,
            "count": 49
           },
           {
            "bin_start": -39.77135818513477,
            "bin_end": 49.14953682621376,
            "count": 244
           },
           {
            "bin_start": 49.14953682621376,
            "bin_end": 138.0704318375623,
            "count": 54
           },
           {
            "bin_start": 138.0704318375623,
            "bin_end": 226.99132684891083,
            "count": 5
           }
          ]
         }
        },
        {
         "name": 31,
         "dtype": "float64",
         "stats": {
          "unique_count": 360,
          "nan_count": 0,
          "min": "-624.4931923000313",
          "max": "260.00627913785684",
          "histogram": [
           {
            "bin_start": -624.4931923000313,
            "bin_end": -536.0432451562425,
            "count": 1
           },
           {
            "bin_start": -536.0432451562425,
            "bin_end": -447.59329801245366,
            "count": 0
           },
           {
            "bin_start": -447.59329801245366,
            "bin_end": -359.1433508686648,
            "count": 0
           },
           {
            "bin_start": -359.1433508686648,
            "bin_end": -270.693403724876,
            "count": 3
           },
           {
            "bin_start": -270.693403724876,
            "bin_end": -182.24345658108723,
            "count": 4
           },
           {
            "bin_start": -182.24345658108723,
            "bin_end": -93.79350943729833,
            "count": 13
           },
           {
            "bin_start": -93.79350943729833,
            "bin_end": -5.343562293509535,
            "count": 133
           },
           {
            "bin_start": -5.343562293509535,
            "bin_end": 83.10638485027926,
            "count": 169
           },
           {
            "bin_start": 83.10638485027926,
            "bin_end": 171.55633199406805,
            "count": 33
           },
           {
            "bin_start": 171.55633199406805,
            "bin_end": 260.00627913785684,
            "count": 4
           }
          ]
         }
        },
        {
         "name": 32,
         "dtype": "float64",
         "stats": {
          "unique_count": 360,
          "nan_count": 0,
          "min": "-306.0777994431901",
          "max": "172.5974200849305",
          "histogram": [
           {
            "bin_start": -306.0777994431901,
            "bin_end": -258.210277490378,
            "count": 2
           },
           {
            "bin_start": -258.210277490378,
            "bin_end": -210.34275553756598,
            "count": 1
           },
           {
            "bin_start": -210.34275553756598,
            "bin_end": -162.47523358475394,
            "count": 4
           },
           {
            "bin_start": -162.47523358475394,
            "bin_end": -114.60771163194187,
            "count": 7
           },
           {
            "bin_start": -114.60771163194187,
            "bin_end": -66.7401896791298,
            "count": 6
           },
           {
            "bin_start": -66.7401896791298,
            "bin_end": -18.872667726317786,
            "count": 91
           },
           {
            "bin_start": -18.872667726317786,
            "bin_end": 28.994854226494283,
            "count": 153
           },
           {
            "bin_start": 28.994854226494283,
            "bin_end": 76.86237617930635,
            "count": 77
           },
           {
            "bin_start": 76.86237617930635,
            "bin_end": 124.72989813211842,
            "count": 15
           },
           {
            "bin_start": 124.72989813211842,
            "bin_end": 172.5974200849305,
            "count": 4
           }
          ]
         }
        },
        {
         "name": 33,
         "dtype": "float64",
         "stats": {
          "unique_count": 360,
          "nan_count": 0,
          "min": "-336.41563790138935",
          "max": "244.73149954628025",
          "histogram": [
           {
            "bin_start": -336.41563790138935,
            "bin_end": -278.3009241566224,
            "count": 1
           },
           {
            "bin_start": -278.3009241566224,
            "bin_end": -220.18621041185543,
            "count": 2
           },
           {
            "bin_start": -220.18621041185543,
            "bin_end": -162.07149666708847,
            "count": 5
           },
           {
            "bin_start": -162.07149666708847,
            "bin_end": -103.95678292232151,
            "count": 9
           },
           {
            "bin_start": -103.95678292232151,
            "bin_end": -45.84206917755455,
            "count": 45
           },
           {
            "bin_start": -45.84206917755455,
            "bin_end": 12.27264456721241,
            "count": 172
           },
           {
            "bin_start": 12.27264456721241,
            "bin_end": 70.38735831197937,
            "count": 101
           },
           {
            "bin_start": 70.38735831197937,
            "bin_end": 128.50207205674633,
            "count": 20
           },
           {
            "bin_start": 128.50207205674633,
            "bin_end": 186.6167858015133,
            "count": 3
           },
           {
            "bin_start": 186.6167858015133,
            "bin_end": 244.73149954628025,
            "count": 2
           }
          ]
         }
        },
        {
         "name": 34,
         "dtype": "float64",
         "stats": {
          "unique_count": 360,
          "nan_count": 0,
          "min": "-655.8420348230684",
          "max": "224.37672980943717",
          "histogram": [
           {
            "bin_start": -655.8420348230684,
            "bin_end": -567.8201583598178,
            "count": 1
           },
           {
            "bin_start": -567.8201583598178,
            "bin_end": -479.7982818965673,
            "count": 0
           },
           {
            "bin_start": -479.7982818965673,
            "bin_end": -391.77640543331677,
            "count": 1
           },
           {
            "bin_start": -391.77640543331677,
            "bin_end": -303.7545289700662,
            "count": 1
           },
           {
            "bin_start": -303.7545289700662,
            "bin_end": -215.7326525068156,
            "count": 0
           },
           {
            "bin_start": -215.7326525068156,
            "bin_end": -127.71077604356515,
            "count": 15
           },
           {
            "bin_start": -127.71077604356515,
            "bin_end": -39.68889958031457,
            "count": 64
           },
           {
            "bin_start": -39.68889958031457,
            "bin_end": 48.33297688293601,
            "count": 242
           },
           {
            "bin_start": 48.33297688293601,
            "bin_end": 136.3548533461866,
            "count": 33
           },
           {
            "bin_start": 136.3548533461866,
            "bin_end": 224.37672980943717,
            "count": 3
           }
          ]
         }
        },
        {
         "name": 35,
         "dtype": "float64",
         "stats": {
          "unique_count": 360,
          "nan_count": 0,
          "min": "-364.40837210945574",
          "max": "185.8771924226421",
          "histogram": [
           {
            "bin_start": -364.40837210945574,
            "bin_end": -309.37981565624597,
            "count": 1
           },
           {
            "bin_start": -309.37981565624597,
            "bin_end": -254.35125920303616,
            "count": 1
           },
           {
            "bin_start": -254.35125920303616,
            "bin_end": -199.32270274982636,
            "count": 3
           },
           {
            "bin_start": -199.32270274982636,
            "bin_end": -144.2941462966166,
            "count": 6
           },
           {
            "bin_start": -144.2941462966166,
            "bin_end": -89.26558984340681,
            "count": 33
           },
           {
            "bin_start": -89.26558984340681,
            "bin_end": -34.237033390196984,
            "count": 95
           },
           {
            "bin_start": -34.237033390196984,
            "bin_end": 20.79152306301279,
            "count": 167
           },
           {
            "bin_start": 20.79152306301279,
            "bin_end": 75.82007951622256,
            "count": 42
           },
           {
            "bin_start": 75.82007951622256,
            "bin_end": 130.84863596943234,
            "count": 6
           },
           {
            "bin_start": 130.84863596943234,
            "bin_end": 185.8771924226421,
            "count": 6
           }
          ]
         }
        },
        {
         "name": 36,
         "dtype": "float64",
         "stats": {
          "unique_count": 360,
          "nan_count": 0,
          "min": "-240.05069325514341",
          "max": "143.52844321673365",
          "histogram": [
           {
            "bin_start": -240.05069325514341,
            "bin_end": -201.6927796079557,
            "count": 2
           },
           {
            "bin_start": -201.6927796079557,
            "bin_end": -163.334865960768,
            "count": 7
           },
           {
            "bin_start": -163.334865960768,
            "bin_end": -124.97695231358028,
            "count": 8
           },
           {
            "bin_start": -124.97695231358028,
            "bin_end": -86.61903866639258,
            "count": 25
           },
           {
            "bin_start": -86.61903866639258,
            "bin_end": -48.26112501920488,
            "count": 77
           },
           {
            "bin_start": -48.26112501920488,
            "bin_end": -9.903211372017154,
            "count": 128
           },
           {
            "bin_start": -9.903211372017154,
            "bin_end": 28.45470227517052,
            "count": 77
           },
           {
            "bin_start": 28.45470227517052,
            "bin_end": 66.81261592235825,
            "count": 18
           },
           {
            "bin_start": 66.81261592235825,
            "bin_end": 105.17052956954598,
            "count": 12
           },
           {
            "bin_start": 105.17052956954598,
            "bin_end": 143.52844321673365,
            "count": 6
           }
          ]
         }
        },
        {
         "name": 37,
         "dtype": "float64",
         "stats": {
          "unique_count": 360,
          "nan_count": 0,
          "min": "-523.628987697668",
          "max": "134.74336020659757",
          "histogram": [
           {
            "bin_start": -523.628987697668,
            "bin_end": -457.7917529072414,
            "count": 2
           },
           {
            "bin_start": -457.7917529072414,
            "bin_end": -391.9545181168149,
            "count": 0
           },
           {
            "bin_start": -391.9545181168149,
            "bin_end": -326.11728332638836,
            "count": 0
           },
           {
            "bin_start": -326.11728332638836,
            "bin_end": -260.2800485359618,
            "count": 0
           },
           {
            "bin_start": -260.2800485359618,
            "bin_end": -194.4428137455352,
            "count": 3
           },
           {
            "bin_start": -194.4428137455352,
            "bin_end": -128.60557895510868,
            "count": 9
           },
           {
            "bin_start": -128.60557895510868,
            "bin_end": -62.76834416468216,
            "count": 47
           },
           {
            "bin_start": -62.76834416468216,
            "bin_end": 3.068890625744416,
            "count": 199
           },
           {
            "bin_start": 3.068890625744416,
            "bin_end": 68.906125416171,
            "count": 83
           },
           {
            "bin_start": 68.906125416171,
            "bin_end": 134.74336020659757,
            "count": 17
           }
          ]
         }
        },
        {
         "name": 38,
         "dtype": "float64",
         "stats": {
          "unique_count": 360,
          "nan_count": 0,
          "min": "-597.256591864334",
          "max": "165.61896766379687",
          "histogram": [
           {
            "bin_start": -597.256591864334,
            "bin_end": -520.9690359115209,
            "count": 1
           },
           {
            "bin_start": -520.9690359115209,
            "bin_end": -444.6814799587079,
            "count": 0
           },
           {
            "bin_start": -444.6814799587079,
            "bin_end": -368.39392400589475,
            "count": 0
           },
           {
            "bin_start": -368.39392400589475,
            "bin_end": -292.10636805308167,
            "count": 2
           },
           {
            "bin_start": -292.10636805308167,
            "bin_end": -215.8188121002686,
            "count": 0
           },
           {
            "bin_start": -215.8188121002686,
            "bin_end": -139.53125614745545,
            "count": 6
           },
           {
            "bin_start": -139.53125614745545,
            "bin_end": -63.24370019464243,
            "count": 62
           },
           {
            "bin_start": -63.24370019464243,
            "bin_end": 13.043855758170707,
            "count": 218
           },
           {
            "bin_start": 13.043855758170707,
            "bin_end": 89.33141171098384,
            "count": 64
           },
           {
            "bin_start": 89.33141171098384,
            "bin_end": 165.61896766379687,
            "count": 7
           }
          ]
         }
        },
        {
         "name": 39,
         "dtype": "float64",
         "stats": {
          "unique_count": 360,
          "nan_count": 0,
          "min": "-492.11185601704165",
          "max": "184.8181103913921",
          "histogram": [
           {
            "bin_start": -492.11185601704165,
            "bin_end": -424.41885937619827,
            "count": 2
           },
           {
            "bin_start": -424.41885937619827,
            "bin_end": -356.7258627353549,
            "count": 0
           },
           {
            "bin_start": -356.7258627353549,
            "bin_end": -289.0328660945115,
            "count": 1
           },
           {
            "bin_start": -289.0328660945115,
            "bin_end": -221.33986945366814,
            "count": 4
           },
           {
            "bin_start": -221.33986945366814,
            "bin_end": -153.64687281282477,
            "count": 11
           },
           {
            "bin_start": -153.64687281282477,
            "bin_end": -85.95387617198139,
            "count": 40
           },
           {
            "bin_start": -85.95387617198139,
            "bin_end": -18.260879531138016,
            "count": 195
           },
           {
            "bin_start": -18.260879531138016,
            "bin_end": 49.43211710970536,
            "count": 91
           },
           {
            "bin_start": 49.43211710970536,
            "bin_end": 117.12511375054873,
            "count": 13
           },
           {
            "bin_start": 117.12511375054873,
            "bin_end": 184.8181103913921,
            "count": 3
           }
          ]
         }
        },
        {
         "name": 40,
         "dtype": "float64",
         "stats": {
          "unique_count": 360,
          "nan_count": 0,
          "min": "-553.297053477916",
          "max": "133.89221122401068",
          "histogram": [
           {
            "bin_start": -553.297053477916,
            "bin_end": -484.57812700772337,
            "count": 1
           },
           {
            "bin_start": -484.57812700772337,
            "bin_end": -415.8592005375307,
            "count": 1
           },
           {
            "bin_start": -415.8592005375307,
            "bin_end": -347.14027406733805,
            "count": 0
           },
           {
            "bin_start": -347.14027406733805,
            "bin_end": -278.42134759714537,
            "count": 1
           },
           {
            "bin_start": -278.42134759714537,
            "bin_end": -209.7024211269527,
            "count": 4
           },
           {
            "bin_start": -209.7024211269527,
            "bin_end": -140.98349465676006,
            "count": 10
           },
           {
            "bin_start": -140.98349465676006,
            "bin_end": -72.26456818656737,
            "count": 95
           },
           {
            "bin_start": -72.26456818656737,
            "bin_end": -3.545641716374689,
            "count": 189
           },
           {
            "bin_start": -3.545641716374689,
            "bin_end": 65.17328475381794,
            "count": 53
           },
           {
            "bin_start": 65.17328475381794,
            "bin_end": 133.89221122401068,
            "count": 6
           }
          ]
         }
        },
        {
         "name": 41,
         "dtype": "float64",
         "stats": {
          "unique_count": 360,
          "nan_count": 0,
          "min": "-359.73065661793953",
          "max": "278.96541772920136",
          "histogram": [
           {
            "bin_start": -359.73065661793953,
            "bin_end": -295.8610491832254,
            "count": 1
           },
           {
            "bin_start": -295.8610491832254,
            "bin_end": -231.99144174851136,
            "count": 0
           },
           {
            "bin_start": -231.99144174851136,
            "bin_end": -168.12183431379725,
            "count": 3
           },
           {
            "bin_start": -168.12183431379725,
            "bin_end": -104.25222687908317,
            "count": 35
           },
           {
            "bin_start": -104.25222687908317,
            "bin_end": -40.382619444369084,
            "count": 144
           },
           {
            "bin_start": -40.382619444369084,
            "bin_end": 23.48698799034503,
            "count": 137
           },
           {
            "bin_start": 23.48698799034503,
            "bin_end": 87.35659542505908,
            "count": 36
           },
           {
            "bin_start": 87.35659542505908,
            "bin_end": 151.2262028597732,
            "count": 2
           },
           {
            "bin_start": 151.2262028597732,
            "bin_end": 215.09581029448725,
            "count": 0
           },
           {
            "bin_start": 215.09581029448725,
            "bin_end": 278.96541772920136,
            "count": 2
           }
          ]
         }
        },
        {
         "name": 42,
         "dtype": "float64",
         "stats": {
          "unique_count": 360,
          "nan_count": 0,
          "min": "-260.6676557132214",
          "max": "243.07285414421676",
          "histogram": [
           {
            "bin_start": -260.6676557132214,
            "bin_end": -210.29360472747757,
            "count": 1
           },
           {
            "bin_start": -210.29360472747757,
            "bin_end": -159.91955374173375,
            "count": 5
           },
           {
            "bin_start": -159.91955374173375,
            "bin_end": -109.54550275598996,
            "count": 15
           },
           {
            "bin_start": -109.54550275598996,
            "bin_end": -59.17145177024614,
            "count": 53
           },
           {
            "bin_start": -59.17145177024614,
            "bin_end": -8.797400784502315,
            "count": 147
           },
           {
            "bin_start": -8.797400784502315,
            "bin_end": 41.57665020124148,
            "count": 115
           },
           {
            "bin_start": 41.57665020124148,
            "bin_end": 91.95070118698533,
            "count": 21
           },
           {
            "bin_start": 91.95070118698533,
            "bin_end": 142.32475217272912,
            "count": 2
           },
           {
            "bin_start": 142.32475217272912,
            "bin_end": 192.6988031584729,
            "count": 0
           },
           {
            "bin_start": 192.6988031584729,
            "bin_end": 243.07285414421676,
            "count": 1
           }
          ]
         }
        },
        {
         "name": 43,
         "dtype": "float64",
         "stats": {
          "unique_count": 360,
          "nan_count": 0,
          "min": "-297.0565967689108",
          "max": "201.30122813959315",
          "histogram": [
           {
            "bin_start": -297.0565967689108,
            "bin_end": -247.22081427806043,
            "count": 2
           },
           {
            "bin_start": -247.22081427806043,
            "bin_end": -197.38503178721004,
            "count": 1
           },
           {
            "bin_start": -197.38503178721004,
            "bin_end": -147.54924929635962,
            "count": 2
           },
           {
            "bin_start": -147.54924929635962,
            "bin_end": -97.71346680550923,
            "count": 17
           },
           {
            "bin_start": -97.71346680550923,
            "bin_end": -47.877684314658836,
            "count": 42
           },
           {
            "bin_start": -47.877684314658836,
            "bin_end": 1.9580981761915837,
            "count": 151
           },
           {
            "bin_start": 1.9580981761915837,
            "bin_end": 51.79388066704195,
            "count": 110
           },
           {
            "bin_start": 51.79388066704195,
            "bin_end": 101.62966315789237,
            "count": 28
           },
           {
            "bin_start": 101.62966315789237,
            "bin_end": 151.4654456487428,
            "count": 5
           },
           {
            "bin_start": 151.4654456487428,
            "bin_end": 201.30122813959315,
            "count": 2
           }
          ]
         }
        },
        {
         "name": 44,
         "dtype": "float64",
         "stats": {
          "unique_count": 360,
          "nan_count": 0,
          "min": "-313.23781807627347",
          "max": "183.5389873440381",
          "histogram": [
           {
            "bin_start": -313.23781807627347,
            "bin_end": -263.5601375342423,
            "count": 2
           },
           {
            "bin_start": -263.5601375342423,
            "bin_end": -213.88245699221116,
            "count": 2
           },
           {
            "bin_start": -213.88245699221116,
            "bin_end": -164.20477645018002,
            "count": 2
           },
           {
            "bin_start": -164.20477645018002,
            "bin_end": -114.52709590814885,
            "count": 8
           },
           {
            "bin_start": -114.52709590814885,
            "bin_end": -64.84941536611768,
            "count": 15
           },
           {
            "bin_start": -64.84941536611768,
            "bin_end": -15.17173482408657,
            "count": 88
           },
           {
            "bin_start": -15.17173482408657,
            "bin_end": 34.5059457179446,
            "count": 130
           },
           {
            "bin_start": 34.5059457179446,
            "bin_end": 84.18362625997577,
            "count": 94
           },
           {
            "bin_start": 84.18362625997577,
            "bin_end": 133.86130680200694,
            "count": 14
           },
           {
            "bin_start": 133.86130680200694,
            "bin_end": 183.5389873440381,
            "count": 5
           }
          ]
         }
        },
        {
         "name": 45,
         "dtype": "float64",
         "stats": {
          "unique_count": 360,
          "nan_count": 0,
          "min": "-421.0365929911368",
          "max": "181.7388017800813",
          "histogram": [
           {
            "bin_start": -421.0365929911368,
            "bin_end": -360.75905351401497,
            "count": 1
           },
           {
            "bin_start": -360.75905351401497,
            "bin_end": -300.48151403689315,
            "count": 0
           },
           {
            "bin_start": -300.48151403689315,
            "bin_end": -240.20397455977138,
            "count": 1
           },
           {
            "bin_start": -240.20397455977138,
            "bin_end": -179.92643508264956,
            "count": 2
           },
           {
            "bin_start": -179.92643508264956,
            "bin_end": -119.64889560552774,
            "count": 12
           },
           {
            "bin_start": -119.64889560552774,
            "bin_end": -59.37135612840598,
            "count": 28
           },
           {
            "bin_start": -59.37135612840598,
            "bin_end": 0.9061833487158424,
            "count": 126
           },
           {
            "bin_start": 0.9061833487158424,
            "bin_end": 61.18372282583766,
            "count": 141
           },
           {
            "bin_start": 61.18372282583766,
            "bin_end": 121.46126230295943,
            "count": 42
           },
           {
            "bin_start": 121.46126230295943,
            "bin_end": 181.7388017800813,
            "count": 7
           }
          ]
         }
        },
        {
         "name": 46,
         "dtype": "float64",
         "stats": {
          "unique_count": 360,
          "nan_count": 0,
          "min": "-467.5632825694629",
          "max": "193.76825427489894",
          "histogram": [
           {
            "bin_start": -467.5632825694629,
            "bin_end": -401.4301288850267,
            "count": 1
           },
           {
            "bin_start": -401.4301288850267,
            "bin_end": -335.2969752005905,
            "count": 0
           },
           {
            "bin_start": -335.2969752005905,
            "bin_end": -269.16382151615437,
            "count": 1
           },
           {
            "bin_start": -269.16382151615437,
            "bin_end": -203.03066783171818,
            "count": 5
           },
           {
            "bin_start": -203.03066783171818,
            "bin_end": -136.89751414728198,
            "count": 3
           },
           {
            "bin_start": -136.89751414728198,
            "bin_end": -70.76436046284584,
            "count": 17
           },
           {
            "bin_start": -70.76436046284584,
            "bin_end": -4.6312067784096485,
            "count": 123
           },
           {
            "bin_start": -4.6312067784096485,
            "bin_end": 61.50194690602655,
            "count": 169
           },
           {
            "bin_start": 61.50194690602655,
            "bin_end": 127.63510059046268,
            "count": 35
           },
           {
            "bin_start": 127.63510059046268,
            "bin_end": 193.76825427489894,
            "count": 6
           }
          ]
         }
        },
        {
         "name": 47,
         "dtype": "float64",
         "stats": {
          "unique_count": 360,
          "nan_count": 0,
          "min": "-798.318328142379",
          "max": "265.91660696815416",
          "histogram": [
           {
            "bin_start": -798.318328142379,
            "bin_end": -691.8948346313257,
            "count": 1
           },
           {
            "bin_start": -691.8948346313257,
            "bin_end": -585.4713411202723,
            "count": 0
           },
           {
            "bin_start": -585.4713411202723,
            "bin_end": -479.04784760921905,
            "count": 0
           },
           {
            "bin_start": -479.04784760921905,
            "bin_end": -372.6243540981657,
            "count": 1
           },
           {
            "bin_start": -372.6243540981657,
            "bin_end": -266.2008605871124,
            "count": 1
           },
           {
            "bin_start": -266.2008605871124,
            "bin_end": -159.77736707605914,
            "count": 7
           },
           {
            "bin_start": -159.77736707605914,
            "bin_end": -53.353873565005756,
            "count": 67
           },
           {
            "bin_start": -53.353873565005756,
            "bin_end": 53.06961994604751,
            "count": 252
           },
           {
            "bin_start": 53.06961994604751,
            "bin_end": 159.49311345710078,
            "count": 28
           },
           {
            "bin_start": 159.49311345710078,
            "bin_end": 265.91660696815416,
            "count": 3
           }
          ]
         }
        },
        {
         "name": 48,
         "dtype": "float64",
         "stats": {
          "unique_count": 360,
          "nan_count": 0,
          "min": "-345.3684014978917",
          "max": "150.46319680735724",
          "histogram": [
           {
            "bin_start": -345.3684014978917,
            "bin_end": -295.7852416673668,
            "count": 1
           },
           {
            "bin_start": -295.7852416673668,
            "bin_end": -246.2020818368419,
            "count": 0
           },
           {
            "bin_start": -246.2020818368419,
            "bin_end": -196.618922006317,
            "count": 3
           },
           {
            "bin_start": -196.618922006317,
            "bin_end": -147.03576217579212,
            "count": 11
           },
           {
            "bin_start": -147.03576217579212,
            "bin_end": -97.45260234526722,
            "count": 21
           },
           {
            "bin_start": -97.45260234526722,
            "bin_end": -47.86944251474233,
            "count": 63
           },
           {
            "bin_start": -47.86944251474233,
            "bin_end": 1.71371731578256,
            "count": 151
           },
           {
            "bin_start": 1.71371731578256,
            "bin_end": 51.29687714630745,
            "count": 88
           },
           {
            "bin_start": 51.29687714630745,
            "bin_end": 100.88003697683234,
            "count": 17
           },
           {
            "bin_start": 100.88003697683234,
            "bin_end": 150.46319680735724,
            "count": 5
           }
          ]
         }
        },
        {
         "name": 49,
         "dtype": "float64",
         "stats": {
          "unique_count": 360,
          "nan_count": 0,
          "min": "-392.79957324825955",
          "max": "159.93497586318335",
          "histogram": [
           {
            "bin_start": -392.79957324825955,
            "bin_end": -337.52611833711524,
            "count": 1
           },
           {
            "bin_start": -337.52611833711524,
            "bin_end": -282.252663425971,
            "count": 0
           },
           {
            "bin_start": -282.252663425971,
            "bin_end": -226.97920851482667,
            "count": 1
           },
           {
            "bin_start": -226.97920851482667,
            "bin_end": -171.70575360368238,
            "count": 6
           },
           {
            "bin_start": -171.70575360368238,
            "bin_end": -116.4322986925381,
            "count": 20
           },
           {
            "bin_start": -116.4322986925381,
            "bin_end": -61.158843781393784,
            "count": 49
           },
           {
            "bin_start": -61.158843781393784,
            "bin_end": -5.885388870249528,
            "count": 145
           },
           {
            "bin_start": -5.885388870249528,
            "bin_end": 49.388066040894785,
            "count": 111
           },
           {
            "bin_start": 49.388066040894785,
            "bin_end": 104.6615209520391,
            "count": 21
           },
           {
            "bin_start": 104.6615209520391,
            "bin_end": 159.93497586318335,
            "count": 6
           }
          ]
         }
        },
        {
         "name": 50,
         "dtype": "float64",
         "stats": {
          "unique_count": 360,
          "nan_count": 0,
          "min": "-545.366489575672",
          "max": "188.57340798043697",
          "histogram": [
           {
            "bin_start": -545.366489575672,
            "bin_end": -471.97249982006105,
            "count": 1
           },
           {
            "bin_start": -471.97249982006105,
            "bin_end": -398.57851006445014,
            "count": 0
           },
           {
            "bin_start": -398.57851006445014,
            "bin_end": -325.1845203088393,
            "count": 0
           },
           {
            "bin_start": -325.1845203088393,
            "bin_end": -251.7905305532284,
            "count": 1
           },
           {
            "bin_start": -251.7905305532284,
            "bin_end": -178.3965407976175,
            "count": 9
           },
           {
            "bin_start": -178.3965407976175,
            "bin_end": -105.00255104200664,
            "count": 10
           },
           {
            "bin_start": -105.00255104200664,
            "bin_end": -31.608561286395684,
            "count": 77
           },
           {
            "bin_start": -31.608561286395684,
            "bin_end": 41.78542846921516,
            "count": 210
           },
           {
            "bin_start": 41.78542846921516,
            "bin_end": 115.17941822482601,
            "count": 47
           },
           {
            "bin_start": 115.17941822482601,
            "bin_end": 188.57340798043697,
            "count": 5
           }
          ]
         }
        },
        {
         "name": 51,
         "dtype": "float64",
         "stats": {
          "unique_count": 360,
          "nan_count": 0,
          "min": "-417.1463466186706",
          "max": "196.83139870022387",
          "histogram": [
           {
            "bin_start": -417.1463466186706,
            "bin_end": -355.7485720867811,
            "count": 1
           },
           {
            "bin_start": -355.7485720867811,
            "bin_end": -294.3507975548917,
            "count": 2
           },
           {
            "bin_start": -294.3507975548917,
            "bin_end": -232.95302302300223,
            "count": 1
           },
           {
            "bin_start": -232.95302302300223,
            "bin_end": -171.5552484911128,
            "count": 8
           },
           {
            "bin_start": -171.5552484911128,
            "bin_end": -110.15747395922335,
            "count": 13
           },
           {
            "bin_start": -110.15747395922335,
            "bin_end": -48.759699427333885,
            "count": 56
           },
           {
            "bin_start": -48.759699427333885,
            "bin_end": 12.638075104555526,
            "count": 173
           },
           {
            "bin_start": 12.638075104555526,
            "bin_end": 74.035849636445,
            "count": 87
           },
           {
            "bin_start": 74.035849636445,
            "bin_end": 135.4336241683344,
            "count": 14
           },
           {
            "bin_start": 135.4336241683344,
            "bin_end": 196.83139870022387,
            "count": 5
           }
          ]
         }
        },
        {
         "name": 52,
         "dtype": "float64",
         "stats": {
          "unique_count": 360,
          "nan_count": 0,
          "min": "-856.662841864334",
          "max": "174.78891371157624",
          "histogram": [
           {
            "bin_start": -856.662841864334,
            "bin_end": -753.517666306743,
            "count": 1
           },
           {
            "bin_start": -753.517666306743,
            "bin_end": -650.372490749152,
            "count": 0
           },
           {
            "bin_start": -650.372490749152,
            "bin_end": -547.2273151915609,
            "count": 0
           },
           {
            "bin_start": -547.2273151915609,
            "bin_end": -444.0821396339699,
            "count": 0
           },
           {
            "bin_start": -444.0821396339699,
            "bin_end": -340.9369640763789,
            "count": 1
           },
           {
            "bin_start": -340.9369640763789,
            "bin_end": -237.79178851878783,
            "count": 4
           },
           {
            "bin_start": -237.79178851878783,
            "bin_end": -134.64661296119687,
            "count": 17
           },
           {
            "bin_start": -134.64661296119687,
            "bin_end": -31.50143740360579,
            "count": 115
           },
           {
            "bin_start": -31.50143740360579,
            "bin_end": 71.64373815398528,
            "count": 205
           },
           {
            "bin_start": 71.64373815398528,
            "bin_end": 174.78891371157624,
            "count": 17
           }
          ]
         }
        },
        {
         "name": 53,
         "dtype": "float64",
         "stats": {
          "unique_count": 360,
          "nan_count": 0,
          "min": "-211.33406963713787",
          "max": "174.73686293032551",
          "histogram": [
           {
            "bin_start": -211.33406963713787,
            "bin_end": -172.72697638039153,
            "count": 4
           },
           {
            "bin_start": -172.72697638039153,
            "bin_end": -134.1198831236452,
            "count": 6
           },
           {
            "bin_start": -134.1198831236452,
            "bin_end": -95.51278986689886,
            "count": 23
           },
           {
            "bin_start": -95.51278986689886,
            "bin_end": -56.90569661015252,
            "count": 41
           },
           {
            "bin_start": -56.90569661015252,
            "bin_end": -18.29860335340618,
            "count": 109
           },
           {
            "bin_start": -18.29860335340618,
            "bin_end": 20.30848990334016,
            "count": 99
           },
           {
            "bin_start": 20.30848990334016,
            "bin_end": 58.9155831600865,
            "count": 57
           },
           {
            "bin_start": 58.9155831600865,
            "bin_end": 97.52267641683284,
            "count": 18
           },
           {
            "bin_start": 97.52267641683284,
            "bin_end": 136.12976967357918,
            "count": 2
           },
           {
            "bin_start": 136.12976967357918,
            "bin_end": 174.73686293032551,
            "count": 1
           }
          ]
         }
        },
        {
         "name": 54,
         "dtype": "float64",
         "stats": {
          "unique_count": 360,
          "nan_count": 0,
          "min": "-191.4532272109518",
          "max": "167.9874848464442",
          "histogram": [
           {
            "bin_start": -191.4532272109518,
            "bin_end": -155.50915600521222,
            "count": 4
           },
           {
            "bin_start": -155.50915600521222,
            "bin_end": -119.5650847994726,
            "count": 9
           },
           {
            "bin_start": -119.5650847994726,
            "bin_end": -83.621013593733,
            "count": 13
           },
           {
            "bin_start": -83.621013593733,
            "bin_end": -47.67694238799339,
            "count": 30
           },
           {
            "bin_start": -47.67694238799339,
            "bin_end": -11.732871182253803,
            "count": 83
           },
           {
            "bin_start": -11.732871182253803,
            "bin_end": 24.211200023485816,
            "count": 111
           },
           {
            "bin_start": 24.211200023485816,
            "bin_end": 60.155271229225434,
            "count": 73
           },
           {
            "bin_start": 60.155271229225434,
            "bin_end": 96.09934243496502,
            "count": 28
           },
           {
            "bin_start": 96.09934243496502,
            "bin_end": 132.0434136407046,
            "count": 6
           },
           {
            "bin_start": 132.0434136407046,
            "bin_end": 167.9874848464442,
            "count": 3
           }
          ]
         }
        },
        {
         "name": 55,
         "dtype": "float64",
         "stats": {
          "unique_count": 360,
          "nan_count": 0,
          "min": "-272.32772755644146",
          "max": "211.47137240705888",
          "histogram": [
           {
            "bin_start": -272.32772755644146,
            "bin_end": -223.94781756009144,
            "count": 1
           },
           {
            "bin_start": -223.94781756009144,
            "bin_end": -175.5679075637414,
            "count": 2
           },
           {
            "bin_start": -175.5679075637414,
            "bin_end": -127.18799756739133,
            "count": 7
           },
           {
            "bin_start": -127.18799756739133,
            "bin_end": -78.80808757104131,
            "count": 17
           },
           {
            "bin_start": -78.80808757104131,
            "bin_end": -30.42817757469129,
            "count": 35
           },
           {
            "bin_start": -30.42817757469129,
            "bin_end": 17.95173242165879,
            "count": 133
           },
           {
            "bin_start": 17.95173242165879,
            "bin_end": 66.33164241800881,
            "count": 120
           },
           {
            "bin_start": 66.33164241800881,
            "bin_end": 114.71155241435883,
            "count": 34
           },
           {
            "bin_start": 114.71155241435883,
            "bin_end": 163.09146241070886,
            "count": 9
           },
           {
            "bin_start": 163.09146241070886,
            "bin_end": 211.47137240705888,
            "count": 2
           }
          ]
         }
        },
        {
         "name": 56,
         "dtype": "float64",
         "stats": {
          "unique_count": 360,
          "nan_count": 0,
          "min": "-289.79186081465195",
          "max": "198.6913067714886",
          "histogram": [
           {
            "bin_start": -289.79186081465195,
            "bin_end": -240.9435440560379,
            "count": 1
           },
           {
            "bin_start": -240.9435440560379,
            "bin_end": -192.09522729742383,
            "count": 2
           },
           {
            "bin_start": -192.09522729742383,
            "bin_end": -143.2469105388098,
            "count": 5
           },
           {
            "bin_start": -143.2469105388098,
            "bin_end": -94.39859378019574,
            "count": 9
           },
           {
            "bin_start": -94.39859378019574,
            "bin_end": -45.55027702158168,
            "count": 27
           },
           {
            "bin_start": -45.55027702158168,
            "bin_end": 3.2980397370323544,
            "count": 103
           },
           {
            "bin_start": 3.2980397370323544,
            "bin_end": 52.146356495646444,
            "count": 133
           },
           {
            "bin_start": 52.146356495646444,
            "bin_end": 100.99467325426048,
            "count": 59
           },
           {
            "bin_start": 100.99467325426048,
            "bin_end": 149.8429900128745,
            "count": 14
           },
           {
            "bin_start": 149.8429900128745,
            "bin_end": 198.6913067714886,
            "count": 7
           }
          ]
         }
        },
        {
         "name": 57,
         "dtype": "float64",
         "stats": {
          "unique_count": 360,
          "nan_count": 0,
          "min": "-416.3462509438614",
          "max": "224.06287804134627",
          "histogram": [
           {
            "bin_start": -416.3462509438614,
            "bin_end": -352.3053380453406,
            "count": 1
           },
           {
            "bin_start": -352.3053380453406,
            "bin_end": -288.26442514681986,
            "count": 0
           },
           {
            "bin_start": -288.26442514681986,
            "bin_end": -224.2235122482991,
            "count": 2
           },
           {
            "bin_start": -224.2235122482991,
            "bin_end": -160.18259934977834,
            "count": 5
           },
           {
            "bin_start": -160.18259934977834,
            "bin_end": -96.14168645125756,
            "count": 13
           },
           {
            "bin_start": -96.14168645125756,
            "bin_end": -32.100773552736825,
            "count": 52
           },
           {
            "bin_start": -32.100773552736825,
            "bin_end": 31.940139345783905,
            "count": 182
           },
           {
            "bin_start": 31.940139345783905,
            "bin_end": 95.98105224430469,
            "count": 92
           },
           {
            "bin_start": 95.98105224430469,
            "bin_end": 160.02196514282548,
            "count": 12
           },
           {
            "bin_start": 160.02196514282548,
            "bin_end": 224.06287804134627,
            "count": 1
           }
          ]
         }
        },
        {
         "name": 58,
         "dtype": "float64",
         "stats": {
          "unique_count": 360,
          "nan_count": 0,
          "min": "-306.0849140548398",
          "max": "170.2249157104925",
          "histogram": [
           {
            "bin_start": -306.0849140548398,
            "bin_end": -258.4539310783066,
            "count": 1
           },
           {
            "bin_start": -258.4539310783066,
            "bin_end": -210.82294810177336,
            "count": 2
           },
           {
            "bin_start": -210.82294810177336,
            "bin_end": -163.19196512524013,
            "count": 3
           },
           {
            "bin_start": -163.19196512524013,
            "bin_end": -115.5609821487069,
            "count": 14
           },
           {
            "bin_start": -115.5609821487069,
            "bin_end": -67.92999917217367,
            "count": 22
           },
           {
            "bin_start": -67.92999917217367,
            "bin_end": -20.299016195640434,
            "count": 88
           },
           {
            "bin_start": -20.299016195640434,
            "bin_end": 27.3319667808928,
            "count": 118
           },
           {
            "bin_start": 27.3319667808928,
            "bin_end": 74.96294975742603,
            "count": 81
           },
           {
            "bin_start": 74.96294975742603,
            "bin_end": 122.59393273395926,
            "count": 25
           },
           {
            "bin_start": 122.59393273395926,
            "bin_end": 170.2249157104925,
            "count": 6
           }
          ]
         }
        },
        {
         "name": 59,
         "dtype": "float64",
         "stats": {
          "unique_count": 360,
          "nan_count": 0,
          "min": "-288.93262224678074",
          "max": "199.23945392176392",
          "histogram": [
           {
            "bin_start": -288.93262224678074,
            "bin_end": -240.11541462992628,
            "count": 1
           },
           {
            "bin_start": -240.11541462992628,
            "bin_end": -191.29820701307182,
            "count": 2
           },
           {
            "bin_start": -191.29820701307182,
            "bin_end": -142.48099939621733,
            "count": 0
           },
           {
            "bin_start": -142.48099939621733,
            "bin_end": -93.66379177936287,
            "count": 12
           },
           {
            "bin_start": -93.66379177936287,
            "bin_end": -44.84658416250841,
            "count": 45
           },
           {
            "bin_start": -44.84658416250841,
            "bin_end": 3.9706234543460823,
            "count": 75
           },
           {
            "bin_start": 3.9706234543460823,
            "bin_end": 52.787831071200515,
            "count": 149
           },
           {
            "bin_start": 52.787831071200515,
            "bin_end": 101.605038688055,
            "count": 54
           },
           {
            "bin_start": 101.605038688055,
            "bin_end": 150.4222463049095,
            "count": 16
           },
           {
            "bin_start": 150.4222463049095,
            "bin_end": 199.23945392176392,
            "count": 6
           }
          ]
         }
        },
        {
         "name": 60,
         "dtype": "float64",
         "stats": {
          "unique_count": 360,
          "nan_count": 0,
          "min": "-219.58239752839654",
          "max": "162.02929854536524",
          "histogram": [
           {
            "bin_start": -219.58239752839654,
            "bin_end": -181.42122792102037,
            "count": 3
           },
           {
            "bin_start": -181.42122792102037,
            "bin_end": -143.26005831364418,
            "count": 3
           },
           {
            "bin_start": -143.26005831364418,
            "bin_end": -105.098888706268,
            "count": 2
           },
           {
            "bin_start": -105.098888706268,
            "bin_end": -66.93771909889182,
            "count": 5
           },
           {
            "bin_start": -66.93771909889182,
            "bin_end": -28.776549491515652,
            "count": 42
           },
           {
            "bin_start": -28.776549491515652,
            "bin_end": 9.384620115860542,
            "count": 94
           },
           {
            "bin_start": 9.384620115860542,
            "bin_end": 47.54578972323674,
            "count": 106
           },
           {
            "bin_start": 47.54578972323674,
            "bin_end": 85.7069593306129,
            "count": 70
           },
           {
            "bin_start": 85.7069593306129,
            "bin_end": 123.86812893798907,
            "count": 23
           },
           {
            "bin_start": 123.86812893798907,
            "bin_end": 162.02929854536524,
            "count": 12
           }
          ]
         }
        },
        {
         "name": 61,
         "dtype": "float64",
         "stats": {
          "unique_count": 360,
          "nan_count": 0,
          "min": "-249.22739514959176",
          "max": "253.79445698871496",
          "histogram": [
           {
            "bin_start": -249.22739514959176,
            "bin_end": -198.92520993576107,
            "count": 3
           },
           {
            "bin_start": -198.92520993576107,
            "bin_end": -148.62302472193042,
            "count": 0
           },
           {
            "bin_start": -148.62302472193042,
            "bin_end": -98.32083950809977,
            "count": 6
           },
           {
            "bin_start": -98.32083950809977,
            "bin_end": -48.01865429426908,
            "count": 18
           },
           {
            "bin_start": -48.01865429426908,
            "bin_end": 2.283530919561599,
            "count": 78
           },
           {
            "bin_start": 2.283530919561599,
            "bin_end": 52.585716133392225,
            "count": 152
           },
           {
            "bin_start": 52.585716133392225,
            "bin_end": 102.88790134722291,
            "count": 62
           },
           {
            "bin_start": 102.88790134722291,
            "bin_end": 153.1900865610536,
            "count": 34
           },
           {
            "bin_start": 153.1900865610536,
            "bin_end": 203.49227177488427,
            "count": 5
           },
           {
            "bin_start": 203.49227177488427,
            "bin_end": 253.79445698871496,
            "count": 2
           }
          ]
         }
        },
        {
         "name": 62,
         "dtype": "float64",
         "stats": {
          "unique_count": 360,
          "nan_count": 0,
          "min": "-370.3999305812813",
          "max": "241.51391114167382",
          "histogram": [
           {
            "bin_start": -370.3999305812813,
            "bin_end": -309.2085464089858,
            "count": 1
           },
           {
            "bin_start": -309.2085464089858,
            "bin_end": -248.01716223669027,
            "count": 0
           },
           {
            "bin_start": -248.01716223669027,
            "bin_end": -186.82577806439474,
            "count": 2
           },
           {
            "bin_start": -186.82577806439474,
            "bin_end": -125.63439389209924,
            "count": 5
           },
           {
            "bin_start": -125.63439389209924,
            "bin_end": -64.44300971980374,
            "count": 23
           },
           {
            "bin_start": -64.44300971980374,
            "bin_end": -3.2516255475081834,
            "count": 134
           },
           {
            "bin_start": -3.2516255475081834,
            "bin_end": 57.939758624787316,
            "count": 143
           },
           {
            "bin_start": 57.939758624787316,
            "bin_end": 119.13114279708282,
            "count": 45
           },
           {
            "bin_start": 119.13114279708282,
            "bin_end": 180.32252696937837,
            "count": 6
           },
           {
            "bin_start": 180.32252696937837,
            "bin_end": 241.51391114167382,
            "count": 1
           }
          ]
         }
        },
        {
         "name": 63,
         "dtype": "float64",
         "stats": {
          "unique_count": 360,
          "nan_count": 0,
          "min": "-174.5465374624564",
          "max": "214.63452667813544",
          "histogram": [
           {
            "bin_start": -174.5465374624564,
            "bin_end": -135.6284310483972,
            "count": 4
           },
           {
            "bin_start": -135.6284310483972,
            "bin_end": -96.71032463433804,
            "count": 12
           },
           {
            "bin_start": -96.71032463433804,
            "bin_end": -57.792218220278855,
            "count": 21
           },
           {
            "bin_start": -57.792218220278855,
            "bin_end": -18.874111806219673,
            "count": 69
           },
           {
            "bin_start": -18.874111806219673,
            "bin_end": 20.043994607839522,
            "count": 97
           },
           {
            "bin_start": 20.043994607839522,
            "bin_end": 58.96210102189869,
            "count": 98
           },
           {
            "bin_start": 58.96210102189869,
            "bin_end": 97.88020743595786,
            "count": 39
           },
           {
            "bin_start": 97.88020743595786,
            "bin_end": 136.79831385001705,
            "count": 13
           },
           {
            "bin_start": 136.79831385001705,
            "bin_end": 175.71642026407625,
            "count": 5
           },
           {
            "bin_start": 175.71642026407625,
            "bin_end": 214.63452667813544,
            "count": 2
           }
          ]
         }
        },
        {
         "name": 64,
         "dtype": "float64",
         "stats": {
          "unique_count": 360,
          "nan_count": 0,
          "min": "-241.86268651250066",
          "max": "194.50244167210258",
          "histogram": [
           {
            "bin_start": -241.86268651250066,
            "bin_end": -198.22617369404034,
            "count": 4
           },
           {
            "bin_start": -198.22617369404034,
            "bin_end": -154.58966087558002,
            "count": 0
           },
           {
            "bin_start": -154.58966087558002,
            "bin_end": -110.95314805711968,
            "count": 4
           },
           {
            "bin_start": -110.95314805711968,
            "bin_end": -67.31663523865936,
            "count": 8
           },
           {
            "bin_start": -67.31663523865936,
            "bin_end": -23.68012242019904,
            "count": 58
           },
           {
            "bin_start": -23.68012242019904,
            "bin_end": 19.956390398261306,
            "count": 111
           },
           {
            "bin_start": 19.956390398261306,
            "bin_end": 63.592903216721595,
            "count": 115
           },
           {
            "bin_start": 63.592903216721595,
            "bin_end": 107.22941603518194,
            "count": 42
           },
           {
            "bin_start": 107.22941603518194,
            "bin_end": 150.8659288536423,
            "count": 14
           },
           {
            "bin_start": 150.8659288536423,
            "bin_end": 194.50244167210258,
            "count": 4
           }
          ]
         }
        },
        {
         "name": 65,
         "dtype": "float64",
         "stats": {
          "unique_count": 360,
          "nan_count": 0,
          "min": "-400.7410418810905",
          "max": "154.6464130105196",
          "histogram": [
           {
            "bin_start": -400.7410418810905,
            "bin_end": -345.2022963919295,
            "count": 1
           },
           {
            "bin_start": -345.2022963919295,
            "bin_end": -289.66355090276846,
            "count": 0
           },
           {
            "bin_start": -289.66355090276846,
            "bin_end": -234.12480541360748,
            "count": 0
           },
           {
            "bin_start": -234.12480541360748,
            "bin_end": -178.58605992444646,
            "count": 0
           },
           {
            "bin_start": -178.58605992444646,
            "bin_end": -123.04731443528544,
            "count": 1
           },
           {
            "bin_start": -123.04731443528544,
            "bin_end": -67.50856894612446,
            "count": 12
           },
           {
            "bin_start": -67.50856894612446,
            "bin_end": -11.969823456963411,
            "count": 67
           },
           {
            "bin_start": -11.969823456963411,
            "bin_end": 43.56892203219758,
            "count": 177
           },
           {
            "bin_start": 43.56892203219758,
            "bin_end": 99.10766752135856,
            "count": 81
           },
           {
            "bin_start": 99.10766752135856,
            "bin_end": 154.6464130105196,
            "count": 21
           }
          ]
         }
        },
        {
         "name": 66,
         "dtype": "float64",
         "stats": {
          "unique_count": 360,
          "nan_count": 0,
          "min": "-211.85780787334443",
          "max": "145.9269512342562",
          "histogram": [
           {
            "bin_start": -211.85780787334443,
            "bin_end": -176.07933196258438,
            "count": 1
           },
           {
            "bin_start": -176.07933196258438,
            "bin_end": -140.3008560518243,
            "count": 3
           },
           {
            "bin_start": -140.3008560518243,
            "bin_end": -104.52238014106423,
            "count": 3
           },
           {
            "bin_start": -104.52238014106423,
            "bin_end": -68.74390423030417,
            "count": 15
           },
           {
            "bin_start": -68.74390423030417,
            "bin_end": -32.96542831954412,
            "count": 50
           },
           {
            "bin_start": -32.96542831954412,
            "bin_end": 2.8130475912159625,
            "count": 97
           },
           {
            "bin_start": 2.8130475912159625,
            "bin_end": 38.59152350197604,
            "count": 119
           },
           {
            "bin_start": 38.59152350197604,
            "bin_end": 74.36999941273609,
            "count": 46
           },
           {
            "bin_start": 74.36999941273609,
            "bin_end": 110.14847532349614,
            "count": 20
           },
           {
            "bin_start": 110.14847532349614,
            "bin_end": 145.9269512342562,
            "count": 6
           }
          ]
         }
        },
        {
         "name": 67,
         "dtype": "float64",
         "stats": {
          "unique_count": 360,
          "nan_count": 0,
          "min": "-515.457957799832",
          "max": "339.2115137761066",
          "histogram": [
           {
            "bin_start": -515.457957799832,
            "bin_end": -429.99101064223817,
            "count": 1
           },
           {
            "bin_start": -429.99101064223817,
            "bin_end": -344.5240634846443,
            "count": 0
           },
           {
            "bin_start": -344.5240634846443,
            "bin_end": -259.0571163270504,
            "count": 1
           },
           {
            "bin_start": -259.0571163270504,
            "bin_end": -173.59016916945654,
            "count": 3
           },
           {
            "bin_start": -173.59016916945654,
            "bin_end": -88.12322201186271,
            "count": 16
           },
           {
            "bin_start": -88.12322201186271,
            "bin_end": -2.6562748542687586,
            "count": 156
           },
           {
            "bin_start": -2.6562748542687586,
            "bin_end": 82.81067230332508,
            "count": 163
           },
           {
            "bin_start": 82.81067230332508,
            "bin_end": 168.2776194609189,
            "count": 17
           },
           {
            "bin_start": 168.2776194609189,
            "bin_end": 253.74456661851275,
            "count": 2
           },
           {
            "bin_start": 253.74456661851275,
            "bin_end": 339.2115137761066,
            "count": 1
           }
          ]
         }
        },
        {
         "name": 68,
         "dtype": "float64",
         "stats": {
          "unique_count": 360,
          "nan_count": 0,
          "min": "-223.84139740352475",
          "max": "266.7248794804909",
          "histogram": [
           {
            "bin_start": -223.84139740352475,
            "bin_end": -174.7847697151232,
            "count": 2
           },
           {
            "bin_start": -174.7847697151232,
            "bin_end": -125.72814202672161,
            "count": 9
           },
           {
            "bin_start": -125.72814202672161,
            "bin_end": -76.67151433832004,
            "count": 29
           },
           {
            "bin_start": -76.67151433832004,
            "bin_end": -27.614886649918475,
            "count": 74
           },
           {
            "bin_start": -27.614886649918475,
            "bin_end": 21.441741038483087,
            "count": 147
           },
           {
            "bin_start": 21.441741038483087,
            "bin_end": 70.49836872688468,
            "count": 69
           },
           {
            "bin_start": 70.49836872688468,
            "bin_end": 119.55499641528621,
            "count": 23
           },
           {
            "bin_start": 119.55499641528621,
            "bin_end": 168.6116241036878,
            "count": 6
           },
           {
            "bin_start": 168.6116241036878,
            "bin_end": 217.6682517920894,
            "count": 0
           },
           {
            "bin_start": 217.6682517920894,
            "bin_end": 266.7248794804909,
            "count": 1
           }
          ]
         }
        },
        {
         "name": 69,
         "dtype": "float64",
         "stats": {
          "unique_count": 360,
          "nan_count": 0,
          "min": "-432.28068353600975",
          "max": "217.2261335923322",
          "histogram": [
           {
            "bin_start": -432.28068353600975,
            "bin_end": -367.33000182317556,
            "count": 1
           },
           {
            "bin_start": -367.33000182317556,
            "bin_end": -302.3793201103414,
            "count": 0
           },
           {
            "bin_start": -302.3793201103414,
            "bin_end": -237.42863839750714,
            "count": 1
           },
           {
            "bin_start": -237.42863839750714,
            "bin_end": -172.47795668467296,
            "count": 1
           },
           {
            "bin_start": -172.47795668467296,
            "bin_end": -107.52727497183878,
            "count": 14
           },
           {
            "bin_start": -107.52727497183878,
            "bin_end": -42.57659325900454,
            "count": 74
           },
           {
            "bin_start": -42.57659325900454,
            "bin_end": 22.374088453829643,
            "count": 173
           },
           {
            "bin_start": 22.374088453829643,
            "bin_end": 87.32477016666382,
            "count": 77
           },
           {
            "bin_start": 87.32477016666382,
            "bin_end": 152.27545187949806,
            "count": 15
           },
           {
            "bin_start": 152.27545187949806,
            "bin_end": 217.2261335923322,
            "count": 4
           }
          ]
         }
        },
        {
         "name": 70,
         "dtype": "float64",
         "stats": {
          "unique_count": 360,
          "nan_count": 0,
          "min": "-210.7357518408753",
          "max": "266.197509480784",
          "histogram": [
           {
            "bin_start": -210.7357518408753,
            "bin_end": -163.04242570870937,
            "count": 5
           },
           {
            "bin_start": -163.04242570870937,
            "bin_end": -115.34909957654345,
            "count": 11
           },
           {
            "bin_start": -115.34909957654345,
            "bin_end": -67.65577344437753,
            "count": 41
           },
           {
            "bin_start": -67.65577344437753,
            "bin_end": -19.962447312211594,
            "count": 82
           },
           {
            "bin_start": -19.962447312211594,
            "bin_end": 27.73087881995434,
            "count": 133
           },
           {
            "bin_start": 27.73087881995434,
            "bin_end": 75.42420495212025,
            "count": 63
           },
           {
            "bin_start": 75.42420495212025,
            "bin_end": 123.11753108428621,
            "count": 14
           },
           {
            "bin_start": 123.11753108428621,
            "bin_end": 170.81085721645212,
            "count": 7
           },
           {
            "bin_start": 170.81085721645212,
            "bin_end": 218.50418334861803,
            "count": 1
           },
           {
            "bin_start": 218.50418334861803,
            "bin_end": 266.197509480784,
            "count": 3
           }
          ]
         }
        },
        {
         "name": 71,
         "dtype": "float64",
         "stats": {
          "unique_count": 360,
          "nan_count": 0,
          "min": "-211.3250554694987",
          "max": "205.82175464101965",
          "histogram": [
           {
            "bin_start": -211.3250554694987,
            "bin_end": -169.61037445844687,
            "count": 3
           },
           {
            "bin_start": -169.61037445844687,
            "bin_end": -127.89569344739502,
            "count": 11
           },
           {
            "bin_start": -127.89569344739502,
            "bin_end": -86.18101243634318,
            "count": 39
           },
           {
            "bin_start": -86.18101243634318,
            "bin_end": -44.466331425291344,
            "count": 83
           },
           {
            "bin_start": -44.466331425291344,
            "bin_end": -2.7516504142395206,
            "count": 119
           },
           {
            "bin_start": -2.7516504142395206,
            "bin_end": 38.96303059681233,
            "count": 68
           },
           {
            "bin_start": 38.96303059681233,
            "bin_end": 80.67771160786418,
            "count": 24
           },
           {
            "bin_start": 80.67771160786418,
            "bin_end": 122.392392618916,
            "count": 9
           },
           {
            "bin_start": 122.392392618916,
            "bin_end": 164.10707362996783,
            "count": 1
           },
           {
            "bin_start": 164.10707362996783,
            "bin_end": 205.82175464101965,
            "count": 3
           }
          ]
         }
        },
        {
         "name": 72,
         "dtype": "float64",
         "stats": {
          "unique_count": 360,
          "nan_count": 0,
          "min": "-411.8801018770846",
          "max": "152.938693885676",
          "histogram": [
           {
            "bin_start": -411.8801018770846,
            "bin_end": -355.3982223008085,
            "count": 1
           },
           {
            "bin_start": -355.3982223008085,
            "bin_end": -298.91634272453246,
            "count": 1
           },
           {
            "bin_start": -298.91634272453246,
            "bin_end": -242.43446314825644,
            "count": 1
           },
           {
            "bin_start": -242.43446314825644,
            "bin_end": -185.95258357198037,
            "count": 4
           },
           {
            "bin_start": -185.95258357198037,
            "bin_end": -129.4707039957043,
            "count": 12
           },
           {
            "bin_start": -129.4707039957043,
            "bin_end": -72.98882441942828,
            "count": 70
           },
           {
            "bin_start": -72.98882441942828,
            "bin_end": -16.506944843152212,
            "count": 131
           },
           {
            "bin_start": -16.506944843152212,
            "bin_end": 39.97493473312386,
            "count": 114
           },
           {
            "bin_start": 39.97493473312386,
            "bin_end": 96.45681430939993,
            "count": 18
           },
           {
            "bin_start": 96.45681430939993,
            "bin_end": 152.938693885676,
            "count": 8
           }
          ]
         }
        },
        {
         "name": 73,
         "dtype": "float64",
         "stats": {
          "unique_count": 360,
          "nan_count": 0,
          "min": "-244.8770368162077",
          "max": "223.22294498560223",
          "histogram": [
           {
            "bin_start": -244.8770368162077,
            "bin_end": -198.0670386360267,
            "count": 3
           },
           {
            "bin_start": -198.0670386360267,
            "bin_end": -151.2570404558457,
            "count": 4
           },
           {
            "bin_start": -151.2570404558457,
            "bin_end": -104.44704227566473,
            "count": 18
           },
           {
            "bin_start": -104.44704227566473,
            "bin_end": -57.63704409548373,
            "count": 70
           },
           {
            "bin_start": -57.63704409548373,
            "bin_end": -10.827045915302733,
            "count": 121
           },
           {
            "bin_start": -10.827045915302733,
            "bin_end": 35.982952264878236,
            "count": 100
           },
           {
            "bin_start": 35.982952264878236,
            "bin_end": 82.79295044505926,
            "count": 34
           },
           {
            "bin_start": 82.79295044505926,
            "bin_end": 129.60294862524023,
            "count": 5
           },
           {
            "bin_start": 129.60294862524023,
            "bin_end": 176.4129468054212,
            "count": 1
           },
           {
            "bin_start": 176.4129468054212,
            "bin_end": 223.22294498560223,
            "count": 4
           }
          ]
         }
        },
        {
         "name": 74,
         "dtype": "float64",
         "stats": {
          "unique_count": 360,
          "nan_count": 0,
          "min": "-234.84459203961524",
          "max": "193.45564119923984",
          "histogram": [
           {
            "bin_start": -234.84459203961524,
            "bin_end": -192.01456871572972,
            "count": 3
           },
           {
            "bin_start": -192.01456871572972,
            "bin_end": -149.1845453918442,
            "count": 5
           },
           {
            "bin_start": -149.1845453918442,
            "bin_end": -106.35452206795873,
            "count": 10
           },
           {
            "bin_start": -106.35452206795873,
            "bin_end": -63.52449874407321,
            "count": 41
           },
           {
            "bin_start": -63.52449874407321,
            "bin_end": -20.6944754201877,
            "count": 97
           },
           {
            "bin_start": -20.6944754201877,
            "bin_end": 22.135547903697784,
            "count": 118
           },
           {
            "bin_start": 22.135547903697784,
            "bin_end": 64.96557122758333,
            "count": 61
           },
           {
            "bin_start": 64.96557122758333,
            "bin_end": 107.79559455146881,
            "count": 19
           },
           {
            "bin_start": 107.79559455146881,
            "bin_end": 150.6256178753543,
            "count": 5
           },
           {
            "bin_start": 150.6256178753543,
            "bin_end": 193.45564119923984,
            "count": 1
           }
          ]
         }
        },
        {
         "name": 75,
         "dtype": "float64",
         "stats": {
          "unique_count": 360,
          "nan_count": 0,
          "min": "-245.02620419323102",
          "max": "206.14214307626207",
          "histogram": [
           {
            "bin_start": -245.02620419323102,
            "bin_end": -199.9093694662817,
            "count": 3
           },
           {
            "bin_start": -199.9093694662817,
            "bin_end": -154.7925347393324,
            "count": 2
           },
           {
            "bin_start": -154.7925347393324,
            "bin_end": -109.67570001238312,
            "count": 11
           },
           {
            "bin_start": -109.67570001238312,
            "bin_end": -64.5588652854338,
            "count": 43
           },
           {
            "bin_start": -64.5588652854338,
            "bin_end": -19.442030558484475,
            "count": 95
           },
           {
            "bin_start": -19.442030558484475,
            "bin_end": 25.67480416846479,
            "count": 119
           },
           {
            "bin_start": 25.67480416846479,
            "bin_end": 70.79163889541411,
            "count": 62
           },
           {
            "bin_start": 70.79163889541411,
            "bin_end": 115.90847362236343,
            "count": 17
           },
           {
            "bin_start": 115.90847362236343,
            "bin_end": 161.02530834931275,
            "count": 4
           },
           {
            "bin_start": 161.02530834931275,
            "bin_end": 206.14214307626207,
            "count": 4
           }
          ]
         }
        },
        {
         "name": 76,
         "dtype": "float64",
         "stats": {
          "unique_count": 360,
          "nan_count": 0,
          "min": "-337.2349666389746",
          "max": "144.0124056270197",
          "histogram": [
           {
            "bin_start": -337.2349666389746,
            "bin_end": -289.11022941237513,
            "count": 1
           },
           {
            "bin_start": -289.11022941237513,
            "bin_end": -240.98549218577574,
            "count": 0
           },
           {
            "bin_start": -240.98549218577574,
            "bin_end": -192.8607549591763,
            "count": 1
           },
           {
            "bin_start": -192.8607549591763,
            "bin_end": -144.73601773257687,
            "count": 7
           },
           {
            "bin_start": -144.73601773257687,
            "bin_end": -96.61128050597745,
            "count": 27
           },
           {
            "bin_start": -96.61128050597745,
            "bin_end": -48.486543279378,
            "count": 69
           },
           {
            "bin_start": -48.486543279378,
            "bin_end": -0.3618060527786042,
            "count": 134
           },
           {
            "bin_start": -0.3618060527786042,
            "bin_end": 47.762931173820846,
            "count": 82
           },
           {
            "bin_start": 47.762931173820846,
            "bin_end": 95.8876684004203,
            "count": 25
           },
           {
            "bin_start": 95.8876684004203,
            "bin_end": 144.0124056270197,
            "count": 14
           }
          ]
         }
        },
        {
         "name": 77,
         "dtype": "float64",
         "stats": {
          "unique_count": 360,
          "nan_count": 0,
          "min": "-539.2787147609688",
          "max": "200.11868601831884",
          "histogram": [
           {
            "bin_start": -539.2787147609688,
            "bin_end": -465.33897468304,
            "count": 1
           },
           {
            "bin_start": -465.33897468304,
            "bin_end": -391.39923460511125,
            "count": 0
           },
           {
            "bin_start": -391.39923460511125,
            "bin_end": -317.4594945271825,
            "count": 0
           },
           {
            "bin_start": -317.4594945271825,
            "bin_end": -243.51975444925375,
            "count": 1
           },
           {
            "bin_start": -243.51975444925375,
            "bin_end": -169.58001437132498,
            "count": 6
           },
           {
            "bin_start": -169.58001437132498,
            "bin_end": -95.64027429339626,
            "count": 32
           },
           {
            "bin_start": -95.64027429339626,
            "bin_end": -21.700534215467428,
            "count": 144
           },
           {
            "bin_start": -21.700534215467428,
            "bin_end": 52.23920586246129,
            "count": 151
           },
           {
            "bin_start": 52.23920586246129,
            "bin_end": 126.17894594039001,
            "count": 23
           },
           {
            "bin_start": 126.17894594039001,
            "bin_end": 200.11868601831884,
            "count": 2
           }
          ]
         }
        },
        {
         "name": 78,
         "dtype": "float64",
         "stats": {
          "unique_count": 360,
          "nan_count": 0,
          "min": "-480.70235821549613",
          "max": "164.7690221326111",
          "histogram": [
           {
            "bin_start": -480.70235821549613,
            "bin_end": -416.15522018068543,
            "count": 1
           },
           {
            "bin_start": -416.15522018068543,
            "bin_end": -351.6080821458747,
            "count": 0
           },
           {
            "bin_start": -351.6080821458747,
            "bin_end": -287.0609441110639,
            "count": 0
           },
           {
            "bin_start": -287.0609441110639,
            "bin_end": -222.51380607625322,
            "count": 0
           },
           {
            "bin_start": -222.51380607625322,
            "bin_end": -157.96666804144252,
            "count": 6
           },
           {
            "bin_start": -157.96666804144252,
            "bin_end": -93.41953000663176,
            "count": 28
           },
           {
            "bin_start": -93.41953000663176,
            "bin_end": -28.872391971821003,
            "count": 136
           },
           {
            "bin_start": -28.872391971821003,
            "bin_end": 35.6747460629897,
            "count": 141
           },
           {
            "bin_start": 35.6747460629897,
            "bin_end": 100.2218840978004,
            "count": 39
           },
           {
            "bin_start": 100.2218840978004,
            "bin_end": 164.7690221326111,
            "count": 9
           }
          ]
         }
        },
        {
         "name": 79,
         "dtype": "float64",
         "stats": {
          "unique_count": 360,
          "nan_count": 0,
          "min": "-235.9986854640938",
          "max": "184.17926181291477",
          "histogram": [
           {
            "bin_start": -235.9986854640938,
            "bin_end": -193.98089073639295,
            "count": 1
           },
           {
            "bin_start": -193.98089073639295,
            "bin_end": -151.96309600869208,
            "count": 4
           },
           {
            "bin_start": -151.96309600869208,
            "bin_end": -109.94530128099122,
            "count": 13
           },
           {
            "bin_start": -109.94530128099122,
            "bin_end": -67.92750655329036,
            "count": 36
           },
           {
            "bin_start": -67.92750655329036,
            "bin_end": -25.90971182558951,
            "count": 81
           },
           {
            "bin_start": -25.90971182558951,
            "bin_end": 16.108082902111363,
            "count": 116
           },
           {
            "bin_start": 16.108082902111363,
            "bin_end": 58.12587762981224,
            "count": 72
           },
           {
            "bin_start": 58.12587762981224,
            "bin_end": 100.14367235751308,
            "count": 20
           },
           {
            "bin_start": 100.14367235751308,
            "bin_end": 142.16146708521393,
            "count": 13
           },
           {
            "bin_start": 142.16146708521393,
            "bin_end": 184.17926181291477,
            "count": 4
           }
          ]
         }
        },
        {
         "name": 80,
         "dtype": "float64",
         "stats": {
          "unique_count": 360,
          "nan_count": 0,
          "min": "-257.3897484088775",
          "max": "265.12957876604924",
          "histogram": [
           {
            "bin_start": -257.3897484088775,
            "bin_end": -205.13781569138482,
            "count": 2
           },
           {
            "bin_start": -205.13781569138482,
            "bin_end": -152.88588297389214,
            "count": 7
           },
           {
            "bin_start": -152.88588297389214,
            "bin_end": -100.63395025639949,
            "count": 12
           },
           {
            "bin_start": -100.63395025639949,
            "bin_end": -48.38201753890681,
            "count": 69
           },
           {
            "bin_start": -48.38201753890681,
            "bin_end": 3.8699151785858703,
            "count": 127
           },
           {
            "bin_start": 3.8699151785858703,
            "bin_end": 56.12184789607852,
            "count": 104
           },
           {
            "bin_start": 56.12184789607852,
            "bin_end": 108.37378061357123,
            "count": 28
           },
           {
            "bin_start": 108.37378061357123,
            "bin_end": 160.62571333106388,
            "count": 7
           },
           {
            "bin_start": 160.62571333106388,
            "bin_end": 212.87764604855653,
            "count": 3
           },
           {
            "bin_start": 212.87764604855653,
            "bin_end": 265.12957876604924,
            "count": 1
           }
          ]
         }
        },
        {
         "name": 81,
         "dtype": "float64",
         "stats": {
          "unique_count": 360,
          "nan_count": 0,
          "min": "-336.3630903869707",
          "max": "239.24421505811733",
          "histogram": [
           {
            "bin_start": -336.3630903869707,
            "bin_end": -278.8023598424619,
            "count": 1
           },
           {
            "bin_start": -278.8023598424619,
            "bin_end": -221.24162929795312,
            "count": 2
           },
           {
            "bin_start": -221.24162929795312,
            "bin_end": -163.6808987534443,
            "count": 4
           },
           {
            "bin_start": -163.6808987534443,
            "bin_end": -106.1201682089355,
            "count": 17
           },
           {
            "bin_start": -106.1201682089355,
            "bin_end": -48.559437664426696,
            "count": 70
           },
           {
            "bin_start": -48.559437664426696,
            "bin_end": 9.001292880082133,
            "count": 139
           },
           {
            "bin_start": 9.001292880082133,
            "bin_end": 66.5620234245909,
            "count": 93
           },
           {
            "bin_start": 66.5620234245909,
            "bin_end": 124.12275396909973,
            "count": 24
           },
           {
            "bin_start": 124.12275396909973,
            "bin_end": 181.6834845136085,
            "count": 8
           },
           {
            "bin_start": 181.6834845136085,
            "bin_end": 239.24421505811733,
            "count": 2
           }
          ]
         }
        },
        {
         "name": 82,
         "dtype": "float64",
         "stats": {
          "unique_count": 360,
          "nan_count": 0,
          "min": "-216.66732914020395",
          "max": "209.046011962575",
          "histogram": [
           {
            "bin_start": -216.66732914020395,
            "bin_end": -174.09599502992606,
            "count": 2
           },
           {
            "bin_start": -174.09599502992606,
            "bin_end": -131.52466091964817,
            "count": 8
           },
           {
            "bin_start": -131.52466091964817,
            "bin_end": -88.95332680937025,
            "count": 20
           },
           {
            "bin_start": -88.95332680937025,
            "bin_end": -46.381992699092365,
            "count": 60
           },
           {
            "bin_start": -46.381992699092365,
            "bin_end": -3.8106585888144764,
            "count": 98
           },
           {
            "bin_start": -3.8106585888144764,
            "bin_end": 38.76067552146344,
            "count": 104
           },
           {
            "bin_start": 38.76067552146344,
            "bin_end": 81.3320096317413,
            "count": 32
           },
           {
            "bin_start": 81.3320096317413,
            "bin_end": 123.90334374201922,
            "count": 27
           },
           {
            "bin_start": 123.90334374201922,
            "bin_end": 166.47467785229713,
            "count": 5
           },
           {
            "bin_start": 166.47467785229713,
            "bin_end": 209.046011962575,
            "count": 4
           }
          ]
         }
        },
        {
         "name": 83,
         "dtype": "float64",
         "stats": {
          "unique_count": 360,
          "nan_count": 0,
          "min": "-208.46558093323802",
          "max": "292.98216346945446",
          "histogram": [
           {
            "bin_start": -208.46558093323802,
            "bin_end": -158.32080649296876,
            "count": 3
           },
           {
            "bin_start": -158.32080649296876,
            "bin_end": -108.17603205269953,
            "count": 15
           },
           {
            "bin_start": -108.17603205269953,
            "bin_end": -58.031257612430295,
            "count": 46
           },
           {
            "bin_start": -58.031257612430295,
            "bin_end": -7.886483172161036,
            "count": 109
           },
           {
            "bin_start": -7.886483172161036,
            "bin_end": 42.25829126810822,
            "count": 116
           },
           {
            "bin_start": 42.25829126810822,
            "bin_end": 92.40306570837743,
            "count": 44
           },
           {
            "bin_start": 92.40306570837743,
            "bin_end": 142.54784014864669,
            "count": 22
           },
           {
            "bin_start": 142.54784014864669,
            "bin_end": 192.69261458891594,
            "count": 0
           },
           {
            "bin_start": 192.69261458891594,
            "bin_end": 242.8373890291852,
            "count": 4
           },
           {
            "bin_start": 242.8373890291852,
            "bin_end": 292.98216346945446,
            "count": 1
           }
          ]
         }
        },
        {
         "name": 84,
         "dtype": "float64",
         "stats": {
          "unique_count": 360,
          "nan_count": 0,
          "min": "-213.80794214709022",
          "max": "255.68417343916917",
          "histogram": [
           {
            "bin_start": -213.80794214709022,
            "bin_end": -166.85873058846428,
            "count": 3
           },
           {
            "bin_start": -166.85873058846428,
            "bin_end": -119.90951902983834,
            "count": 5
           },
           {
            "bin_start": -119.90951902983834,
            "bin_end": -72.96030747121239,
            "count": 28
           },
           {
            "bin_start": -72.96030747121239,
            "bin_end": -26.011095912586455,
            "count": 70
           },
           {
            "bin_start": -26.011095912586455,
            "bin_end": 20.938115646039478,
            "count": 113
           },
           {
            "bin_start": 20.938115646039478,
            "bin_end": 67.88732720466544,
            "count": 86
           },
           {
            "bin_start": 67.88732720466544,
            "bin_end": 114.83653876329134,
            "count": 39
           },
           {
            "bin_start": 114.83653876329134,
            "bin_end": 161.7857503219173,
            "count": 8
           },
           {
            "bin_start": 161.7857503219173,
            "bin_end": 208.73496188054327,
            "count": 6
           },
           {
            "bin_start": 208.73496188054327,
            "bin_end": 255.68417343916917,
            "count": 2
           }
          ]
         }
        },
        {
         "name": 85,
         "dtype": "float64",
         "stats": {
          "unique_count": 360,
          "nan_count": 0,
          "min": "-248.2883994081203",
          "max": "251.1195703098274",
          "histogram": [
           {
            "bin_start": -248.2883994081203,
            "bin_end": -198.34760243632553,
            "count": 1
           },
           {
            "bin_start": -198.34760243632553,
            "bin_end": -148.40680546453078,
            "count": 5
           },
           {
            "bin_start": -148.40680546453078,
            "bin_end": -98.46600849273602,
            "count": 17
           },
           {
            "bin_start": -98.46600849273602,
            "bin_end": -48.52521152094124,
            "count": 50
           },
           {
            "bin_start": -48.52521152094124,
            "bin_end": 1.4155854508535413,
            "count": 106
           },
           {
            "bin_start": 1.4155854508535413,
            "bin_end": 51.35638242264827,
            "count": 121
           },
           {
            "bin_start": 51.35638242264827,
            "bin_end": 101.29717939444305,
            "count": 42
           },
           {
            "bin_start": 101.29717939444305,
            "bin_end": 151.23797636623783,
            "count": 11
           },
           {
            "bin_start": 151.23797636623783,
            "bin_end": 201.1787733380326,
            "count": 5
           },
           {
            "bin_start": 201.1787733380326,
            "bin_end": 251.1195703098274,
            "count": 2
           }
          ]
         }
        },
        {
         "name": 86,
         "dtype": "float64",
         "stats": {
          "unique_count": 360,
          "nan_count": 0,
          "min": "-291.06703380632644",
          "max": "251.00264722616703",
          "histogram": [
           {
            "bin_start": -291.06703380632644,
            "bin_end": -236.86006570307708,
            "count": 1
           },
           {
            "bin_start": -236.86006570307708,
            "bin_end": -182.65309759982773,
            "count": 3
           },
           {
            "bin_start": -182.65309759982773,
            "bin_end": -128.4461294965784,
            "count": 3
           },
           {
            "bin_start": -128.4461294965784,
            "bin_end": -74.23916139332906,
            "count": 25
           },
           {
            "bin_start": -74.23916139332906,
            "bin_end": -20.032193290079704,
            "count": 105
           },
           {
            "bin_start": -20.032193290079704,
            "bin_end": 34.17477481316962,
            "count": 126
           },
           {
            "bin_start": 34.17477481316962,
            "bin_end": 88.381742916419,
            "count": 72
           },
           {
            "bin_start": 88.381742916419,
            "bin_end": 142.58871101966832,
            "count": 15
           },
           {
            "bin_start": 142.58871101966832,
            "bin_end": 196.79567912291765,
            "count": 8
           },
           {
            "bin_start": 196.79567912291765,
            "bin_end": 251.00264722616703,
            "count": 2
           }
          ]
         }
        },
        {
         "name": 87,
         "dtype": "float64",
         "stats": {
          "unique_count": 360,
          "nan_count": 0,
          "min": "-221.643588038276",
          "max": "272.0525071907905",
          "histogram": [
           {
            "bin_start": -221.643588038276,
            "bin_end": -172.27397851536935,
            "count": 3
           },
           {
            "bin_start": -172.27397851536935,
            "bin_end": -122.9043689924627,
            "count": 4
           },
           {
            "bin_start": -122.9043689924627,
            "bin_end": -73.53475946955604,
            "count": 21
           },
           {
            "bin_start": -73.53475946955604,
            "bin_end": -24.165149946649393,
            "count": 84
           },
           {
            "bin_start": -24.165149946649393,
            "bin_end": 25.20445957625725,
            "count": 141
           },
           {
            "bin_start": 25.20445957625725,
            "bin_end": 74.57406909916392,
            "count": 73
           },
           {
            "bin_start": 74.57406909916392,
            "bin_end": 123.94367862207054,
            "count": 25
           },
           {
            "bin_start": 123.94367862207054,
            "bin_end": 173.3132881449772,
            "count": 5
           },
           {
            "bin_start": 173.3132881449772,
            "bin_end": 222.68289766788388,
            "count": 3
           },
           {
            "bin_start": 222.68289766788388,
            "bin_end": 272.0525071907905,
            "count": 1
           }
          ]
         }
        },
        {
         "name": 88,
         "dtype": "float64",
         "stats": {
          "unique_count": 360,
          "nan_count": 0,
          "min": "-192.53859096780525",
          "max": "240.8259114542052",
          "histogram": [
           {
            "bin_start": -192.53859096780525,
            "bin_end": -149.2021407256042,
            "count": 1
           },
           {
            "bin_start": -149.2021407256042,
            "bin_end": -105.86569048340316,
            "count": 5
           },
           {
            "bin_start": -105.86569048340316,
            "bin_end": -62.5292402412021,
            "count": 16
           },
           {
            "bin_start": -62.5292402412021,
            "bin_end": -19.192789999001064,
            "count": 62
           },
           {
            "bin_start": -19.192789999001064,
            "bin_end": 24.143660243199975,
            "count": 125
           },
           {
            "bin_start": 24.143660243199975,
            "bin_end": 67.48011048540104,
            "count": 87
           },
           {
            "bin_start": 67.48011048540104,
            "bin_end": 110.81656072760205,
            "count": 45
           },
           {
            "bin_start": 110.81656072760205,
            "bin_end": 154.15301096980312,
            "count": 16
           },
           {
            "bin_start": 154.15301096980312,
            "bin_end": 197.4894612120042,
            "count": 1
           },
           {
            "bin_start": 197.4894612120042,
            "bin_end": 240.8259114542052,
            "count": 2
           }
          ]
         }
        },
        {
         "name": 89,
         "dtype": "float64",
         "stats": {
          "unique_count": 360,
          "nan_count": 0,
          "min": "-199.9540953699434",
          "max": "195.00520839951605",
          "histogram": [
           {
            "bin_start": -199.9540953699434,
            "bin_end": -160.45816499299744,
            "count": 1
           },
           {
            "bin_start": -160.45816499299744,
            "bin_end": -120.9622346160515,
            "count": 2
           },
           {
            "bin_start": -120.9622346160515,
            "bin_end": -81.46630423910557,
            "count": 2
           },
           {
            "bin_start": -81.46630423910557,
            "bin_end": -41.97037386215962,
            "count": 16
           },
           {
            "bin_start": -41.97037386215962,
            "bin_end": -2.474443485213669,
            "count": 86
           },
           {
            "bin_start": -2.474443485213669,
            "bin_end": 37.02148689173225,
            "count": 127
           },
           {
            "bin_start": 37.02148689173225,
            "bin_end": 76.51741726867823,
            "count": 81
           },
           {
            "bin_start": 76.51741726867823,
            "bin_end": 116.01334764562415,
            "count": 34
           },
           {
            "bin_start": 116.01334764562415,
            "bin_end": 155.50927802257007,
            "count": 8
           },
           {
            "bin_start": 155.50927802257007,
            "bin_end": 195.00520839951605,
            "count": 3
           }
          ]
         }
        },
        {
         "name": 90,
         "dtype": "float64",
         "stats": {
          "unique_count": 360,
          "nan_count": 0,
          "min": "-593.8736572940215",
          "max": "195.8847225883219",
          "histogram": [
           {
            "bin_start": -593.8736572940215,
            "bin_end": -514.8978193057872,
            "count": 1
           },
           {
            "bin_start": -514.8978193057872,
            "bin_end": -435.9219813175529,
            "count": 0
           },
           {
            "bin_start": -435.9219813175529,
            "bin_end": -356.9461433293185,
            "count": 0
           },
           {
            "bin_start": -356.9461433293185,
            "bin_end": -277.97030534108416,
            "count": 0
           },
           {
            "bin_start": -277.97030534108416,
            "bin_end": -198.99446735284982,
            "count": 2
           },
           {
            "bin_start": -198.99446735284982,
            "bin_end": -120.01862936461544,
            "count": 1
           },
           {
            "bin_start": -120.01862936461544,
            "bin_end": -41.04279137638116,
            "count": 25
           },
           {
            "bin_start": -41.04279137638116,
            "bin_end": 37.93304661185323,
            "count": 208
           },
           {
            "bin_start": 37.93304661185323,
            "bin_end": 116.90888460008762,
            "count": 100
           },
           {
            "bin_start": 116.90888460008762,
            "bin_end": 195.8847225883219,
            "count": 23
           }
          ]
         }
        },
        {
         "name": 91,
         "dtype": "float64",
         "stats": {
          "unique_count": 360,
          "nan_count": 0,
          "min": "-360.57076096113633",
          "max": "305.19248587440416",
          "histogram": [
           {
            "bin_start": -360.57076096113633,
            "bin_end": -293.9944362775823,
            "count": 2
           },
           {
            "bin_start": -293.9944362775823,
            "bin_end": -227.41811159402823,
            "count": 1
           },
           {
            "bin_start": -227.41811159402823,
            "bin_end": -160.84178691047418,
            "count": 0
           },
           {
            "bin_start": -160.84178691047418,
            "bin_end": -94.26546222692014,
            "count": 8
           },
           {
            "bin_start": -94.26546222692014,
            "bin_end": -27.689137543366087,
            "count": 36
           },
           {
            "bin_start": -27.689137543366087,
            "bin_end": 38.88718714018796,
            "count": 203
           },
           {
            "bin_start": 38.88718714018796,
            "bin_end": 105.46351182374201,
            "count": 85
           },
           {
            "bin_start": 105.46351182374201,
            "bin_end": 172.03983650729606,
            "count": 19
           },
           {
            "bin_start": 172.03983650729606,
            "bin_end": 238.6161611908501,
            "count": 4
           },
           {
            "bin_start": 238.6161611908501,
            "bin_end": 305.19248587440416,
            "count": 2
           }
          ]
         }
        },
        {
         "name": 92,
         "dtype": "float64",
         "stats": {
          "unique_count": 360,
          "nan_count": 0,
          "min": "-249.67253226570574",
          "max": "231.71146747083003",
          "histogram": [
           {
            "bin_start": -249.67253226570574,
            "bin_end": -201.53413229205216,
            "count": 1
           },
           {
            "bin_start": -201.53413229205216,
            "bin_end": -153.3957323183986,
            "count": 5
           },
           {
            "bin_start": -153.3957323183986,
            "bin_end": -105.25733234474501,
            "count": 7
           },
           {
            "bin_start": -105.25733234474501,
            "bin_end": -57.11893237109143,
            "count": 13
           },
           {
            "bin_start": -57.11893237109143,
            "bin_end": -8.980532397437855,
            "count": 81
           },
           {
            "bin_start": -8.980532397437855,
            "bin_end": 39.15786757621572,
            "count": 146
           },
           {
            "bin_start": 39.15786757621572,
            "bin_end": 87.2962675498693,
            "count": 70
           },
           {
            "bin_start": 87.2962675498693,
            "bin_end": 135.43466752352288,
            "count": 27
           },
           {
            "bin_start": 135.43466752352288,
            "bin_end": 183.57306749717645,
            "count": 4
           },
           {
            "bin_start": 183.57306749717645,
            "bin_end": 231.71146747083003,
            "count": 6
           }
          ]
         }
        },
        {
         "name": 93,
         "dtype": "float64",
         "stats": {
          "unique_count": 360,
          "nan_count": 0,
          "min": "-294.870589781689",
          "max": "203.6043269716447",
          "histogram": [
           {
            "bin_start": -294.870589781689,
            "bin_end": -245.0230981063556,
            "count": 2
           },
           {
            "bin_start": -245.0230981063556,
            "bin_end": -195.17560643102223,
            "count": 0
           },
           {
            "bin_start": -195.17560643102223,
            "bin_end": -145.3281147556889,
            "count": 2
           },
           {
            "bin_start": -145.3281147556889,
            "bin_end": -95.48062308035551,
            "count": 5
           },
           {
            "bin_start": -95.48062308035551,
            "bin_end": -45.63313140502214,
            "count": 24
           },
           {
            "bin_start": -45.63313140502214,
            "bin_end": 4.214360270311204,
            "count": 84
           },
           {
            "bin_start": 4.214360270311204,
            "bin_end": 54.061851945644605,
            "count": 144
           },
           {
            "bin_start": 54.061851945644605,
            "bin_end": 103.90934362097795,
            "count": 74
           },
           {
            "bin_start": 103.90934362097795,
            "bin_end": 153.7568352963113,
            "count": 20
           },
           {
            "bin_start": 153.7568352963113,
            "bin_end": 203.6043269716447,
            "count": 5
           }
          ]
         }
        },
        {
         "name": 94,
         "dtype": "float64",
         "stats": {
          "unique_count": 360,
          "nan_count": 0,
          "min": "-587.043981253626",
          "max": "421.99031255774025",
          "histogram": [
           {
            "bin_start": -587.043981253626,
            "bin_end": -486.1405518724894,
            "count": 1
           },
           {
            "bin_start": -486.1405518724894,
            "bin_end": -385.2371224913528,
            "count": 0
           },
           {
            "bin_start": -385.2371224913528,
            "bin_end": -284.33369311021613,
            "count": 0
           },
           {
            "bin_start": -284.33369311021613,
            "bin_end": -183.4302637290795,
            "count": 5
           },
           {
            "bin_start": -183.4302637290795,
            "bin_end": -82.5268343479429,
            "count": 17
           },
           {
            "bin_start": -82.5268343479429,
            "bin_end": 18.37659503319378,
            "count": 127
           },
           {
            "bin_start": 18.37659503319378,
            "bin_end": 119.28002441433034,
            "count": 183
           },
           {
            "bin_start": 119.28002441433034,
            "bin_end": 220.18345379546702,
            "count": 24
           },
           {
            "bin_start": 220.18345379546702,
            "bin_end": 321.0868831766037,
            "count": 2
           },
           {
            "bin_start": 321.0868831766037,
            "bin_end": 421.99031255774025,
            "count": 1
           }
          ]
         }
        },
        {
         "name": 95,
         "dtype": "float64",
         "stats": {
          "unique_count": 360,
          "nan_count": 0,
          "min": "-445.88507556325203",
          "max": "376.37256686398723",
          "histogram": [
           {
            "bin_start": -445.88507556325203,
            "bin_end": -363.6593113205281,
            "count": 1
           },
           {
            "bin_start": -363.6593113205281,
            "bin_end": -281.4335470778042,
            "count": 0
           },
           {
            "bin_start": -281.4335470778042,
            "bin_end": -199.20778283508025,
            "count": 0
           },
           {
            "bin_start": -199.20778283508025,
            "bin_end": -116.98201859235633,
            "count": 2
           },
           {
            "bin_start": -116.98201859235633,
            "bin_end": -34.7562543496324,
            "count": 48
           },
           {
            "bin_start": -34.7562543496324,
            "bin_end": 47.46950989309153,
            "count": 209
           },
           {
            "bin_start": 47.46950989309153,
            "bin_end": 129.69527413581545,
            "count": 92
           },
           {
            "bin_start": 129.69527413581545,
            "bin_end": 211.92103837853938,
            "count": 6
           },
           {
            "bin_start": 211.92103837853938,
            "bin_end": 294.1468026212633,
            "count": 1
           },
           {
            "bin_start": 294.1468026212633,
            "bin_end": 376.37256686398723,
            "count": 1
           }
          ]
         }
        },
        {
         "name": 96,
         "dtype": "float64",
         "stats": {
          "unique_count": 360,
          "nan_count": 0,
          "min": "-468.84398168805274",
          "max": "400.27823507374706",
          "histogram": [
           {
            "bin_start": -468.84398168805274,
            "bin_end": -381.93176001187277,
            "count": 1
           },
           {
            "bin_start": -381.93176001187277,
            "bin_end": -295.0195383356928,
            "count": 0
           },
           {
            "bin_start": -295.0195383356928,
            "bin_end": -208.10731665951278,
            "count": 0
           },
           {
            "bin_start": -208.10731665951278,
            "bin_end": -121.19509498333281,
            "count": 4
           },
           {
            "bin_start": -121.19509498333281,
            "bin_end": -34.28287330715284,
            "count": 28
           },
           {
            "bin_start": -34.28287330715284,
            "bin_end": 52.629348369027184,
            "count": 178
           },
           {
            "bin_start": 52.629348369027184,
            "bin_end": 139.5415700452071,
            "count": 124
           },
           {
            "bin_start": 139.5415700452071,
            "bin_end": 226.45379172138712,
            "count": 22
           },
           {
            "bin_start": 226.45379172138712,
            "bin_end": 313.36601339756714,
            "count": 1
           },
           {
            "bin_start": 313.36601339756714,
            "bin_end": 400.27823507374706,
            "count": 2
           }
          ]
         }
        },
        {
         "name": 97,
         "dtype": "float64",
         "stats": {
          "unique_count": 360,
          "nan_count": 0,
          "min": "-217.27015366828346",
          "max": "404.51842275464696",
          "histogram": [
           {
            "bin_start": -217.27015366828346,
            "bin_end": -155.0912960259904,
            "count": 2
           },
           {
            "bin_start": -155.0912960259904,
            "bin_end": -92.91243838369738,
            "count": 4
           },
           {
            "bin_start": -92.91243838369738,
            "bin_end": -30.733580741404353,
            "count": 26
           },
           {
            "bin_start": -30.733580741404353,
            "bin_end": 31.4452769008887,
            "count": 96
           },
           {
            "bin_start": 31.4452769008887,
            "bin_end": 93.62413454318175,
            "count": 160
           },
           {
            "bin_start": 93.62413454318175,
            "bin_end": 155.80299218547475,
            "count": 58
           },
           {
            "bin_start": 155.80299218547475,
            "bin_end": 217.9818498277678,
            "count": 8
           },
           {
            "bin_start": 217.9818498277678,
            "bin_end": 280.16070747006086,
            "count": 4
           },
           {
            "bin_start": 280.16070747006086,
            "bin_end": 342.33956511235385,
            "count": 0
           },
           {
            "bin_start": 342.33956511235385,
            "bin_end": 404.51842275464696,
            "count": 2
           }
          ]
         }
        },
        {
         "name": 98,
         "dtype": "float64",
         "stats": {
          "unique_count": 360,
          "nan_count": 0,
          "min": "-203.423849891622",
          "max": "281.0148571659847",
          "histogram": [
           {
            "bin_start": -203.423849891622,
            "bin_end": -154.97997918586134,
            "count": 2
           },
           {
            "bin_start": -154.97997918586134,
            "bin_end": -106.53610848010067,
            "count": 2
           },
           {
            "bin_start": -106.53610848010067,
            "bin_end": -58.09223777433999,
            "count": 7
           },
           {
            "bin_start": -58.09223777433999,
            "bin_end": -9.648367068579319,
            "count": 27
           },
           {
            "bin_start": -9.648367068579319,
            "bin_end": 38.795503637181355,
            "count": 117
           },
           {
            "bin_start": 38.795503637181355,
            "bin_end": 87.23937434294203,
            "count": 109
           },
           {
            "bin_start": 87.23937434294203,
            "bin_end": 135.6832450487027,
            "count": 74
           },
           {
            "bin_start": 135.6832450487027,
            "bin_end": 184.12711575446338,
            "count": 14
           },
           {
            "bin_start": 184.12711575446338,
            "bin_end": 232.57098646022405,
            "count": 5
           },
           {
            "bin_start": 232.57098646022405,
            "bin_end": 281.0148571659847,
            "count": 3
           }
          ]
         }
        },
        {
         "name": 99,
         "dtype": "float64",
         "stats": {
          "unique_count": 360,
          "nan_count": 0,
          "min": "-124.91145640406103",
          "max": "435.2195355394997",
          "histogram": [
           {
            "bin_start": -124.91145640406103,
            "bin_end": -68.89835720970495,
            "count": 8
           },
           {
            "bin_start": -68.89835720970495,
            "bin_end": -12.885258015348882,
            "count": 37
           },
           {
            "bin_start": -12.885258015348882,
            "bin_end": 43.12784117900719,
            "count": 130
           },
           {
            "bin_start": 43.12784117900719,
            "bin_end": 99.14094037336326,
            "count": 128
           },
           {
            "bin_start": 99.14094037336326,
            "bin_end": 155.15403956771934,
            "count": 43
           },
           {
            "bin_start": 155.15403956771934,
            "bin_end": 211.1671387620754,
            "count": 12
           },
           {
            "bin_start": 211.1671387620754,
            "bin_end": 267.1802379564315,
            "count": 0
           },
           {
            "bin_start": 267.1802379564315,
            "bin_end": 323.19333715078756,
            "count": 1
           },
           {
            "bin_start": 323.19333715078756,
            "bin_end": 379.20643634514363,
            "count": 0
           },
           {
            "bin_start": 379.20643634514363,
            "bin_end": 435.2195355394997,
            "count": 1
           }
          ]
         }
        },
        {
         "name": 100,
         "dtype": "float64",
         "stats": {
          "unique_count": 360,
          "nan_count": 0,
          "min": "-296.3025377679369",
          "max": "187.57488940818257",
          "histogram": [
           {
            "bin_start": -296.3025377679369,
            "bin_end": -247.91479505032493,
            "count": 1
           },
           {
            "bin_start": -247.91479505032493,
            "bin_end": -199.527052332713,
            "count": 0
           },
           {
            "bin_start": -199.527052332713,
            "bin_end": -151.13930961510107,
            "count": 2
           },
           {
            "bin_start": -151.13930961510107,
            "bin_end": -102.75156689748911,
            "count": 3
           },
           {
            "bin_start": -102.75156689748911,
            "bin_end": -54.363824179877156,
            "count": 13
           },
           {
            "bin_start": -54.363824179877156,
            "bin_end": -5.976081462265256,
            "count": 53
           },
           {
            "bin_start": -5.976081462265256,
            "bin_end": 42.4116612553467,
            "count": 149
           },
           {
            "bin_start": 42.4116612553467,
            "bin_end": 90.79940397295866,
            "count": 98
           },
           {
            "bin_start": 90.79940397295866,
            "bin_end": 139.18714669057061,
            "count": 32
           },
           {
            "bin_start": 139.18714669057061,
            "bin_end": 187.57488940818257,
            "count": 9
           }
          ]
         }
        },
        {
         "name": 101,
         "dtype": "float64",
         "stats": {
          "unique_count": 360,
          "nan_count": 0,
          "min": "-237.47525879111527",
          "max": "297.0436089828454",
          "histogram": [
           {
            "bin_start": -237.47525879111527,
            "bin_end": -184.0233720137192,
            "count": 2
           },
           {
            "bin_start": -184.0233720137192,
            "bin_end": -130.57148523632313,
            "count": 6
           },
           {
            "bin_start": -130.57148523632313,
            "bin_end": -77.11959845892704,
            "count": 23
           },
           {
            "bin_start": -77.11959845892704,
            "bin_end": -23.66771168153099,
            "count": 69
           },
           {
            "bin_start": -23.66771168153099,
            "bin_end": 29.784175095865066,
            "count": 152
           },
           {
            "bin_start": 29.784175095865066,
            "bin_end": 83.23606187326118,
            "count": 86
           },
           {
            "bin_start": 83.23606187326118,
            "bin_end": 136.68794865065723,
            "count": 17
           },
           {
            "bin_start": 136.68794865065723,
            "bin_end": 190.1398354280533,
            "count": 4
           },
           {
            "bin_start": 190.1398354280533,
            "bin_end": 243.59172220544934,
            "count": 0
           },
           {
            "bin_start": 243.59172220544934,
            "bin_end": 297.0436089828454,
            "count": 1
           }
          ]
         }
        },
        {
         "name": 102,
         "dtype": "float64",
         "stats": {
          "unique_count": 360,
          "nan_count": 0,
          "min": "-199.56512252618995",
          "max": "241.75550033458967",
          "histogram": [
           {
            "bin_start": -199.56512252618995,
            "bin_end": -155.43306024011198,
            "count": 6
           },
           {
            "bin_start": -155.43306024011198,
            "bin_end": -111.30099795403403,
            "count": 9
           },
           {
            "bin_start": -111.30099795403403,
            "bin_end": -67.16893566795608,
            "count": 35
           },
           {
            "bin_start": -67.16893566795608,
            "bin_end": -23.03687338187811,
            "count": 96
           },
           {
            "bin_start": -23.03687338187811,
            "bin_end": 21.09518890419986,
            "count": 118
           },
           {
            "bin_start": 21.09518890419986,
            "bin_end": 65.2272511902778,
            "count": 70
           },
           {
            "bin_start": 65.2272511902778,
            "bin_end": 109.3593134763558,
            "count": 20
           },
           {
            "bin_start": 109.3593134763558,
            "bin_end": 153.49137576243373,
            "count": 2
           },
           {
            "bin_start": 153.49137576243373,
            "bin_end": 197.62343804851167,
            "count": 1
           },
           {
            "bin_start": 197.62343804851167,
            "bin_end": 241.75550033458967,
            "count": 3
           }
          ]
         }
        },
        {
         "name": 103,
         "dtype": "float64",
         "stats": {
          "unique_count": 360,
          "nan_count": 0,
          "min": "-177.4755317424897",
          "max": "257.3996775432479",
          "histogram": [
           {
            "bin_start": -177.4755317424897,
            "bin_end": -133.98801081391593,
            "count": 4
           },
           {
            "bin_start": -133.98801081391593,
            "bin_end": -90.50048988534218,
            "count": 10
           },
           {
            "bin_start": -90.50048988534218,
            "bin_end": -47.01296895676842,
            "count": 29
           },
           {
            "bin_start": -47.01296895676842,
            "bin_end": -3.52544802819466,
            "count": 122
           },
           {
            "bin_start": -3.52544802819466,
            "bin_end": 39.9620729003791,
            "count": 134
           },
           {
            "bin_start": 39.9620729003791,
            "bin_end": 83.44959382895286,
            "count": 45
           },
           {
            "bin_start": 83.44959382895286,
            "bin_end": 126.93711475752661,
            "count": 9
           },
           {
            "bin_start": 126.93711475752661,
            "bin_end": 170.42463568610037,
            "count": 5
           },
           {
            "bin_start": 170.42463568610037,
            "bin_end": 213.91215661467413,
            "count": 1
           },
           {
            "bin_start": 213.91215661467413,
            "bin_end": 257.3996775432479,
            "count": 1
           }
          ]
         }
        },
        {
         "name": 104,
         "dtype": "float64",
         "stats": {
          "unique_count": 360,
          "nan_count": 0,
          "min": "-327.52339836469037",
          "max": "229.7046451169681",
          "histogram": [
           {
            "bin_start": -327.52339836469037,
            "bin_end": -271.80059401652454,
            "count": 1
           },
           {
            "bin_start": -271.80059401652454,
            "bin_end": -216.07778966835866,
            "count": 0
           },
           {
            "bin_start": -216.07778966835866,
            "bin_end": -160.35498532019284,
            "count": 0
           },
           {
            "bin_start": -160.35498532019284,
            "bin_end": -104.63218097202699,
            "count": 9
           },
           {
            "bin_start": -104.63218097202699,
            "bin_end": -48.909376623861135,
            "count": 55
           },
           {
            "bin_start": -48.909376623861135,
            "bin_end": 6.813427724304688,
            "count": 174
           },
           {
            "bin_start": 6.813427724304688,
            "bin_end": 62.53623207247057,
            "count": 105
           },
           {
            "bin_start": 62.53623207247057,
            "bin_end": 118.25903642063639,
            "count": 11
           },
           {
            "bin_start": 118.25903642063639,
            "bin_end": 173.98184076880221,
            "count": 4
           },
           {
            "bin_start": 173.98184076880221,
            "bin_end": 229.7046451169681,
            "count": 1
           }
          ]
         }
        },
        {
         "name": 105,
         "dtype": "float64",
         "stats": {
          "unique_count": 360,
          "nan_count": 0,
          "min": "-215.0229408658779",
          "max": "167.18978296357636",
          "histogram": [
           {
            "bin_start": -215.0229408658779,
            "bin_end": -176.80166848293248,
            "count": 2
           },
           {
            "bin_start": -176.80166848293248,
            "bin_end": -138.58039609998704,
            "count": 8
           },
           {
            "bin_start": -138.58039609998704,
            "bin_end": -100.35912371704161,
            "count": 16
           },
           {
            "bin_start": -100.35912371704161,
            "bin_end": -62.13785133409618,
            "count": 45
           },
           {
            "bin_start": -62.13785133409618,
            "bin_end": -23.91657895115077,
            "count": 97
           },
           {
            "bin_start": -23.91657895115077,
            "bin_end": 14.304693431794675,
            "count": 129
           },
           {
            "bin_start": 14.304693431794675,
            "bin_end": 52.52596581474012,
            "count": 48
           },
           {
            "bin_start": 52.52596581474012,
            "bin_end": 90.74723819768553,
            "count": 11
           },
           {
            "bin_start": 90.74723819768553,
            "bin_end": 128.96851058063095,
            "count": 2
           },
           {
            "bin_start": 128.96851058063095,
            "bin_end": 167.18978296357636,
            "count": 2
           }
          ]
         }
        },
        {
         "name": 106,
         "dtype": "float64",
         "stats": {
          "unique_count": 360,
          "nan_count": 0,
          "min": "-216.04584978977437",
          "max": "204.4661541740261",
          "histogram": [
           {
            "bin_start": -216.04584978977437,
            "bin_end": -173.99464939339433,
            "count": 6
           },
           {
            "bin_start": -173.99464939339433,
            "bin_end": -131.9434489970143,
            "count": 7
           },
           {
            "bin_start": -131.9434489970143,
            "bin_end": -89.89224860063422,
            "count": 30
           },
           {
            "bin_start": -89.89224860063422,
            "bin_end": -47.84104820425418,
            "count": 56
           },
           {
            "bin_start": -47.84104820425418,
            "bin_end": -5.789847807874139,
            "count": 133
           },
           {
            "bin_start": -5.789847807874139,
            "bin_end": 36.26135258850593,
            "count": 99
           },
           {
            "bin_start": 36.26135258850593,
            "bin_end": 78.31255298488594,
            "count": 19
           },
           {
            "bin_start": 78.31255298488594,
            "bin_end": 120.36375338126601,
            "count": 6
           },
           {
            "bin_start": 120.36375338126601,
            "bin_end": 162.41495377764608,
            "count": 2
           },
           {
            "bin_start": 162.41495377764608,
            "bin_end": 204.4661541740261,
            "count": 2
           }
          ]
         }
        },
        {
         "name": 107,
         "dtype": "float64",
         "stats": {
          "unique_count": 360,
          "nan_count": 0,
          "min": "-248.2883131217095",
          "max": "276.5714611454805",
          "histogram": [
           {
            "bin_start": -248.2883131217095,
            "bin_end": -195.80233569499052,
            "count": 4
           },
           {
            "bin_start": -195.80233569499052,
            "bin_end": -143.3163582682715,
            "count": 8
           },
           {
            "bin_start": -143.3163582682715,
            "bin_end": -90.83038084155248,
            "count": 26
           },
           {
            "bin_start": -90.83038084155248,
            "bin_end": -38.344403414833494,
            "count": 73
           },
           {
            "bin_start": -38.344403414833494,
            "bin_end": 14.141574011885496,
            "count": 169
           },
           {
            "bin_start": 14.141574011885496,
            "bin_end": 66.62755143860454,
            "count": 63
           },
           {
            "bin_start": 66.62755143860454,
            "bin_end": 119.11352886532353,
            "count": 15
           },
           {
            "bin_start": 119.11352886532353,
            "bin_end": 171.59950629204252,
            "count": 1
           },
           {
            "bin_start": 171.59950629204252,
            "bin_end": 224.0854837187615,
            "count": 0
           },
           {
            "bin_start": 224.0854837187615,
            "bin_end": 276.5714611454805,
            "count": 1
           }
          ]
         }
        },
        {
         "name": 108,
         "dtype": "float64",
         "stats": {
          "unique_count": 360,
          "nan_count": 0,
          "min": "-255.0006141240683",
          "max": "262.26846679187474",
          "histogram": [
           {
            "bin_start": -255.0006141240683,
            "bin_end": -203.273706032474,
            "count": 1
           },
           {
            "bin_start": -203.273706032474,
            "bin_end": -151.54679794087969,
            "count": 3
           },
           {
            "bin_start": -151.54679794087969,
            "bin_end": -99.8198898492854,
            "count": 11
           },
           {
            "bin_start": -99.8198898492854,
            "bin_end": -48.09298175769109,
            "count": 52
           },
           {
            "bin_start": -48.09298175769109,
            "bin_end": 3.6339263339032186,
            "count": 185
           },
           {
            "bin_start": 3.6339263339032186,
            "bin_end": 55.3608344254975,
            "count": 83
           },
           {
            "bin_start": 55.3608344254975,
            "bin_end": 107.08774251709184,
            "count": 17
           },
           {
            "bin_start": 107.08774251709184,
            "bin_end": 158.81465060868612,
            "count": 7
           },
           {
            "bin_start": 158.81465060868612,
            "bin_end": 210.5415587002804,
            "count": 0
           },
           {
            "bin_start": 210.5415587002804,
            "bin_end": 262.26846679187474,
            "count": 1
           }
          ]
         }
        },
        {
         "name": 109,
         "dtype": "float64",
         "stats": {
          "unique_count": 360,
          "nan_count": 0,
          "min": "-198.295552146732",
          "max": "254.5748376628926",
          "histogram": [
           {
            "bin_start": -198.295552146732,
            "bin_end": -153.00851316576956,
            "count": 3
           },
           {
            "bin_start": -153.00851316576956,
            "bin_end": -107.72147418480708,
            "count": 2
           },
           {
            "bin_start": -107.72147418480708,
            "bin_end": -62.4344352038446,
            "count": 27
           },
           {
            "bin_start": -62.4344352038446,
            "bin_end": -17.14739622288215,
            "count": 118
           },
           {
            "bin_start": -17.14739622288215,
            "bin_end": 28.1396427580803,
            "count": 125
           },
           {
            "bin_start": 28.1396427580803,
            "bin_end": 73.4266817390428,
            "count": 60
           },
           {
            "bin_start": 73.4266817390428,
            "bin_end": 118.71372072000526,
            "count": 16
           },
           {
            "bin_start": 118.71372072000526,
            "bin_end": 164.0007597009677,
            "count": 4
           },
           {
            "bin_start": 164.0007597009677,
            "bin_end": 209.28779868193016,
            "count": 4
           },
           {
            "bin_start": 209.28779868193016,
            "bin_end": 254.5748376628926,
            "count": 1
           }
          ]
         }
        },
        {
         "name": 110,
         "dtype": "float64",
         "stats": {
          "unique_count": 360,
          "nan_count": 0,
          "min": "-212.91414406060903",
          "max": "149.19247654005085",
          "histogram": [
           {
            "bin_start": -212.91414406060903,
            "bin_end": -176.70348200054303,
            "count": 1
           },
           {
            "bin_start": -176.70348200054303,
            "bin_end": -140.49281994047706,
            "count": 3
           },
           {
            "bin_start": -140.49281994047706,
            "bin_end": -104.28215788041108,
            "count": 8
           },
           {
            "bin_start": -104.28215788041108,
            "bin_end": -68.07149582034509,
            "count": 21
           },
           {
            "bin_start": -68.07149582034509,
            "bin_end": -31.860833760279093,
            "count": 63
           },
           {
            "bin_start": -31.860833760279093,
            "bin_end": 4.3498282997868785,
            "count": 142
           },
           {
            "bin_start": 4.3498282997868785,
            "bin_end": 40.56049035985285,
            "count": 81
           },
           {
            "bin_start": 40.56049035985285,
            "bin_end": 76.77115241991885,
            "count": 26
           },
           {
            "bin_start": 76.77115241991885,
            "bin_end": 112.98181447998485,
            "count": 12
           },
           {
            "bin_start": 112.98181447998485,
            "bin_end": 149.19247654005085,
            "count": 3
           }
          ]
         }
        },
        {
         "name": 111,
         "dtype": "float64",
         "stats": {
          "unique_count": 360,
          "nan_count": 0,
          "min": "-244.20908683166635",
          "max": "408.6883919848242",
          "histogram": [
           {
            "bin_start": -244.20908683166635,
            "bin_end": -178.9193389500173,
            "count": 2
           },
           {
            "bin_start": -178.9193389500173,
            "bin_end": -113.62959106836826,
            "count": 11
           },
           {
            "bin_start": -113.62959106836826,
            "bin_end": -48.33984318671921,
            "count": 71
           },
           {
            "bin_start": -48.33984318671921,
            "bin_end": 16.94990469492984,
            "count": 191
           },
           {
            "bin_start": 16.94990469492984,
            "bin_end": 82.23965257657892,
            "count": 75
           },
           {
            "bin_start": 82.23965257657892,
            "bin_end": 147.52940045822794,
            "count": 7
           },
           {
            "bin_start": 147.52940045822794,
            "bin_end": 212.81914833987696,
            "count": 2
           },
           {
            "bin_start": 212.81914833987696,
            "bin_end": 278.10889622152604,
            "count": 0
           },
           {
            "bin_start": 278.10889622152604,
            "bin_end": 343.3986441031751,
            "count": 0
           },
           {
            "bin_start": 343.3986441031751,
            "bin_end": 408.6883919848242,
            "count": 1
           }
          ]
         }
        },
        {
         "name": 112,
         "dtype": "float64",
         "stats": {
          "unique_count": 360,
          "nan_count": 0,
          "min": "-253.74362424113679",
          "max": "210.97593316638904",
          "histogram": [
           {
            "bin_start": -253.74362424113679,
            "bin_end": -207.2716685003842,
            "count": 3
           },
           {
            "bin_start": -207.2716685003842,
            "bin_end": -160.79971275963163,
            "count": 4
           },
           {
            "bin_start": -160.79971275963163,
            "bin_end": -114.32775701887903,
            "count": 7
           },
           {
            "bin_start": -114.32775701887903,
            "bin_end": -67.85580127812645,
            "count": 27
           },
           {
            "bin_start": -67.85580127812645,
            "bin_end": -21.383845537373873,
            "count": 115
           },
           {
            "bin_start": -21.383845537373873,
            "bin_end": 25.088110203378733,
            "count": 139
           },
           {
            "bin_start": 25.088110203378733,
            "bin_end": 71.56006594413128,
            "count": 46
           },
           {
            "bin_start": 71.56006594413128,
            "bin_end": 118.03202168488389,
            "count": 13
           },
           {
            "bin_start": 118.03202168488389,
            "bin_end": 164.5039774256365,
            "count": 4
           },
           {
            "bin_start": 164.5039774256365,
            "bin_end": 210.97593316638904,
            "count": 2
           }
          ]
         }
        },
        {
         "name": 113,
         "dtype": "float64",
         "stats": {
          "unique_count": 360,
          "nan_count": 0,
          "min": "-220.4394667768538",
          "max": "191.0351893755269",
          "histogram": [
           {
            "bin_start": -220.4394667768538,
            "bin_end": -179.29200116161573,
            "count": 1
           },
           {
            "bin_start": -179.29200116161573,
            "bin_end": -138.14453554637765,
            "count": 1
           },
           {
            "bin_start": -138.14453554637765,
            "bin_end": -96.9970699311396,
            "count": 12
           },
           {
            "bin_start": -96.9970699311396,
            "bin_end": -55.84960431590153,
            "count": 42
           },
           {
            "bin_start": -55.84960431590153,
            "bin_end": -14.702138700663454,
            "count": 106
           },
           {
            "bin_start": -14.702138700663454,
            "bin_end": 26.445326914574594,
            "count": 140
           },
           {
            "bin_start": 26.445326914574594,
            "bin_end": 67.5927925298127,
            "count": 39
           },
           {
            "bin_start": 67.5927925298127,
            "bin_end": 108.74025814505075,
            "count": 8
           },
           {
            "bin_start": 108.74025814505075,
            "bin_end": 149.8877237602888,
            "count": 10
           },
           {
            "bin_start": 149.8877237602888,
            "bin_end": 191.0351893755269,
            "count": 1
           }
          ]
         }
        },
        {
         "name": 114,
         "dtype": "float64",
         "stats": {
          "unique_count": 360,
          "nan_count": 0,
          "min": "-201.02222291442376",
          "max": "182.82553797399123",
          "histogram": [
           {
            "bin_start": -201.02222291442376,
            "bin_end": -162.63744682558226,
            "count": 1
           },
           {
            "bin_start": -162.63744682558226,
            "bin_end": -124.25267073674077,
            "count": 1
           },
           {
            "bin_start": -124.25267073674077,
            "bin_end": -85.86789464789928,
            "count": 4
           },
           {
            "bin_start": -85.86789464789928,
            "bin_end": -47.48311855905777,
            "count": 39
           },
           {
            "bin_start": -47.48311855905777,
            "bin_end": -9.098342470216267,
            "count": 110
           },
           {
            "bin_start": -9.098342470216267,
            "bin_end": 29.28643361862521,
            "count": 142
           },
           {
            "bin_start": 29.28643361862521,
            "bin_end": 67.67120970746674,
            "count": 49
           },
           {
            "bin_start": 67.67120970746674,
            "bin_end": 106.05598579630822,
            "count": 9
           },
           {
            "bin_start": 106.05598579630822,
            "bin_end": 144.4407618851497,
            "count": 3
           },
           {
            "bin_start": 144.4407618851497,
            "bin_end": 182.82553797399123,
            "count": 2
           }
          ]
         }
        },
        {
         "name": 115,
         "dtype": "float64",
         "stats": {
          "unique_count": 360,
          "nan_count": 0,
          "min": "-190.10781500554913",
          "max": "170.50027400676117",
          "histogram": [
           {
            "bin_start": -190.10781500554913,
            "bin_end": -154.0470061043181,
            "count": 2
           },
           {
            "bin_start": -154.0470061043181,
            "bin_end": -117.98619720308707,
            "count": 5
           },
           {
            "bin_start": -117.98619720308707,
            "bin_end": -81.92538830185605,
            "count": 15
           },
           {
            "bin_start": -81.92538830185605,
            "bin_end": -45.86457940062502,
            "count": 31
           },
           {
            "bin_start": -45.86457940062502,
            "bin_end": -9.803770499393977,
            "count": 125
           },
           {
            "bin_start": -9.803770499393977,
            "bin_end": 26.257038401837036,
            "count": 108
           },
           {
            "bin_start": 26.257038401837036,
            "bin_end": 62.31784730306805,
            "count": 45
           },
           {
            "bin_start": 62.31784730306805,
            "bin_end": 98.37865620429909,
            "count": 15
           },
           {
            "bin_start": 98.37865620429909,
            "bin_end": 134.43946510553013,
            "count": 8
           },
           {
            "bin_start": 134.43946510553013,
            "bin_end": 170.50027400676117,
            "count": 6
           }
          ]
         }
        },
        {
         "name": 116,
         "dtype": "float64",
         "stats": {
          "unique_count": 360,
          "nan_count": 0,
          "min": "-167.65524522284795",
          "max": "171.34115395014123",
          "histogram": [
           {
            "bin_start": -167.65524522284795,
            "bin_end": -133.75560530554904,
            "count": 7
           },
           {
            "bin_start": -133.75560530554904,
            "bin_end": -99.85596538825011,
            "count": 8
           },
           {
            "bin_start": -99.85596538825011,
            "bin_end": -65.95632547095119,
            "count": 26
           },
           {
            "bin_start": -65.95632547095119,
            "bin_end": -32.05668555365227,
            "count": 69
           },
           {
            "bin_start": -32.05668555365227,
            "bin_end": 1.8429543636466406,
            "count": 133
           },
           {
            "bin_start": 1.8429543636466406,
            "bin_end": 35.74259428094558,
            "count": 80
           },
           {
            "bin_start": 35.74259428094558,
            "bin_end": 69.6422341982445,
            "count": 20
           },
           {
            "bin_start": 69.6422341982445,
            "bin_end": 103.54187411554341,
            "count": 12
           },
           {
            "bin_start": 103.54187411554341,
            "bin_end": 137.44151403284235,
            "count": 2
           },
           {
            "bin_start": 137.44151403284235,
            "bin_end": 171.34115395014123,
            "count": 3
           }
          ]
         }
        },
        {
         "name": 117,
         "dtype": "float64",
         "stats": {
          "unique_count": 360,
          "nan_count": 0,
          "min": "-296.3475775243187",
          "max": "426.39122589407816",
          "histogram": [
           {
            "bin_start": -296.3475775243187,
            "bin_end": -224.073697182479,
            "count": 1
           },
           {
            "bin_start": -224.073697182479,
            "bin_end": -151.79981684063932,
            "count": 5
           },
           {
            "bin_start": -151.79981684063932,
            "bin_end": -79.52593649879964,
            "count": 16
           },
           {
            "bin_start": -79.52593649879964,
            "bin_end": -7.252056156959952,
            "count": 181
           },
           {
            "bin_start": -7.252056156959952,
            "bin_end": 65.02182418487973,
            "count": 142
           },
           {
            "bin_start": 65.02182418487973,
            "bin_end": 137.29570452671942,
            "count": 11
           },
           {
            "bin_start": 137.29570452671942,
            "bin_end": 209.5695848685591,
            "count": 3
           },
           {
            "bin_start": 209.5695848685591,
            "bin_end": 281.8434652103988,
            "count": 0
           },
           {
            "bin_start": 281.8434652103988,
            "bin_end": 354.1173455522385,
            "count": 0
           },
           {
            "bin_start": 354.1173455522385,
            "bin_end": 426.39122589407816,
            "count": 1
           }
          ]
         }
        },
        {
         "name": 118,
         "dtype": "float64",
         "stats": {
          "unique_count": 360,
          "nan_count": 0,
          "min": "-210.00767117005853",
          "max": "191.73131818290676",
          "histogram": [
           {
            "bin_start": -210.00767117005853,
            "bin_end": -169.833772234762,
            "count": 2
           },
           {
            "bin_start": -169.833772234762,
            "bin_end": -129.65987329946546,
            "count": 2
           },
           {
            "bin_start": -129.65987329946546,
            "bin_end": -89.48597436416895,
            "count": 10
           },
           {
            "bin_start": -89.48597436416895,
            "bin_end": -49.31207542887242,
            "count": 30
           },
           {
            "bin_start": -49.31207542887242,
            "bin_end": -9.138176493575884,
            "count": 104
           },
           {
            "bin_start": -9.138176493575884,
            "bin_end": 31.035722441720623,
            "count": 131
           },
           {
            "bin_start": 31.035722441720623,
            "bin_end": 71.20962137701719,
            "count": 61
           },
           {
            "bin_start": 71.20962137701719,
            "bin_end": 111.38352031231369,
            "count": 12
           },
           {
            "bin_start": 111.38352031231369,
            "bin_end": 151.5574192476102,
            "count": 6
           },
           {
            "bin_start": 151.5574192476102,
            "bin_end": 191.73131818290676,
            "count": 2
           }
          ]
         }
        },
        {
         "name": 119,
         "dtype": "float64",
         "stats": {
          "unique_count": 360,
          "nan_count": 0,
          "min": "-187.03150911061675",
          "max": "434.3013508439981",
          "histogram": [
           {
            "bin_start": -187.03150911061675,
            "bin_end": -124.89822311515528,
            "count": 1
           },
           {
            "bin_start": -124.89822311515528,
            "bin_end": -62.76493711969378,
            "count": 20
           },
           {
            "bin_start": -62.76493711969378,
            "bin_end": -0.6316511242322917,
            "count": 147
           },
           {
            "bin_start": -0.6316511242322917,
            "bin_end": 61.501634871229186,
            "count": 168
           },
           {
            "bin_start": 61.501634871229186,
            "bin_end": 123.63492086669066,
            "count": 17
           },
           {
            "bin_start": 123.63492086669066,
            "bin_end": 185.76820686215217,
            "count": 6
           },
           {
            "bin_start": 185.76820686215217,
            "bin_end": 247.90149285761362,
            "count": 0
           },
           {
            "bin_start": 247.90149285761362,
            "bin_end": 310.0347788530751,
            "count": 0
           },
           {
            "bin_start": 310.0347788530751,
            "bin_end": 372.1680648485366,
            "count": 0
           },
           {
            "bin_start": 372.1680648485366,
            "bin_end": 434.3013508439981,
            "count": 1
           }
          ]
         }
        },
        {
         "name": 120,
         "dtype": "float64",
         "stats": {
          "unique_count": 360,
          "nan_count": 0,
          "min": "-157.7492441188606",
          "max": "220.14328136944278",
          "histogram": [
           {
            "bin_start": -157.7492441188606,
            "bin_end": -119.95999157003025,
            "count": 3
           },
           {
            "bin_start": -119.95999157003025,
            "bin_end": -82.17073902119992,
            "count": 10
           },
           {
            "bin_start": -82.17073902119992,
            "bin_end": -44.38148647236959,
            "count": 42
           },
           {
            "bin_start": -44.38148647236959,
            "bin_end": -6.592233923539254,
            "count": 112
           },
           {
            "bin_start": -6.592233923539254,
            "bin_end": 31.197018625291093,
            "count": 131
           },
           {
            "bin_start": 31.197018625291093,
            "bin_end": 68.98627117412141,
            "count": 45
           },
           {
            "bin_start": 68.98627117412141,
            "bin_end": 106.77552372295173,
            "count": 10
           },
           {
            "bin_start": 106.77552372295173,
            "bin_end": 144.56477627178208,
            "count": 5
           },
           {
            "bin_start": 144.56477627178208,
            "bin_end": 182.35402882061243,
            "count": 0
           },
           {
            "bin_start": 182.35402882061243,
            "bin_end": 220.14328136944278,
            "count": 2
           }
          ]
         }
        },
        {
         "name": 121,
         "dtype": "float64",
         "stats": {
          "unique_count": 360,
          "nan_count": 0,
          "min": "-167.6967203675813",
          "max": "273.008951755457",
          "histogram": [
           {
            "bin_start": -167.6967203675813,
            "bin_end": -123.62615315527746,
            "count": 10
           },
           {
            "bin_start": -123.62615315527746,
            "bin_end": -79.55558594297364,
            "count": 27
           },
           {
            "bin_start": -79.55558594297364,
            "bin_end": -35.48501873066982,
            "count": 57
           },
           {
            "bin_start": -35.48501873066982,
            "bin_end": 8.58554848163402,
            "count": 146
           },
           {
            "bin_start": 8.58554848163402,
            "bin_end": 52.65611569393786,
            "count": 88
           },
           {
            "bin_start": 52.65611569393786,
            "bin_end": 96.72668290624165,
            "count": 22
           },
           {
            "bin_start": 96.72668290624165,
            "bin_end": 140.7972501185455,
            "count": 6
           },
           {
            "bin_start": 140.7972501185455,
            "bin_end": 184.86781733084933,
            "count": 1
           },
           {
            "bin_start": 184.86781733084933,
            "bin_end": 228.93838454315318,
            "count": 2
           },
           {
            "bin_start": 228.93838454315318,
            "bin_end": 273.008951755457,
            "count": 1
           }
          ]
         }
        },
        {
         "name": 122,
         "dtype": "float64",
         "stats": {
          "unique_count": 360,
          "nan_count": 0,
          "min": "-214.79671538254297",
          "max": "372.7283183670352",
          "histogram": [
           {
            "bin_start": -214.79671538254297,
            "bin_end": -156.04421200758514,
            "count": 3
           },
           {
            "bin_start": -156.04421200758514,
            "bin_end": -97.29170863262735,
            "count": 6
           },
           {
            "bin_start": -97.29170863262735,
            "bin_end": -38.53920525766955,
            "count": 56
           },
           {
            "bin_start": -38.53920525766955,
            "bin_end": 20.213298117288275,
            "count": 194
           },
           {
            "bin_start": 20.213298117288275,
            "bin_end": 78.9658014922461,
            "count": 88
           },
           {
            "bin_start": 78.9658014922461,
            "bin_end": 137.71830486720387,
            "count": 10
           },
           {
            "bin_start": 137.71830486720387,
            "bin_end": 196.4708082421617,
            "count": 2
           },
           {
            "bin_start": 196.4708082421617,
            "bin_end": 255.22331161711952,
            "count": 0
           },
           {
            "bin_start": 255.22331161711952,
            "bin_end": 313.9758149920773,
            "count": 0
           },
           {
            "bin_start": 313.9758149920773,
            "bin_end": 372.7283183670352,
            "count": 1
           }
          ]
         }
        },
        {
         "name": 123,
         "dtype": "float64",
         "stats": {
          "unique_count": 360,
          "nan_count": 0,
          "min": "-207.7197589119114",
          "max": "554.4055769808183",
          "histogram": [
           {
            "bin_start": -207.7197589119114,
            "bin_end": -131.50722532263845,
            "count": 2
           },
           {
            "bin_start": -131.50722532263845,
            "bin_end": -55.29469173336548,
            "count": 34
           },
           {
            "bin_start": -55.29469173336548,
            "bin_end": 20.917841855907483,
            "count": 208
           },
           {
            "bin_start": 20.917841855907483,
            "bin_end": 97.13037544518045,
            "count": 106
           },
           {
            "bin_start": 97.13037544518045,
            "bin_end": 173.34290903445344,
            "count": 9
           },
           {
            "bin_start": 173.34290903445344,
            "bin_end": 249.55544262372638,
            "count": 0
           },
           {
            "bin_start": 249.55544262372638,
            "bin_end": 325.7679762129993,
            "count": 0
           },
           {
            "bin_start": 325.7679762129993,
            "bin_end": 401.9805098022723,
            "count": 0
           },
           {
            "bin_start": 401.9805098022723,
            "bin_end": 478.1930433915453,
            "count": 0
           },
           {
            "bin_start": 478.1930433915453,
            "bin_end": 554.4055769808183,
            "count": 1
           }
          ]
         }
        },
        {
         "name": 124,
         "dtype": "float64",
         "stats": {
          "unique_count": 360,
          "nan_count": 0,
          "min": "-192.1790057969938",
          "max": "216.61411329247494",
          "histogram": [
           {
            "bin_start": -192.1790057969938,
            "bin_end": -151.29969388804693,
            "count": 3
           },
           {
            "bin_start": -151.29969388804693,
            "bin_end": -110.42038197910006,
            "count": 8
           },
           {
            "bin_start": -110.42038197910006,
            "bin_end": -69.54107007015318,
            "count": 23
           },
           {
            "bin_start": -69.54107007015318,
            "bin_end": -28.661758161206308,
            "count": 73
           },
           {
            "bin_start": -28.661758161206308,
            "bin_end": 12.217553747740567,
            "count": 138
           },
           {
            "bin_start": 12.217553747740567,
            "bin_end": 53.09686565668744,
            "count": 82
           },
           {
            "bin_start": 53.09686565668744,
            "bin_end": 93.97617756563432,
            "count": 26
           },
           {
            "bin_start": 93.97617756563432,
            "bin_end": 134.8554894745812,
            "count": 4
           },
           {
            "bin_start": 134.8554894745812,
            "bin_end": 175.73480138352807,
            "count": 2
           },
           {
            "bin_start": 175.73480138352807,
            "bin_end": 216.61411329247494,
            "count": 1
           }
          ]
         }
        },
        {
         "name": 125,
         "dtype": "float64",
         "stats": {
          "unique_count": 360,
          "nan_count": 0,
          "min": "-202.9252372373394",
          "max": "228.7438901568985",
          "histogram": [
           {
            "bin_start": -202.9252372373394,
            "bin_end": -159.7583244979156,
            "count": 4
           },
           {
            "bin_start": -159.7583244979156,
            "bin_end": -116.59141175849182,
            "count": 4
           },
           {
            "bin_start": -116.59141175849182,
            "bin_end": -73.42449901906804,
            "count": 26
           },
           {
            "bin_start": -73.42449901906804,
            "bin_end": -30.257586279644244,
            "count": 82
           },
           {
            "bin_start": -30.257586279644244,
            "bin_end": 12.90932645977955,
            "count": 157
           },
           {
            "bin_start": 12.90932645977955,
            "bin_end": 56.076239199203314,
            "count": 69
           },
           {
            "bin_start": 56.076239199203314,
            "bin_end": 99.24315193862714,
            "count": 9
           },
           {
            "bin_start": 99.24315193862714,
            "bin_end": 142.4100646780509,
            "count": 6
           },
           {
            "bin_start": 142.4100646780509,
            "bin_end": 185.57697741747467,
            "count": 2
           },
           {
            "bin_start": 185.57697741747467,
            "bin_end": 228.7438901568985,
            "count": 1
           }
          ]
         }
        },
        {
         "name": 126,
         "dtype": "float64",
         "stats": {
          "unique_count": 360,
          "nan_count": 0,
          "min": "-157.21871086469037",
          "max": "243.7516540293509",
          "histogram": [
           {
            "bin_start": -157.21871086469037,
            "bin_end": -117.12167437528623,
            "count": 7
           },
           {
            "bin_start": -117.12167437528623,
            "bin_end": -77.02463788588211,
            "count": 12
           },
           {
            "bin_start": -77.02463788588211,
            "bin_end": -36.927601396477996,
            "count": 59
           },
           {
            "bin_start": -36.927601396477996,
            "bin_end": 3.169435092926136,
            "count": 155
           },
           {
            "bin_start": 3.169435092926136,
            "bin_end": 43.26647158233027,
            "count": 87
           },
           {
            "bin_start": 43.26647158233027,
            "bin_end": 83.36350807173437,
            "count": 24
           },
           {
            "bin_start": 83.36350807173437,
            "bin_end": 123.46054456113853,
            "count": 10
           },
           {
            "bin_start": 123.46054456113853,
            "bin_end": 163.55758105054264,
            "count": 3
           },
           {
            "bin_start": 163.55758105054264,
            "bin_end": 203.65461753994674,
            "count": 1
           },
           {
            "bin_start": 203.65461753994674,
            "bin_end": 243.7516540293509,
            "count": 2
           }
          ]
         }
        },
        {
         "name": 127,
         "dtype": "float64",
         "stats": {
          "unique_count": 360,
          "nan_count": 0,
          "min": "-166.47961874046632",
          "max": "256.09762175245305",
          "histogram": [
           {
            "bin_start": -166.47961874046632,
            "bin_end": -124.22189469117438,
            "count": 6
           },
           {
            "bin_start": -124.22189469117438,
            "bin_end": -81.96417064188245,
            "count": 11
           },
           {
            "bin_start": -81.96417064188245,
            "bin_end": -39.70644659259051,
            "count": 33
           },
           {
            "bin_start": -39.70644659259051,
            "bin_end": 2.5512774567014276,
            "count": 113
           },
           {
            "bin_start": 2.5512774567014276,
            "bin_end": 44.809001505993365,
            "count": 142
           },
           {
            "bin_start": 44.809001505993365,
            "bin_end": 87.0667255552853,
            "count": 39
           },
           {
            "bin_start": 87.0667255552853,
            "bin_end": 129.32444960457724,
            "count": 10
           },
           {
            "bin_start": 129.32444960457724,
            "bin_end": 171.58217365386918,
            "count": 2
           },
           {
            "bin_start": 171.58217365386918,
            "bin_end": 213.8398977031611,
            "count": 2
           },
           {
            "bin_start": 213.8398977031611,
            "bin_end": 256.09762175245305,
            "count": 2
           }
          ]
         }
        },
        {
         "name": 128,
         "dtype": "float64",
         "stats": {
          "unique_count": 360,
          "nan_count": 0,
          "min": "-237.31184665511864",
          "max": "230.34051196302426",
          "histogram": [
           {
            "bin_start": -237.31184665511864,
            "bin_end": -190.54661079330435,
            "count": 1
           },
           {
            "bin_start": -190.54661079330435,
            "bin_end": -143.78137493149006,
            "count": 1
           },
           {
            "bin_start": -143.78137493149006,
            "bin_end": -97.01613906967577,
            "count": 8
           },
           {
            "bin_start": -97.01613906967577,
            "bin_end": -50.250903207861484,
            "count": 35
           },
           {
            "bin_start": -50.250903207861484,
            "bin_end": -3.485667346047194,
            "count": 117
           },
           {
            "bin_start": -3.485667346047194,
            "bin_end": 43.279568515767096,
            "count": 140
           },
           {
            "bin_start": 43.279568515767096,
            "bin_end": 90.04480437758139,
            "count": 48
           },
           {
            "bin_start": 90.04480437758139,
            "bin_end": 136.81004023939568,
            "count": 7
           },
           {
            "bin_start": 136.81004023939568,
            "bin_end": 183.57527610120997,
            "count": 2
           },
           {
            "bin_start": 183.57527610120997,
            "bin_end": 230.34051196302426,
            "count": 1
           }
          ]
         }
        },
        {
         "name": 129,
         "dtype": "float64",
         "stats": {
          "unique_count": 360,
          "nan_count": 0,
          "min": "-235.8146328349485",
          "max": "260.39560310877096",
          "histogram": [
           {
            "bin_start": -235.8146328349485,
            "bin_end": -186.19360924057656,
            "count": 1
           },
           {
            "bin_start": -186.19360924057656,
            "bin_end": -136.5725856462046,
            "count": 0
           },
           {
            "bin_start": -136.5725856462046,
            "bin_end": -86.95156205183264,
            "count": 16
           },
           {
            "bin_start": -86.95156205183264,
            "bin_end": -37.330538457460705,
            "count": 56
           },
           {
            "bin_start": -37.330538457460705,
            "bin_end": 12.29048513691123,
            "count": 170
           },
           {
            "bin_start": 12.29048513691123,
            "bin_end": 61.91150873128322,
            "count": 92
           },
           {
            "bin_start": 61.91150873128322,
            "bin_end": 111.53253232565515,
            "count": 20
           },
           {
            "bin_start": 111.53253232565515,
            "bin_end": 161.1535559200271,
            "count": 3
           },
           {
            "bin_start": 161.1535559200271,
            "bin_end": 210.77457951439902,
            "count": 1
           },
           {
            "bin_start": 210.77457951439902,
            "bin_end": 260.39560310877096,
            "count": 1
           }
          ]
         }
        },
        {
         "name": 130,
         "dtype": "float64",
         "stats": {
          "unique_count": 360,
          "nan_count": 0,
          "min": "-240.96579948743693",
          "max": "179.35331427058372",
          "histogram": [
           {
            "bin_start": -240.96579948743693,
            "bin_end": -198.93388811163487,
            "count": 3
           },
           {
            "bin_start": -198.93388811163487,
            "bin_end": -156.9019767358328,
            "count": 2
           },
           {
            "bin_start": -156.9019767358328,
            "bin_end": -114.87006536003072,
            "count": 3
           },
           {
            "bin_start": -114.87006536003072,
            "bin_end": -72.83815398422865,
            "count": 27
           },
           {
            "bin_start": -72.83815398422865,
            "bin_end": -30.8062426084266,
            "count": 80
           },
           {
            "bin_start": -30.8062426084266,
            "bin_end": 11.225668767375481,
            "count": 136
           },
           {
            "bin_start": 11.225668767375481,
            "bin_end": 53.25758014317756,
            "count": 75
           },
           {
            "bin_start": 53.25758014317756,
            "bin_end": 95.28949151897962,
            "count": 28
           },
           {
            "bin_start": 95.28949151897962,
            "bin_end": 137.32140289478167,
            "count": 5
           },
           {
            "bin_start": 137.32140289478167,
            "bin_end": 179.35331427058372,
            "count": 1
           }
          ]
         }
        },
        {
         "name": 131,
         "dtype": "float64",
         "stats": {
          "unique_count": 360,
          "nan_count": 0,
          "min": "-240.91148529574093",
          "max": "302.0640993698262",
          "histogram": [
           {
            "bin_start": -240.91148529574093,
            "bin_end": -186.6139268291842,
            "count": 3
           },
           {
            "bin_start": -186.6139268291842,
            "bin_end": -132.31636836262751,
            "count": 7
           },
           {
            "bin_start": -132.31636836262751,
            "bin_end": -78.01880989607082,
            "count": 22
           },
           {
            "bin_start": -78.01880989607082,
            "bin_end": -23.721251429514098,
            "count": 104
           },
           {
            "bin_start": -23.721251429514098,
            "bin_end": 30.576307037042625,
            "count": 159
           },
           {
            "bin_start": 30.576307037042625,
            "bin_end": 84.87386550359929,
            "count": 47
           },
           {
            "bin_start": 84.87386550359929,
            "bin_end": 139.171423970156,
            "count": 13
           },
           {
            "bin_start": 139.171423970156,
            "bin_end": 193.46898243671274,
            "count": 2
           },
           {
            "bin_start": 193.46898243671274,
            "bin_end": 247.76654090326946,
            "count": 2
           },
           {
            "bin_start": 247.76654090326946,
            "bin_end": 302.0640993698262,
            "count": 1
           }
          ]
         }
        },
        {
         "name": 132,
         "dtype": "float64",
         "stats": {
          "unique_count": 360,
          "nan_count": 0,
          "min": "-157.4325152988622",
          "max": "292.81413066671485",
          "histogram": [
           {
            "bin_start": -157.4325152988622,
            "bin_end": -112.4078507023045,
            "count": 5
           },
           {
            "bin_start": -112.4078507023045,
            "bin_end": -67.38318610574679,
            "count": 23
           },
           {
            "bin_start": -67.38318610574679,
            "bin_end": -22.358521509189075,
            "count": 81
           },
           {
            "bin_start": -22.358521509189075,
            "bin_end": 22.666143087368624,
            "count": 134
           },
           {
            "bin_start": 22.666143087368624,
            "bin_end": 67.69080768392632,
            "count": 90
           },
           {
            "bin_start": 67.69080768392632,
            "bin_end": 112.71547228048405,
            "count": 22
           },
           {
            "bin_start": 112.71547228048405,
            "bin_end": 157.74013687704172,
            "count": 2
           },
           {
            "bin_start": 157.74013687704172,
            "bin_end": 202.76480147359945,
            "count": 2
           },
           {
            "bin_start": 202.76480147359945,
            "bin_end": 247.78946607015718,
            "count": 0
           },
           {
            "bin_start": 247.78946607015718,
            "bin_end": 292.81413066671485,
            "count": 1
           }
          ]
         }
        },
        {
         "name": 133,
         "dtype": "float64",
         "stats": {
          "unique_count": 360,
          "nan_count": 0,
          "min": "-181.14700239017657",
          "max": "259.6648887546562",
          "histogram": [
           {
            "bin_start": -181.14700239017657,
            "bin_end": -137.0658132756933,
            "count": 3
           },
           {
            "bin_start": -137.0658132756933,
            "bin_end": -92.98462416121001,
            "count": 11
           },
           {
            "bin_start": -92.98462416121001,
            "bin_end": -48.90343504672671,
            "count": 40
           },
           {
            "bin_start": -48.90343504672671,
            "bin_end": -4.822245932243447,
            "count": 117
           },
           {
            "bin_start": -4.822245932243447,
            "bin_end": 39.25894318223982,
            "count": 137
           },
           {
            "bin_start": 39.25894318223982,
            "bin_end": 83.34013229672314,
            "count": 42
           },
           {
            "bin_start": 83.34013229672314,
            "bin_end": 127.4213214112064,
            "count": 7
           },
           {
            "bin_start": 127.4213214112064,
            "bin_end": 171.50251052568967,
            "count": 1
           },
           {
            "bin_start": 171.50251052568967,
            "bin_end": 215.58369964017294,
            "count": 1
           },
           {
            "bin_start": 215.58369964017294,
            "bin_end": 259.6648887546562,
            "count": 1
           }
          ]
         }
        },
        {
         "name": 134,
         "dtype": "float64",
         "stats": {
          "unique_count": 360,
          "nan_count": 0,
          "min": "-161.28352245327733",
          "max": "241.10822110635672",
          "histogram": [
           {
            "bin_start": -161.28352245327733,
            "bin_end": -121.04434809731393,
            "count": 4
           },
           {
            "bin_start": -121.04434809731393,
            "bin_end": -80.80517374135052,
            "count": 17
           },
           {
            "bin_start": -80.80517374135052,
            "bin_end": -40.5659993853871,
            "count": 49
           },
           {
            "bin_start": -40.5659993853871,
            "bin_end": -0.32682502942370206,
            "count": 139
           },
           {
            "bin_start": -0.32682502942370206,
            "bin_end": 39.9123493265397,
            "count": 110
           },
           {
            "bin_start": 39.9123493265397,
            "bin_end": 80.15152368250313,
            "count": 24
           },
           {
            "bin_start": 80.15152368250313,
            "bin_end": 120.3906980384665,
            "count": 10
           },
           {
            "bin_start": 120.3906980384665,
            "bin_end": 160.62987239442992,
            "count": 5
           },
           {
            "bin_start": 160.62987239442992,
            "bin_end": 200.86904675039335,
            "count": 1
           },
           {
            "bin_start": 200.86904675039335,
            "bin_end": 241.10822110635672,
            "count": 1
           }
          ]
         }
        },
        {
         "name": 135,
         "dtype": "float64",
         "stats": {
          "unique_count": 360,
          "nan_count": 0,
          "min": "-175.12392472595639",
          "max": "197.66562836745834",
          "histogram": [
           {
            "bin_start": -175.12392472595639,
            "bin_end": -137.8449694166149,
            "count": 4
           },
           {
            "bin_start": -137.8449694166149,
            "bin_end": -100.56601410727345,
            "count": 3
           },
           {
            "bin_start": -100.56601410727345,
            "bin_end": -63.28705879793198,
            "count": 25
           },
           {
            "bin_start": -63.28705879793198,
            "bin_end": -26.008103488590507,
            "count": 101
           },
           {
            "bin_start": -26.008103488590507,
            "bin_end": 11.270851820750977,
            "count": 134
           },
           {
            "bin_start": 11.270851820750977,
            "bin_end": 48.54980713009243,
            "count": 60
           },
           {
            "bin_start": 48.54980713009243,
            "bin_end": 85.82876243943389,
            "count": 15
           },
           {
            "bin_start": 85.82876243943389,
            "bin_end": 123.10771774877537,
            "count": 11
           },
           {
            "bin_start": 123.10771774877537,
            "bin_end": 160.38667305811686,
            "count": 4
           },
           {
            "bin_start": 160.38667305811686,
            "bin_end": 197.66562836745834,
            "count": 3
           }
          ]
         }
        },
        {
         "name": 136,
         "dtype": "float64",
         "stats": {
          "unique_count": 360,
          "nan_count": 0,
          "min": "-133.23550813599104",
          "max": "383.15784936663476",
          "histogram": [
           {
            "bin_start": -133.23550813599104,
            "bin_end": -81.59617238572847,
            "count": 12
           },
           {
            "bin_start": -81.59617238572847,
            "bin_end": -29.956836635465876,
            "count": 57
           },
           {
            "bin_start": -29.956836635465876,
            "bin_end": 21.682499114796713,
            "count": 190
           },
           {
            "bin_start": 21.682499114796713,
            "bin_end": 73.32183486505929,
            "count": 79
           },
           {
            "bin_start": 73.32183486505929,
            "bin_end": 124.96117061532186,
            "count": 11
           },
           {
            "bin_start": 124.96117061532186,
            "bin_end": 176.60050636558447,
            "count": 7
           },
           {
            "bin_start": 176.60050636558447,
            "bin_end": 228.239842115847,
            "count": 2
           },
           {
            "bin_start": 228.239842115847,
            "bin_end": 279.8791778661096,
            "count": 1
           },
           {
            "bin_start": 279.8791778661096,
            "bin_end": 331.5185136163722,
            "count": 0
           },
           {
            "bin_start": 331.5185136163722,
            "bin_end": 383.15784936663476,
            "count": 1
           }
          ]
         }
        },
        {
         "name": 137,
         "dtype": "float64",
         "stats": {
          "unique_count": 360,
          "nan_count": 0,
          "min": "-275.76856442622557",
          "max": "501.15493845918354",
          "histogram": [
           {
            "bin_start": -275.76856442622557,
            "bin_end": -198.07621413768464,
            "count": 1
           },
           {
            "bin_start": -198.07621413768464,
            "bin_end": -120.38386384914375,
            "count": 1
           },
           {
            "bin_start": -120.38386384914375,
            "bin_end": -42.69151356060286,
            "count": 29
           },
           {
            "bin_start": -42.69151356060286,
            "bin_end": 35.000836727938065,
            "count": 235
           },
           {
            "bin_start": 35.000836727938065,
            "bin_end": 112.69318701647899,
            "count": 82
           },
           {
            "bin_start": 112.69318701647899,
            "bin_end": 190.38553730501985,
            "count": 9
           },
           {
            "bin_start": 190.38553730501985,
            "bin_end": 268.07788759356083,
            "count": 1
           },
           {
            "bin_start": 268.07788759356083,
            "bin_end": 345.7702378821017,
            "count": 1
           },
           {
            "bin_start": 345.7702378821017,
            "bin_end": 423.46258817064256,
            "count": 0
           },
           {
            "bin_start": 423.46258817064256,
            "bin_end": 501.15493845918354,
            "count": 1
           }
          ]
         }
        },
        {
         "name": 138,
         "dtype": "float64",
         "stats": {
          "unique_count": 360,
          "nan_count": 0,
          "min": "-191.36346029030028",
          "max": "168.9961588918104",
          "histogram": [
           {
            "bin_start": -191.36346029030028,
            "bin_end": -155.32749837208922,
            "count": 1
           },
           {
            "bin_start": -155.32749837208922,
            "bin_end": -119.29153645387814,
            "count": 2
           },
           {
            "bin_start": -119.29153645387814,
            "bin_end": -83.25557453566707,
            "count": 8
           },
           {
            "bin_start": -83.25557453566707,
            "bin_end": -47.219612617455994,
            "count": 30
           },
           {
            "bin_start": -47.219612617455994,
            "bin_end": -11.183650699244936,
            "count": 78
           },
           {
            "bin_start": -11.183650699244936,
            "bin_end": 24.85231121896615,
            "count": 153
           },
           {
            "bin_start": 24.85231121896615,
            "bin_end": 60.88827313717724,
            "count": 53
           },
           {
            "bin_start": 60.88827313717724,
            "bin_end": 96.9242350553883,
            "count": 24
           },
           {
            "bin_start": 96.9242350553883,
            "bin_end": 132.96019697359935,
            "count": 7
           },
           {
            "bin_start": 132.96019697359935,
            "bin_end": 168.9961588918104,
            "count": 4
           }
          ]
         }
        },
        {
         "name": 139,
         "dtype": "float64",
         "stats": {
          "unique_count": 360,
          "nan_count": 0,
          "min": "-258.4698061983054",
          "max": "218.21926325385357",
          "histogram": [
           {
            "bin_start": -258.4698061983054,
            "bin_end": -210.80089925308948,
            "count": 2
           },
           {
            "bin_start": -210.80089925308948,
            "bin_end": -163.1319923078736,
            "count": 0
           },
           {
            "bin_start": -163.1319923078736,
            "bin_end": -115.4630853626577,
            "count": 9
           },
           {
            "bin_start": -115.4630853626577,
            "bin_end": -67.7941784174418,
            "count": 32
           },
           {
            "bin_start": -67.7941784174418,
            "bin_end": -20.125271472225904,
            "count": 109
           },
           {
            "bin_start": -20.125271472225904,
            "bin_end": 27.54363547298999,
            "count": 148
           },
           {
            "bin_start": 27.54363547298999,
            "bin_end": 75.21254241820589,
            "count": 45
           },
           {
            "bin_start": 75.21254241820589,
            "bin_end": 122.88144936342178,
            "count": 9
           },
           {
            "bin_start": 122.88144936342178,
            "bin_end": 170.55035630863767,
            "count": 4
           },
           {
            "bin_start": 170.55035630863767,
            "bin_end": 218.21926325385357,
            "count": 2
           }
          ]
         }
        },
        {
         "name": 140,
         "dtype": "float64",
         "stats": {
          "unique_count": 360,
          "nan_count": 0,
          "min": "-176.19393878025676",
          "max": "260.3547769507695",
          "histogram": [
           {
            "bin_start": -176.19393878025676,
            "bin_end": -132.53906720715412,
            "count": 3
           },
           {
            "bin_start": -132.53906720715412,
            "bin_end": -88.88419563405151,
            "count": 19
           },
           {
            "bin_start": -88.88419563405151,
            "bin_end": -45.2293240609489,
            "count": 75
           },
           {
            "bin_start": -45.2293240609489,
            "bin_end": -1.5744524878462585,
            "count": 147
           },
           {
            "bin_start": -1.5744524878462585,
            "bin_end": 42.08041908525638,
            "count": 84
           },
           {
            "bin_start": 42.08041908525638,
            "bin_end": 85.73529065835896,
            "count": 21
           },
           {
            "bin_start": 85.73529065835896,
            "bin_end": 129.3901622314616,
            "count": 4
           },
           {
            "bin_start": 129.3901622314616,
            "bin_end": 173.04503380456424,
            "count": 6
           },
           {
            "bin_start": 173.04503380456424,
            "bin_end": 216.69990537766688,
            "count": 0
           },
           {
            "bin_start": 216.69990537766688,
            "bin_end": 260.3547769507695,
            "count": 1
           }
          ]
         }
        },
        {
         "name": 141,
         "dtype": "float64",
         "stats": {
          "unique_count": 360,
          "nan_count": 0,
          "min": "-256.48981665944484",
          "max": "225.5274504983845",
          "histogram": [
           {
            "bin_start": -256.48981665944484,
            "bin_end": -208.2880899436619,
            "count": 1
           },
           {
            "bin_start": -208.2880899436619,
            "bin_end": -160.08636322787896,
            "count": 1
           },
           {
            "bin_start": -160.08636322787896,
            "bin_end": -111.88463651209605,
            "count": 11
           },
           {
            "bin_start": -111.88463651209605,
            "bin_end": -63.68290979631311,
            "count": 34
           },
           {
            "bin_start": -63.68290979631311,
            "bin_end": -15.481183080530172,
            "count": 132
           },
           {
            "bin_start": -15.481183080530172,
            "bin_end": 32.72054363525274,
            "count": 134
           },
           {
            "bin_start": 32.72054363525274,
            "bin_end": 80.9222703510357,
            "count": 35
           },
           {
            "bin_start": 80.9222703510357,
            "bin_end": 129.12399706681862,
            "count": 8
           },
           {
            "bin_start": 129.12399706681862,
            "bin_end": 177.32572378260153,
            "count": 0
           },
           {
            "bin_start": 177.32572378260153,
            "bin_end": 225.5274504983845,
            "count": 4
           }
          ]
         }
        },
        {
         "name": 142,
         "dtype": "float64",
         "stats": {
          "unique_count": 360,
          "nan_count": 0,
          "min": "-242.36076330652395",
          "max": "344.0404083359863",
          "histogram": [
           {
            "bin_start": -242.36076330652395,
            "bin_end": -183.72064614227293,
            "count": 2
           },
           {
            "bin_start": -183.72064614227293,
            "bin_end": -125.0805289780219,
            "count": 9
           },
           {
            "bin_start": -125.0805289780219,
            "bin_end": -66.44041181377088,
            "count": 47
           },
           {
            "bin_start": -66.44041181377088,
            "bin_end": -7.800294649519856,
            "count": 153
           },
           {
            "bin_start": -7.800294649519856,
            "bin_end": 50.83982251473117,
            "count": 119
           },
           {
            "bin_start": 50.83982251473117,
            "bin_end": 109.47993967898219,
            "count": 20
           },
           {
            "bin_start": 109.47993967898219,
            "bin_end": 168.12005684323321,
            "count": 8
           },
           {
            "bin_start": 168.12005684323321,
            "bin_end": 226.76017400748424,
            "count": 1
           },
           {
            "bin_start": 226.76017400748424,
            "bin_end": 285.40029117173526,
            "count": 0
           },
           {
            "bin_start": 285.40029117173526,
            "bin_end": 344.0404083359863,
            "count": 1
           }
          ]
         }
        },
        {
         "name": 143,
         "dtype": "float64",
         "stats": {
          "unique_count": 360,
          "nan_count": 0,
          "min": "-216.6114211393051",
          "max": "196.40655673478977",
          "histogram": [
           {
            "bin_start": -216.6114211393051,
            "bin_end": -175.3096233518956,
            "count": 4
           },
           {
            "bin_start": -175.3096233518956,
            "bin_end": -134.00782556448613,
            "count": 7
           },
           {
            "bin_start": -134.00782556448613,
            "bin_end": -92.70602777707664,
            "count": 26
           },
           {
            "bin_start": -92.70602777707664,
            "bin_end": -51.40422998966716,
            "count": 77
           },
           {
            "bin_start": -51.40422998966716,
            "bin_end": -10.10243220225766,
            "count": 123
           },
           {
            "bin_start": -10.10243220225766,
            "bin_end": 31.19936558515181,
            "count": 87
           },
           {
            "bin_start": 31.19936558515181,
            "bin_end": 72.50116337256128,
            "count": 22
           },
           {
            "bin_start": 72.50116337256128,
            "bin_end": 113.80296115997078,
            "count": 8
           },
           {
            "bin_start": 113.80296115997078,
            "bin_end": 155.10475894738028,
            "count": 5
           },
           {
            "bin_start": 155.10475894738028,
            "bin_end": 196.40655673478977,
            "count": 1
           }
          ]
         }
        },
        {
         "name": 144,
         "dtype": "float64",
         "stats": {
          "unique_count": 360,
          "nan_count": 0,
          "min": "-194.8999708842057",
          "max": "186.07827349549552",
          "histogram": [
           {
            "bin_start": -194.8999708842057,
            "bin_end": -156.80214644623555,
            "count": 6
           },
           {
            "bin_start": -156.80214644623555,
            "bin_end": -118.70432200826545,
            "count": 11
           },
           {
            "bin_start": -118.70432200826545,
            "bin_end": -80.60649757029533,
            "count": 53
           },
           {
            "bin_start": -80.60649757029533,
            "bin_end": -42.508673132325214,
            "count": 79
           },
           {
            "bin_start": -42.508673132325214,
            "bin_end": -4.4108486943550815,
            "count": 124
           },
           {
            "bin_start": -4.4108486943550815,
            "bin_end": 33.68697574361502,
            "count": 59
           },
           {
            "bin_start": 33.68697574361502,
            "bin_end": 71.78480018158513,
            "count": 19
           },
           {
            "bin_start": 71.78480018158513,
            "bin_end": 109.88262461955526,
            "count": 3
           },
           {
            "bin_start": 109.88262461955526,
            "bin_end": 147.9804490575254,
            "count": 4
           },
           {
            "bin_start": 147.9804490575254,
            "bin_end": 186.07827349549552,
            "count": 2
           }
          ]
         }
        },
        {
         "name": 145,
         "dtype": "float64",
         "stats": {
          "unique_count": 360,
          "nan_count": 0,
          "min": "-206.06246719906449",
          "max": "263.5343779573177",
          "histogram": [
           {
            "bin_start": -206.06246719906449,
            "bin_end": -159.10278268342626,
            "count": 6
           },
           {
            "bin_start": -159.10278268342626,
            "bin_end": -112.14309816778805,
            "count": 15
           },
           {
            "bin_start": -112.14309816778805,
            "bin_end": -65.18341365214985,
            "count": 52
           },
           {
            "bin_start": -65.18341365214985,
            "bin_end": -18.223729136511622,
            "count": 119
           },
           {
            "bin_start": -18.223729136511622,
            "bin_end": 28.735955379126608,
            "count": 121
           },
           {
            "bin_start": 28.735955379126608,
            "bin_end": 75.69563989476478,
            "count": 33
           },
           {
            "bin_start": 75.69563989476478,
            "bin_end": 122.65532441040301,
            "count": 7
           },
           {
            "bin_start": 122.65532441040301,
            "bin_end": 169.61500892604124,
            "count": 5
           },
           {
            "bin_start": 169.61500892604124,
            "bin_end": 216.57469344167947,
            "count": 0
           },
           {
            "bin_start": 216.57469344167947,
            "bin_end": 263.5343779573177,
            "count": 2
           }
          ]
         }
        },
        {
         "name": 146,
         "dtype": "float64",
         "stats": {
          "unique_count": 360,
          "nan_count": 0,
          "min": "-240.17559356773017",
          "max": "296.2591319662715",
          "histogram": [
           {
            "bin_start": -240.17559356773017,
            "bin_end": -186.53212101433002,
            "count": 1
           },
           {
            "bin_start": -186.53212101433002,
            "bin_end": -132.88864846092983,
            "count": 6
           },
           {
            "bin_start": -132.88864846092983,
            "bin_end": -79.24517590752964,
            "count": 38
           },
           {
            "bin_start": -79.24517590752964,
            "bin_end": -25.601703354129484,
            "count": 116
           },
           {
            "bin_start": -25.601703354129484,
            "bin_end": 28.041769199270675,
            "count": 139
           },
           {
            "bin_start": 28.041769199270675,
            "bin_end": 81.68524175267089,
            "count": 42
           },
           {
            "bin_start": 81.68524175267089,
            "bin_end": 135.32871430607105,
            "count": 9
           },
           {
            "bin_start": 135.32871430607105,
            "bin_end": 188.9721868594712,
            "count": 7
           },
           {
            "bin_start": 188.9721868594712,
            "bin_end": 242.61565941287137,
            "count": 1
           },
           {
            "bin_start": 242.61565941287137,
            "bin_end": 296.2591319662715,
            "count": 1
           }
          ]
         }
        },
        {
         "name": 147,
         "dtype": "float64",
         "stats": {
          "unique_count": 360,
          "nan_count": 0,
          "min": "-235.84659569535324",
          "max": "229.352806647953",
          "histogram": [
           {
            "bin_start": -235.84659569535324,
            "bin_end": -189.32665546102263,
            "count": 1
           },
           {
            "bin_start": -189.32665546102263,
            "bin_end": -142.806715226692,
            "count": 1
           },
           {
            "bin_start": -142.806715226692,
            "bin_end": -96.28677499236136,
            "count": 24
           },
           {
            "bin_start": -96.28677499236136,
            "bin_end": -49.76683475803074,
            "count": 71
           },
           {
            "bin_start": -49.76683475803074,
            "bin_end": -3.2468945237001208,
            "count": 116
           },
           {
            "bin_start": -3.2468945237001208,
            "bin_end": 43.27304571063053,
            "count": 99
           },
           {
            "bin_start": 43.27304571063053,
            "bin_end": 89.79298594496112,
            "count": 30
           },
           {
            "bin_start": 89.79298594496112,
            "bin_end": 136.31292617929176,
            "count": 9
           },
           {
            "bin_start": 136.31292617929176,
            "bin_end": 182.8328664136224,
            "count": 5
           },
           {
            "bin_start": 182.8328664136224,
            "bin_end": 229.352806647953,
            "count": 4
           }
          ]
         }
        },
        {
         "name": 148,
         "dtype": "float64",
         "stats": {
          "unique_count": 360,
          "nan_count": 0,
          "min": "-177.3588295063455",
          "max": "253.65965965803844",
          "histogram": [
           {
            "bin_start": -177.3588295063455,
            "bin_end": -134.2569805899071,
            "count": 6
           },
           {
            "bin_start": -134.2569805899071,
            "bin_end": -91.15513167346872,
            "count": 27
           },
           {
            "bin_start": -91.15513167346872,
            "bin_end": -48.05328275703033,
            "count": 61
           },
           {
            "bin_start": -48.05328275703033,
            "bin_end": -4.951433840591932,
            "count": 121
           },
           {
            "bin_start": -4.951433840591932,
            "bin_end": 38.15041507584647,
            "count": 92
           },
           {
            "bin_start": 38.15041507584647,
            "bin_end": 81.25226399228484,
            "count": 33
           },
           {
            "bin_start": 81.25226399228484,
            "bin_end": 124.35411290872327,
            "count": 9
           },
           {
            "bin_start": 124.35411290872327,
            "bin_end": 167.45596182516164,
            "count": 6
           },
           {
            "bin_start": 167.45596182516164,
            "bin_end": 210.5578107416,
            "count": 3
           },
           {
            "bin_start": 210.5578107416,
            "bin_end": 253.65965965803844,
            "count": 2
           }
          ]
         }
        },
        {
         "name": 149,
         "dtype": "float64",
         "stats": {
          "unique_count": 360,
          "nan_count": 0,
          "min": "-206.58098064854858",
          "max": "209.04736013829097",
          "histogram": [
           {
            "bin_start": -206.58098064854858,
            "bin_end": -165.01814656986463,
            "count": 2
           },
           {
            "bin_start": -165.01814656986463,
            "bin_end": -123.45531249118066,
            "count": 7
           },
           {
            "bin_start": -123.45531249118066,
            "bin_end": -81.8924784124967,
            "count": 23
           },
           {
            "bin_start": -81.8924784124967,
            "bin_end": -40.32964433381275,
            "count": 88
           },
           {
            "bin_start": -40.32964433381275,
            "bin_end": 1.233189744871197,
            "count": 130
           },
           {
            "bin_start": 1.233189744871197,
            "bin_end": 42.796023823555174,
            "count": 70
           },
           {
            "bin_start": 42.796023823555174,
            "bin_end": 84.3588579022391,
            "count": 25
           },
           {
            "bin_start": 84.3588579022391,
            "bin_end": 125.92169198092307,
            "count": 9
           },
           {
            "bin_start": 125.92169198092307,
            "bin_end": 167.48452605960705,
            "count": 4
           },
           {
            "bin_start": 167.48452605960705,
            "bin_end": 209.04736013829097,
            "count": 2
           }
          ]
         }
        },
        {
         "name": 150,
         "dtype": "float64",
         "stats": {
          "unique_count": 360,
          "nan_count": 0,
          "min": "-171.05524435588632",
          "max": "419.1226054764102",
          "histogram": [
           {
            "bin_start": -171.05524435588632,
            "bin_end": -112.03745937265667,
            "count": 15
           },
           {
            "bin_start": -112.03745937265667,
            "bin_end": -53.019674389427024,
            "count": 67
           },
           {
            "bin_start": -53.019674389427024,
            "bin_end": 5.998110593802608,
            "count": 165
           },
           {
            "bin_start": 5.998110593802608,
            "bin_end": 65.01589557703227,
            "count": 85
           },
           {
            "bin_start": 65.01589557703227,
            "bin_end": 124.03368056026193,
            "count": 19
           },
           {
            "bin_start": 124.03368056026193,
            "bin_end": 183.05146554349153,
            "count": 6
           },
           {
            "bin_start": 183.05146554349153,
            "bin_end": 242.0692505267212,
            "count": 1
           },
           {
            "bin_start": 242.0692505267212,
            "bin_end": 301.08703550995085,
            "count": 1
           },
           {
            "bin_start": 301.08703550995085,
            "bin_end": 360.10482049318045,
            "count": 0
           },
           {
            "bin_start": 360.10482049318045,
            "bin_end": 419.1226054764102,
            "count": 1
           }
          ]
         }
        },
        {
         "name": 151,
         "dtype": "float64",
         "stats": {
          "unique_count": 360,
          "nan_count": 0,
          "min": "-187.49374564148638",
          "max": "270.53905941954235",
          "histogram": [
           {
            "bin_start": -187.49374564148638,
            "bin_end": -141.6904651353835,
            "count": 6
           },
           {
            "bin_start": -141.6904651353835,
            "bin_end": -95.88718462928064,
            "count": 14
           },
           {
            "bin_start": -95.88718462928064,
            "bin_end": -50.083904123177774,
            "count": 43
           },
           {
            "bin_start": -50.083904123177774,
            "bin_end": -4.280623617074895,
            "count": 143
           },
           {
            "bin_start": -4.280623617074895,
            "bin_end": 41.522656889027985,
            "count": 108
           },
           {
            "bin_start": 41.522656889027985,
            "bin_end": 87.32593739513084,
            "count": 31
           },
           {
            "bin_start": 87.32593739513084,
            "bin_end": 133.12921790123374,
            "count": 7
           },
           {
            "bin_start": 133.12921790123374,
            "bin_end": 178.9324984073366,
            "count": 5
           },
           {
            "bin_start": 178.9324984073366,
            "bin_end": 224.73577891343945,
            "count": 2
           },
           {
            "bin_start": 224.73577891343945,
            "bin_end": 270.53905941954235,
            "count": 1
           }
          ]
         }
        },
        {
         "name": 152,
         "dtype": "float64",
         "stats": {
          "unique_count": 360,
          "nan_count": 0,
          "min": "-221.8790943457625",
          "max": "307.0398637145918",
          "histogram": [
           {
            "bin_start": -221.8790943457625,
            "bin_end": -168.98719853972707,
            "count": 1
           },
           {
            "bin_start": -168.98719853972707,
            "bin_end": -116.09530273369164,
            "count": 4
           },
           {
            "bin_start": -116.09530273369164,
            "bin_end": -63.203406927656204,
            "count": 34
           },
           {
            "bin_start": -63.203406927656204,
            "bin_end": -10.311511121620782,
            "count": 138
           },
           {
            "bin_start": -10.311511121620782,
            "bin_end": 42.58038468441464,
            "count": 137
           },
           {
            "bin_start": 42.58038468441464,
            "bin_end": 95.47228049045009,
            "count": 35
           },
           {
            "bin_start": 95.47228049045009,
            "bin_end": 148.36417629648548,
            "count": 5
           },
           {
            "bin_start": 148.36417629648548,
            "bin_end": 201.25607210252093,
            "count": 3
           },
           {
            "bin_start": 201.25607210252093,
            "bin_end": 254.14796790855638,
            "count": 2
           },
           {
            "bin_start": 254.14796790855638,
            "bin_end": 307.0398637145918,
            "count": 1
           }
          ]
         }
        },
        {
         "name": 153,
         "dtype": "float64",
         "stats": {
          "unique_count": 360,
          "nan_count": 0,
          "min": "-213.98978317586443",
          "max": "209.33026031539885",
          "histogram": [
           {
            "bin_start": -213.98978317586443,
            "bin_end": -171.6577788267381,
            "count": 1
           },
           {
            "bin_start": -171.6577788267381,
            "bin_end": -129.3257744776118,
            "count": 5
           },
           {
            "bin_start": -129.3257744776118,
            "bin_end": -86.99377012848544,
            "count": 15
           },
           {
            "bin_start": -86.99377012848544,
            "bin_end": -44.661765779359115,
            "count": 60
           },
           {
            "bin_start": -44.661765779359115,
            "bin_end": -2.329761430232793,
            "count": 127
           },
           {
            "bin_start": -2.329761430232793,
            "bin_end": 40.00224291889356,
            "count": 104
           },
           {
            "bin_start": 40.00224291889356,
            "bin_end": 82.33424726801985,
            "count": 33
           },
           {
            "bin_start": 82.33424726801985,
            "bin_end": 124.6662516171462,
            "count": 8
           },
           {
            "bin_start": 124.6662516171462,
            "bin_end": 166.99825596627255,
            "count": 6
           },
           {
            "bin_start": 166.99825596627255,
            "bin_end": 209.33026031539885,
            "count": 1
           }
          ]
         }
        },
        {
         "name": 154,
         "dtype": "float64",
         "stats": {
          "unique_count": 360,
          "nan_count": 0,
          "min": "-200.07593936847115",
          "max": "216.46217197361693",
          "histogram": [
           {
            "bin_start": -200.07593936847115,
            "bin_end": -158.42212823426235,
            "count": 1
           },
           {
            "bin_start": -158.42212823426235,
            "bin_end": -116.76831710005354,
            "count": 6
           },
           {
            "bin_start": -116.76831710005354,
            "bin_end": -75.11450596584473,
            "count": 25
           },
           {
            "bin_start": -75.11450596584473,
            "bin_end": -33.46069483163592,
            "count": 82
           },
           {
            "bin_start": -33.46069483163592,
            "bin_end": 8.19311630257289,
            "count": 127
           },
           {
            "bin_start": 8.19311630257289,
            "bin_end": 49.8469274367817,
            "count": 82
           },
           {
            "bin_start": 49.8469274367817,
            "bin_end": 91.5007385709905,
            "count": 25
           },
           {
            "bin_start": 91.5007385709905,
            "bin_end": 133.15454970519932,
            "count": 7
           },
           {
            "bin_start": 133.15454970519932,
            "bin_end": 174.80836083940812,
            "count": 2
           },
           {
            "bin_start": 174.80836083940812,
            "bin_end": 216.46217197361693,
            "count": 3
           }
          ]
         }
        },
        {
         "name": 155,
         "dtype": "float64",
         "stats": {
          "unique_count": 360,
          "nan_count": 0,
          "min": "-203.4902754648283",
          "max": "528.3613249275331",
          "histogram": [
           {
            "bin_start": -203.4902754648283,
            "bin_end": -130.30511542559216,
            "count": 4
           },
           {
            "bin_start": -130.30511542559216,
            "bin_end": -57.119955386356025,
            "count": 45
           },
           {
            "bin_start": -57.119955386356025,
            "bin_end": 16.065204652880112,
            "count": 216
           },
           {
            "bin_start": 16.065204652880112,
            "bin_end": 89.25036469211625,
            "count": 83
           },
           {
            "bin_start": 89.25036469211625,
            "bin_end": 162.43552473135242,
            "count": 9
           },
           {
            "bin_start": 162.43552473135242,
            "bin_end": 235.62068477058853,
            "count": 1
           },
           {
            "bin_start": 235.62068477058853,
            "bin_end": 308.80584480982463,
            "count": 1
           },
           {
            "bin_start": 308.80584480982463,
            "bin_end": 381.9910048490608,
            "count": 0
           },
           {
            "bin_start": 381.9910048490608,
            "bin_end": 455.17616488829697,
            "count": 0
           },
           {
            "bin_start": 455.17616488829697,
            "bin_end": 528.3613249275331,
            "count": 1
           }
          ]
         }
        },
        {
         "name": 156,
         "dtype": "float64",
         "stats": {
          "unique_count": 360,
          "nan_count": 0,
          "min": "-144.18932510003833",
          "max": "381.98801210528836",
          "histogram": [
           {
            "bin_start": -144.18932510003833,
            "bin_end": -91.57159137950566,
            "count": 24
           },
           {
            "bin_start": -91.57159137950566,
            "bin_end": -38.95385765897299,
            "count": 78
           },
           {
            "bin_start": -38.95385765897299,
            "bin_end": 13.663876061559677,
            "count": 166
           },
           {
            "bin_start": 13.663876061559677,
            "bin_end": 66.28160978209235,
            "count": 73
           },
           {
            "bin_start": 66.28160978209235,
            "bin_end": 118.89934350262502,
            "count": 12
           },
           {
            "bin_start": 118.89934350262502,
            "bin_end": 171.51707722315768,
            "count": 3
           },
           {
            "bin_start": 171.51707722315768,
            "bin_end": 224.13481094369035,
            "count": 3
           },
           {
            "bin_start": 224.13481094369035,
            "bin_end": 276.752544664223,
            "count": 0
           },
           {
            "bin_start": 276.752544664223,
            "bin_end": 329.3702783847557,
            "count": 0
           },
           {
            "bin_start": 329.3702783847557,
            "bin_end": 381.98801210528836,
            "count": 1
           }
          ]
         }
        },
        {
         "name": 157,
         "dtype": "float64",
         "stats": {
          "unique_count": 360,
          "nan_count": 0,
          "min": "-198.43812225721558",
          "max": "435.89075639287694",
          "histogram": [
           {
            "bin_start": -198.43812225721558,
            "bin_end": -135.00523439220632,
            "count": 5
           },
           {
            "bin_start": -135.00523439220632,
            "bin_end": -71.57234652719708,
            "count": 28
           },
           {
            "bin_start": -71.57234652719708,
            "bin_end": -8.139458662187849,
            "count": 168
           },
           {
            "bin_start": -8.139458662187849,
            "bin_end": 55.293429202821414,
            "count": 125
           },
           {
            "bin_start": 55.293429202821414,
            "bin_end": 118.72631706783068,
            "count": 28
           },
           {
            "bin_start": 118.72631706783068,
            "bin_end": 182.15920493283988,
            "count": 2
           },
           {
            "bin_start": 182.15920493283988,
            "bin_end": 245.59209279784915,
            "count": 2
           },
           {
            "bin_start": 245.59209279784915,
            "bin_end": 309.0249806628584,
            "count": 1
           },
           {
            "bin_start": 309.0249806628584,
            "bin_end": 372.4578685278676,
            "count": 0
           },
           {
            "bin_start": 372.4578685278676,
            "bin_end": 435.89075639287694,
            "count": 1
           }
          ]
         }
        },
        {
         "name": 158,
         "dtype": "float64",
         "stats": {
          "unique_count": 360,
          "nan_count": 0,
          "min": "-174.20620653106016",
          "max": "261.3607997983163",
          "histogram": [
           {
            "bin_start": -174.20620653106016,
            "bin_end": -130.64950589812253,
            "count": 9
           },
           {
            "bin_start": -130.64950589812253,
            "bin_end": -87.09280526518486,
            "count": 26
           },
           {
            "bin_start": -87.09280526518486,
            "bin_end": -43.5361046322472,
            "count": 82
           },
           {
            "bin_start": -43.5361046322472,
            "bin_end": 0.020596000690431993,
            "count": 135
           },
           {
            "bin_start": 0.020596000690431993,
            "bin_end": 43.577296633628066,
            "count": 72
           },
           {
            "bin_start": 43.577296633628066,
            "bin_end": 87.13399726656576,
            "count": 23
           },
           {
            "bin_start": 87.13399726656576,
            "bin_end": 130.6906978995034,
            "count": 9
           },
           {
            "bin_start": 130.6906978995034,
            "bin_end": 174.24739853244103,
            "count": 2
           },
           {
            "bin_start": 174.24739853244103,
            "bin_end": 217.80409916537866,
            "count": 1
           },
           {
            "bin_start": 217.80409916537866,
            "bin_end": 261.3607997983163,
            "count": 1
           }
          ]
         }
        },
        {
         "name": 159,
         "dtype": "float64",
         "stats": {
          "unique_count": 360,
          "nan_count": 0,
          "min": "-194.00912327303013",
          "max": "284.970717767681",
          "histogram": [
           {
            "bin_start": -194.00912327303013,
            "bin_end": -146.11113916895903,
            "count": 5
           },
           {
            "bin_start": -146.11113916895903,
            "bin_end": -98.2131550648879,
            "count": 14
           },
           {
            "bin_start": -98.2131550648879,
            "bin_end": -50.31517096081677,
            "count": 59
           },
           {
            "bin_start": -50.31517096081677,
            "bin_end": -2.4171868567456727,
            "count": 146
           },
           {
            "bin_start": -2.4171868567456727,
            "bin_end": 45.48079724732543,
            "count": 91
           },
           {
            "bin_start": 45.48079724732543,
            "bin_end": 93.37878135139658,
            "count": 31
           },
           {
            "bin_start": 93.37878135139658,
            "bin_end": 141.27676545546768,
            "count": 9
           },
           {
            "bin_start": 141.27676545546768,
            "bin_end": 189.17474955953878,
            "count": 3
           },
           {
            "bin_start": 189.17474955953878,
            "bin_end": 237.07273366360988,
            "count": 1
           },
           {
            "bin_start": 237.07273366360988,
            "bin_end": 284.970717767681,
            "count": 1
           }
          ]
         }
        },
        {
         "name": 160,
         "dtype": "float64",
         "stats": {
          "unique_count": 360,
          "nan_count": 0,
          "min": "-157.32976663523732",
          "max": "449.00914268594533",
          "histogram": [
           {
            "bin_start": -157.32976663523732,
            "bin_end": -96.69587570311906,
            "count": 13
           },
           {
            "bin_start": -96.69587570311906,
            "bin_end": -36.061984771000795,
            "count": 123
           },
           {
            "bin_start": -36.061984771000795,
            "bin_end": 24.571906161117454,
            "count": 156
           },
           {
            "bin_start": 24.571906161117454,
            "bin_end": 85.20579709323573,
            "count": 52
           },
           {
            "bin_start": 85.20579709323573,
            "bin_end": 145.839688025354,
            "count": 12
           },
           {
            "bin_start": 145.839688025354,
            "bin_end": 206.47357895747223,
            "count": 2
           },
           {
            "bin_start": 206.47357895747223,
            "bin_end": 267.1074698895905,
            "count": 1
           },
           {
            "bin_start": 267.1074698895905,
            "bin_end": 327.7413608217088,
            "count": 0
           },
           {
            "bin_start": 327.7413608217088,
            "bin_end": 388.375251753827,
            "count": 0
           },
           {
            "bin_start": 388.375251753827,
            "bin_end": 449.00914268594533,
            "count": 1
           }
          ]
         }
        },
        {
         "name": 161,
         "dtype": "float64",
         "stats": {
          "unique_count": 360,
          "nan_count": 0,
          "min": "-216.23461334324156",
          "max": "491.81822784720316",
          "histogram": [
           {
            "bin_start": -216.23461334324156,
            "bin_end": -145.4293292241971,
            "count": 3
           },
           {
            "bin_start": -145.4293292241971,
            "bin_end": -74.62404510515262,
            "count": 30
           },
           {
            "bin_start": -74.62404510515262,
            "bin_end": -3.8187609861081455,
            "count": 171
           },
           {
            "bin_start": -3.8187609861081455,
            "bin_end": 66.98652313293633,
            "count": 126
           },
           {
            "bin_start": 66.98652313293633,
            "bin_end": 137.7918072519808,
            "count": 21
           },
           {
            "bin_start": 137.7918072519808,
            "bin_end": 208.59709137102527,
            "count": 7
           },
           {
            "bin_start": 208.59709137102527,
            "bin_end": 279.40237549006974,
            "count": 1
           },
           {
            "bin_start": 279.40237549006974,
            "bin_end": 350.2076596091142,
            "count": 0
           },
           {
            "bin_start": 350.2076596091142,
            "bin_end": 421.0129437281587,
            "count": 0
           },
           {
            "bin_start": 421.0129437281587,
            "bin_end": 491.81822784720316,
            "count": 1
           }
          ]
         }
        },
        {
         "name": 162,
         "dtype": "float64",
         "stats": {
          "unique_count": 360,
          "nan_count": 0,
          "min": "-179.63213880160401",
          "max": "534.5717929263301",
          "histogram": [
           {
            "bin_start": -179.63213880160401,
            "bin_end": -108.2117456288106,
            "count": 5
           },
           {
            "bin_start": -108.2117456288106,
            "bin_end": -36.791352456017194,
            "count": 50
           },
           {
            "bin_start": -36.791352456017194,
            "bin_end": 34.62904071677622,
            "count": 206
           },
           {
            "bin_start": 34.62904071677622,
            "bin_end": 106.04943388956963,
            "count": 77
           },
           {
            "bin_start": 106.04943388956963,
            "bin_end": 177.46982706236304,
            "count": 15
           },
           {
            "bin_start": 177.46982706236304,
            "bin_end": 248.89022023515645,
            "count": 5
           },
           {
            "bin_start": 248.89022023515645,
            "bin_end": 320.31061340794986,
            "count": 0
           },
           {
            "bin_start": 320.31061340794986,
            "bin_end": 391.73100658074327,
            "count": 1
           },
           {
            "bin_start": 391.73100658074327,
            "bin_end": 463.1513997535367,
            "count": 0
           },
           {
            "bin_start": 463.1513997535367,
            "bin_end": 534.5717929263301,
            "count": 1
           }
          ]
         }
        },
        {
         "name": 163,
         "dtype": "float64",
         "stats": {
          "unique_count": 360,
          "nan_count": 0,
          "min": "-184.53112729670647",
          "max": "476.83241930353324",
          "histogram": [
           {
            "bin_start": -184.53112729670647,
            "bin_end": -118.3947726366825,
            "count": 2
           },
           {
            "bin_start": -118.3947726366825,
            "bin_end": -52.258417976658535,
            "count": 24
           },
           {
            "bin_start": -52.258417976658535,
            "bin_end": 13.87793668336542,
            "count": 144
           },
           {
            "bin_start": 13.87793668336542,
            "bin_end": 80.0142913433894,
            "count": 157
           },
           {
            "bin_start": 80.0142913433894,
            "bin_end": 146.15064600341339,
            "count": 22
           },
           {
            "bin_start": 146.15064600341339,
            "bin_end": 212.2870006634373,
            "count": 9
           },
           {
            "bin_start": 212.2870006634373,
            "bin_end": 278.4233553234613,
            "count": 0
           },
           {
            "bin_start": 278.4233553234613,
            "bin_end": 344.5597099834853,
            "count": 1
           },
           {
            "bin_start": 344.5597099834853,
            "bin_end": 410.6960646435092,
            "count": 0
           },
           {
            "bin_start": 410.6960646435092,
            "bin_end": 476.83241930353324,
            "count": 1
           }
          ]
         }
        },
        {
         "name": 164,
         "dtype": "float64",
         "stats": {
          "unique_count": 360,
          "nan_count": 0,
          "min": "-191.63008475598144",
          "max": "240.5615097856462",
          "histogram": [
           {
            "bin_start": -191.63008475598144,
            "bin_end": -148.41092530181868,
            "count": 3
           },
           {
            "bin_start": -148.41092530181868,
            "bin_end": -105.19176584765592,
            "count": 0
           },
           {
            "bin_start": -105.19176584765592,
            "bin_end": -61.97260639349315,
            "count": 20
           },
           {
            "bin_start": -61.97260639349315,
            "bin_end": -18.753446939330388,
            "count": 67
           },
           {
            "bin_start": -18.753446939330388,
            "bin_end": 24.465712514832376,
            "count": 124
           },
           {
            "bin_start": 24.465712514832376,
            "bin_end": 67.68487196899514,
            "count": 99
           },
           {
            "bin_start": 67.68487196899514,
            "bin_end": 110.9040314231579,
            "count": 28
           },
           {
            "bin_start": 110.9040314231579,
            "bin_end": 154.12319087732067,
            "count": 12
           },
           {
            "bin_start": 154.12319087732067,
            "bin_end": 197.34235033148343,
            "count": 3
           },
           {
            "bin_start": 197.34235033148343,
            "bin_end": 240.5615097856462,
            "count": 4
           }
          ]
         }
        },
        {
         "name": 165,
         "dtype": "float64",
         "stats": {
          "unique_count": 360,
          "nan_count": 0,
          "min": "-167.29201015632316",
          "max": "314.319053476167",
          "histogram": [
           {
            "bin_start": -167.29201015632316,
            "bin_end": -119.13090379307414,
            "count": 6
           },
           {
            "bin_start": -119.13090379307414,
            "bin_end": -70.96979742982512,
            "count": 13
           },
           {
            "bin_start": -70.96979742982512,
            "bin_end": -22.808691066576102,
            "count": 45
           },
           {
            "bin_start": -22.808691066576102,
            "bin_end": 25.352415296672916,
            "count": 157
           },
           {
            "bin_start": 25.352415296672916,
            "bin_end": 73.51352165992193,
            "count": 98
           },
           {
            "bin_start": 73.51352165992193,
            "bin_end": 121.67462802317095,
            "count": 31
           },
           {
            "bin_start": 121.67462802317095,
            "bin_end": 169.83573438641997,
            "count": 6
           },
           {
            "bin_start": 169.83573438641997,
            "bin_end": 217.996840749669,
            "count": 2
           },
           {
            "bin_start": 217.996840749669,
            "bin_end": 266.157947112918,
            "count": 1
           },
           {
            "bin_start": 266.157947112918,
            "bin_end": 314.319053476167,
            "count": 1
           }
          ]
         }
        },
        {
         "name": 166,
         "dtype": "float64",
         "stats": {
          "unique_count": 360,
          "nan_count": 0,
          "min": "-159.5516332735624",
          "max": "401.6190759741439",
          "histogram": [
           {
            "bin_start": -159.5516332735624,
            "bin_end": -103.43456234879177,
            "count": 2
           },
           {
            "bin_start": -103.43456234879177,
            "bin_end": -47.31749142402114,
            "count": 18
           },
           {
            "bin_start": -47.31749142402114,
            "bin_end": 8.799579500749473,
            "count": 88
           },
           {
            "bin_start": 8.799579500749473,
            "bin_end": 64.91665042552012,
            "count": 167
           },
           {
            "bin_start": 64.91665042552012,
            "bin_end": 121.03372135029076,
            "count": 65
           },
           {
            "bin_start": 121.03372135029076,
            "bin_end": 177.15079227506135,
            "count": 15
           },
           {
            "bin_start": 177.15079227506135,
            "bin_end": 233.267863199832,
            "count": 3
           },
           {
            "bin_start": 233.267863199832,
            "bin_end": 289.38493412460264,
            "count": 0
           },
           {
            "bin_start": 289.38493412460264,
            "bin_end": 345.5020050493733,
            "count": 0
           },
           {
            "bin_start": 345.5020050493733,
            "bin_end": 401.6190759741439,
            "count": 2
           }
          ]
         }
        },
        {
         "name": 167,
         "dtype": "float64",
         "stats": {
          "unique_count": 360,
          "nan_count": 0,
          "min": "-255.42518643866606",
          "max": "377.2867493566191",
          "histogram": [
           {
            "bin_start": -255.42518643866606,
            "bin_end": -192.15399285913753,
            "count": 1
           },
           {
            "bin_start": -192.15399285913753,
            "bin_end": -128.88279927960903,
            "count": 3
           },
           {
            "bin_start": -128.88279927960903,
            "bin_end": -65.61160570008053,
            "count": 10
           },
           {
            "bin_start": -65.61160570008053,
            "bin_end": -2.3404121205520028,
            "count": 49
           },
           {
            "bin_start": -2.3404121205520028,
            "bin_end": 60.930781458976526,
            "count": 186
           },
           {
            "bin_start": 60.930781458976526,
            "bin_end": 124.201975038505,
            "count": 88
           },
           {
            "bin_start": 124.201975038505,
            "bin_end": 187.47316861803353,
            "count": 16
           },
           {
            "bin_start": 187.47316861803353,
            "bin_end": 250.74436219756205,
            "count": 6
           },
           {
            "bin_start": 250.74436219756205,
            "bin_end": 314.0155557770905,
            "count": 0
           },
           {
            "bin_start": 314.0155557770905,
            "bin_end": 377.2867493566191,
            "count": 1
           }
          ]
         }
        },
        {
         "name": 168,
         "dtype": "float64",
         "stats": {
          "unique_count": 360,
          "nan_count": 0,
          "min": "-126.00141035642628",
          "max": "598.5534635994081",
          "histogram": [
           {
            "bin_start": -126.00141035642628,
            "bin_end": -53.54592296084283,
            "count": 14
           },
           {
            "bin_start": -53.54592296084283,
            "bin_end": 18.909564434740616,
            "count": 94
           },
           {
            "bin_start": 18.909564434740616,
            "bin_end": 91.36505183032406,
            "count": 188
           },
           {
            "bin_start": 91.36505183032406,
            "bin_end": 163.8205392259075,
            "count": 53
           },
           {
            "bin_start": 163.8205392259075,
            "bin_end": 236.27602662149093,
            "count": 6
           },
           {
            "bin_start": 236.27602662149093,
            "bin_end": 308.7315140170744,
            "count": 3
           },
           {
            "bin_start": 308.7315140170744,
            "bin_end": 381.1870014126579,
            "count": 0
           },
           {
            "bin_start": 381.1870014126579,
            "bin_end": 453.6424888082413,
            "count": 1
           },
           {
            "bin_start": 453.6424888082413,
            "bin_end": 526.0979762038247,
            "count": 0
           },
           {
            "bin_start": 526.0979762038247,
            "bin_end": 598.5534635994081,
            "count": 1
           }
          ]
         }
        },
        {
         "name": 169,
         "dtype": "float64",
         "stats": {
          "unique_count": 360,
          "nan_count": 0,
          "min": "-142.49110530569396",
          "max": "227.0708721911451",
          "histogram": [
           {
            "bin_start": -142.49110530569396,
            "bin_end": -105.53490755601005,
            "count": 2
           },
           {
            "bin_start": -105.53490755601005,
            "bin_end": -68.57870980632615,
            "count": 5
           },
           {
            "bin_start": -68.57870980632615,
            "bin_end": -31.622512056642236,
            "count": 20
           },
           {
            "bin_start": -31.622512056642236,
            "bin_end": 5.333685693041673,
            "count": 71
           },
           {
            "bin_start": 5.333685693041673,
            "bin_end": 42.28988344272557,
            "count": 104
           },
           {
            "bin_start": 42.28988344272557,
            "bin_end": 79.24608119240949,
            "count": 85
           },
           {
            "bin_start": 79.24608119240949,
            "bin_end": 116.20227894209341,
            "count": 47
           },
           {
            "bin_start": 116.20227894209341,
            "bin_end": 153.1584766917773,
            "count": 15
           },
           {
            "bin_start": 153.1584766917773,
            "bin_end": 190.1146744414612,
            "count": 9
           },
           {
            "bin_start": 190.1146744414612,
            "bin_end": 227.0708721911451,
            "count": 2
           }
          ]
         }
        },
        {
         "name": 170,
         "dtype": "float64",
         "stats": {
          "unique_count": 360,
          "nan_count": 0,
          "min": "-154.62074151166962",
          "max": "214.02923695473692",
          "histogram": [
           {
            "bin_start": -154.62074151166962,
            "bin_end": -117.75574366502897,
            "count": 2
           },
           {
            "bin_start": -117.75574366502897,
            "bin_end": -80.89074581838831,
            "count": 3
           },
           {
            "bin_start": -80.89074581838831,
            "bin_end": -44.02574797174765,
            "count": 17
           },
           {
            "bin_start": -44.02574797174765,
            "bin_end": -7.1607501251070005,
            "count": 37
           },
           {
            "bin_start": -7.1607501251070005,
            "bin_end": 29.704247721533648,
            "count": 116
           },
           {
            "bin_start": 29.704247721533648,
            "bin_end": 66.56924556817432,
            "count": 104
           },
           {
            "bin_start": 66.56924556817432,
            "bin_end": 103.43424341481494,
            "count": 48
           },
           {
            "bin_start": 103.43424341481494,
            "bin_end": 140.29924126145562,
            "count": 26
           },
           {
            "bin_start": 140.29924126145562,
            "bin_end": 177.1642391080963,
            "count": 2
           },
           {
            "bin_start": 177.1642391080963,
            "bin_end": 214.02923695473692,
            "count": 5
           }
          ]
         }
        },
        {
         "name": 171,
         "dtype": "float64",
         "stats": {
          "unique_count": 360,
          "nan_count": 0,
          "min": "-228.31722527475904",
          "max": "395.03292146025524",
          "histogram": [
           {
            "bin_start": -228.31722527475904,
            "bin_end": -165.9822106012576,
            "count": 1
           },
           {
            "bin_start": -165.9822106012576,
            "bin_end": -103.64719592775619,
            "count": 3
           },
           {
            "bin_start": -103.64719592775619,
            "bin_end": -41.31218125425477,
            "count": 6
           },
           {
            "bin_start": -41.31218125425477,
            "bin_end": 21.022833419246666,
            "count": 86
           },
           {
            "bin_start": 21.022833419246666,
            "bin_end": 83.3578480927481,
            "count": 169
           },
           {
            "bin_start": 83.3578480927481,
            "bin_end": 145.6928627662495,
            "count": 79
           },
           {
            "bin_start": 145.6928627662495,
            "bin_end": 208.02787743975097,
            "count": 9
           },
           {
            "bin_start": 208.02787743975097,
            "bin_end": 270.36289211325237,
            "count": 4
           },
           {
            "bin_start": 270.36289211325237,
            "bin_end": 332.69790678675383,
            "count": 2
           },
           {
            "bin_start": 332.69790678675383,
            "bin_end": 395.03292146025524,
            "count": 1
           }
          ]
         }
        },
        {
         "name": 172,
         "dtype": "float64",
         "stats": {
          "unique_count": 360,
          "nan_count": 0,
          "min": "-119.45947306548805",
          "max": "389.83501721018547",
          "histogram": [
           {
            "bin_start": -119.45947306548805,
            "bin_end": -68.5300240379207,
            "count": 9
           },
           {
            "bin_start": -68.5300240379207,
            "bin_end": -17.600575010353353,
            "count": 24
           },
           {
            "bin_start": -17.600575010353353,
            "bin_end": 33.32887401721399,
            "count": 107
           },
           {
            "bin_start": 33.32887401721399,
            "bin_end": 84.25832304478135,
            "count": 146
           },
           {
            "bin_start": 84.25832304478135,
            "bin_end": 135.1877720723487,
            "count": 57
           },
           {
            "bin_start": 135.1877720723487,
            "bin_end": 186.11722109991604,
            "count": 13
           },
           {
            "bin_start": 186.11722109991604,
            "bin_end": 237.04667012748342,
            "count": 1
           },
           {
            "bin_start": 237.04667012748342,
            "bin_end": 287.97611915505075,
            "count": 1
           },
           {
            "bin_start": 287.97611915505075,
            "bin_end": 338.9055681826181,
            "count": 0
           },
           {
            "bin_start": 338.9055681826181,
            "bin_end": 389.83501721018547,
            "count": 2
           }
          ]
         }
        },
        {
         "name": 173,
         "dtype": "float64",
         "stats": {
          "unique_count": 360,
          "nan_count": 0,
          "min": "-178.52588782336534",
          "max": "300.4545418862708",
          "histogram": [
           {
            "bin_start": -178.52588782336534,
            "bin_end": -130.62784485240172,
            "count": 2
           },
           {
            "bin_start": -130.62784485240172,
            "bin_end": -82.7298018814381,
            "count": 4
           },
           {
            "bin_start": -82.7298018814381,
            "bin_end": -34.83175891047449,
            "count": 15
           },
           {
            "bin_start": -34.83175891047449,
            "bin_end": 13.066284060489124,
            "count": 69
           },
           {
            "bin_start": 13.066284060489124,
            "bin_end": 60.96432703145274,
            "count": 167
           },
           {
            "bin_start": 60.96432703145274,
            "bin_end": 108.86237000241636,
            "count": 67
           },
           {
            "bin_start": 108.86237000241636,
            "bin_end": 156.76041297337997,
            "count": 25
           },
           {
            "bin_start": 156.76041297337997,
            "bin_end": 204.6584559443436,
            "count": 5
           },
           {
            "bin_start": 204.6584559443436,
            "bin_end": 252.5564989153072,
            "count": 4
           },
           {
            "bin_start": 252.5564989153072,
            "bin_end": 300.4545418862708,
            "count": 2
           }
          ]
         }
        },
        {
         "name": 174,
         "dtype": "float64",
         "stats": {
          "unique_count": 360,
          "nan_count": 0,
          "min": "-153.77350405158177",
          "max": "296.932977070961",
          "histogram": [
           {
            "bin_start": -153.77350405158177,
            "bin_end": -108.70285593932749,
            "count": 3
           },
           {
            "bin_start": -108.70285593932749,
            "bin_end": -63.632207827073216,
            "count": 10
           },
           {
            "bin_start": -63.632207827073216,
            "bin_end": -18.56155971481894,
            "count": 27
           },
           {
            "bin_start": -18.56155971481894,
            "bin_end": 26.509088397435335,
            "count": 126
           },
           {
            "bin_start": 26.509088397435335,
            "bin_end": 71.57973650968961,
            "count": 140
           },
           {
            "bin_start": 71.57973650968961,
            "bin_end": 116.65038462194389,
            "count": 46
           },
           {
            "bin_start": 116.65038462194389,
            "bin_end": 161.72103273419816,
            "count": 6
           },
           {
            "bin_start": 161.72103273419816,
            "bin_end": 206.79168084645244,
            "count": 1
           },
           {
            "bin_start": 206.79168084645244,
            "bin_end": 251.8623289587067,
            "count": 0
           },
           {
            "bin_start": 251.8623289587067,
            "bin_end": 296.932977070961,
            "count": 1
           }
          ]
         }
        },
        {
         "name": 175,
         "dtype": "float64",
         "stats": {
          "unique_count": 360,
          "nan_count": 0,
          "min": "-200.53606702836623",
          "max": "424.1735548069428",
          "histogram": [
           {
            "bin_start": -200.53606702836623,
            "bin_end": -138.06510484483533,
            "count": 3
           },
           {
            "bin_start": -138.06510484483533,
            "bin_end": -75.59414266130443,
            "count": 8
           },
           {
            "bin_start": -75.59414266130443,
            "bin_end": -13.12318047777353,
            "count": 31
           },
           {
            "bin_start": -13.12318047777353,
            "bin_end": 49.34778170575737,
            "count": 177
           },
           {
            "bin_start": 49.34778170575737,
            "bin_end": 111.81874388928827,
            "count": 104
           },
           {
            "bin_start": 111.81874388928827,
            "bin_end": 174.28970607281917,
            "count": 29
           },
           {
            "bin_start": 174.28970607281917,
            "bin_end": 236.76066825635007,
            "count": 6
           },
           {
            "bin_start": 236.76066825635007,
            "bin_end": 299.231630439881,
            "count": 1
           },
           {
            "bin_start": 299.231630439881,
            "bin_end": 361.7025926234119,
            "count": 0
           },
           {
            "bin_start": 361.7025926234119,
            "bin_end": 424.1735548069428,
            "count": 1
           }
          ]
         }
        },
        {
         "name": 176,
         "dtype": "float64",
         "stats": {
          "unique_count": 360,
          "nan_count": 0,
          "min": "-229.70078146046762",
          "max": "295.8958897094544",
          "histogram": [
           {
            "bin_start": -229.70078146046762,
            "bin_end": -177.1411143434754,
            "count": 1
           },
           {
            "bin_start": -177.1411143434754,
            "bin_end": -124.58144722648322,
            "count": 1
           },
           {
            "bin_start": -124.58144722648322,
            "bin_end": -72.02178010949103,
            "count": 6
           },
           {
            "bin_start": -72.02178010949103,
            "bin_end": -19.462112992498817,
            "count": 22
           },
           {
            "bin_start": -19.462112992498817,
            "bin_end": 33.0975541244934,
            "count": 127
           },
           {
            "bin_start": 33.0975541244934,
            "bin_end": 85.65722124148556,
            "count": 145
           },
           {
            "bin_start": 85.65722124148556,
            "bin_end": 138.21688835847777,
            "count": 43
           },
           {
            "bin_start": 138.21688835847777,
            "bin_end": 190.77655547547,
            "count": 10
           },
           {
            "bin_start": 190.77655547547,
            "bin_end": 243.3362225924622,
            "count": 1
           },
           {
            "bin_start": 243.3362225924622,
            "bin_end": 295.8958897094544,
            "count": 4
           }
          ]
         }
        },
        {
         "name": 177,
         "dtype": "float64",
         "stats": {
          "unique_count": 360,
          "nan_count": 0,
          "min": "-93.08781446746707",
          "max": "636.5092897963223",
          "histogram": [
           {
            "bin_start": -93.08781446746707,
            "bin_end": -20.128104041088136,
            "count": 23
           },
           {
            "bin_start": -20.128104041088136,
            "bin_end": 52.8316063852908,
            "count": 212
           },
           {
            "bin_start": 52.8316063852908,
            "bin_end": 125.79131681166973,
            "count": 104
           },
           {
            "bin_start": 125.79131681166973,
            "bin_end": 198.75102723804866,
            "count": 17
           },
           {
            "bin_start": 198.75102723804866,
            "bin_end": 271.7107376644276,
            "count": 1
           },
           {
            "bin_start": 271.7107376644276,
            "bin_end": 344.67044809080653,
            "count": 1
           },
           {
            "bin_start": 344.67044809080653,
            "bin_end": 417.63015851718546,
            "count": 1
           },
           {
            "bin_start": 417.63015851718546,
            "bin_end": 490.5898689435644,
            "count": 0
           },
           {
            "bin_start": 490.5898689435644,
            "bin_end": 563.5495793699433,
            "count": 0
           },
           {
            "bin_start": 563.5495793699433,
            "bin_end": 636.5092897963223,
            "count": 1
           }
          ]
         }
        },
        {
         "name": 178,
         "dtype": "float64",
         "stats": {
          "unique_count": 360,
          "nan_count": 0,
          "min": "-198.92949698721895",
          "max": "362.7057635292949",
          "histogram": [
           {
            "bin_start": -198.92949698721895,
            "bin_end": -142.76597093556757,
            "count": 1
           },
           {
            "bin_start": -142.76597093556757,
            "bin_end": -86.60244488391618,
            "count": 6
           },
           {
            "bin_start": -86.60244488391618,
            "bin_end": -30.43891883226479,
            "count": 46
           },
           {
            "bin_start": -30.43891883226479,
            "bin_end": 25.7246072193866,
            "count": 171
           },
           {
            "bin_start": 25.7246072193866,
            "bin_end": 81.88813327103799,
            "count": 102
           },
           {
            "bin_start": 81.88813327103799,
            "bin_end": 138.05165932268937,
            "count": 24
           },
           {
            "bin_start": 138.05165932268937,
            "bin_end": 194.21518537434076,
            "count": 8
           },
           {
            "bin_start": 194.21518537434076,
            "bin_end": 250.37871142599215,
            "count": 1
           },
           {
            "bin_start": 250.37871142599215,
            "bin_end": 306.54223747764354,
            "count": 0
           },
           {
            "bin_start": 306.54223747764354,
            "bin_end": 362.7057635292949,
            "count": 1
           }
          ]
         }
        },
        {
         "name": 179,
         "dtype": "float64",
         "stats": {
          "unique_count": 360,
          "nan_count": 0,
          "min": "-157.08740679021685",
          "max": "372.11896214708395",
          "histogram": [
           {
            "bin_start": -157.08740679021685,
            "bin_end": -104.16676989648677,
            "count": 6
           },
           {
            "bin_start": -104.16676989648677,
            "bin_end": -51.24613300275669,
            "count": 22
           },
           {
            "bin_start": -51.24613300275669,
            "bin_end": 1.6745038909733694,
            "count": 116
           },
           {
            "bin_start": 1.6745038909733694,
            "bin_end": 54.59514078470346,
            "count": 145
           },
           {
            "bin_start": 54.59514078470346,
            "bin_end": 107.51577767843355,
            "count": 44
           },
           {
            "bin_start": 107.51577767843355,
            "bin_end": 160.43641457216359,
            "count": 12
           },
           {
            "bin_start": 160.43641457216359,
            "bin_end": 213.35705146589368,
            "count": 10
           },
           {
            "bin_start": 213.35705146589368,
            "bin_end": 266.27768835962377,
            "count": 3
           },
           {
            "bin_start": 266.27768835962377,
            "bin_end": 319.19832525335386,
            "count": 1
           },
           {
            "bin_start": 319.19832525335386,
            "bin_end": 372.11896214708395,
            "count": 1
           }
          ]
         }
        },
        {
         "name": 180,
         "dtype": "float64",
         "stats": {
          "unique_count": 360,
          "nan_count": 0,
          "min": "-150.6341893408753",
          "max": "318.213881830181",
          "histogram": [
           {
            "bin_start": -150.6341893408753,
            "bin_end": -103.74938222376969,
            "count": 3
           },
           {
            "bin_start": -103.74938222376969,
            "bin_end": -56.86457510666405,
            "count": 10
           },
           {
            "bin_start": -56.86457510666405,
            "bin_end": -9.979767989558411,
            "count": 55
           },
           {
            "bin_start": -9.979767989558411,
            "bin_end": 36.90503912754721,
            "count": 182
           },
           {
            "bin_start": 36.90503912754721,
            "bin_end": 83.78984624465284,
            "count": 78
           },
           {
            "bin_start": 83.78984624465284,
            "bin_end": 130.6746533617585,
            "count": 19
           },
           {
            "bin_start": 130.6746533617585,
            "bin_end": 177.55946047886408,
            "count": 7
           },
           {
            "bin_start": 177.55946047886408,
            "bin_end": 224.44426759596973,
            "count": 3
           },
           {
            "bin_start": 224.44426759596973,
            "bin_end": 271.3290747130754,
            "count": 2
           },
           {
            "bin_start": 271.3290747130754,
            "bin_end": 318.213881830181,
            "count": 1
           }
          ]
         }
        },
        {
         "name": 181,
         "dtype": "float64",
         "stats": {
          "unique_count": 360,
          "nan_count": 0,
          "min": "-131.93845465934646",
          "max": "314.4486584111055",
          "histogram": [
           {
            "bin_start": -131.93845465934646,
            "bin_end": -87.29974335230126,
            "count": 5
           },
           {
            "bin_start": -87.29974335230126,
            "bin_end": -42.661032045256064,
            "count": 23
           },
           {
            "bin_start": -42.661032045256064,
            "bin_end": 1.9776792617891488,
            "count": 96
           },
           {
            "bin_start": 1.9776792617891488,
            "bin_end": 46.61639056883433,
            "count": 151
           },
           {
            "bin_start": 46.61639056883433,
            "bin_end": 91.25510187587952,
            "count": 64
           },
           {
            "bin_start": 91.25510187587952,
            "bin_end": 135.89381318292476,
            "count": 12
           },
           {
            "bin_start": 135.89381318292476,
            "bin_end": 180.53252448996994,
            "count": 4
           },
           {
            "bin_start": 180.53252448996994,
            "bin_end": 225.17123579701513,
            "count": 2
           },
           {
            "bin_start": 225.17123579701513,
            "bin_end": 269.8099471040603,
            "count": 1
           },
           {
            "bin_start": 269.8099471040603,
            "bin_end": 314.4486584111055,
            "count": 2
           }
          ]
         }
        },
        {
         "name": 182,
         "dtype": "float64",
         "stats": {
          "unique_count": 360,
          "nan_count": 0,
          "min": "-176.41491296198546",
          "max": "359.3578965043962",
          "histogram": [
           {
            "bin_start": -176.41491296198546,
            "bin_end": -122.8376320153473,
            "count": 1
           },
           {
            "bin_start": -122.8376320153473,
            "bin_end": -69.26035106870913,
            "count": 14
           },
           {
            "bin_start": -69.26035106870913,
            "bin_end": -15.683070122070944,
            "count": 84
           },
           {
            "bin_start": -15.683070122070944,
            "bin_end": 37.89421082456721,
            "count": 161
           },
           {
            "bin_start": 37.89421082456721,
            "bin_end": 91.47149177120536,
            "count": 73
           },
           {
            "bin_start": 91.47149177120536,
            "bin_end": 145.04877271784358,
            "count": 23
           },
           {
            "bin_start": 145.04877271784358,
            "bin_end": 198.62605366448173,
            "count": 2
           },
           {
            "bin_start": 198.62605366448173,
            "bin_end": 252.20333461111989,
            "count": 1
           },
           {
            "bin_start": 252.20333461111989,
            "bin_end": 305.78061555775804,
            "count": 0
           },
           {
            "bin_start": 305.78061555775804,
            "bin_end": 359.3578965043962,
            "count": 1
           }
          ]
         }
        },
        {
         "name": 183,
         "dtype": "float64",
         "stats": {
          "unique_count": 360,
          "nan_count": 0,
          "min": "-283.8812266050363",
          "max": "538.5396039239258",
          "histogram": [
           {
            "bin_start": -283.8812266050363,
            "bin_end": -201.6391435521401,
            "count": 1
           },
           {
            "bin_start": -201.6391435521401,
            "bin_end": -119.39706049924388,
            "count": 5
           },
           {
            "bin_start": -119.39706049924388,
            "bin_end": -37.15497744634766,
            "count": 48
           },
           {
            "bin_start": -37.15497744634766,
            "bin_end": 45.08710560654856,
            "count": 240
           },
           {
            "bin_start": 45.08710560654856,
            "bin_end": 127.32918865944475,
            "count": 58
           },
           {
            "bin_start": 127.32918865944475,
            "bin_end": 209.571271712341,
            "count": 5
           },
           {
            "bin_start": 209.571271712341,
            "bin_end": 291.81335476523725,
            "count": 1
           },
           {
            "bin_start": 291.81335476523725,
            "bin_end": 374.05543781813344,
            "count": 1
           },
           {
            "bin_start": 374.05543781813344,
            "bin_end": 456.29752087102963,
            "count": 0
           },
           {
            "bin_start": 456.29752087102963,
            "bin_end": 538.5396039239258,
            "count": 1
           }
          ]
         }
        },
        {
         "name": 184,
         "dtype": "float64",
         "stats": {
          "unique_count": 360,
          "nan_count": 0,
          "min": "-187.5477677431718",
          "max": "344.52149067099344",
          "histogram": [
           {
            "bin_start": -187.5477677431718,
            "bin_end": -134.34084190175525,
            "count": 4
           },
           {
            "bin_start": -134.34084190175525,
            "bin_end": -81.13391606033875,
            "count": 7
           },
           {
            "bin_start": -81.13391606033875,
            "bin_end": -27.926990218922242,
            "count": 49
           },
           {
            "bin_start": -27.926990218922242,
            "bin_end": 25.279935622494293,
            "count": 150
           },
           {
            "bin_start": 25.279935622494293,
            "bin_end": 78.48686146391083,
            "count": 114
           },
           {
            "bin_start": 78.48686146391083,
            "bin_end": 131.6937873053273,
            "count": 25
           },
           {
            "bin_start": 131.6937873053273,
            "bin_end": 184.90071314674384,
            "count": 7
           },
           {
            "bin_start": 184.90071314674384,
            "bin_end": 238.10763898816037,
            "count": 3
           },
           {
            "bin_start": 238.10763898816037,
            "bin_end": 291.3145648295769,
            "count": 0
           },
           {
            "bin_start": 291.3145648295769,
            "bin_end": 344.52149067099344,
            "count": 1
           }
          ]
         }
        },
        {
         "name": 185,
         "dtype": "float64",
         "stats": {
          "unique_count": 360,
          "nan_count": 0,
          "min": "-150.32354308011236",
          "max": "472.15688219415824",
          "histogram": [
           {
            "bin_start": -150.32354308011236,
            "bin_end": -88.0755005526853,
            "count": 13
           },
           {
            "bin_start": -88.0755005526853,
            "bin_end": -25.827458025258238,
            "count": 33
           },
           {
            "bin_start": -25.827458025258238,
            "bin_end": 36.42058450216882,
            "count": 179
           },
           {
            "bin_start": 36.42058450216882,
            "bin_end": 98.66862702959588,
            "count": 100
           },
           {
            "bin_start": 98.66862702959588,
            "bin_end": 160.91666955702294,
            "count": 27
           },
           {
            "bin_start": 160.91666955702294,
            "bin_end": 223.16471208445,
            "count": 4
           },
           {
            "bin_start": 223.16471208445,
            "bin_end": 285.41275461187706,
            "count": 2
           },
           {
            "bin_start": 285.41275461187706,
            "bin_end": 347.6607971393041,
            "count": 1
           },
           {
            "bin_start": 347.6607971393041,
            "bin_end": 409.9088396667312,
            "count": 0
           },
           {
            "bin_start": 409.9088396667312,
            "bin_end": 472.15688219415824,
            "count": 1
           }
          ]
         }
        },
        {
         "name": 186,
         "dtype": "float64",
         "stats": {
          "unique_count": 360,
          "nan_count": 0,
          "min": "-237.97366254695044",
          "max": "383.2057697893106",
          "histogram": [
           {
            "bin_start": -237.97366254695044,
            "bin_end": -175.85571931332433,
            "count": 2
           },
           {
            "bin_start": -175.85571931332433,
            "bin_end": -113.73777607969824,
            "count": 4
           },
           {
            "bin_start": -113.73777607969824,
            "bin_end": -51.61983284607214,
            "count": 21
           },
           {
            "bin_start": -51.61983284607214,
            "bin_end": 10.498110387553965,
            "count": 129
           },
           {
            "bin_start": 10.498110387553965,
            "bin_end": 72.61605362118007,
            "count": 169
           },
           {
            "bin_start": 72.61605362118007,
            "bin_end": 134.73399685480615,
            "count": 23
           },
           {
            "bin_start": 134.73399685480615,
            "bin_end": 196.8519400884323,
            "count": 8
           },
           {
            "bin_start": 196.8519400884323,
            "bin_end": 258.96988332205837,
            "count": 2
           },
           {
            "bin_start": 258.96988332205837,
            "bin_end": 321.0878265556845,
            "count": 1
           },
           {
            "bin_start": 321.0878265556845,
            "bin_end": 383.2057697893106,
            "count": 1
           }
          ]
         }
        },
        {
         "name": 187,
         "dtype": "float64",
         "stats": {
          "unique_count": 360,
          "nan_count": 0,
          "min": "-163.318733611708",
          "max": "272.2727104264395",
          "histogram": [
           {
            "bin_start": -163.318733611708,
            "bin_end": -119.75958920789326,
            "count": 2
           },
           {
            "bin_start": -119.75958920789326,
            "bin_end": -76.2004448040785,
            "count": 11
           },
           {
            "bin_start": -76.2004448040785,
            "bin_end": -32.64130040026373,
            "count": 43
           },
           {
            "bin_start": -32.64130040026373,
            "bin_end": 10.91784400355101,
            "count": 128
           },
           {
            "bin_start": 10.91784400355101,
            "bin_end": 54.47698840736575,
            "count": 128
           },
           {
            "bin_start": 54.47698840736575,
            "bin_end": 98.03613281118055,
            "count": 28
           },
           {
            "bin_start": 98.03613281118055,
            "bin_end": 141.5952772149953,
            "count": 11
           },
           {
            "bin_start": 141.5952772149953,
            "bin_end": 185.15442161881003,
            "count": 4
           },
           {
            "bin_start": 185.15442161881003,
            "bin_end": 228.71356602262478,
            "count": 2
           },
           {
            "bin_start": 228.71356602262478,
            "bin_end": 272.2727104264395,
            "count": 3
           }
          ]
         }
        },
        {
         "name": 188,
         "dtype": "float64",
         "stats": {
          "unique_count": 360,
          "nan_count": 0,
          "min": "-198.18633856411543",
          "max": "388.77925298742775",
          "histogram": [
           {
            "bin_start": -198.18633856411543,
            "bin_end": -139.4897794089611,
            "count": 6
           },
           {
            "bin_start": -139.4897794089611,
            "bin_end": -80.7932202538068,
            "count": 16
           },
           {
            "bin_start": -80.7932202538068,
            "bin_end": -22.096661098652476,
            "count": 89
           },
           {
            "bin_start": -22.096661098652476,
            "bin_end": 36.59989805650184,
            "count": 193
           },
           {
            "bin_start": 36.59989805650184,
            "bin_end": 95.29645721165616,
            "count": 40
           },
           {
            "bin_start": 95.29645721165616,
            "bin_end": 153.99301636681048,
            "count": 7
           },
           {
            "bin_start": 153.99301636681048,
            "bin_end": 212.6895755219648,
            "count": 7
           },
           {
            "bin_start": 212.6895755219648,
            "bin_end": 271.3861346771191,
            "count": 0
           },
           {
            "bin_start": 271.3861346771191,
            "bin_end": 330.08269383227343,
            "count": 1
           },
           {
            "bin_start": 330.08269383227343,
            "bin_end": 388.77925298742775,
            "count": 1
           }
          ]
         }
        },
        {
         "name": 189,
         "dtype": "float64",
         "stats": {
          "unique_count": 360,
          "nan_count": 0,
          "min": "-191.44531684294998",
          "max": "211.92393574600646",
          "histogram": [
           {
            "bin_start": -191.44531684294998,
            "bin_end": -151.10839158405435,
            "count": 2
           },
           {
            "bin_start": -151.10839158405435,
            "bin_end": -110.77146632515868,
            "count": 6
           },
           {
            "bin_start": -110.77146632515868,
            "bin_end": -70.43454106626304,
            "count": 12
           },
           {
            "bin_start": -70.43454106626304,
            "bin_end": -30.09761580736739,
            "count": 53
           },
           {
            "bin_start": -30.09761580736739,
            "bin_end": 10.239309451528243,
            "count": 124
           },
           {
            "bin_start": 10.239309451528243,
            "bin_end": 50.576234710423904,
            "count": 113
           },
           {
            "bin_start": 50.576234710423904,
            "bin_end": 90.91315996931957,
            "count": 30
           },
           {
            "bin_start": 90.91315996931957,
            "bin_end": 131.2500852282152,
            "count": 11
           },
           {
            "bin_start": 131.2500852282152,
            "bin_end": 171.58701048711083,
            "count": 4
           },
           {
            "bin_start": 171.58701048711083,
            "bin_end": 211.92393574600646,
            "count": 5
           }
          ]
         }
        },
        {
         "name": 190,
         "dtype": "float64",
         "stats": {
          "unique_count": 360,
          "nan_count": 0,
          "min": "-132.50773114279218",
          "max": "409.97322177409114",
          "histogram": [
           {
            "bin_start": -132.50773114279218,
            "bin_end": -78.25963585110385,
            "count": 15
           },
           {
            "bin_start": -78.25963585110385,
            "bin_end": -24.011540559415522,
            "count": 75
           },
           {
            "bin_start": -24.011540559415522,
            "bin_end": 30.236554732272793,
            "count": 165
           },
           {
            "bin_start": 30.236554732272793,
            "bin_end": 84.48465002396114,
            "count": 81
           },
           {
            "bin_start": 84.48465002396114,
            "bin_end": 138.73274531564948,
            "count": 18
           },
           {
            "bin_start": 138.73274531564948,
            "bin_end": 192.98084060733777,
            "count": 3
           },
           {
            "bin_start": 192.98084060733777,
            "bin_end": 247.2289358990261,
            "count": 1
           },
           {
            "bin_start": 247.2289358990261,
            "bin_end": 301.47703119071446,
            "count": 0
           },
           {
            "bin_start": 301.47703119071446,
            "bin_end": 355.7251264824028,
            "count": 0
           },
           {
            "bin_start": 355.7251264824028,
            "bin_end": 409.97322177409114,
            "count": 2
           }
          ]
         }
        },
        {
         "name": 191,
         "dtype": "float64",
         "stats": {
          "unique_count": 360,
          "nan_count": 0,
          "min": "-216.27469865937928",
          "max": "391.66115162852475",
          "histogram": [
           {
            "bin_start": -216.27469865937928,
            "bin_end": -155.48111363058888,
            "count": 5
           },
           {
            "bin_start": -155.48111363058888,
            "bin_end": -94.68752860179848,
            "count": 7
           },
           {
            "bin_start": -94.68752860179848,
            "bin_end": -33.89394357300807,
            "count": 56
           },
           {
            "bin_start": -33.89394357300807,
            "bin_end": 26.89964145578233,
            "count": 182
           },
           {
            "bin_start": 26.89964145578233,
            "bin_end": 87.69322648457273,
            "count": 85
           },
           {
            "bin_start": 87.69322648457273,
            "bin_end": 148.48681151336314,
            "count": 18
           },
           {
            "bin_start": 148.48681151336314,
            "bin_end": 209.28039654215354,
            "count": 3
           },
           {
            "bin_start": 209.28039654215354,
            "bin_end": 270.07398157094394,
            "count": 1
           },
           {
            "bin_start": 270.07398157094394,
            "bin_end": 330.86756659973435,
            "count": 1
           },
           {
            "bin_start": 330.86756659973435,
            "bin_end": 391.66115162852475,
            "count": 2
           }
          ]
         }
        },
        {
         "name": 192,
         "dtype": "float64",
         "stats": {
          "unique_count": 360,
          "nan_count": 0,
          "min": "-229.8057588829961",
          "max": "287.5882411184375",
          "histogram": [
           {
            "bin_start": -229.8057588829961,
            "bin_end": -178.06635888285274,
            "count": 1
           },
           {
            "bin_start": -178.06635888285274,
            "bin_end": -126.32695888270936,
            "count": 4
           },
           {
            "bin_start": -126.32695888270936,
            "bin_end": -74.58755888256599,
            "count": 20
           },
           {
            "bin_start": -74.58755888256599,
            "bin_end": -22.848158882422638,
            "count": 76
           },
           {
            "bin_start": -22.848158882422638,
            "bin_end": 28.89124111772071,
            "count": 139
           },
           {
            "bin_start": 28.89124111772071,
            "bin_end": 80.63064111786412,
            "count": 87
           },
           {
            "bin_start": 80.63064111786412,
            "bin_end": 132.37004111800746,
            "count": 23
           },
           {
            "bin_start": 132.37004111800746,
            "bin_end": 184.1094411181508,
            "count": 5
           },
           {
            "bin_start": 184.1094411181508,
            "bin_end": 235.84884111829416,
            "count": 4
           },
           {
            "bin_start": 235.84884111829416,
            "bin_end": 287.5882411184375,
            "count": 1
           }
          ]
         }
        },
        {
         "name": 193,
         "dtype": "float64",
         "stats": {
          "unique_count": 360,
          "nan_count": 0,
          "min": "-203.95270719093241",
          "max": "326.27939383778903",
          "histogram": [
           {
            "bin_start": -203.95270719093241,
            "bin_end": -150.92949708806026,
            "count": 6
           },
           {
            "bin_start": -150.92949708806026,
            "bin_end": -97.90628698518813,
            "count": 9
           },
           {
            "bin_start": -97.90628698518813,
            "bin_end": -44.883076882316004,
            "count": 29
           },
           {
            "bin_start": -44.883076882316004,
            "bin_end": 8.140133220556152,
            "count": 139
           },
           {
            "bin_start": 8.140133220556152,
            "bin_end": 61.16334332342831,
            "count": 130
           },
           {
            "bin_start": 61.16334332342831,
            "bin_end": 114.1865534263004,
            "count": 37
           },
           {
            "bin_start": 114.1865534263004,
            "bin_end": 167.20976352917256,
            "count": 7
           },
           {
            "bin_start": 167.20976352917256,
            "bin_end": 220.23297363204472,
            "count": 2
           },
           {
            "bin_start": 220.23297363204472,
            "bin_end": 273.2561837349169,
            "count": 0
           },
           {
            "bin_start": 273.2561837349169,
            "bin_end": 326.27939383778903,
            "count": 1
           }
          ]
         }
        },
        {
         "name": 194,
         "dtype": "float64",
         "stats": {
          "unique_count": 360,
          "nan_count": 0,
          "min": "-234.32786597275208",
          "max": "399.1674052810977",
          "histogram": [
           {
            "bin_start": -234.32786597275208,
            "bin_end": -170.9783388473671,
            "count": 2
           },
           {
            "bin_start": -170.9783388473671,
            "bin_end": -107.62881172198213,
            "count": 14
           },
           {
            "bin_start": -107.62881172198213,
            "bin_end": -44.279284596597165,
            "count": 39
           },
           {
            "bin_start": -44.279284596597165,
            "bin_end": 19.070242528787816,
            "count": 151
           },
           {
            "bin_start": 19.070242528787816,
            "bin_end": 82.4197696541728,
            "count": 119
           },
           {
            "bin_start": 82.4197696541728,
            "bin_end": 145.76929677955775,
            "count": 31
           },
           {
            "bin_start": 145.76929677955775,
            "bin_end": 209.11882390494276,
            "count": 3
           },
           {
            "bin_start": 209.11882390494276,
            "bin_end": 272.4683510303277,
            "count": 0
           },
           {
            "bin_start": 272.4683510303277,
            "bin_end": 335.8178781557127,
            "count": 0
           },
           {
            "bin_start": 335.8178781557127,
            "bin_end": 399.1674052810977,
            "count": 1
           }
          ]
         }
        },
        {
         "name": 195,
         "dtype": "float64",
         "stats": {
          "unique_count": 360,
          "nan_count": 0,
          "min": "-196.22214640590755",
          "max": "367.8417655074609",
          "histogram": [
           {
            "bin_start": -196.22214640590755,
            "bin_end": -139.81575521457071,
            "count": 3
           },
           {
            "bin_start": -139.81575521457071,
            "bin_end": -83.40936402323386,
            "count": 8
           },
           {
            "bin_start": -83.40936402323386,
            "bin_end": -27.00297283189701,
            "count": 42
           },
           {
            "bin_start": -27.00297283189701,
            "bin_end": 29.403418359439826,
            "count": 141
           },
           {
            "bin_start": 29.403418359439826,
            "bin_end": 85.80980955077666,
            "count": 117
           },
           {
            "bin_start": 85.80980955077666,
            "bin_end": 142.21620074211353,
            "count": 41
           },
           {
            "bin_start": 142.21620074211353,
            "bin_end": 198.62259193345034,
            "count": 4
           },
           {
            "bin_start": 198.62259193345034,
            "bin_end": 255.0289831247872,
            "count": 3
           },
           {
            "bin_start": 255.0289831247872,
            "bin_end": 311.43537431612407,
            "count": 0
           },
           {
            "bin_start": 311.43537431612407,
            "bin_end": 367.8417655074609,
            "count": 1
           }
          ]
         }
        },
        {
         "name": 196,
         "dtype": "float64",
         "stats": {
          "unique_count": 360,
          "nan_count": 0,
          "min": "-251.29529681474014",
          "max": "353.9966508239668",
          "histogram": [
           {
            "bin_start": -251.29529681474014,
            "bin_end": -190.76610205086945,
            "count": 1
           },
           {
            "bin_start": -190.76610205086945,
            "bin_end": -130.23690728699876,
            "count": 2
           },
           {
            "bin_start": -130.23690728699876,
            "bin_end": -69.70771252312807,
            "count": 15
           },
           {
            "bin_start": -69.70771252312807,
            "bin_end": -9.178517759257375,
            "count": 72
           },
           {
            "bin_start": -9.178517759257375,
            "bin_end": 51.35067700461332,
            "count": 175
           },
           {
            "bin_start": 51.35067700461332,
            "bin_end": 111.87987176848401,
            "count": 76
           },
           {
            "bin_start": 111.87987176848401,
            "bin_end": 172.4090665323547,
            "count": 13
           },
           {
            "bin_start": 172.4090665323547,
            "bin_end": 232.9382612962254,
            "count": 4
           },
           {
            "bin_start": 232.9382612962254,
            "bin_end": 293.4674560600961,
            "count": 1
           },
           {
            "bin_start": 293.4674560600961,
            "bin_end": 353.9966508239668,
            "count": 1
           }
          ]
         }
        },
        {
         "name": 197,
         "dtype": "float64",
         "stats": {
          "unique_count": 360,
          "nan_count": 0,
          "min": "-169.44716622026135",
          "max": "224.99574113840754",
          "histogram": [
           {
            "bin_start": -169.44716622026135,
            "bin_end": -130.00287548439445,
            "count": 9
           },
           {
            "bin_start": -130.00287548439445,
            "bin_end": -90.55858474852758,
            "count": 9
           },
           {
            "bin_start": -90.55858474852758,
            "bin_end": -51.11429401266069,
            "count": 24
           },
           {
            "bin_start": -51.11429401266069,
            "bin_end": -11.670003276793807,
            "count": 75
           },
           {
            "bin_start": -11.670003276793807,
            "bin_end": 27.774287459073093,
            "count": 125
           },
           {
            "bin_start": 27.774287459073093,
            "bin_end": 67.21857819493997,
            "count": 78
           },
           {
            "bin_start": 67.21857819493997,
            "bin_end": 106.66286893080684,
            "count": 27
           },
           {
            "bin_start": 106.66286893080684,
            "bin_end": 146.10715966667374,
            "count": 5
           },
           {
            "bin_start": 146.10715966667374,
            "bin_end": 185.55145040254064,
            "count": 4
           },
           {
            "bin_start": 185.55145040254064,
            "bin_end": 224.99574113840754,
            "count": 4
           }
          ]
         }
        },
        {
         "name": 198,
         "dtype": "float64",
         "stats": {
          "unique_count": 360,
          "nan_count": 0,
          "min": "-182.3846459600136",
          "max": "413.92332725625783",
          "histogram": [
           {
            "bin_start": -182.3846459600136,
            "bin_end": -122.75384863838644,
            "count": 2
           },
           {
            "bin_start": -122.75384863838644,
            "bin_end": -63.1230513167593,
            "count": 23
           },
           {
            "bin_start": -63.1230513167593,
            "bin_end": -3.4922539951321596,
            "count": 121
           },
           {
            "bin_start": -3.4922539951321596,
            "bin_end": 56.13854332649498,
            "count": 154
           },
           {
            "bin_start": 56.13854332649498,
            "bin_end": 115.76934064812212,
            "count": 53
           },
           {
            "bin_start": 115.76934064812212,
            "bin_end": 175.40013796974927,
            "count": 3
           },
           {
            "bin_start": 175.40013796974927,
            "bin_end": 235.0309352913764,
            "count": 3
           },
           {
            "bin_start": 235.0309352913764,
            "bin_end": 294.66173261300355,
            "count": 0
           },
           {
            "bin_start": 294.66173261300355,
            "bin_end": 354.2925299346307,
            "count": 0
           },
           {
            "bin_start": 354.2925299346307,
            "bin_end": 413.92332725625783,
            "count": 1
           }
          ]
         }
        },
        {
         "name": 199,
         "dtype": "float64",
         "stats": {
          "unique_count": 360,
          "nan_count": 0,
          "min": "-263.7321723287205",
          "max": "208.57667412129194",
          "histogram": [
           {
            "bin_start": -263.7321723287205,
            "bin_end": -216.50128768371923,
            "count": 1
           },
           {
            "bin_start": -216.50128768371923,
            "bin_end": -169.270403038718,
            "count": 2
           },
           {
            "bin_start": -169.270403038718,
            "bin_end": -122.03951839371678,
            "count": 5
           },
           {
            "bin_start": -122.03951839371678,
            "bin_end": -74.80863374871552,
            "count": 12
           },
           {
            "bin_start": -74.80863374871552,
            "bin_end": -27.577749103714268,
            "count": 33
           },
           {
            "bin_start": -27.577749103714268,
            "bin_end": 19.65313554128693,
            "count": 128
           },
           {
            "bin_start": 19.65313554128693,
            "bin_end": 66.88402018628818,
            "count": 113
           },
           {
            "bin_start": 66.88402018628818,
            "bin_end": 114.11490483128944,
            "count": 50
           },
           {
            "bin_start": 114.11490483128944,
            "bin_end": 161.3457894762907,
            "count": 13
           },
           {
            "bin_start": 161.3457894762907,
            "bin_end": 208.57667412129194,
            "count": 3
           }
          ]
         }
        },
        {
         "name": 200,
         "dtype": "float64",
         "stats": {
          "unique_count": 360,
          "nan_count": 0,
          "min": "-195.24337728202227",
          "max": "696.6487097432382",
          "histogram": [
           {
            "bin_start": -195.24337728202227,
            "bin_end": -106.05416857949622,
            "count": 9
           },
           {
            "bin_start": -106.05416857949622,
            "bin_end": -16.864959876970175,
            "count": 40
           },
           {
            "bin_start": -16.864959876970175,
            "bin_end": 72.32424882555586,
            "count": 242
           },
           {
            "bin_start": 72.32424882555586,
            "bin_end": 161.51345752808191,
            "count": 58
           },
           {
            "bin_start": 161.51345752808191,
            "bin_end": 250.70266623060797,
            "count": 9
           },
           {
            "bin_start": 250.70266623060797,
            "bin_end": 339.891874933134,
            "count": 1
           },
           {
            "bin_start": 339.891874933134,
            "bin_end": 429.0810836356601,
            "count": 0
           },
           {
            "bin_start": 429.0810836356601,
            "bin_end": 518.2702923381861,
            "count": 0
           },
           {
            "bin_start": 518.2702923381861,
            "bin_end": 607.4595010407121,
            "count": 0
           },
           {
            "bin_start": 607.4595010407121,
            "bin_end": 696.6487097432382,
            "count": 1
           }
          ]
         }
        },
        {
         "name": 201,
         "dtype": "float64",
         "stats": {
          "unique_count": 360,
          "nan_count": 0,
          "min": "-166.98325425717394",
          "max": "504.209766809543",
          "histogram": [
           {
            "bin_start": -166.98325425717394,
            "bin_end": -99.86395215050224,
            "count": 4
           },
           {
            "bin_start": -99.86395215050224,
            "bin_end": -32.744650043830546,
            "count": 27
           },
           {
            "bin_start": -32.744650043830546,
            "bin_end": 34.374652062841164,
            "count": 175
           },
           {
            "bin_start": 34.374652062841164,
            "bin_end": 101.49395416951285,
            "count": 131
           },
           {
            "bin_start": 101.49395416951285,
            "bin_end": 168.61325627618453,
            "count": 16
           },
           {
            "bin_start": 168.61325627618453,
            "bin_end": 235.73255838285627,
            "count": 4
           },
           {
            "bin_start": 235.73255838285627,
            "bin_end": 302.85186048952795,
            "count": 1
           },
           {
            "bin_start": 302.85186048952795,
            "bin_end": 369.97116259619963,
            "count": 1
           },
           {
            "bin_start": 369.97116259619963,
            "bin_end": 437.0904647028714,
            "count": 0
           },
           {
            "bin_start": 437.0904647028714,
            "bin_end": 504.209766809543,
            "count": 1
           }
          ]
         }
        },
        {
         "name": 202,
         "dtype": "float64",
         "stats": {
          "unique_count": 360,
          "nan_count": 0,
          "min": "-210.86800960256915",
          "max": "538.811488939953",
          "histogram": [
           {
            "bin_start": -210.86800960256915,
            "bin_end": -135.90005974831692,
            "count": 2
           },
           {
            "bin_start": -135.90005974831692,
            "bin_end": -60.932109894064695,
            "count": 19
           },
           {
            "bin_start": -60.932109894064695,
            "bin_end": 14.03583996018753,
            "count": 119
           },
           {
            "bin_start": 14.03583996018753,
            "bin_end": 89.00378981443976,
            "count": 185
           },
           {
            "bin_start": 89.00378981443976,
            "bin_end": 163.97173966869195,
            "count": 29
           },
           {
            "bin_start": 163.97173966869195,
            "bin_end": 238.9396895229442,
            "count": 4
           },
           {
            "bin_start": 238.9396895229442,
            "bin_end": 313.90763937719646,
            "count": 1
           },
           {
            "bin_start": 313.90763937719646,
            "bin_end": 388.87558923144866,
            "count": 0
           },
           {
            "bin_start": 388.87558923144866,
            "bin_end": 463.84353908570085,
            "count": 0
           },
           {
            "bin_start": 463.84353908570085,
            "bin_end": 538.811488939953,
            "count": 1
           }
          ]
         }
        },
        {
         "name": 203,
         "dtype": "float64",
         "stats": {
          "unique_count": 360,
          "nan_count": 0,
          "min": "-193.08879239450926",
          "max": "274.76724738149096",
          "histogram": [
           {
            "bin_start": -193.08879239450926,
            "bin_end": -146.30318841690922,
            "count": 2
           },
           {
            "bin_start": -146.30318841690922,
            "bin_end": -99.51758443930922,
            "count": 2
           },
           {
            "bin_start": -99.51758443930922,
            "bin_end": -52.73198046170921,
            "count": 16
           },
           {
            "bin_start": -52.73198046170921,
            "bin_end": -5.94637648410918,
            "count": 77
           },
           {
            "bin_start": -5.94637648410918,
            "bin_end": 40.83922749349085,
            "count": 167
           },
           {
            "bin_start": 40.83922749349085,
            "bin_end": 87.62483147109083,
            "count": 64
           },
           {
            "bin_start": 87.62483147109083,
            "bin_end": 134.41043544869086,
            "count": 21
           },
           {
            "bin_start": 134.41043544869086,
            "bin_end": 181.1960394262909,
            "count": 5
           },
           {
            "bin_start": 181.1960394262909,
            "bin_end": 227.98164340389093,
            "count": 3
           },
           {
            "bin_start": 227.98164340389093,
            "bin_end": 274.76724738149096,
            "count": 3
           }
          ]
         }
        },
        {
         "name": 204,
         "dtype": "float64",
         "stats": {
          "unique_count": 360,
          "nan_count": 0,
          "min": "-155.20545407973532",
          "max": "353.0712170048555",
          "histogram": [
           {
            "bin_start": -155.20545407973532,
            "bin_end": -104.37778697127624,
            "count": 8
           },
           {
            "bin_start": -104.37778697127624,
            "bin_end": -53.550119862817155,
            "count": 27
           },
           {
            "bin_start": -53.550119862817155,
            "bin_end": -2.7224527543580734,
            "count": 68
           },
           {
            "bin_start": -2.7224527543580734,
            "bin_end": 48.10521435410101,
            "count": 161
           },
           {
            "bin_start": 48.10521435410101,
            "bin_end": 98.93288146256009,
            "count": 75
           },
           {
            "bin_start": 98.93288146256009,
            "bin_end": 149.76054857101917,
            "count": 12
           },
           {
            "bin_start": 149.76054857101917,
            "bin_end": 200.58821567947825,
            "count": 7
           },
           {
            "bin_start": 200.58821567947825,
            "bin_end": 251.41588278793733,
            "count": 1
           },
           {
            "bin_start": 251.41588278793733,
            "bin_end": 302.2435498963964,
            "count": 0
           },
           {
            "bin_start": 302.2435498963964,
            "bin_end": 353.0712170048555,
            "count": 1
           }
          ]
         }
        },
        {
         "name": 205,
         "dtype": "float64",
         "stats": {
          "unique_count": 360,
          "nan_count": 0,
          "min": "-167.59334042728733",
          "max": "420.86350028310153",
          "histogram": [
           {
            "bin_start": -167.59334042728733,
            "bin_end": -108.74765635624844,
            "count": 6
           },
           {
            "bin_start": -108.74765635624844,
            "bin_end": -49.90197228520955,
            "count": 19
           },
           {
            "bin_start": -49.90197228520955,
            "bin_end": 8.94371178582935,
            "count": 115
           },
           {
            "bin_start": 8.94371178582935,
            "bin_end": 67.78939585686823,
            "count": 165
           },
           {
            "bin_start": 67.78939585686823,
            "bin_end": 126.6350799279071,
            "count": 38
           },
           {
            "bin_start": 126.6350799279071,
            "bin_end": 185.48076399894603,
            "count": 13
           },
           {
            "bin_start": 185.48076399894603,
            "bin_end": 244.3264480699849,
            "count": 2
           },
           {
            "bin_start": 244.3264480699849,
            "bin_end": 303.1721321410238,
            "count": 1
           },
           {
            "bin_start": 303.1721321410238,
            "bin_end": 362.0178162120627,
            "count": 0
           },
           {
            "bin_start": 362.0178162120627,
            "bin_end": 420.86350028310153,
            "count": 1
           }
          ]
         }
        },
        {
         "name": 206,
         "dtype": "float64",
         "stats": {
          "unique_count": 360,
          "nan_count": 0,
          "min": "-177.47653578250356",
          "max": "267.7974613908118",
          "histogram": [
           {
            "bin_start": -177.47653578250356,
            "bin_end": -132.949136065172,
            "count": 4
           },
           {
            "bin_start": -132.949136065172,
            "bin_end": -88.4217363478405,
            "count": 10
           },
           {
            "bin_start": -88.4217363478405,
            "bin_end": -43.894336630508974,
            "count": 26
           },
           {
            "bin_start": -43.894336630508974,
            "bin_end": 0.633063086822574,
            "count": 80
           },
           {
            "bin_start": 0.633063086822574,
            "bin_end": 45.16046280415412,
            "count": 135
           },
           {
            "bin_start": 45.16046280415412,
            "bin_end": 89.68786252148561,
            "count": 66
           },
           {
            "bin_start": 89.68786252148561,
            "bin_end": 134.21526223881716,
            "count": 33
           },
           {
            "bin_start": 134.21526223881716,
            "bin_end": 178.7426619561487,
            "count": 4
           },
           {
            "bin_start": 178.7426619561487,
            "bin_end": 223.27006167348026,
            "count": 1
           },
           {
            "bin_start": 223.27006167348026,
            "bin_end": 267.7974613908118,
            "count": 1
           }
          ]
         }
        },
        {
         "name": 207,
         "dtype": "float64",
         "stats": {
          "unique_count": 360,
          "nan_count": 0,
          "min": "-317.96056294836944",
          "max": "505.4142471030136",
          "histogram": [
           {
            "bin_start": -317.96056294836944,
            "bin_end": -235.62308194323114,
            "count": 1
           },
           {
            "bin_start": -235.62308194323114,
            "bin_end": -153.28560093809284,
            "count": 1
           },
           {
            "bin_start": -153.28560093809284,
            "bin_end": -70.94811993295454,
            "count": 13
           },
           {
            "bin_start": -70.94811993295454,
            "bin_end": 11.38936107218376,
            "count": 177
           },
           {
            "bin_start": 11.38936107218376,
            "bin_end": 93.72684207732209,
            "count": 156
           },
           {
            "bin_start": 93.72684207732209,
            "bin_end": 176.06432308246036,
            "count": 10
           },
           {
            "bin_start": 176.06432308246036,
            "bin_end": 258.40180408759863,
            "count": 1
           },
           {
            "bin_start": 258.40180408759863,
            "bin_end": 340.73928509273696,
            "count": 0
           },
           {
            "bin_start": 340.73928509273696,
            "bin_end": 423.0767660978753,
            "count": 0
           },
           {
            "bin_start": 423.0767660978753,
            "bin_end": 505.4142471030136,
            "count": 1
           }
          ]
         }
        },
        {
         "name": 208,
         "dtype": "float64",
         "stats": {
          "unique_count": 360,
          "nan_count": 0,
          "min": "-213.47175137888462",
          "max": "404.71889391290824",
          "histogram": [
           {
            "bin_start": -213.47175137888462,
            "bin_end": -151.65268684970533,
            "count": 6
           },
           {
            "bin_start": -151.65268684970533,
            "bin_end": -89.83362232052605,
            "count": 21
           },
           {
            "bin_start": -89.83362232052605,
            "bin_end": -28.01455779134676,
            "count": 116
           },
           {
            "bin_start": -28.01455779134676,
            "bin_end": 33.804506737832526,
            "count": 159
           },
           {
            "bin_start": 33.804506737832526,
            "bin_end": 95.62357126701181,
            "count": 49
           },
           {
            "bin_start": 95.62357126701181,
            "bin_end": 157.4426357961911,
            "count": 7
           },
           {
            "bin_start": 157.4426357961911,
            "bin_end": 219.26170032537038,
            "count": 1
           },
           {
            "bin_start": 219.26170032537038,
            "bin_end": 281.08076485454967,
            "count": 0
           },
           {
            "bin_start": 281.08076485454967,
            "bin_end": 342.89982938372896,
            "count": 0
           },
           {
            "bin_start": 342.89982938372896,
            "bin_end": 404.71889391290824,
            "count": 1
           }
          ]
         }
        },
        {
         "name": 209,
         "dtype": "float64",
         "stats": {
          "unique_count": 360,
          "nan_count": 0,
          "min": "-303.99007734516726",
          "max": "670.3868313628282",
          "histogram": [
           {
            "bin_start": -303.99007734516726,
            "bin_end": -206.55238647436772,
            "count": 2
           },
           {
            "bin_start": -206.55238647436772,
            "bin_end": -109.11469560356818,
            "count": 10
           },
           {
            "bin_start": -109.11469560356818,
            "bin_end": -11.677004732768637,
            "count": 112
           },
           {
            "bin_start": -11.677004732768637,
            "bin_end": 85.7606861380309,
            "count": 218
           },
           {
            "bin_start": 85.7606861380309,
            "bin_end": 183.19837700883045,
            "count": 14
           },
           {
            "bin_start": 183.19837700883045,
            "bin_end": 280.63606787963,
            "count": 2
           },
           {
            "bin_start": 280.63606787963,
            "bin_end": 378.07375875042953,
            "count": 1
           },
           {
            "bin_start": 378.07375875042953,
            "bin_end": 475.5114496212291,
            "count": 0
           },
           {
            "bin_start": 475.5114496212291,
            "bin_end": 572.9491404920286,
            "count": 0
           },
           {
            "bin_start": 572.9491404920286,
            "bin_end": 670.3868313628282,
            "count": 1
           }
          ]
         }
        },
        {
         "name": 210,
         "dtype": "float64",
         "stats": {
          "unique_count": 360,
          "nan_count": 0,
          "min": "-331.3310146989488",
          "max": "375.0214874375488",
          "histogram": [
           {
            "bin_start": -331.3310146989488,
            "bin_end": -260.69576448529904,
            "count": 1
           },
           {
            "bin_start": -260.69576448529904,
            "bin_end": -190.0605142716493,
            "count": 2
           },
           {
            "bin_start": -190.0605142716493,
            "bin_end": -119.42526405799956,
            "count": 6
           },
           {
            "bin_start": -119.42526405799956,
            "bin_end": -48.7900138443498,
            "count": 48
           },
           {
            "bin_start": -48.7900138443498,
            "bin_end": 21.845236369299982,
            "count": 163
           },
           {
            "bin_start": 21.845236369299982,
            "bin_end": 92.48048658294971,
            "count": 120
           },
           {
            "bin_start": 92.48048658294971,
            "bin_end": 163.11573679659944,
            "count": 17
           },
           {
            "bin_start": 163.11573679659944,
            "bin_end": 233.75098701024922,
            "count": 1
           },
           {
            "bin_start": 233.75098701024922,
            "bin_end": 304.386237223899,
            "count": 1
           },
           {
            "bin_start": 304.386237223899,
            "bin_end": 375.0214874375488,
            "count": 1
           }
          ]
         }
        },
        {
         "name": 211,
         "dtype": "float64",
         "stats": {
          "unique_count": 360,
          "nan_count": 0,
          "min": "-371.15224046573076",
          "max": "541.0504212316191",
          "histogram": [
           {
            "bin_start": -371.15224046573076,
            "bin_end": -279.93197429599576,
            "count": 1
           },
           {
            "bin_start": -279.93197429599576,
            "bin_end": -188.7117081262608,
            "count": 0
           },
           {
            "bin_start": -188.7117081262608,
            "bin_end": -97.49144195652582,
            "count": 19
           },
           {
            "bin_start": -97.49144195652582,
            "bin_end": -6.27117578679082,
            "count": 87
           },
           {
            "bin_start": -6.27117578679082,
            "bin_end": 84.94909038294418,
            "count": 218
           },
           {
            "bin_start": 84.94909038294418,
            "bin_end": 176.16935655267912,
            "count": 32
           },
           {
            "bin_start": 176.16935655267912,
            "bin_end": 267.3896227224142,
            "count": 1
           },
           {
            "bin_start": 267.3896227224142,
            "bin_end": 358.6098888921491,
            "count": 1
           },
           {
            "bin_start": 358.6098888921491,
            "bin_end": 449.83015506188406,
            "count": 0
           },
           {
            "bin_start": 449.83015506188406,
            "bin_end": 541.0504212316191,
            "count": 1
           }
          ]
         }
        },
        {
         "name": 212,
         "dtype": "float64",
         "stats": {
          "unique_count": 360,
          "nan_count": 0,
          "min": "-251.01318466476005",
          "max": "454.83581223222063",
          "histogram": [
           {
            "bin_start": -251.01318466476005,
            "bin_end": -180.42828497506198,
            "count": 2
           },
           {
            "bin_start": -180.42828497506198,
            "bin_end": -109.84338528536392,
            "count": 8
           },
           {
            "bin_start": -109.84338528536392,
            "bin_end": -39.25848559566586,
            "count": 44
           },
           {
            "bin_start": -39.25848559566586,
            "bin_end": 31.326414094032202,
            "count": 186
           },
           {
            "bin_start": 31.326414094032202,
            "bin_end": 101.9113137837303,
            "count": 103
           },
           {
            "bin_start": 101.9113137837303,
            "bin_end": 172.49621347342833,
            "count": 12
           },
           {
            "bin_start": 172.49621347342833,
            "bin_end": 243.08111316312636,
            "count": 2
           },
           {
            "bin_start": 243.08111316312636,
            "bin_end": 313.66601285282445,
            "count": 1
           },
           {
            "bin_start": 313.66601285282445,
            "bin_end": 384.25091254252254,
            "count": 0
           },
           {
            "bin_start": 384.25091254252254,
            "bin_end": 454.83581223222063,
            "count": 2
           }
          ]
         }
        },
        {
         "name": 213,
         "dtype": "float64",
         "stats": {
          "unique_count": 360,
          "nan_count": 0,
          "min": "-177.8982560561053",
          "max": "277.2192663838632",
          "histogram": [
           {
            "bin_start": -177.8982560561053,
            "bin_end": -132.38650381210846,
            "count": 6
           },
           {
            "bin_start": -132.38650381210846,
            "bin_end": -86.8747515681116,
            "count": 12
           },
           {
            "bin_start": -86.8747515681116,
            "bin_end": -41.36299932411475,
            "count": 54
           },
           {
            "bin_start": -41.36299932411475,
            "bin_end": 4.148752919882099,
            "count": 134
           },
           {
            "bin_start": 4.148752919882099,
            "bin_end": 49.66050516387895,
            "count": 108
           },
           {
            "bin_start": 49.66050516387895,
            "bin_end": 95.1722574078758,
            "count": 24
           },
           {
            "bin_start": 95.1722574078758,
            "bin_end": 140.68400965187266,
            "count": 13
           },
           {
            "bin_start": 140.68400965187266,
            "bin_end": 186.1957618958695,
            "count": 6
           },
           {
            "bin_start": 186.1957618958695,
            "bin_end": 231.70751413986636,
            "count": 2
           },
           {
            "bin_start": 231.70751413986636,
            "bin_end": 277.2192663838632,
            "count": 1
           }
          ]
         }
        },
        {
         "name": 214,
         "dtype": "float64",
         "stats": {
          "unique_count": 360,
          "nan_count": 0,
          "min": "-228.96516199380994",
          "max": "295.4330115010507",
          "histogram": [
           {
            "bin_start": -228.96516199380994,
            "bin_end": -176.52534464432387,
            "count": 1
           },
           {
            "bin_start": -176.52534464432387,
            "bin_end": -124.08552729483782,
            "count": 9
           },
           {
            "bin_start": -124.08552729483782,
            "bin_end": -71.64570994535177,
            "count": 18
           },
           {
            "bin_start": -71.64570994535177,
            "bin_end": -19.20589259586569,
            "count": 105
           },
           {
            "bin_start": -19.20589259586569,
            "bin_end": 33.233924753620386,
            "count": 166
           },
           {
            "bin_start": 33.233924753620386,
            "bin_end": 85.6737421031064,
            "count": 44
           },
           {
            "bin_start": 85.6737421031064,
            "bin_end": 138.11355945259248,
            "count": 11
           },
           {
            "bin_start": 138.11355945259248,
            "bin_end": 190.55337680207856,
            "count": 2
           },
           {
            "bin_start": 190.55337680207856,
            "bin_end": 242.99319415156464,
            "count": 2
           },
           {
            "bin_start": 242.99319415156464,
            "bin_end": 295.4330115010507,
            "count": 2
           }
          ]
         }
        },
        {
         "name": 215,
         "dtype": "float64",
         "stats": {
          "unique_count": 360,
          "nan_count": 0,
          "min": "-215.82273913795507",
          "max": "352.51073899003313",
          "histogram": [
           {
            "bin_start": -215.82273913795507,
            "bin_end": -158.98939132515625,
            "count": 4
           },
           {
            "bin_start": -158.98939132515625,
            "bin_end": -102.15604351235743,
            "count": 7
           },
           {
            "bin_start": -102.15604351235743,
            "bin_end": -45.32269569955861,
            "count": 64
           },
           {
            "bin_start": -45.32269569955861,
            "bin_end": 11.510652113240212,
            "count": 153
           },
           {
            "bin_start": 11.510652113240212,
            "bin_end": 68.34399992603903,
            "count": 95
           },
           {
            "bin_start": 68.34399992603903,
            "bin_end": 125.17734773883785,
            "count": 26
           },
           {
            "bin_start": 125.17734773883785,
            "bin_end": 182.01069555163667,
            "count": 7
           },
           {
            "bin_start": 182.01069555163667,
            "bin_end": 238.8440433644355,
            "count": 2
           },
           {
            "bin_start": 238.8440433644355,
            "bin_end": 295.6773911772343,
            "count": 1
           },
           {
            "bin_start": 295.6773911772343,
            "bin_end": 352.51073899003313,
            "count": 1
           }
          ]
         }
        },
        {
         "name": 216,
         "dtype": "float64",
         "stats": {
          "unique_count": 360,
          "nan_count": 0,
          "min": "-181.9387596533761",
          "max": "446.00198748762887",
          "histogram": [
           {
            "bin_start": -181.9387596533761,
            "bin_end": -119.1446849392756,
            "count": 7
           },
           {
            "bin_start": -119.1446849392756,
            "bin_end": -56.35061022517512,
            "count": 43
           },
           {
            "bin_start": -56.35061022517512,
            "bin_end": 6.443464488925372,
            "count": 160
           },
           {
            "bin_start": 6.443464488925372,
            "bin_end": 69.23753920302588,
            "count": 108
           },
           {
            "bin_start": 69.23753920302588,
            "bin_end": 132.03161391712638,
            "count": 28
           },
           {
            "bin_start": 132.03161391712638,
            "bin_end": 194.82568863122685,
            "count": 7
           },
           {
            "bin_start": 194.82568863122685,
            "bin_end": 257.6197633453274,
            "count": 4
           },
           {
            "bin_start": 257.6197633453274,
            "bin_end": 320.41383805942786,
            "count": 1
           },
           {
            "bin_start": 320.41383805942786,
            "bin_end": 383.2079127735284,
            "count": 0
           },
           {
            "bin_start": 383.2079127735284,
            "bin_end": 446.00198748762887,
            "count": 2
           }
          ]
         }
        },
        {
         "name": 217,
         "dtype": "float64",
         "stats": {
          "unique_count": 360,
          "nan_count": 0,
          "min": "-159.4968315767419",
          "max": "301.45078144973013",
          "histogram": [
           {
            "bin_start": -159.4968315767419,
            "bin_end": -113.4020702740947,
            "count": 12
           },
           {
            "bin_start": -113.4020702740947,
            "bin_end": -67.3073089714475,
            "count": 34
           },
           {
            "bin_start": -67.3073089714475,
            "bin_end": -21.212547668800312,
            "count": 98
           },
           {
            "bin_start": -21.212547668800312,
            "bin_end": 24.882213633846902,
            "count": 108
           },
           {
            "bin_start": 24.882213633846902,
            "bin_end": 70.97697493649412,
            "count": 75
           },
           {
            "bin_start": 70.97697493649412,
            "bin_end": 117.07173623914127,
            "count": 17
           },
           {
            "bin_start": 117.07173623914127,
            "bin_end": 163.1664975417885,
            "count": 9
           },
           {
            "bin_start": 163.1664975417885,
            "bin_end": 209.2612588444357,
            "count": 3
           },
           {
            "bin_start": 209.2612588444357,
            "bin_end": 255.35602014708292,
            "count": 3
           },
           {
            "bin_start": 255.35602014708292,
            "bin_end": 301.45078144973013,
            "count": 1
           }
          ]
         }
        },
        {
         "name": 218,
         "dtype": "float64",
         "stats": {
          "unique_count": 360,
          "nan_count": 0,
          "min": "-229.13874814219162",
          "max": "423.37361333899025",
          "histogram": [
           {
            "bin_start": -229.13874814219162,
            "bin_end": -163.88751199407344,
            "count": 3
           },
           {
            "bin_start": -163.88751199407344,
            "bin_end": -98.63627584595525,
            "count": 24
           },
           {
            "bin_start": -98.63627584595525,
            "bin_end": -33.38503969783707,
            "count": 88
           },
           {
            "bin_start": -33.38503969783707,
            "bin_end": 31.86619645028111,
            "count": 174
           },
           {
            "bin_start": 31.86619645028111,
            "bin_end": 97.11743259839932,
            "count": 49
           },
           {
            "bin_start": 97.11743259839932,
            "bin_end": 162.36866874651747,
            "count": 11
           },
           {
            "bin_start": 162.36866874651747,
            "bin_end": 227.61990489463562,
            "count": 5
           },
           {
            "bin_start": 227.61990489463562,
            "bin_end": 292.87114104275383,
            "count": 4
           },
           {
            "bin_start": 292.87114104275383,
            "bin_end": 358.12237719087204,
            "count": 1
           },
           {
            "bin_start": 358.12237719087204,
            "bin_end": 423.37361333899025,
            "count": 1
           }
          ]
         }
        },
        {
         "name": 219,
         "dtype": "float64",
         "stats": {
          "unique_count": 360,
          "nan_count": 0,
          "min": "-273.79981822832633",
          "max": "311.2561995385149",
          "histogram": [
           {
            "bin_start": -273.79981822832633,
            "bin_end": -215.2942164516422,
            "count": 2
           },
           {
            "bin_start": -215.2942164516422,
            "bin_end": -156.78861467495807,
            "count": 3
           },
           {
            "bin_start": -156.78861467495807,
            "bin_end": -98.28301289827397,
            "count": 13
           },
           {
            "bin_start": -98.28301289827397,
            "bin_end": -39.777411121589836,
            "count": 72
           },
           {
            "bin_start": -39.777411121589836,
            "bin_end": 18.728190655094295,
            "count": 165
           },
           {
            "bin_start": 18.728190655094295,
            "bin_end": 77.2337924317784,
            "count": 74
           },
           {
            "bin_start": 77.2337924317784,
            "bin_end": 135.73939420846256,
            "count": 19
           },
           {
            "bin_start": 135.73939420846256,
            "bin_end": 194.24499598514666,
            "count": 8
           },
           {
            "bin_start": 194.24499598514666,
            "bin_end": 252.75059776183082,
            "count": 2
           },
           {
            "bin_start": 252.75059776183082,
            "bin_end": 311.2561995385149,
            "count": 2
           }
          ]
         }
        },
        {
         "name": 220,
         "dtype": "float64",
         "stats": {
          "unique_count": 360,
          "nan_count": 0,
          "min": "-173.3934362061873",
          "max": "472.3753191933574",
          "histogram": [
           {
            "bin_start": -173.3934362061873,
            "bin_end": -108.81656066623282,
            "count": 15
           },
           {
            "bin_start": -108.81656066623282,
            "bin_end": -44.239685126278346,
            "count": 75
           },
           {
            "bin_start": -44.239685126278346,
            "bin_end": 20.337190413676126,
            "count": 167
           },
           {
            "bin_start": 20.337190413676126,
            "bin_end": 84.9140659536306,
            "count": 84
           },
           {
            "bin_start": 84.9140659536306,
            "bin_end": 149.49094149358507,
            "count": 12
           },
           {
            "bin_start": 149.49094149358507,
            "bin_end": 214.06781703353954,
            "count": 4
           },
           {
            "bin_start": 214.06781703353954,
            "bin_end": 278.644692573494,
            "count": 1
           },
           {
            "bin_start": 278.644692573494,
            "bin_end": 343.2215681134485,
            "count": 1
           },
           {
            "bin_start": 343.2215681134485,
            "bin_end": 407.79844365340296,
            "count": 0
           },
           {
            "bin_start": 407.79844365340296,
            "bin_end": 472.3753191933574,
            "count": 1
           }
          ]
         }
        },
        {
         "name": 221,
         "dtype": "float64",
         "stats": {
          "unique_count": 360,
          "nan_count": 0,
          "min": "-197.19914259246707",
          "max": "489.8096109351445",
          "histogram": [
           {
            "bin_start": -197.19914259246707,
            "bin_end": -128.4982672397059,
            "count": 10
           },
           {
            "bin_start": -128.4982672397059,
            "bin_end": -59.79739188694475,
            "count": 46
           },
           {
            "bin_start": -59.79739188694475,
            "bin_end": 8.903483465816407,
            "count": 155
           },
           {
            "bin_start": 8.903483465816407,
            "bin_end": 77.60435881857757,
            "count": 116
           },
           {
            "bin_start": 77.60435881857757,
            "bin_end": 146.30523417133872,
            "count": 28
           },
           {
            "bin_start": 146.30523417133872,
            "bin_end": 215.00610952409988,
            "count": 4
           },
           {
            "bin_start": 215.00610952409988,
            "bin_end": 283.70698487686104,
            "count": 0
           },
           {
            "bin_start": 283.70698487686104,
            "bin_end": 352.4078602296222,
            "count": 0
           },
           {
            "bin_start": 352.4078602296222,
            "bin_end": 421.10873558238336,
            "count": 0
           },
           {
            "bin_start": 421.10873558238336,
            "bin_end": 489.8096109351445,
            "count": 1
           }
          ]
         }
        },
        {
         "name": 222,
         "dtype": "float64",
         "stats": {
          "unique_count": 360,
          "nan_count": 0,
          "min": "-253.85309646523365",
          "max": "333.41569222681574",
          "histogram": [
           {
            "bin_start": -253.85309646523365,
            "bin_end": -195.1262175960287,
            "count": 2
           },
           {
            "bin_start": -195.1262175960287,
            "bin_end": -136.39933872682377,
            "count": 5
           },
           {
            "bin_start": -136.39933872682377,
            "bin_end": -77.67245985761883,
            "count": 29
           },
           {
            "bin_start": -77.67245985761883,
            "bin_end": -18.945580988413894,
            "count": 97
           },
           {
            "bin_start": -18.945580988413894,
            "bin_end": 39.781297880791044,
            "count": 153
           },
           {
            "bin_start": 39.781297880791044,
            "bin_end": 98.50817674999598,
            "count": 57
           },
           {
            "bin_start": 98.50817674999598,
            "bin_end": 157.23505561920092,
            "count": 8
           },
           {
            "bin_start": 157.23505561920092,
            "bin_end": 215.96193448840586,
            "count": 8
           },
           {
            "bin_start": 215.96193448840586,
            "bin_end": 274.6888133576108,
            "count": 0
           },
           {
            "bin_start": 274.6888133576108,
            "bin_end": 333.41569222681574,
            "count": 1
           }
          ]
         }
        },
        {
         "name": 223,
         "dtype": "float64",
         "stats": {
          "unique_count": 360,
          "nan_count": 0,
          "min": "-187.36206542082527",
          "max": "229.96868968485796",
          "histogram": [
           {
            "bin_start": -187.36206542082527,
            "bin_end": -145.62898991025696,
            "count": 7
           },
           {
            "bin_start": -145.62898991025696,
            "bin_end": -103.89591439968862,
            "count": 11
           },
           {
            "bin_start": -103.89591439968862,
            "bin_end": -62.162838889120295,
            "count": 45
           },
           {
            "bin_start": -62.162838889120295,
            "bin_end": -20.429763378551968,
            "count": 100
           },
           {
            "bin_start": -20.429763378551968,
            "bin_end": 21.303312132016345,
            "count": 96
           },
           {
            "bin_start": 21.303312132016345,
            "bin_end": 63.036387642584685,
            "count": 70
           },
           {
            "bin_start": 63.036387642584685,
            "bin_end": 104.76946315315303,
            "count": 15
           },
           {
            "bin_start": 104.76946315315303,
            "bin_end": 146.50253866372134,
            "count": 9
           },
           {
            "bin_start": 146.50253866372134,
            "bin_end": 188.23561417428965,
            "count": 3
           },
           {
            "bin_start": 188.23561417428965,
            "bin_end": 229.96868968485796,
            "count": 4
           }
          ]
         }
        },
        {
         "name": 224,
         "dtype": "float64",
         "stats": {
          "unique_count": 360,
          "nan_count": 0,
          "min": "-334.273053906124",
          "max": "479.4399131687187",
          "histogram": [
           {
            "bin_start": -334.273053906124,
            "bin_end": -252.90175719863973,
            "count": 1
           },
           {
            "bin_start": -252.90175719863973,
            "bin_end": -171.53046049115545,
            "count": 3
           },
           {
            "bin_start": -171.53046049115545,
            "bin_end": -90.15916378367118,
            "count": 32
           },
           {
            "bin_start": -90.15916378367118,
            "bin_end": -8.787867076186899,
            "count": 153
           },
           {
            "bin_start": -8.787867076186899,
            "bin_end": 72.58342963129735,
            "count": 141
           },
           {
            "bin_start": 72.58342963129735,
            "bin_end": 153.95472633878165,
            "count": 23
           },
           {
            "bin_start": 153.95472633878165,
            "bin_end": 235.32602304626596,
            "count": 4
           },
           {
            "bin_start": 235.32602304626596,
            "bin_end": 316.6973197537502,
            "count": 2
           },
           {
            "bin_start": 316.6973197537502,
            "bin_end": 398.06861646123446,
            "count": 0
           },
           {
            "bin_start": 398.06861646123446,
            "bin_end": 479.4399131687187,
            "count": 1
           }
          ]
         }
        },
        {
         "name": 225,
         "dtype": "float64",
         "stats": {
          "unique_count": 360,
          "nan_count": 0,
          "min": "-261.34574547140255",
          "max": "504.23767083097846",
          "histogram": [
           {
            "bin_start": -261.34574547140255,
            "bin_end": -184.78740384116446,
            "count": 3
           },
           {
            "bin_start": -184.78740384116446,
            "bin_end": -108.22906221092634,
            "count": 25
           },
           {
            "bin_start": -108.22906221092634,
            "bin_end": -31.670720580688226,
            "count": 86
           },
           {
            "bin_start": -31.670720580688226,
            "bin_end": 44.887621049549864,
            "count": 180
           },
           {
            "bin_start": 44.887621049549864,
            "bin_end": 121.44596267978795,
            "count": 50
           },
           {
            "bin_start": 121.44596267978795,
            "bin_end": 198.0043043100261,
            "count": 11
           },
           {
            "bin_start": 198.0043043100261,
            "bin_end": 274.56264594026413,
            "count": 3
           },
           {
            "bin_start": 274.56264594026413,
            "bin_end": 351.1209875705023,
            "count": 1
           },
           {
            "bin_start": 351.1209875705023,
            "bin_end": 427.6793292007404,
            "count": 0
           },
           {
            "bin_start": 427.6793292007404,
            "bin_end": 504.23767083097846,
            "count": 1
           }
          ]
         }
        },
        {
         "name": 226,
         "dtype": "float64",
         "stats": {
          "unique_count": 360,
          "nan_count": 0,
          "min": "-227.1946673571092",
          "max": "354.5477472648763",
          "histogram": [
           {
            "bin_start": -227.1946673571092,
            "bin_end": -169.02042589491066,
            "count": 2
           },
           {
            "bin_start": -169.02042589491066,
            "bin_end": -110.8461844327121,
            "count": 7
           },
           {
            "bin_start": -110.8461844327121,
            "bin_end": -52.671942970513555,
            "count": 45
           },
           {
            "bin_start": -52.671942970513555,
            "bin_end": 5.502298491684996,
            "count": 124
           },
           {
            "bin_start": 5.502298491684996,
            "bin_end": 63.67653995388355,
            "count": 117
           },
           {
            "bin_start": 63.67653995388355,
            "bin_end": 121.8507814160821,
            "count": 44
           },
           {
            "bin_start": 121.8507814160821,
            "bin_end": 180.02502287828065,
            "count": 14
           },
           {
            "bin_start": 180.02502287828065,
            "bin_end": 238.1992643404792,
            "count": 2
           },
           {
            "bin_start": 238.1992643404792,
            "bin_end": 296.37350580267776,
            "count": 4
           },
           {
            "bin_start": 296.37350580267776,
            "bin_end": 354.5477472648763,
            "count": 1
           }
          ]
         }
        },
        {
         "name": 227,
         "dtype": "float64",
         "stats": {
          "unique_count": 360,
          "nan_count": 0,
          "min": "-205.68965149591713",
          "max": "311.3149037786934",
          "histogram": [
           {
            "bin_start": -205.68965149591713,
            "bin_end": -153.98919596845607,
            "count": 3
           },
           {
            "bin_start": -153.98919596845607,
            "bin_end": -102.28874044099503,
            "count": 7
           },
           {
            "bin_start": -102.28874044099503,
            "bin_end": -50.58828491353398,
            "count": 40
           },
           {
            "bin_start": -50.58828491353398,
            "bin_end": 1.112170613927077,
            "count": 104
           },
           {
            "bin_start": 1.112170613927077,
            "bin_end": 52.81262614138814,
            "count": 121
           },
           {
            "bin_start": 52.81262614138814,
            "bin_end": 104.51308166884917,
            "count": 55
           },
           {
            "bin_start": 104.51308166884917,
            "bin_end": 156.21353719631026,
            "count": 17
           },
           {
            "bin_start": 156.21353719631026,
            "bin_end": 207.9139927237713,
            "count": 8
           },
           {
            "bin_start": 207.9139927237713,
            "bin_end": 259.6144482512323,
            "count": 1
           },
           {
            "bin_start": 259.6144482512323,
            "bin_end": 311.3149037786934,
            "count": 4
           }
          ]
         }
        },
        {
         "name": 228,
         "dtype": "float64",
         "stats": {
          "unique_count": 360,
          "nan_count": 0,
          "min": "-264.0440937346575",
          "max": "277.00402825285346",
          "histogram": [
           {
            "bin_start": -264.0440937346575,
            "bin_end": -209.93928153590642,
            "count": 3
           },
           {
            "bin_start": -209.93928153590642,
            "bin_end": -155.83446933715533,
            "count": 5
           },
           {
            "bin_start": -155.83446933715533,
            "bin_end": -101.7296571384042,
            "count": 7
           },
           {
            "bin_start": -101.7296571384042,
            "bin_end": -47.624844939653116,
            "count": 42
           },
           {
            "bin_start": -47.624844939653116,
            "bin_end": 6.479967259097975,
            "count": 115
           },
           {
            "bin_start": 6.479967259097975,
            "bin_end": 60.584779457849095,
            "count": 134
           },
           {
            "bin_start": 60.584779457849095,
            "bin_end": 114.68959165660016,
            "count": 42
           },
           {
            "bin_start": 114.68959165660016,
            "bin_end": 168.79440385535128,
            "count": 4
           },
           {
            "bin_start": 168.79440385535128,
            "bin_end": 222.8992160541024,
            "count": 5
           },
           {
            "bin_start": 222.8992160541024,
            "bin_end": 277.00402825285346,
            "count": 3
           }
          ]
         }
        },
        {
         "name": 229,
         "dtype": "float64",
         "stats": {
          "unique_count": 360,
          "nan_count": 0,
          "min": "-211.8914419627663",
          "max": "287.5137261644486",
          "histogram": [
           {
            "bin_start": -211.8914419627663,
            "bin_end": -161.9509251500448,
            "count": 2
           },
           {
            "bin_start": -161.9509251500448,
            "bin_end": -112.01040833732331,
            "count": 7
           },
           {
            "bin_start": -112.01040833732331,
            "bin_end": -62.069891524601815,
            "count": 37
           },
           {
            "bin_start": -62.069891524601815,
            "bin_end": -12.129374711880331,
            "count": 121
           },
           {
            "bin_start": -12.129374711880331,
            "bin_end": 37.81114210084115,
            "count": 111
           },
           {
            "bin_start": 37.81114210084115,
            "bin_end": 87.75165891356266,
            "count": 56
           },
           {
            "bin_start": 87.75165891356266,
            "bin_end": 137.69217572628412,
            "count": 18
           },
           {
            "bin_start": 137.69217572628412,
            "bin_end": 187.63269253900563,
            "count": 3
           },
           {
            "bin_start": 187.63269253900563,
            "bin_end": 237.57320935172714,
            "count": 3
           },
           {
            "bin_start": 237.57320935172714,
            "bin_end": 287.5137261644486,
            "count": 2
           }
          ]
         }
        },
        {
         "name": 230,
         "dtype": "float64",
         "stats": {
          "unique_count": 360,
          "nan_count": 0,
          "min": "-266.6105748780619",
          "max": "368.4157182067793",
          "histogram": [
           {
            "bin_start": -266.6105748780619,
            "bin_end": -203.1079455695778,
            "count": 3
           },
           {
            "bin_start": -203.1079455695778,
            "bin_end": -139.6053162610937,
            "count": 5
           },
           {
            "bin_start": -139.6053162610937,
            "bin_end": -76.10268695260959,
            "count": 28
           },
           {
            "bin_start": -76.10268695260959,
            "bin_end": -12.600057644125457,
            "count": 103
           },
           {
            "bin_start": -12.600057644125457,
            "bin_end": 50.902571664358675,
            "count": 159
           },
           {
            "bin_start": 50.902571664358675,
            "bin_end": 114.40520097284275,
            "count": 49
           },
           {
            "bin_start": 114.40520097284275,
            "bin_end": 177.90783028132688,
            "count": 9
           },
           {
            "bin_start": 177.90783028132688,
            "bin_end": 241.410459589811,
            "count": 1
           },
           {
            "bin_start": 241.410459589811,
            "bin_end": 304.9130888982951,
            "count": 1
           },
           {
            "bin_start": 304.9130888982951,
            "bin_end": 368.4157182067793,
            "count": 2
           }
          ]
         }
        },
        {
         "name": 231,
         "dtype": "float64",
         "stats": {
          "unique_count": 360,
          "nan_count": 0,
          "min": "-259.5527584317624",
          "max": "783.8104372572598",
          "histogram": [
           {
            "bin_start": -259.5527584317624,
            "bin_end": -155.2164388628602,
            "count": 2
           },
           {
            "bin_start": -155.2164388628602,
            "bin_end": -50.88011929395799,
            "count": 49
           },
           {
            "bin_start": -50.88011929395799,
            "bin_end": 53.456200274944194,
            "count": 225
           },
           {
            "bin_start": 53.456200274944194,
            "bin_end": 157.79251984384643,
            "count": 73
           },
           {
            "bin_start": 157.79251984384643,
            "bin_end": 262.1288394127487,
            "count": 9
           },
           {
            "bin_start": 262.1288394127487,
            "bin_end": 366.4651589816508,
            "count": 1
           },
           {
            "bin_start": 366.4651589816508,
            "bin_end": 470.80147855055304,
            "count": 0
           },
           {
            "bin_start": 470.80147855055304,
            "bin_end": 575.1377981194553,
            "count": 0
           },
           {
            "bin_start": 575.1377981194553,
            "bin_end": 679.4741176883575,
            "count": 0
           },
           {
            "bin_start": 679.4741176883575,
            "bin_end": 783.8104372572598,
            "count": 1
           }
          ]
         }
        },
        {
         "name": "_deepnote_index_column",
         "dtype": "int64"
        }
       ],
       "rows_top": [
        {
         "0": -48.18982445718939,
         "1": -123.18332913774066,
         "2": -111.63616253394503,
         "3": -94.86622738166443,
         "4": -146.74221697327084,
         "5": -80.72100931166096,
         "6": -77.92067477385899,
         "7": -56.9085390924738,
         "8": -72.55476226492465,
         "9": -98.37837547172239,
         "10": -27.279302151360753,
         "11": -16.674599636866333,
         "12": -29.4170905289011,
         "13": -53.45111634886598,
         "14": -59.62850266061287,
         "15": -57.170208828218165,
         "16": -19.747305149296153,
         "17": -18.406134912240304,
         "18": 29.0971180211709,
         "19": 45.530436919081694,
         "20": 85.28185460987697,
         "21": 90.30882299754376,
         "22": 60.12446301203818,
         "23": 86.44762082056695,
         "24": 113.78107534526498,
         "25": 90.2983190565501,
         "26": 56.54800325584256,
         "27": 47.69493310217331,
         "28": 73.56759468790369,
         "29": 129.9814133574946,
         "30": 111.65671066928007,
         "31": 30.172333807979157,
         "32": 24.44503795545461,
         "33": 45.179889448465474,
         "34": 30.000530778277607,
         "35": -18.694842524215346,
         "36": -30.405140357164782,
         "37": -6.794824779814007,
         "38": 4.983335460814487,
         "39": -17.08164503275293,
         "40": -72.5280128903214,
         "41": -80.77931704176626,
         "42": -55.286017104306666,
         "43": 33.235964858447915,
         "44": 89.59417406369721,
         "45": 100.17773344167472,
         "46": 57.19895413239101,
         "47": 30.753360575967235,
         "48": -11.768511570038754,
         "49": -14.215058112486076,
         "50": -2.341617262145519,
         "51": 28.112706415588036,
         "52": 7.137680109202847,
         "53": 14.693285230508991,
         "54": 55.957285935321124,
         "55": 111.92531933450482,
         "56": 79.91722019417648,
         "57": 66.18826406131484,
         "58": -11.779314560031708,
         "59": 70.48829210491385,
         "60": 96.91503750874108,
         "61": 92.51994352545807,
         "62": 59.936729108567306,
         "63": 70.26605278629904,
         "64": 52.503781850387895,
         "65": 70.7267309450508,
         "66": 9.05415423463819,
         "67": -41.36569567006154,
         "68": -98.05131885839546,
         "69": -121.18169181344638,
         "70": -69.37061322684531,
         "71": -101.28074838210159,
         "72": -118.11470793975786,
         "73": -107.4572704298298,
         "74": -118.44293034783368,
         "75": -97.57291677274588,
         "76": -76.52197421000892,
         "77": -112.22454826496323,
         "78": -114.28605060772134,
         "79": -95.95159656447868,
         "80": -131.84378940020906,
         "81": -98.10358666732282,
         "82": -109.39951674693657,
         "83": -71.01451659803206,
         "84": -101.9735177247403,
         "85": -84.55650754466478,
         "86": -76.32062365012825,
         "87": -96.90259968153805,
         "88": -32.099656220412726,
         "89": -41.93670615787232,
         "90": 1.0967277684303554,
         "91": -6.115754611255397,
         "92": 66.50865473594968,
         "93": 80.90625340971019,
         "94": 114.47100682457676,
         "95": 154.22226754567055,
         "96": 117.9269665857355,
         "97": 129.2559794262288,
         "98": 167.59000040681167,
         "99": 158.03538735884467,
         "100": 122.237867728325,
         "101": 84.93956945362697,
         "102": 22.29247333108833,
         "103": 60.70967584558275,
         "104": 23.140521074696153,
         "105": 3.2637075472575816,
         "106": 2.5113058487586386,
         "107": 15.173317815682822,
         "108": 25.70838906627796,
         "109": 36.5707508336709,
         "110": 14.307814172496364,
         "111": -8.028637666964642,
         "112": 26.2768346815501,
         "113": 24.020231406653693,
         "114": 12.014269039673309,
         "115": -21.9364586048614,
         "116": -15.44429964480878,
         "117": -10.638306132061189,
         "118": 20.094444572750945,
         "119": 37.60615277537909,
         "120": 40.12094453304235,
         "121": -6.766525562057723,
         "122": -4.977834081355468,
         "123": 38.65408499424848,
         "124": -10.433484246143053,
         "125": -0.5448936479460826,
         "126": -32.95178145369573,
         "127": 10.489311477333104,
         "128": 27.203444830851367,
         "129": 41.98367421756484,
         "130": -21.368528569919363,
         "131": 26.599346618691925,
         "132": 46.14219934760695,
         "133": 7.110725371074295,
         "134": -23.444177419387415,
         "135": -21.92663093650117,
         "136": 9.703438006081342,
         "137": 28.16569827053536,
         "138": 28.22040996744545,
         "139": 13.96740272574425,
         "140": -41.19395096112021,
         "141": -42.15067075344814,
         "142": -78.68786016438389,
         "143": -90.49035629287937,
         "144": -116.9766608414011,
         "145": -132.49554187697868,
         "146": -120.32471354847803,
         "147": -101.12894378890815,
         "148": -113.90976444885018,
         "149": -46.73140964024242,
         "150": -46.53716924951732,
         "151": -16.795978165893757,
         "152": -22.662160563446378,
         "153": 5.778280912290938,
         "154": -9.842549153425352,
         "155": -23.69985252560582,
         "156": -46.15248055828488,
         "157": -50.97714353874835,
         "158": -43.06876855363953,
         "159": -76.18431997021253,
         "160": -96.35021274935934,
         "161": -48.83346972799518,
         "162": -32.00856912146082,
         "163": -1.743897107482553,
         "164": 2.885733188537415,
         "165": 27.572559397638543,
         "166": 97.98614788636223,
         "167": 98.07586382703812,
         "168": 126.61823013600406,
         "169": 83.37735733482077,
         "170": 70.67515802176604,
         "171": 123.66534090077585,
         "172": 102.89822934185031,
         "173": 71.88641752680815,
         "174": 65.55584429578812,
         "175": 81.75973739259643,
         "176": 108.47820323400447,
         "177": 53.894043896725634,
         "178": 42.643798825451086,
         "179": -12.493092405093194,
         "180": 39.53548910995596,
         "181": 65.65399441094087,
         "182": 108.61366870811435,
         "183": 29.37600230782118,
         "184": 64.82590911869192,
         "185": 72.44405767035278,
         "186": 12.897976204938459,
         "187": 36.92879500357958,
         "188": -69.8605162902968,
         "189": -18.135740639090727,
         "190": -6.995328447817883,
         "191": 15.00460268405186,
         "192": 34.500665412371745,
         "193": 12.607670976420195,
         "194": 95.99341750695385,
         "195": 93.03715187202761,
         "196": 82.31467430690645,
         "197": 56.64263923503677,
         "198": 53.66906660459608,
         "199": 57.68024123432042,
         "200": 95.46721411392718,
         "201": 27.070121093556736,
         "202": 26.740397856581694,
         "203": 30.5752036856793,
         "204": 46.731044199497774,
         "205": 80.32856643583727,
         "206": 66.45136885999636,
         "207": -2.110203591759273,
         "208": -45.08272768939969,
         "209": -39.26067673442958,
         "210": 8.956200176506172,
         "211": 20.635071806311316,
         "212": 35.109136440603834,
         "213": -17.43254739139411,
         "214": -46.06135251071464,
         "215": -21.405501449526128,
         "216": -62.745213047166544,
         "217": -26.31903223792324,
         "218": -53.7989053716592,
         "219": -62.3304544206585,
         "220": -36.8819131841592,
         "221": -45.52463711105702,
         "222": -86.74753719146429,
         "223": -92.66048291096922,
         "224": -92.64722486518622,
         "225": -95.00759317939446,
         "226": -70.46698704057599,
         "227": -82.32541401802155,
         "228": -96.08939052592359,
         "229": -111.20065040322697,
         "230": -118.0988719923298,
         "231": -99.45618963448396,
         "region_network": "Visual1",
         "region_name": "R_V1",
         "_deepnote_index_column": 0
        },
        {
         "0": -103.33017937025033,
         "1": -81.79638516794876,
         "2": 11.049420753104641,
         "3": -17.44090356844208,
         "4": -54.13205282831041,
         "5": -50.39415706350701,
         "6": -92.92354388505373,
         "7": -49.07633736778371,
         "8": -45.54222192781708,
         "9": -60.00919869590871,
         "10": -36.294676183573756,
         "11": 10.682875728432919,
         "12": -8.504637121073756,
         "13": 35.672531875638015,
         "14": -28.49144067781708,
         "15": 26.12095395622964,
         "16": 26.003984897841292,
         "17": 34.99423212234797,
         "18": -33.447803753473636,
         "19": 7.288768512151364,
         "20": -41.29124536531708,
         "21": -19.917093432750335,
         "22": -45.00133479788201,
         "23": 22.497534445537894,
         "24": 38.09095035836799,
         "25": 19.255179901952943,
         "26": -49.61002877403371,
         "27": -28.61600379459378,
         "28": -9.296487964000335,
         "29": -27.88407020084378,
         "30": 26.695558191426244,
         "31": -22.21276057913201,
         "32": -58.12896894673031,
         "33": -36.09920948949366,
         "34": -42.95893142617206,
         "35": -33.10639236367206,
         "36": 5.465706217742991,
         "37": -40.85096987189536,
         "38": -20.16610402074366,
         "39": -16.386665801172057,
         "40": -41.86556691136866,
         "41": -20.17234888094208,
         "42": -43.629495776500335,
         "43": -32.66523025429706,
         "44": 55.181076797513015,
         "45": -2.661876533080431,
         "46": 15.200016970209617,
         "47": 47.73455644389469,
         "48": -42.19095496646878,
         "49": -10.234938827486985,
         "50": -20.18138208406708,
         "51": -33.325001019098636,
         "52": 2.69307823665622,
         "53": -33.34681948127036,
         "54": -28.766240225513684,
         "55": 34.42116982793959,
         "56": -44.033689855448756,
         "57": 10.894571349321268,
         "58": -70.65004213752036,
         "59": -37.17503442781708,
         "60": 39.79480778024299,
         "61": -15.583006261698756,
         "62": 5.9875632284329185,
         "63": 19.228195938138015,
         "64": -50.94232986367206,
         "65": -58.04549855199366,
         "66": -38.077275381763684,
         "67": -35.39569900429706,
         "68": -4.023795735382009,
         "69": -22.486776306928732,
         "70": -25.42054995002036,
         "71": -75.62384199360531,
         "72": -42.29308284475701,
         "73": 13.73189659603122,
         "74": -48.96917248291538,
         "75": 18.42639957711799,
         "76": -22.381012018277033,
         "77": -34.81217721153371,
         "78": -42.85485042288201,
         "79": -60.19400029952703,
         "80": -21.03942073538201,
         "81": 4.909566723499665,
         "82": 34.02818051872964,
         "83": -23.26951684969208,
         "84": 0.9826418674128945,
         "85": 6.081788660176244,
         "86": -14.304763046236985,
         "87": 18.82779246363134,
         "88": 25.18626799816957,
         "89": 38.26114207300634,
         "90": 11.648259157709617,
         "91": 9.652872130571268,
         "92": -14.034203835712106,
         "93": -30.460280624361985,
         "94": 37.35676810096629,
         "95": -25.17855519261866,
         "96": 73.08751954011132,
         "97": 0.2538949512945692,
         "98": 16.999166332874665,
         "99": 88.24334550639469,
         "100": 14.925705703763015,
         "101": 3.827227085341292,
         "102": -0.8577287123553106,
         "103": 6.58389597925634,
         "104": -25.02935957173031,
         "105": -28.85362971975701,
         "106": -22.53643964985531,
         "107": -35.095778671236985,
         "108": -14.727319070087106,
         "109": -57.460717507587106,
         "110": 26.76695004997964,
         "111": -22.339161175348636,
         "112": 11.746827722676244,
         "113": 2.7008264891246654,
         "114": 13.810445629749665,
         "115": 8.086928462807919,
         "116": -41.657225011698756,
         "117": -57.972924538837106,
         "118": -24.60843543521878,
         "119": 34.778681649486316,
         "120": -3.7232843250203587,
         "121": -51.01606033242206,
         "122": -45.765918987848636,
         "123": 21.97120580655792,
         "124": 4.4443117892878945,
         "125": -22.248636401500335,
         "126": -41.05206464985531,
         "127": -18.901532680283708,
         "128": 49.36210064619627,
         "129": 20.629910062314593,
         "130": -3.7200719483753346,
         "131": -24.46395558324366,
         "132": 46.25118370540622,
         "133": 50.47373715935464,
         "134": 39.40121454422297,
         "135": -8.935840862848636,
         "136": 3.3927081708679907,
         "137": 9.122238906888015,
         "138": 0.46420282547296665,
         "139": -20.138875916303732,
         "140": -22.06837067370543,
         "141": -51.25022974031708,
         "142": -43.89955385627036,
         "143": 32.78448962645962,
         "144": -38.588017569263684,
         "145": -29.67345393850701,
         "146": 23.437257410176244,
         "147": -14.121708975513684,
         "148": -34.97889955939536,
         "149": 8.143877475966292,
         "150": -32.41700348620543,
         "151": 21.787714852611316,
         "152": 17.878419519551244,
         "153": 62.82855058451969,
         "154": 8.431462282709617,
         "155": 29.913254531888015,
         "156": 47.206544519551244,
         "157": 31.904876653597967,
         "158": 10.422634671689593,
         "159": 54.48377262399299,
         "160": 40.07382196609797,
         "161": 14.562527249814593,
         "162": 43.614400707874665,
         "163": 31.51673160836799,
         "164": 18.438375317249665,
         "165": 56.10828434274299,
         "166": 35.449361645374665,
         "167": 107.51109067497964,
         "168": 40.058029922513015,
         "169": 13.688079778597967,
         "170": 35.39430150968292,
         "171": 30.66478362316957,
         "172": 100.90909129175634,
         "173": 47.18760434685464,
         "174": 23.090886110834617,
         "175": 45.352245074651364,
         "176": 32.65952817497964,
         "177": -1.4656260190986359,
         "178": -10.25928864245543,
         "179": -38.62118214574366,
         "180": 11.35958214290622,
         "181": 61.472799145374665,
         "182": 48.47161699076969,
         "183": 78.4220949924129,
         "184": 10.937475851787894,
         "185": 50.05635948665622,
         "186": -3.9008645059420815,
         "187": 34.317628503926244,
         "188": 0.4133958764596173,
         "189": -26.00880036120543,
         "190": 42.20685290770962,
         "191": 44.21941972514469,
         "192": 47.85066458534129,
         "193": -10.52103309146878,
         "194": 0.6703731585312198,
         "195": 98.40396433863134,
         "196": 46.761373364124665,
         "197": 55.50069542415622,
         "198": 58.150340777776364,
         "199": -3.2569757312703587,
         "200": -17.734617589823756,
         "201": -18.45492238011866,
         "202": 5.132981094388015,
         "203": -15.528935538013684,
         "204": -2.4717423842303106,
         "205": 21.081827208696268,
         "206": -2.6362032189354068,
         "207": -16.78814863423031,
         "208": -9.643694481270359,
         "209": -1.296269522388684,
         "210": -47.62230005281708,
         "211": 35.93879935096629,
         "212": -21.774682351337106,
         "213": 41.29471783369627,
         "214": 27.775456423334617,
         "215": 6.4943991659329185,
         "216": -43.96580591219208,
         "217": 29.133173836986316,
         "218": 26.637812508861316,
         "219": 45.675512961162894,
         "220": -3.571544501830431,
         "221": -3.396932556928732,
         "222": 24.412676304091292,
         "223": 10.10716643566957,
         "224": 22.859453647841292,
         "225": -24.822636709888684,
         "226": 45.90920693731459,
         "227": 25.870452825472967,
         "228": 24.988424145374665,
         "229": 26.599945012972967,
         "230": 34.55324990606459,
         "231": 10.490210226787894,
         "region_network": "Visual2",
         "region_name": "R_MST",
         "_deepnote_index_column": 1
        }
       ],
       "rows_bottom": [
        {
         "0": 49.434548706844,
         "1": -24.636511473820065,
         "2": -82.12133660809741,
         "3": -16.353796630070065,
         "4": -60.678976683781,
         "5": -0.6146914054606896,
         "6": -5.457091002628658,
         "7": -44.25295892255053,
         "8": -52.8907686759685,
         "9": 14.840035767390873,
         "10": -28.18641534344897,
         "11": -67.29088464276538,
         "12": -8.636809020206783,
         "13": -3.4096437980388146,
         "14": -43.05732598798022,
         "15": -118.50511041180835,
         "16": -18.033713011906002,
         "17": -15.288534789249752,
         "18": 24.173905701472904,
         "19": 7.253053040340092,
         "20": -25.911787657902096,
         "21": 6.545594544246342,
         "22": 6.529244751765873,
         "23": -58.02508416669116,
         "24": 4.530114502742435,
         "25": 43.54599127276197,
         "26": 36.85363897784009,
         "27": -36.33631005780444,
         "28": -21.707983641788815,
         "29": 32.200272888972904,
         "30": 7.032113404109623,
         "31": -31.800757079288815,
         "32": 49.391557068660404,
         "33": 5.129556031062748,
         "34": 5.480912537410404,
         "35": -77.37475457684741,
         "36": -10.377546935245846,
         "37": -90.2270952750896,
         "38": 25.07164892657056,
         "39": -29.566008238956783,
         "40": -94.58981194989428,
         "41": -7.606886534855221,
         "42": -56.09113183514819,
         "43": 18.791215271785404,
         "44": -45.858198790714596,
         "45": 58.92778906328931,
         "46": 3.2240842293049354,
         "47": -0.23469415204272082,
         "48": -21.32886376874194,
         "49": -33.54127374188647,
         "50": -4.979086547062252,
         "51": -15.471335082218502,
         "52": 44.55062994463697,
         "53": -39.240706114933346,
         "54": 0.9711469124104042,
         "55": 49.453202576472904,
         "56": 158.34147009356275,
         "57": 74.18522009356275,
         "58": 73.09259924395337,
         "59": 40.04731115801587,
         "60": 92.041482300594,
         "61": 83.03693518145337,
         "62": 119.37133154375806,
         "63": 42.75962957842603,
         "64": 86.32946142657056,
         "65": 79.01500830157056,
         "66": -24.087553649113033,
         "67": 42.710183472469,
         "68": -36.90516534344897,
         "69": -18.273672728702877,
         "70": -11.570662169620846,
         "71": 62.70476660235181,
         "72": 4.161881775691654,
         "73": 36.281876892879154,
         "74": -16.257895140812252,
         "75": 2.359208435847904,
         "76": 36.39086279375806,
         "77": -50.074873595402096,
         "78": -31.42334619061694,
         "79": 44.40978369219556,
         "80": 62.326379151179935,
         "81": -0.5982729484294396,
         "82": 32.7059110115315,
         "83": 33.0489285896565,
         "84": 80.54287847979322,
         "85": -11.504873900577877,
         "86": 60.726945252254154,
         "87": 52.157304138972904,
         "88": -43.76757684247241,
         "89": -3.3063417960856896,
         "90": 24.682954163386967,
         "91": -22.969229369327877,
         "92": 1.7659161995197792,
         "93": -17.45545068280444,
         "94": 115.76712164385572,
         "95": 72.90625128252759,
         "96": 98.64938482744947,
         "97": 62.488366455867435,
         "98": 80.73289617998853,
         "99": 15.105241150691654,
         "100": 40.470727295711185,
         "101": 59.29770025713697,
         "102": 36.65107092364087,
         "103": -26.670645384952877,
         "104": -10.13995996014819,
         "105": -73.85903802411303,
         "106": -70.9996782829021,
         "107": 42.039040894344,
         "108": -22.78980126874194,
         "109": -67.55872216717944,
         "110": 54.80304083330884,
         "111": -1.8466784049724083,
         "112": -57.995581298038815,
         "113": 14.211823792293217,
         "114": 63.85297522051587,
         "115": -36.95110192792163,
         "116": -61.39430108563647,
         "117": 7.57201513750806,
         "118": -47.64153924481616,
         "119": -1.5432268668864708,
         "120": 6.323388428523685,
         "121": 43.77963385088697,
         "122": -11.009695677921627,
         "123": 5.603150696590092,
         "124": -24.98638787762866,
         "125": -95.43085351483569,
         "126": 42.54918798907056,
         "127": -24.278967528507565,
         "128": 3.195359558894779,
         "129": -57.90206780926928,
         "130": -35.41119256512866,
         "131": -156.95567956464038,
         "132": -58.385664611027096,
         "133": -1.9928576041911583,
         "134": -31.866415648624752,
         "135": -92.27597680585131,
         "136": -62.34960809247241,
         "137": 38.40574774248853,
         "138": -22.954008727238033,
         "139": 6.75225195391431,
         "140": 1.3428815315510292,
         "141": 12.05198797686353,
         "142": 23.345414490535404,
         "143": -28.954062132999752,
         "144": -62.19979730145678,
         "145": -50.56075921551928,
         "146": 41.14508184893384,
         "147": -58.042036681339596,
         "148": -29.573225646183346,
         "149": -23.666655211613033,
         "150": 48.59100470049634,
         "151": -7.511923461124752,
         "152": -24.339041381046627,
         "153": 60.99743780596509,
         "154": 76.25892004473462,
         "155": 34.71965155108228,
         "156": 4.309373230769779,
         "157": -41.32501092450366,
         "158": -34.152632384464596,
         "159": -43.51592126385913,
         "160": -8.294165282413815,
         "161": -44.44905725018725,
         "162": 2.955636353328373,
         "163": 2.2275021980549354,
         "164": 11.235116333797123,
         "165": 89.6552289436604,
         "166": 61.59644445879712,
         "167": 49.75135168535962,
         "168": 26.68762335284009,
         "169": 73.60678228838697,
         "170": 43.09796270830884,
         "171": -2.085096984073971,
         "172": 54.99810919268384,
         "173": 28.86840948565259,
         "174": -2.189810424015377,
         "175": -25.343039183781002,
         "176": 70.68447241289869,
         "177": 2.231980652644779,
         "178": 50.207238526179935,
         "179": 32.4546903084065,
         "180": 24.899056763484623,
         "181": 20.51689276201978,
         "182": -2.6665712882731896,
         "183": 14.588586182429935,
         "184": 43.34577307207837,
         "185": 18.85595068438306,
         "186": 0.8110898445393104,
         "187": 4.020005554988529,
         "188": 37.39167150957837,
         "189": -25.908171324894283,
         "190": 100.93209204180494,
         "191": -9.438292174503658,
         "192": -6.813933043644283,
         "193": -89.59030023114428,
         "194": 17.60930761797681,
         "195": 13.85454687578931,
         "196": -24.099478392765377,
         "197": 1.9812482307697792,
         "198": 58.08799871905103,
         "199": 34.62291845782056,
         "200": 60.82885870440259,
         "201": 0.6511014412189979,
         "202": 26.561189026668217,
         "203": 22.402795166804935,
         "204": 28.390878052547123,
         "205": 14.31395086748853,
         "206": -73.65404382245288,
         "207": 20.92327246172681,
         "208": -71.019064574406,
         "209": -62.20264306561694,
         "210": -12.229551940128658,
         "211": 74.88160833819165,
         "212": -17.305761962101315,
         "213": -57.078390746281,
         "214": -30.845259337589596,
         "215": 5.205384583308842,
         "216": 45.97001776201978,
         "217": -28.090201049015377,
         "218": -38.43740716473803,
         "219": -69.83077111737475,
         "220": -51.33444085614428,
         "221": -68.13730493085131,
         "222": -63.385473876163815,
         "223": -30.917524962589596,
         "224": -51.54964318768725,
         "225": -96.72117486493335,
         "226": -64.29925408856616,
         "227": 27.301545471980717,
         "228": 32.799157471492435,
         "229": -26.96455255048022,
         "230": -80.5708452750896,
         "231": -112.68932214276538,
         "region_network": "Cingulo-Oper",
         "region_name": "L_a32pr",
         "_deepnote_index_column": 358
        },
        {
         "0": 69.99433331030377,
         "1": -42.27814446448065,
         "2": 0.42188247517515265,
         "3": -56.20229249788645,
         "4": 12.378964237028413,
         "5": -102.05484839767087,
         "6": -111.95872434055855,
         "7": 0.05169793853747251,
         "8": 78.62559678013167,
         "9": -92.04743999249877,
         "10": -72.73635432439369,
         "11": -8.883613214480647,
         "12": -57.26711604314369,
         "13": -96.39376609702413,
         "14": -61.24125397417811,
         "15": 82.46801663465703,
         "16": -44.41284274034297,
         "17": 3.0038968878907326,
         "18": -58.56899171663645,
         "19": -106.82990227698065,
         "20": -138.6768513610332,
         "21": -2.126255321161807,
         "22": -31.140870084092967,
         "23": -46.54939311749877,
         "24": -67.26935540198065,
         "25": 80.20774589112261,
         "26": -45.94833573603319,
         "27": -93.59372568754043,
         "28": -34.50578455068717,
         "29": 9.766811085088193,
         "30": -20.240008015127387,
         "31": 56.87376151612261,
         "32": 39.42922353120957,
         "33": -36.70574414120529,
         "34": -193.1089802672832,
         "35": -96.39583708301507,
         "36": -17.778548559308547,
         "37": -73.06936213689369,
         "38": 76.03108910232913,
         "39": 33.55996504521681,
         "40": -124.62729923279949,
         "41": -129.00829330607485,
         "42": 55.79125882215703,
         "43": 81.01696262064797,
         "44": 22.282537108794713,
         "45": -9.281309873962527,
         "46": -117.84615025650601,
         "47": -49.99263463150601,
         "48": -91.02577040736833,
         "49": -82.52699952913645,
         "50": 25.082409145432393,
         "51": -209.68079128560203,
         "52": -69.0464971045676,
         "53": -80.85148767568717,
         "54": -85.10884556900601,
         "55": -80.38268716383391,
         "56": 53.78393460340703,
         "57": -55.85741439982485,
         "58": -15.904794518359267,
         "59": 15.018983094787473,
         "60": -23.673012460170867,
         "61": 46.54334664543239,
         "62": -110.02785823064369,
         "63": -30.194816743574847,
         "64": 3.0873761443563126,
         "65": 48.63485728659725,
         "66": 51.66937371978747,
         "67": 83.06619484047587,
         "68": -27.310640423533187,
         "69": 22.864686219787473,
         "70": 48.01746773918239,
         "71": -43.65750532116181,
         "72": 30.951061489182393,
         "73": -17.252501280212527,
         "74": -129.52504640413645,
         "75": 66.93493137064797,
         "76": -43.84758142568717,
         "77": -75.69195440521253,
         "78": -23.826938914911807,
         "79": 83.9880024913382,
         "80": 28.117599070001233,
         "81": -81.29366844077413,
         "82": 15.025886381425153,
         "83": -52.39033129098971,
         "84": 57.84975154845051,
         "85": 90.35232765297587,
         "86": -95.95261240629043,
         "87": -11.801363079783187,
         "88": 121.28649387064797,
         "89": 5.768073881425153,
         "90": 195.8847225883219,
         "91": 90.02831095039073,
         "92": 108.20633155922587,
         "93": 9.072188913751233,
         "94": 21.718538590475873,
         "95": -32.13647555284297,
         "96": 102.77782266914073,
         "97": 41.80073821332189,
         "98": 147.2606991508219,
         "99": -35.99047945909297,
         "100": -47.71778279960927,
         "101": -14.025955617498767,
         "102": -67.67961267568717,
         "103": 7.807355266122613,
         "104": -35.65149441060203,
         "105": -112.49283667892087,
         "106": -150.29590779960927,
         "107": -171.31003428129043,
         "108": 130.49994012603747,
         "109": -15.996843952627387,
         "110": -131.785603381506,
         "111": 5.694360249959573,
         "112": -37.66730462073065,
         "113": -53.17304613473971,
         "114": -26.159323747886447,
         "115": 71.40536509909725,
         "116": 2.5082577445718925,
         "117": 44.25292032539073,
         "118": 47.45065739435631,
         "119": 101.25174171547587,
         "120": 18.958234172372613,
         "121": -55.83997097310203,
         "122": -34.34187358624877,
         "123": -6.904575633661807,
         "124": -8.584768252196227,
         "125": -10.928333042067607,
         "126": -69.36009152805855,
         "127": -99.49145602159297,
         "128": -9.507451441852027,
         "129": -15.316381937540427,
         "130": -8.920453192928107,
         "131": 27.826179350175153,
         "132": -57.96998848387739,
         "133": 16.650532798450513,
         "134": 17.333941338321893,
         "135": -83.85795319292811,
         "136": -107.23850949680855,
         "137": 41.72656997517515,
         "138": -27.470493602411807,
         "139": -77.2852666358176,
         "140": 14.763056370647973,
         "141": -57.74453724465275,
         "142": 115.95325033616609,
         "143": 38.65829478659725,
         "144": -29.908599744652747,
         "145": -13.106841932152747,
         "146": 69.00714648379471,
         "147": 140.77794053013167,
         "148": -38.49745009486833,
         "149": 60.64228252905377,
         "150": 32.69116116590703,
         "151": 84.65016237819145,
         "152": -18.267520137971587,
         "153": -13.360142039911807,
         "154": 73.20836887064797,
         "155": -48.70532320909297,
         "156": 7.421006936381673,
         "157": 54.12595036310631,
         "158": -47.07042288581761,
         "159": -30.391695111033187,
         "160": -29.428703462324847,
         "161": 6.444865368493993,
         "162": 6.263494140044713,
         "163": 59.81597595577841,
         "164": 29.330860115260293,
         "165": 16.323872642200513,
         "166": -0.7144321799987665,
         "167": 110.03134166159725,
         "168": -6.285283473102027,
         "169": 27.433618062459573,
         "170": 62.14450505060631,
         "171": 120.35586348271681,
         "172": -34.41136105930855,
         "173": 71.39642450103747,
         "174": 63.37362681784725,
         "175": -97.55963018646253,
         "176": 138.9534355462947,
         "177": 156.7435419579324,
         "178": -36.74022689982485,
         "179": 4.511372642200513,
         "180": 78.7854499590103,
         "181": 105.98015631676935,
         "182": 126.55575572409725,
         "183": -23.357869006506007,
         "184": 27.941548423450513,
         "185": 111.94912520146681,
         "186": -68.79954465305855,
         "187": 62.53433869823493,
         "188": 33.23983775534725,
         "189": 0.7573148566407326,
         "190": 0.38261792776029324,
         "191": -47.48042760025601,
         "192": -65.35246423818717,
         "193": 83.00084933939797,
         "194": -38.56638193754043,
         "195": -22.101521350256007,
         "196": 97.12982293853747,
         "197": -69.62411698603319,
         "198": 16.182001683147973,
         "199": -10.438856344868327,
         "200": -110.4800908545676,
         "201": 30.919390557071893,
         "202": 39.20404168853747,
         "203": 33.69318164004471,
         "204": 38.47220911849399,
         "205": -31.213354593790427,
         "206": -4.912438645515067,
         "207": 26.423869274743993,
         "208": 8.519993331856313,
         "209": -115.9860344159897,
         "210": 57.99467005599399,
         "211": -11.777841393359267,
         "212": -23.764741986033187,
         "213": -98.74066466922159,
         "214": 80.51351097732913,
         "215": 125.36367598271681,
         "216": 26.308146618493993,
         "217": 123.94978185556283,
         "218": 98.3470575829324,
         "219": -47.26917019185203,
         "220": 80.39644133832189,
         "221": -3.796160358877387,
         "222": 139.09961685017515,
         "223": -28.661411571161807,
         "224": 32.30373524995957,
         "225": 29.483271214397973,
         "226": 156.15194713034725,
         "227": 128.7840861389668,
         "228": 9.581483094787473,
         "229": 20.519521887890733,
         "230": 147.49098269069145,
         "231": 112.14391574564797,
         "region_network": "Cingulo-Oper",
         "region_name": "L_p24",
         "_deepnote_index_column": 359
        }
       ]
      },
      "text/plain": "    region_network region_name           0           1           2          3  \\\n0          Visual1        R_V1  -48.189824 -123.183329 -111.636163 -94.866227   \n1          Visual2       R_MST -103.330179  -81.796385   11.049421 -17.440904   \n2          Visual2        R_V6    8.230368  -41.579313  -64.025063 -92.431567   \n3          Visual2        R_V2  -39.885414  -56.938763  -28.784178 -77.321723   \n4          Visual2        R_V3  -35.207058 -103.530630  -66.873357 -95.814135   \n..             ...         ...         ...         ...         ...        ...   \n355   Posterior-Mu     L_STSva  107.984922   34.781199   74.950061  -5.356716   \n356   Frontopariet      L_TE1m   20.085174   67.122965  -28.731517   8.646173   \n357   Cingulo-Oper        L_PI   77.230816  124.022132  -48.637881  -1.545822   \n358   Cingulo-Oper     L_a32pr   49.434549  -24.636511  -82.121337 -16.353797   \n359   Cingulo-Oper       L_p24   69.994333  -42.278144    0.421882 -56.202292   \n\n              4           5           6           7  ...         222  \\\n0   -146.742217  -80.721009  -77.920675  -56.908539  ...  -86.747537   \n1    -54.132053  -50.394157  -92.923544  -49.076337  ...   24.412676   \n2   -152.969065 -122.173540 -102.993098 -137.123195  ...   67.736235   \n3    -77.652827  -68.319306  -39.959312  -31.860840  ...  -72.800605   \n4    -83.471385  -45.253579  -52.897172  -50.724502  ...  -44.314806   \n..          ...         ...         ...         ...  ...         ...   \n355   79.945171   21.011335   47.814796   42.449002  ...   -6.259771   \n356  -22.979730   76.810660   56.610271   61.340564  ...   24.883040   \n357    9.052992   57.409129   65.298026   58.165003  ...  -92.161154   \n358  -60.678977   -0.614691   -5.457091  -44.252959  ...  -63.385474   \n359   12.378964 -102.054848 -111.958724    0.051698  ...  139.099617   \n\n           223        224        225         226         227        228  \\\n0   -92.660483 -92.647225 -95.007593  -70.466987  -82.325414 -96.089391   \n1    10.107166  22.859454 -24.822637   45.909207   25.870453  24.988424   \n2    42.688003  49.376027  39.188312   29.658523   46.003726   2.645201   \n3   -70.644900 -65.084300 -63.699210  -71.076126  -67.680887 -59.432308   \n4   -39.730976 -53.421475 -63.394721  -13.439412  -26.120324 -25.618079   \n..         ...        ...        ...         ...         ...        ...   \n355 -47.783224 -26.398117  -2.050385   -7.111788    0.364086  13.609847   \n356  41.853238  -2.066290  50.957477   -7.743095   28.714808 -34.446026   \n357 -24.976298  13.367422 -47.056263   40.882769  -14.641187  22.448935   \n358 -30.917525 -51.549643 -96.721175  -64.299254   27.301545  32.799157   \n359 -28.661412  32.303735  29.483271  156.151947  128.784086   9.581483   \n\n            229         230         231  \n0   -111.200650 -118.098872  -99.456190  \n1     26.599945   34.553250   10.490210  \n2    -17.484754   27.848731   29.593713  \n3    -76.308464  -70.647900  -54.320524  \n4    -35.641966   -9.505852   -9.807686  \n..          ...         ...         ...  \n355   -8.334277   10.378189   58.098567  \n356  -31.107497  -30.310680  -49.647444  \n357  -30.245754    2.365296   82.537479  \n358  -26.964553  -80.570845 -112.689322  \n359   20.519522  147.490983  112.143916  \n\n[360 rows x 234 columns]",
      "text/html": "<div>\n<style scoped>\n    .dataframe tbody tr th:only-of-type {\n        vertical-align: middle;\n    }\n\n    .dataframe tbody tr th {\n        vertical-align: top;\n    }\n\n    .dataframe thead th {\n        text-align: right;\n    }\n</style>\n<table border=\"1\" class=\"dataframe\">\n  <thead>\n    <tr style=\"text-align: right;\">\n      <th></th>\n      <th>region_network</th>\n      <th>region_name</th>\n      <th>0</th>\n      <th>1</th>\n      <th>2</th>\n      <th>3</th>\n      <th>4</th>\n      <th>5</th>\n      <th>6</th>\n      <th>7</th>\n      <th>...</th>\n      <th>222</th>\n      <th>223</th>\n      <th>224</th>\n      <th>225</th>\n      <th>226</th>\n      <th>227</th>\n      <th>228</th>\n      <th>229</th>\n      <th>230</th>\n      <th>231</th>\n    </tr>\n  </thead>\n  <tbody>\n    <tr>\n      <th>0</th>\n      <td>Visual1</td>\n      <td>R_V1</td>\n      <td>-48.189824</td>\n      <td>-123.183329</td>\n      <td>-111.636163</td>\n      <td>-94.866227</td>\n      <td>-146.742217</td>\n      <td>-80.721009</td>\n      <td>-77.920675</td>\n      <td>-56.908539</td>\n      <td>...</td>\n      <td>-86.747537</td>\n      <td>-92.660483</td>\n      <td>-92.647225</td>\n      <td>-95.007593</td>\n      <td>-70.466987</td>\n      <td>-82.325414</td>\n      <td>-96.089391</td>\n      <td>-111.200650</td>\n      <td>-118.098872</td>\n      <td>-99.456190</td>\n    </tr>\n    <tr>\n      <th>1</th>\n      <td>Visual2</td>\n      <td>R_MST</td>\n      <td>-103.330179</td>\n      <td>-81.796385</td>\n      <td>11.049421</td>\n      <td>-17.440904</td>\n      <td>-54.132053</td>\n      <td>-50.394157</td>\n      <td>-92.923544</td>\n      <td>-49.076337</td>\n      <td>...</td>\n      <td>24.412676</td>\n      <td>10.107166</td>\n      <td>22.859454</td>\n      <td>-24.822637</td>\n      <td>45.909207</td>\n      <td>25.870453</td>\n      <td>24.988424</td>\n      <td>26.599945</td>\n      <td>34.553250</td>\n      <td>10.490210</td>\n    </tr>\n    <tr>\n      <th>2</th>\n      <td>Visual2</td>\n      <td>R_V6</td>\n      <td>8.230368</td>\n      <td>-41.579313</td>\n      <td>-64.025063</td>\n      <td>-92.431567</td>\n      <td>-152.969065</td>\n      <td>-122.173540</td>\n      <td>-102.993098</td>\n      <td>-137.123195</td>\n      <td>...</td>\n      <td>67.736235</td>\n      <td>42.688003</td>\n      <td>49.376027</td>\n      <td>39.188312</td>\n      <td>29.658523</td>\n      <td>46.003726</td>\n      <td>2.645201</td>\n      <td>-17.484754</td>\n      <td>27.848731</td>\n      <td>29.593713</td>\n    </tr>\n    <tr>\n      <th>3</th>\n      <td>Visual2</td>\n      <td>R_V2</td>\n      <td>-39.885414</td>\n      <td>-56.938763</td>\n      <td>-28.784178</td>\n      <td>-77.321723</td>\n      <td>-77.652827</td>\n      <td>-68.319306</td>\n      <td>-39.959312</td>\n      <td>-31.860840</td>\n      <td>...</td>\n      <td>-72.800605</td>\n      <td>-70.644900</td>\n      <td>-65.084300</td>\n      <td>-63.699210</td>\n      <td>-71.076126</td>\n      <td>-67.680887</td>\n      <td>-59.432308</td>\n      <td>-76.308464</td>\n      <td>-70.647900</td>\n      <td>-54.320524</td>\n    </tr>\n    <tr>\n      <th>4</th>\n      <td>Visual2</td>\n      <td>R_V3</td>\n      <td>-35.207058</td>\n      <td>-103.530630</td>\n      <td>-66.873357</td>\n      <td>-95.814135</td>\n      <td>-83.471385</td>\n      <td>-45.253579</td>\n      <td>-52.897172</td>\n      <td>-50.724502</td>\n      <td>...</td>\n      <td>-44.314806</td>\n      <td>-39.730976</td>\n      <td>-53.421475</td>\n      <td>-63.394721</td>\n      <td>-13.439412</td>\n      <td>-26.120324</td>\n      <td>-25.618079</td>\n      <td>-35.641966</td>\n      <td>-9.505852</td>\n      <td>-9.807686</td>\n    </tr>\n    <tr>\n      <th>...</th>\n      <td>...</td>\n      <td>...</td>\n      <td>...</td>\n      <td>...</td>\n      <td>...</td>\n      <td>...</td>\n      <td>...</td>\n      <td>...</td>\n      <td>...</td>\n      <td>...</td>\n      <td>...</td>\n      <td>...</td>\n      <td>...</td>\n      <td>...</td>\n      <td>...</td>\n      <td>...</td>\n      <td>...</td>\n      <td>...</td>\n      <td>...</td>\n      <td>...</td>\n      <td>...</td>\n    </tr>\n    <tr>\n      <th>355</th>\n      <td>Posterior-Mu</td>\n      <td>L_STSva</td>\n      <td>107.984922</td>\n      <td>34.781199</td>\n      <td>74.950061</td>\n      <td>-5.356716</td>\n      <td>79.945171</td>\n      <td>21.011335</td>\n      <td>47.814796</td>\n      <td>42.449002</td>\n      <td>...</td>\n      <td>-6.259771</td>\n      <td>-47.783224</td>\n      <td>-26.398117</td>\n      <td>-2.050385</td>\n      <td>-7.111788</td>\n      <td>0.364086</td>\n      <td>13.609847</td>\n      <td>-8.334277</td>\n      <td>10.378189</td>\n      <td>58.098567</td>\n    </tr>\n    <tr>\n      <th>356</th>\n      <td>Frontopariet</td>\n      <td>L_TE1m</td>\n      <td>20.085174</td>\n      <td>67.122965</td>\n      <td>-28.731517</td>\n      <td>8.646173</td>\n      <td>-22.979730</td>\n      <td>76.810660</td>\n      <td>56.610271</td>\n      <td>61.340564</td>\n      <td>...</td>\n      <td>24.883040</td>\n      <td>41.853238</td>\n      <td>-2.066290</td>\n      <td>50.957477</td>\n      <td>-7.743095</td>\n      <td>28.714808</td>\n      <td>-34.446026</td>\n      <td>-31.107497</td>\n      <td>-30.310680</td>\n      <td>-49.647444</td>\n    </tr>\n    <tr>\n      <th>357</th>\n      <td>Cingulo-Oper</td>\n      <td>L_PI</td>\n      <td>77.230816</td>\n      <td>124.022132</td>\n      <td>-48.637881</td>\n      <td>-1.545822</td>\n      <td>9.052992</td>\n      <td>57.409129</td>\n      <td>65.298026</td>\n      <td>58.165003</td>\n      <td>...</td>\n      <td>-92.161154</td>\n      <td>-24.976298</td>\n      <td>13.367422</td>\n      <td>-47.056263</td>\n      <td>40.882769</td>\n      <td>-14.641187</td>\n      <td>22.448935</td>\n      <td>-30.245754</td>\n      <td>2.365296</td>\n      <td>82.537479</td>\n    </tr>\n    <tr>\n      <th>358</th>\n      <td>Cingulo-Oper</td>\n      <td>L_a32pr</td>\n      <td>49.434549</td>\n      <td>-24.636511</td>\n      <td>-82.121337</td>\n      <td>-16.353797</td>\n      <td>-60.678977</td>\n      <td>-0.614691</td>\n      <td>-5.457091</td>\n      <td>-44.252959</td>\n      <td>...</td>\n      <td>-63.385474</td>\n      <td>-30.917525</td>\n      <td>-51.549643</td>\n      <td>-96.721175</td>\n      <td>-64.299254</td>\n      <td>27.301545</td>\n      <td>32.799157</td>\n      <td>-26.964553</td>\n      <td>-80.570845</td>\n      <td>-112.689322</td>\n    </tr>\n    <tr>\n      <th>359</th>\n      <td>Cingulo-Oper</td>\n      <td>L_p24</td>\n      <td>69.994333</td>\n      <td>-42.278144</td>\n      <td>0.421882</td>\n      <td>-56.202292</td>\n      <td>12.378964</td>\n      <td>-102.054848</td>\n      <td>-111.958724</td>\n      <td>0.051698</td>\n      <td>...</td>\n      <td>139.099617</td>\n      <td>-28.661412</td>\n      <td>32.303735</td>\n      <td>29.483271</td>\n      <td>156.151947</td>\n      <td>128.784086</td>\n      <td>9.581483</td>\n      <td>20.519522</td>\n      <td>147.490983</td>\n      <td>112.143916</td>\n    </tr>\n  </tbody>\n</table>\n<p>360 rows × 234 columns</p>\n</div>"
     },
     "metadata": {}
    }
   ]
  },
  {
   "cell_type": "code",
   "metadata": {
    "id": "uzer2Y9faUNj",
    "cell_id": "00009-23583514-52d5-4a79-8143-f80e966d687d",
    "deepnote_to_be_reexecuted": false,
    "source_hash": "bdee7372",
    "execution_start": 1627034821474,
    "deepnote_cell_type": "code"
   },
   "source": "data_Frontopariet = df[df[\"region_network\"] == 'Frontopariet']\ndata_Frontopariet\nfront_labels = data_Frontopariet['region_name']\nfront_labels\nlabels = front_labels.to_numpy()",
   "execution_count": 10,
   "outputs": []
  },
  {
   "cell_type": "code",
   "metadata": {
    "colab": {
     "base_uri": "https://localhost:8080/"
    },
    "id": "2NVq6IpDea65",
    "outputId": "71e04321-2bf9-40c0-844b-412bba9b21f3",
    "cell_id": "00010-96e3f0db-3929-43cf-9f3a-3b9e86ac7445",
    "deepnote_to_be_reexecuted": false,
    "source_hash": "39bbc68c",
    "execution_start": 1627034821502,
    "deepnote_cell_type": "code"
   },
   "source": "labels",
   "execution_count": 11,
   "outputs": [
    {
     "output_type": "execute_result",
     "execution_count": 11,
     "data": {
      "text/plain": "array(['R_RSC', 'R_POS2', 'R_7Pm', 'R_8BM', 'R_8C', 'R_a47r', 'R_IFJp',\n       'R_IFSa', 'R_p9-46v', 'R_a9-46v', 'R_a10p', 'R_11l', 'R_13l',\n       'R_i6-8', 'R_s6-8', 'R_AVI', 'R_TE1p', 'R_IP2', 'R_IP1', 'R_PFm',\n       'R_p10p', 'R_p47r', 'L_RSC', 'L_POS2', 'L_7Pm', 'L_33pr', 'L_d32',\n       'L_8BM', 'L_8C', 'L_44', 'L_a47r', 'L_IFJp', 'L_IFSp', 'L_p9-46v',\n       'L_a9-46v', 'L_a10p', 'L_11l', 'L_13l', 'L_OFC', 'L_i6-8',\n       'L_s6-8', 'L_AVI', 'L_TE1p', 'L_IP2', 'L_IP1', 'L_PFm', 'L_31a',\n       'L_p10p', 'L_p47r', 'L_TE1m'], dtype=object)"
     },
     "metadata": {}
    }
   ]
  },
  {
   "cell_type": "code",
   "metadata": {
    "id": "ICCLj2xKbsaM",
    "cell_id": "00011-0cdae15b-69c7-4e9d-b475-9e6075969b0a",
    "deepnote_to_be_reexecuted": false,
    "source_hash": "7d2518d0",
    "execution_start": 1627034821503,
    "deepnote_cell_type": "code"
   },
   "source": "df_front = data_Frontopariet.drop(columns=['region_network', 'region_name'])",
   "execution_count": 12,
   "outputs": []
  },
  {
   "cell_type": "code",
   "metadata": {
    "colab": {
     "base_uri": "https://localhost:8080/",
     "height": 181
    },
    "id": "BS4trTJtcEeo",
    "outputId": "6051adb4-1c6a-4cb0-9e8b-cd2c67d561c6",
    "cell_id": "00012-f3b9573b-ffd4-446f-ba6a-0d4cac8e3347",
    "deepnote_to_be_reexecuted": false,
    "source_hash": "940c5741",
    "execution_start": 1627034821504,
    "execution_millis": 2,
    "deepnote_cell_type": "code"
   },
   "source": "df_front = df_front.to_numpy()",
   "execution_count": 13,
   "outputs": []
  },
  {
   "cell_type": "code",
   "metadata": {
    "colab": {
     "base_uri": "https://localhost:8080/"
    },
    "id": "h1qG6DCOcYXm",
    "outputId": "7da1133b-5f97-4414-82eb-41958b520de0",
    "cell_id": "00013-a9295d72-59b5-4ab6-abbe-95330a2cd682",
    "deepnote_to_be_reexecuted": false,
    "source_hash": "53cc821c",
    "execution_start": 1627034821508,
    "deepnote_cell_type": "code"
   },
   "source": "df_front",
   "execution_count": 14,
   "outputs": [
    {
     "output_type": "execute_result",
     "execution_count": 14,
     "data": {
      "text/plain": "array([[162.48646368,   2.47708699, 142.49382383, ...,  32.39468371,\n         42.27363647,   7.47139672],\n       [ 52.5311888 ,  25.15320833, -10.0484323 , ...,  34.72496223,\n         33.06713802,  47.84854817],\n       [  0.1728727 , -57.45880048,  12.72390317, ..., -31.5583183 ,\n         28.48860756,  49.6120003 ],\n       ...,\n       [107.77941141, 169.43048563,  -2.53277787, ...,  98.19658115,\n         92.88671787,  95.77513229],\n       [ 88.96334569, -61.63227416, -72.00383727, ...,  17.95347408,\n        -16.34384756,  33.79376447],\n       [ 20.08517446,  67.12296479, -28.73151662, ..., -31.10749678,\n        -30.31068042, -49.64744369]])"
     },
     "metadata": {}
    }
   ]
  },
  {
   "cell_type": "code",
   "metadata": {
    "colab": {
     "base_uri": "https://localhost:8080/"
    },
    "id": "7Y_6R35NcgGP",
    "outputId": "158f0657-43bf-4174-c9a4-c8b76e38cde6",
    "cell_id": "00014-46a4d383-b66c-4c31-a518-1ad193c0b31e",
    "deepnote_to_be_reexecuted": false,
    "source_hash": "99b572d9",
    "execution_start": 1627034821554,
    "execution_millis": 14,
    "deepnote_cell_type": "code"
   },
   "source": "my_exp  = 'RELATIONAL'\nmy_run  = 1\nmy_subj = subjects[1]\n\ncorrelation_measure = ConnectivityMeasure(kind='correlation')\ncorrelation_matrix = correlation_measure.fit_transform([df_front.T])[0]\n\nprint(type(df_front), df_front.shape) #(number of regions x number of time points)",
   "execution_count": 15,
   "outputs": [
    {
     "name": "stdout",
     "text": "<class 'numpy.ndarray'> (50, 232)\n",
     "output_type": "stream"
    }
   ]
  },
  {
   "cell_type": "code",
   "metadata": {
    "colab": {
     "base_uri": "https://localhost:8080/"
    },
    "id": "5PIEDyZsdHS_",
    "outputId": "0bbc28e1-28c1-44ba-bfbe-7294f3f84bff",
    "cell_id": "00015-6e304f68-502b-49d3-9e2b-4a89f3840d2a",
    "deepnote_to_be_reexecuted": false,
    "source_hash": "1aae3f00",
    "execution_start": 1627034821556,
    "execution_millis": 13,
    "deepnote_cell_type": "code"
   },
   "source": "print(type(correlation_matrix))",
   "execution_count": 16,
   "outputs": [
    {
     "name": "stdout",
     "text": "<class 'numpy.ndarray'>\n",
     "output_type": "stream"
    }
   ]
  },
  {
   "cell_type": "code",
   "metadata": {
    "colab": {
     "base_uri": "https://localhost:8080/",
     "height": 446
    },
    "id": "o12yCMosdDqz",
    "outputId": "4377dc19-cf4a-41eb-d1b8-eef699432210",
    "cell_id": "00016-3a471c4e-671b-4c3e-94d3-0dd18514fb87",
    "deepnote_to_be_reexecuted": false,
    "source_hash": "7e5397ee",
    "execution_start": 1627034821558,
    "execution_millis": 2033,
    "deepnote_cell_type": "code"
   },
   "source": "# Display the correlation matrix\nimport numpy as np\nfrom nilearn import plotting\n# Mask out the major diagonal\nnp.fill_diagonal(correlation_matrix, 0)\nplotting.plot_matrix(correlation_matrix, labels=labels, colorbar=True, vmax=1,vmin=-1)",
   "execution_count": 17,
   "outputs": [
    {
     "output_type": "execute_result",
     "execution_count": 17,
     "data": {
      "text/plain": "<matplotlib.image.AxesImage at 0x7f018c619890>"
     },
     "metadata": {}
    },
    {
     "name": "stderr",
     "text": "/shared-libs/python3.7/py-core/lib/python3.7/site-packages/IPython/core/pylabtools.py:134: UserWarning: This figure includes Axes that are not compatible with tight_layout, so results might be incorrect.\n  fig.canvas.print_figure(bytes_io, **kw)\n",
     "output_type": "stream"
    },
    {
     "data": {
      "text/plain": "<Figure size 504x360 with 2 Axes>",
      "image/png": "[encoded data removed]"
     },
     "metadata": {
      "image/png": {
       "width": 695,
       "height": 683
      },
      "needs_background": "light"
     },
     "output_type": "display_data"
    }
   ]
  },
  {
   "cell_type": "code",
   "metadata": {
    "id": "9ubj6rnOhi1O",
    "cell_id": "00017-95999627-8d7e-4f0a-961d-81358d1106db",
    "deepnote_to_be_reexecuted": false,
    "source_hash": "c36b13d6",
    "execution_start": 1627034823627,
    "execution_millis": 5,
    "deepnote_cell_type": "code"
   },
   "source": "def get_cond_evs(cond_name, task_name, subject, run = 1):\n  \"\"\"Load onset files for a single condition from a task.\n  \n  Args:\n    cond_name (str): condition name pulled from the conditions_dict for task_name\n    task_name (str): task name instead of the bold run\n    subject (int): 0-based subject ID to load\n    run (int): 1 or 2 for task runs (use run-1 for indexing)\n\n  Returns\n    cond_evs (n_blocks x 3): Events file for single condition to be formatted for design matrix\n\n  \"\"\"\n  bold_name = bold_name_dict[task_name][run-1]\n  cond_evs = pd.read_csv('%s/subjects/%s/EVs/%s/%s.txt'%(HCP_DIR, subject, bold_name, cond_name), sep=\"\\t\", header=None)\n  cond_evs = cond_evs.rename(columns={0: \"Onset\", 1: \"Duration\", 2: \"amplitude\"})\n  cond_evs = cond_evs.drop(columns=['amplitude'])\n  cond_evs['Stim'] = cond_name\n\n  return cond_evs\n\ndef get_run_evs(subject, task_name, run = 1):\n  \"\"\"Load onset files for a full file.\n  \n  Args:\n    task_name (str): task name instead of the bold run\n    subject (int): 0-based subject ID to load\n    run (int): 1 or 2 for task runs (use run-1 for indexing)\n\n  Returns\n    evs (n_blocks for run x 3 array): Events file for single condition to be formatted for design matrix\n\n  \"\"\"\n\n  conditions = EXPERIMENTS[task_name]\n\n  evs = pd.DataFrame()\n\n  for cond in conditions:\n    cond_evs = get_cond_evs(cond, task_name, subject, run)\n    evs = evs.append(cond_evs)\n  \n  evs = evs.sort_values(by=\"Onset\") \n\n  return evs\n\ndef run_evs_to_dm(run_evs, task_name, TR=.72, convolve = True, add_poly = 2, dct_basis=False):\n\n  sampling_freq = 1./TR\n  run_length = run_length_dict[task_name]\n  dm = onsets_to_dm(run_evs, sampling_freq=sampling_freq, run_length=run_length, sort=True, add_poly=add_poly)\n\n  if convolve: \n    dm = dm.convolve()\n\n  if dct_basis:\n    dm = dm.add_dct_basis()\n\n  return dm\n\ndef get_task_dms(subject, task_name, TR = .72, convolve = True, add_poly = 2, dct_basis=False):\n\n  runs = list(range(1,len(task_run_dict[task_name])+1))\n  task_dm = Design_Matrix(sampling_freq=1./TR)\n\n  for run in runs:\n    run_evs = get_run_evs(subject=subject, task_name=task_name, run=run)\n    run_dm = run_evs_to_dm(run_evs=run_evs, task_name=task_name, add_poly=add_poly, dct_basis=dct_basis)\n    task_dm = task_dm.append(run_dm)\n\n  return task_dm\n\ndef load_run_timeseries(subject, task_name, run = 1, remove_mean=True, scale_ts=True):\n  \"\"\"Load timeseries data for a single subject and single run.\n  \n  Args:\n    subject (int): 0-based subject ID to load\n    task_name (str): task name instead of the bold run\n    run (int): 1 or 2 for task runs\n    remove_mean (bool): If True, subtract the parcel-wise mean\n\n  Returns\n    ts (n_parcel x n_timepoint array): Array of BOLD data values\n\n  \"\"\"\n  bold_run = task_run_dict[task_name][run-1]\n\n  bold_path = f\"{HCP_DIR}/subjects/{subject}/timeseries\"\n  bold_file = f\"bold{bold_run}_Atlas_MSMAll_Glasser360Cortical.npy\"\n  ts = np.load(f\"{bold_path}/{bold_file}\")\n  if remove_mean:\n    ts -= ts.mean(axis=1, keepdims=True)\n\n  if scale_ts:\n    #scales each parcel's timeseries (instead of scaling the bold for one 1 TR from all parcels)\n    ts = scale(ts, axis=1)\n  return ts\n\ndef load_task_timeseries(subject, task_name, remove_mean=True, scale_ts = True):\n  \n  runs = list(range(1,len(task_run_dict[task_name])+1))\n  task_ts = np.empty((360, 0))\n\n  for run in runs:\n    #since everything is loaded by run and scale_ts is true each parcel should be \n    #scaled for each parcel and for each run separately before being concatenated together\n    cur_run_ts = load_run_timeseries(subject=subject, task_name=task_name, run=run)\n    task_ts = np.append(task_ts, cur_run_ts, axis=1)\n  \n  return task_ts\n\ndef get_sub_task_resids(subject, task_name):\n \n  #load task data\n  task_ts = load_task_timeseries(subject=subject, task_name=task_name)\n\n  #make design matrix\n  task_dm = get_task_dms(subject=subject, task_name=task_name)\n\n  #initialize empty variables to store data in\n  run_length = run_length_dict[task_name]\n  num_runs = len(task_run_dict[task_name])\n  resids = np.empty((0, num_runs*run_length))\n\n  #loop through parcels, run regression and extract residuals\n  for parcel in range(len(task_ts)):\n    model = sm.OLS(task_ts[parcel], task_dm)\n    results = model.fit()\n    cur_resids = np.array([results.resid])\n    resids = np.append(resids, cur_resids, axis=0)\n\n  #store parcel residuals in same format as original BOLD\n  out_dir = './hcp/residuals/%s'%(task_name)\n  if not os.path.isdir(out_dir):\n    os.makedirs(out_dir)\n\n  out_fn = '%s_%s_Glasser360Cortical.npy'%(task_name, str(subject))\n\n  np.save(os.path.join(out_dir, out_fn), resids)\n\n  return resids\n\ndef load_fcs(task_name, fc_type):\n  \n  base_dir = '/content/drive/My Drive/Colab Notebooks'\n\n  if fc_type == \"resid\":\n    fc_dir = os.path.join(base_dir, 'residual_fcs')\n  \n  elif fc_type == \"task\":\n    fc_dir = os.path.join(base_dir, 'task_preds_fcs')\n\n  elif fc_type == \"rest\":\n    fc_dir = os.path.join(base_dir, 'rest_fcs')\n\n  input_dir = os.path.join(fc_dir, task_name)\n  fcs_list = os.listdir(input_dir)\n  fcs = np.zeros((360, 360, len(fcs_list)))\n\n  for i, fc in enumerate(fcs_list):\n    fcs[:,:,i] = np.load(os.path.join(input_dir, fc))\n\n  return fcs\n\ndef get_sub_task_pred(subject, task_name):\n \n  #load task data\n  task_ts = load_task_timeseries(subject=subject, task_name=task_name)\n\n  #make design matrix\n  task_dm = get_task_dms(subject=subject, task_name=task_name)\n  task_regs = task_dm.iloc[:,:len(conditions_dict[task_name])]\n\n  #initialize empty variables to store data in\n  run_length = run_length_dict[task_name]\n  num_runs = len(task_run_dict[task_name])\n  preds = np.empty((0, num_runs*run_length))\n\n  #loop through parcels, run regression and extract residuals\n  for parcel in range(len(task_ts)):\n    model = sm.OLS(task_ts[parcel], task_dm)\n    results = model.fit()\n    task_coefs = results.params[:len(conditions_dict[task_name])]\n    cur_preds = np.zeros(num_runs*run_length)\n    for i in range(len(conditions_dict['emotion'])):\n      cur_preds += task_coefs[i]*task_regs.iloc[:,i]\n    cur_preds = np.array(cur_preds).reshape(1, -1)\n    preds = np.append(preds, cur_preds, axis=0)\n\n  #store parcel residuals in same format as original BOLD\n  out_dir = './hcp/task_preds/%s'%(task_name)\n  if not os.path.isdir(out_dir):\n    os.makedirs(out_dir)\n\n  out_fn = '%s_%s_Glasser360Cortical.npy'%(task_name, str(subject))\n\n  np.save(os.path.join(out_dir, out_fn), preds)\n\n  return preds",
   "execution_count": 18,
   "outputs": []
  },
  {
   "cell_type": "code",
   "metadata": {
    "colab": {
     "base_uri": "https://localhost:8080/"
    },
    "id": "tCiHuA02usgW",
    "outputId": "cda1be66-6d7a-403a-f1a2-c3f83e940c45",
    "cell_id": "00018-dc656f3a-c6e3-45a0-8c14-6f663e1d7a5d",
    "deepnote_to_be_reexecuted": false,
    "source_hash": "4763c247",
    "execution_start": 1627034823640,
    "execution_millis": 16,
    "deepnote_cell_type": "code"
   },
   "source": "subjects[0]\nlen(subjects)\nrange(len(subjects))",
   "execution_count": 19,
   "outputs": [
    {
     "output_type": "execute_result",
     "execution_count": 19,
     "data": {
      "text/plain": "range(0, 100)"
     },
     "metadata": {}
    }
   ]
  },
  {
   "cell_type": "code",
   "metadata": {
    "id": "w8MfTEHOxHfU",
    "cell_id": "00019-3db0432d-784a-49db-984a-237cf1dc0727",
    "deepnote_to_be_reexecuted": false,
    "source_hash": "729d97a8",
    "execution_start": 1627034823660,
    "execution_millis": 3,
    "deepnote_cell_type": "code"
   },
   "source": "from nilearn.input_data import NiftiLabelsMasker\nfrom nilearn.connectome import ConnectivityMeasure\n\n# ConenctivityMeasure from Nilearn uses simple 'correlation' to compute\n# connectivity matrices for all subjects in a list\nconnectome_measure = ConnectivityMeasure(kind='correlation')\n\n# useful for plotting connectivity interactions on glass brain\nfrom nilearn import plotting",
   "execution_count": 20,
   "outputs": []
  },
  {
   "cell_type": "code",
   "metadata": {
    "colab": {
     "base_uri": "https://localhost:8080/",
     "height": 130
    },
    "id": "q0HfHhylGTYl",
    "outputId": "576ccd63-647d-4fad-9daf-d6d4bd319331",
    "cell_id": "00020-1872f19e-805e-4730-8954-113992eb985a",
    "deepnote_to_be_reexecuted": false,
    "source_hash": "3d2bebe1",
    "execution_start": 1627034886452,
    "execution_millis": 11,
    "deepnote_cell_type": "code"
   },
   "source": "my_exp  = 'RELATIONAL'\nmy_run  = 1\n\ncorrelation_measure = ConnectivityMeasure(kind='correlation')\ndata = []\ncorrelation_matrix = []\n\n  my_subj = subjects[i]\n  data = load_single_timeseries(subject=my_subj,experiment=my_exp,run=my_run,remove_mean=True)\n  correlation_matrix{i} = correlation_measure.fit_transform([data[i].T])\n\nprint(type(data), data.shape) #(number of regions x number of time points)",
   "execution_count": 22,
   "outputs": [
    {
     "output_type": "error",
     "ename": "IndentationError",
     "evalue": "unexpected indent (2551996532.py, line 8)",
     "traceback": [
      "\u001b[0;36m  File \u001b[0;32m\"/tmp/ipykernel_144/2551996532.py\"\u001b[0;36m, line \u001b[0;32m8\u001b[0m\n\u001b[0;31m    my_subj = subjects[i]\u001b[0m\n\u001b[0m    ^\u001b[0m\n\u001b[0;31mIndentationError\u001b[0m\u001b[0;31m:\u001b[0m unexpected indent\n"
     ]
    }
   ]
  },
  {
   "cell_type": "code",
   "metadata": {
    "id": "a7mnW6Cb9n2K",
    "cell_id": "00021-2afd8e68-f0bc-4cbc-bf90-41101979bd6d",
    "deepnote_to_be_reexecuted": true,
    "source_hash": "c433beb9",
    "deepnote_cell_type": "code"
   },
   "source": "\n\n# Display the correlation matrix\nimport numpy as np\nfrom nilearn import plotting\n# Mask out the major diagonal\nlabels = region_info['name']\nnp.fill_diagonal(correlation_matrix, 0)\nplotting.plot_matrix(correlation_matrix, labels=labels, colorbar=True,\n                     vmax=1, vmin=-1)",
   "execution_count": null,
   "outputs": []
  },
  {
   "cell_type": "code",
   "metadata": {
    "id": "xNQqOOE-1f_n",
    "colab": {
     "base_uri": "https://localhost:8080/"
    },
    "outputId": "3f7702d2-8738-4118-eff6-0e0dc6baf93c",
    "cell_id": "00022-37159ded-3e80-4261-8178-90b464d3bfeb",
    "deepnote_to_be_reexecuted": true,
    "source_hash": "17147b5f",
    "deepnote_cell_type": "code"
   },
   "source": "labels = region_info['network']\nlabels",
   "outputs": [
    {
     "output_type": "execute_result",
     "data": {
      "text/plain": "array(['Visual1', 'Visual2', 'Visual2', 'Visual2', 'Visual2', 'Visual2',\n       'Visual2', 'Somatomotor', 'Somatomotor', 'Cingulo-Oper',\n       'Language', 'Default', 'Visual2', 'Frontopariet', 'Frontopariet',\n       'Visual2', 'Visual2', 'Visual2', 'Visual2', 'Visual2', 'Visual2',\n       'Visual2', 'Visual2', 'Auditory', 'Default', 'Default',\n       'Dorsal-atten', 'Default', 'Frontopariet', 'Posterior-Mu',\n       'Posterior-Mu', 'Posterior-Mu', 'Posterior-Mu', 'Posterior-Mu',\n       'Posterior-Mu', 'Somatomotor', 'Cingulo-Oper', 'Cingulo-Oper',\n       'Somatomotor', 'Somatomotor', 'Somatomotor', 'Somatomotor',\n       'Cingulo-Oper', 'Cingulo-Oper', 'Cingulo-Oper', 'Language',\n       'Somatomotor', 'Visual2', 'Visual2', 'Language', 'Somatomotor',\n       'Somatomotor', 'Somatomotor', 'Somatomotor', 'Somatomotor',\n       'Somatomotor', 'Cingulo-Oper', 'Cingulo-Oper', 'Cingulo-Oper',\n       'Cingulo-Oper', 'Posterior-Mu', 'Posterior-Mu', 'Frontopariet',\n       'Posterior-Mu', 'Posterior-Mu', 'Posterior-Mu', 'Posterior-Mu',\n       'Posterior-Mu', 'Posterior-Mu', 'Posterior-Mu', 'Posterior-Mu',\n       'Posterior-Mu', 'Frontopariet', 'Default', 'Default',\n       'Posterior-Mu', 'Frontopariet', 'Cingulo-Oper', 'Default',\n       'Frontopariet', 'Default', 'Frontopariet', 'Frontopariet',\n       'Cingulo-Oper', 'Frontopariet', 'Cingulo-Oper', 'Posterior-Mu',\n       'Posterior-Mu', 'Frontopariet', 'Posterior-Mu', 'Frontopariet',\n       'Frontopariet', 'Posterior-Mu', 'Posterior-Mu', 'Language',\n       'Language', 'Frontopariet', 'Frontopariet', 'Cingulo-Oper',\n       'Somatomotor', 'Somatomotor', 'Somatomotor', 'Auditory',\n       'Auditory', 'Cingulo-Oper', 'Cingulo-Oper', 'Auditory',\n       'Cingulo-Oper', 'Cingulo-Oper', 'Orbito-Affec', 'Frontopariet',\n       'Orbito-Affec', 'Cingulo-Oper', 'Cingulo-Oper', 'Somatomotor',\n       'Language', 'Language', 'Posterior-Mu', 'Posterior-Mu',\n       'Posterior-Mu', 'Visual1', 'Ventral-Mult', 'Default', 'Auditory',\n       'Default', 'Posterior-Mu', 'Language', 'Default', 'Default',\n       'Posterior-Mu', 'Posterior-Mu', 'Posterior-Mu', 'Frontopariet',\n       'Posterior-Mu', 'Ventral-Mult', 'Language', 'Language', 'Visual2',\n       'Default', 'Dorsal-atten', 'Dorsal-atten', 'Visual1', 'Language',\n       'Frontopariet', 'Frontopariet', 'Language', 'Cingulo-Oper',\n       'Cingulo-Oper', 'Frontopariet', 'Posterior-Mu', 'Posterior-Mu',\n       'Visual2', 'Visual2', 'Visual2', 'Posterior-Mu', 'Visual2',\n       'Visual2', 'Visual2', 'Visual2', 'Visual2', 'Posterior-Mu',\n       'Posterior-Mu', 'Visual2', 'Posterior-Mu', 'Posterior-Mu',\n       'Orbito-Affec', 'Cingulo-Oper', 'Somatomotor', 'Cingulo-Oper',\n       'Frontopariet', 'Frontopariet', 'Default', 'Auditory', 'Auditory',\n       'Auditory', 'Posterior-Mu', 'Posterior-Mu', 'Cingulo-Oper',\n       'Cingulo-Oper', 'Cingulo-Oper', 'Visual1', 'Visual2', 'Visual2',\n       'Visual2', 'Visual2', 'Visual2', 'Visual2', 'Somatomotor',\n       'Somatomotor', 'Cingulo-Oper', 'Cingulo-Oper', 'Default',\n       'Visual2', 'Frontopariet', 'Frontopariet', 'Visual2', 'Visual2',\n       'Visual2', 'Visual2', 'Visual2', 'Visual2', 'Visual2', 'Visual2',\n       'Auditory', 'Cingulo-Oper', 'Default', 'Dorsal-atten',\n       'Dorsal-atten', 'Frontopariet', 'Posterior-Mu', 'Posterior-Mu',\n       'Posterior-Mu', 'Posterior-Mu', 'Posterior-Mu', 'Posterior-Mu',\n       'Somatomotor', 'Cingulo-Oper', 'Cingulo-Oper', 'Somatomotor',\n       'Somatomotor', 'Somatomotor', 'Somatomotor', 'Cingulo-Oper',\n       'Cingulo-Oper', 'Cingulo-Oper', 'Language', 'Somatomotor',\n       'Visual2', 'Visual2', 'Language', 'Somatomotor', 'Somatomotor',\n       'Somatomotor', 'Somatomotor', 'Somatomotor', 'Somatomotor',\n       'Cingulo-Oper', 'Frontopariet', 'Cingulo-Oper', 'Cingulo-Oper',\n       'Posterior-Mu', 'Frontopariet', 'Frontopariet', 'Posterior-Mu',\n       'Posterior-Mu', 'Posterior-Mu', 'Posterior-Mu', 'Posterior-Mu',\n       'Posterior-Mu', 'Posterior-Mu', 'Posterior-Mu', 'Posterior-Mu',\n       'Frontopariet', 'Frontopariet', 'Default', 'Posterior-Mu',\n       'Frontopariet', 'Cingulo-Oper', 'Default', 'Frontopariet',\n       'Frontopariet', 'Cingulo-Oper', 'Frontopariet', 'Cingulo-Oper',\n       'Frontopariet', 'Cingulo-Oper', 'Posterior-Mu', 'Posterior-Mu',\n       'Frontopariet', 'Posterior-Mu', 'Frontopariet', 'Frontopariet',\n       'Frontopariet', 'Posterior-Mu', 'Language', 'Language',\n       'Frontopariet', 'Frontopariet', 'Cingulo-Oper', 'Somatomotor',\n       'Somatomotor', 'Somatomotor', 'Auditory', 'Somatomotor',\n       'Cingulo-Oper', 'Cingulo-Oper', 'Auditory', 'Cingulo-Oper',\n       'Cingulo-Oper', 'Orbito-Affec', 'Frontopariet', 'Orbito-Affec',\n       'Cingulo-Oper', 'Cingulo-Oper', 'Somatomotor', 'Language',\n       'Language', 'Posterior-Mu', 'Posterior-Mu', 'Posterior-Mu',\n       'Visual1', 'Ventral-Mult', 'Default', 'Auditory', 'Default',\n       'Posterior-Mu', 'Language', 'Posterior-Mu', 'Default',\n       'Posterior-Mu', 'Posterior-Mu', 'Posterior-Mu', 'Frontopariet',\n       'Posterior-Mu', 'Ventral-Mult', 'Language', 'Language', 'Visual2',\n       'Default', 'Dorsal-atten', 'Dorsal-atten', 'Visual1', 'Language',\n       'Frontopariet', 'Frontopariet', 'Language', 'Cingulo-Oper',\n       'Cingulo-Oper', 'Frontopariet', 'Posterior-Mu', 'Posterior-Mu',\n       'Visual2', 'Visual2', 'Visual2', 'Posterior-Mu', 'Visual2',\n       'Visual2', 'Visual2', 'Visual2', 'Visual2', 'Posterior-Mu',\n       'Frontopariet', 'Visual2', 'Posterior-Mu', 'Posterior-Mu',\n       'Orbito-Affec', 'Cingulo-Oper', 'Somatomotor', 'Cingulo-Oper',\n       'Frontopariet', 'Frontopariet', 'Default', 'Auditory', 'Auditory',\n       'Auditory', 'Posterior-Mu', 'Frontopariet', 'Cingulo-Oper',\n       'Cingulo-Oper', 'Cingulo-Oper'], dtype='<U12')"
     },
     "metadata": {
      "tags": []
     },
     "execution_count": 20
    }
   ],
   "execution_count": null
  },
  {
   "cell_type": "code",
   "metadata": {
    "id": "jyL6IrSY4aCd",
    "cell_id": "00023-616d721d-ea51-4a5a-9523-5b87915a46b2",
    "deepnote_to_be_reexecuted": true,
    "source_hash": "b17d50c5",
    "deepnote_cell_type": "code"
   },
   "source": "my_exp  = 'RELATIONAL'\nmy_run  = 1\n\ndata_all = []\n#for i in range(len(subjects)):\nmy_subj = subjects[1]\ndata = load_single_timeseries(subject=my_subj,experiment=my_exp,run=my_run,remove_mean=True)\n  #data_all.append(data)\n\nprint(data.shape)",
   "execution_count": null,
   "outputs": []
  },
  {
   "cell_type": "code",
   "metadata": {
    "id": "_BSdfHrpU1eg",
    "cell_id": "00024-a6eb32c7-17fb-4bc9-aa97-0c45e9eb4220",
    "deepnote_to_be_reexecuted": true,
    "source_hash": "d1af884c",
    "deepnote_cell_type": "code"
   },
   "source": "pd.DataFrame({'name' : region_info['name'],\n              'network'     : region_info['network'],\n              wdata})",
   "execution_count": null,
   "outputs": []
  },
  {
   "cell_type": "code",
   "metadata": {
    "id": "-dFjM2BtUZjW",
    "cell_id": "00025-417c3b0e-f815-4b7f-862f-0c45b5324c38",
    "deepnote_to_be_reexecuted": true,
    "source_hash": "97882bac",
    "deepnote_cell_type": "code"
   },
   "source": "data_target = data\nfor i in ['L_V3A', 'L_RSC', 'L_POS2', 'L_V7', 'L_IPS1']:\n  ",
   "execution_count": null,
   "outputs": []
  },
  {
   "cell_type": "code",
   "metadata": {
    "id": "XFJN_XETt2zl",
    "cell_id": "00026-e603e78f-f63c-4fd9-a54a-64ec6789c1f2",
    "deepnote_to_be_reexecuted": true,
    "source_hash": "97463b01",
    "deepnote_cell_type": "code"
   },
   "source": "correlation_matrices = connectome_measure.fit_transform([data.T])\n#mean_correlation_matrix = connectome_measure.mean_\n\n#data_all.reshape()\n\nprint(correlation_matrices.shape)\n\n#url = (\"https://gist.githubusercontent.com/mwaskom/cb78082d7eede47bed54866fd8cb06b3/raw/9c39627d84c20e65101fff49fe67adb76d6e4155/glasser_coords.txt\")\n#coordinates = np.loadtxt(url)\n\n## plot connectome with 80% edge strength in the connectivity\n#plotting.plot_connectome(mean_correlation_matrix, coordinates, edge_threshold=\"80%\")\n#print(correlation_matrices.shape)\n\n#plotting.plot_matrix(mean_correlation_matrix, vmin=-1)\n#plotting.show()\nplotting.plot_matrix(correlation_matrix, labels=labels, colorbar=True,\n                     vmax=1, vmin=-1)",
   "execution_count": null,
   "outputs": []
  },
  {
   "cell_type": "code",
   "metadata": {
    "id": "a7f6Zj-aMeZd",
    "cell_id": "00027-49634b11-a91b-4cef-b7ab-c95fbbad6eaf",
    "deepnote_to_be_reexecuted": true,
    "source_hash": "ad22917c",
    "deepnote_cell_type": "code"
   },
   "source": "print(labels)",
   "execution_count": null,
   "outputs": []
  },
  {
   "cell_type": "code",
   "metadata": {
    "id": "xOpJLAXDkTF4",
    "cell_id": "00028-89666e14-dd61-4a6b-a315-799c157246e1",
    "deepnote_to_be_reexecuted": true,
    "source_hash": "468b1f7f",
    "deepnote_cell_type": "code"
   },
   "source": "url = (\"https://gist.githubusercontent.com/mwaskom/cb78082d7eede47bed54866fd8cb06b3/raw/9c39627d84c20e65101fff49fe67adb76d6e4155/glasser_coords.txt\")\ncoords = np.loadtxt(url)\nconnectivity_measure = ConnectivityMeasure(kind='correlation')\ncorrelation_matrix = connectivity_measure.fit_transform([data.T])[0]\n#print(correlation_matrix)\nprint(data.shape)\n\n# Plot connectivity matrix (use plot_matrix)\nplotting.plot_matrix(correlation_matrix, vmin=-1)\nplotting.show()\nprint(correlation_matrix.shape)",
   "execution_count": null,
   "outputs": []
  },
  {
   "cell_type": "code",
   "metadata": {
    "id": "Q3UI1QLLlcWe",
    "cell_id": "00029-32dd9cbb-006f-4924-9d00-c5dff0dd6c7a",
    "deepnote_to_be_reexecuted": true,
    "source_hash": "b980ab8d",
    "deepnote_cell_type": "code"
   },
   "source": "plotting.view_connectome (correlation_matrix, coords, edge_threshold=\"99%\")",
   "execution_count": null,
   "outputs": []
  },
  {
   "cell_type": "code",
   "metadata": {
    "id": "uWQWjyS-pcL1",
    "cell_id": "00030-a764e853-baf9-418a-8f94-3784ed9e3254",
    "deepnote_to_be_reexecuted": true,
    "source_hash": "97018e50",
    "deepnote_cell_type": "code"
   },
   "source": "mean_correlation_matrix = connectivity_measure.mean_\nplotting.plot_connectome(mean_correlation_matrix, coords,\n                         edge_threshold=\"80%\")",
   "execution_count": null,
   "outputs": []
  },
  {
   "cell_type": "code",
   "metadata": {
    "id": "em9DvyqXn9t-",
    "cell_id": "00031-49fdb8ff-499c-4ffc-b4f5-28e0a0de4f29",
    "deepnote_to_be_reexecuted": true,
    "source_hash": "aed4ddcc",
    "deepnote_cell_type": "code"
   },
   "source": "from nilearn.glm.first_level import make_first_level_design_matrix\ndesign_matrices = make_first_level_design_matrix(frame_times, events,\n                          drift_model='polynomial', drift_order=3)",
   "execution_count": null,
   "outputs": []
  },
  {
   "cell_type": "code",
   "metadata": {
    "id": "iIyE4ooGgR56",
    "cell_id": "00032-e1a9cb7d-61c4-4bd9-a819-1ec11f2d01eb",
    "deepnote_to_be_reexecuted": true,
    "source_hash": "4e8ed6d6",
    "deepnote_cell_type": "code"
   },
   "source": "timeseries_relational = []\n#for subject in subjects:\nts_concat = load_single_timeseries(subject=my_subj,experiment=my_exp,run=my_run,remove_mean=True)\ntimeseries_relational.append(ts_concat)\n",
   "execution_count": null,
   "outputs": []
  },
  {
   "cell_type": "code",
   "metadata": {
    "id": "8YLNpqhAg1km",
    "cell_id": "00033-dc159fe8-d1d2-4180-bd0d-fc51ebb2be45",
    "deepnote_to_be_reexecuted": true,
    "source_hash": "ee5d59ae",
    "deepnote_cell_type": "code"
   },
   "source": "fc = np.zeros((N_SUBJECTS, N_PARCELS, N_PARCELS))\nfor sub, ts in enumerate(timeseries_relational):\n  fc[sub] = np.corrcoef(ts)\ngroup_fc = fc.mean(axis=0)\n\n#plt.imshow(group_fc, interpolation=\"none\", cmap=\"bwr\", vmin=-1, vmax=1)\n#plt.colorbar()\n#plt.show()\n\nplotting.plot_matrix(group_fc, cmap=\"bwr\", vmin=-1,vmax=1)\nplotting.show()",
   "execution_count": null,
   "outputs": []
  },
  {
   "cell_type": "code",
   "metadata": {
    "id": "y81PrXe-SGWA",
    "cell_id": "00034-ef3b4edb-5aed-4310-84b8-8dfa33e2a281",
    "deepnote_to_be_reexecuted": true,
    "source_hash": "5a53b96d",
    "deepnote_cell_type": "code"
   },
   "source": "def get_run_evs(subject, task_name, run = 1):\n  \"\"\"Load onset files for a full file.\n  \n  Args:\n    task_name (str): task name instead of the bold run\n    subject (int): 0-based subject ID to load\n    run (int): 1 or 2 for task runs (use run-1 for indexing)\n\n  Returns\n    evs (n_blocks for run x 3 array): Events file for single condition to be formatted for design matrix\n\n  \"\"\"\n\n  conditions = conditions_dict[task_name]\n\n  evs = pd.DataFrame()\n\n  for cond in conditions:\n    cond_evs = get_cond_evs(cond, task_name, subject, run)\n    evs = evs.append(cond_evs)\n  \n  evs = evs.sort_values(by=\"Onset\") \n\n  return evs\ndef get_sub_task_pred(subject, task_name):\n \n  #load task data\n  task_ts = load_task_timeseries(subject=subject, task_name=task_name)\n\n  #make design matrix\n  task_dm = get_task_dms(subject=subject, task_name=task_name)\n  task_regs = task_dm.iloc[:,:len(conditions_dict[task_name])]\n\n  #initialize empty variables to store data in\n  run_length = run_length_dict[task_name]\n  num_runs = len(task_run_dict[task_name])\n  preds = np.empty((0, num_runs*run_length))\n\n  #loop through parcels, run regression and extract residuals\n  for parcel in range(len(task_ts)):\n    model = sm.OLS(task_ts[parcel], task_dm)\n    results = model.fit()\n    task_coefs = results.params[:len(conditions_dict[task_name])]\n    cur_preds = np.zeros(num_runs*run_length)\n    for i in range(len(conditions_dict['emotion'])):\n      cur_preds += task_coefs[i]*task_regs.iloc[:,i]\n    cur_preds = np.array(cur_preds).reshape(1, -1)\n    preds = np.append(preds, cur_preds, axis=0)\n\n  #store parcel residuals in same format as original BOLD\n  out_dir = './hcp/task_preds/%s'%(task_name)\n  if not os.path.isdir(out_dir):\n    os.makedirs(out_dir)\n\n  out_fn = '%s_%s_Glasser360Cortical.npy'%(task_name, str(subject))\n\n  np.save(os.path.join(out_dir, out_fn), preds)\n\n  return preds",
   "execution_count": null,
   "outputs": []
  },
  {
   "cell_type": "code",
   "metadata": {
    "id": "tyWfLZcRRzq5",
    "cell_id": "00035-a44d0f30-6c73-455e-991f-3fd5a69b3d2b",
    "deepnote_to_be_reexecuted": true,
    "source_hash": "9a683309",
    "deepnote_cell_type": "code"
   },
   "source": "run_evs = get_run_evs(subject= my_subj, task_name = task_name, run = my_run)\nrun_evs",
   "execution_count": null,
   "outputs": []
  },
  {
   "cell_type": "code",
   "metadata": {
    "id": "ep5YWfmWUeVm",
    "cell_id": "00036-aec594cd-2272-4ec5-984f-28e9b5d8d0bb",
    "deepnote_to_be_reexecuted": true,
    "source_hash": "9cd8e9ac",
    "deepnote_cell_type": "code"
   },
   "source": "data1 = np.load('/content/hcp/subjects/105216/RELATIONAL/tfMRI_RELATIONAL_RL/data.npy')\nprint(data1)\ndata1.shape",
   "execution_count": null,
   "outputs": []
  },
  {
   "cell_type": "code",
   "metadata": {
    "id": "jMwD3tfoWTYL",
    "cell_id": "00037-1b184e43-a600-49c9-9553-de0535960fb9",
    "deepnote_to_be_reexecuted": true,
    "source_hash": "9cbccb84",
    "deepnote_cell_type": "code"
   },
   "source": "plt.plot(data1)\nplt.show()",
   "execution_count": null,
   "outputs": []
  },
  {
   "cell_type": "code",
   "metadata": {
    "id": "53hhxK9vadgA",
    "cell_id": "00038-2280d6e3-ec41-4e31-916c-99ccb4454df5",
    "deepnote_to_be_reexecuted": true,
    "source_hash": "1b0fe97",
    "deepnote_cell_type": "code"
   },
   "source": "evs = load_evs(subject=my_subj, experiment=my_exp,run=my_run)\nprint(type(evs), len(evs))\nprint(evs[0]) #match\nprint(evs[1]) #relation",
   "execution_count": null,
   "outputs": []
  },
  {
   "cell_type": "code",
   "metadata": {
    "id": "WKOE73_gafuL",
    "cell_id": "00039-e9082554-8505-4177-911d-2b0d9080c3d7",
    "deepnote_to_be_reexecuted": true,
    "source_hash": "64ac8c80",
    "deepnote_cell_type": "code"
   },
   "source": "# we need a little function that averages all frames from any given condition\n\ndef average_frames(data, evs, experiment, cond):    \n    idx = EXPERIMENTS[experiment]['cond'].index(cond)\n    return np.mean(np.concatenate([np.mean(data[:,evs[idx][i]],axis=1,keepdims=True) for i in range(len(evs[idx]))],axis=-1),axis=1)\n\n\nmatch_activity = average_frames(data, evs, my_exp, 'match')\nrelation_activity = average_frames(data, evs, my_exp, 'relation')\ncontrast = match_activity - relation_activity  \nprint(match_activity.shape, type(match_activity))",
   "execution_count": null,
   "outputs": []
  },
  {
   "cell_type": "code",
   "metadata": {
    "id": "8wIXzvFEaif6",
    "cell_id": "00040-a617d208-29ff-4cea-9fb0-19e834210abc",
    "deepnote_to_be_reexecuted": true,
    "source_hash": "ad4ff42c",
    "deepnote_cell_type": "code"
   },
   "source": "# Plot activity level in each ROI for both conditions\nplt.plot(match_activity,label='match process')\nplt.plot(relation_activity,label='relation process')\nplt.xlabel('ROI')\nplt.ylabel('activity')\nplt.legend()",
   "execution_count": null,
   "outputs": []
  },
  {
   "cell_type": "code",
   "metadata": {
    "id": "yYxy9M1fak-1",
    "cell_id": "00041-9cbaacd7-32ec-45ac-90db-ff9b461cfb6f",
    "deepnote_to_be_reexecuted": true,
    "source_hash": "ca653cab",
    "deepnote_cell_type": "code"
   },
   "source": "df = pd.DataFrame({'match_activity' : match_activity,\n                   'relation_activity' : relation_activity,\n                   'name' : region_info['name'],\n                   'network'     : region_info['network'],\n                   'hemi'        : region_info['hemi']})\n\nfig,(ax1,ax2) = plt.subplots(1,2)\nsns.barplot(y='network', x='match_activity', data=df, hue='hemi',ax=ax1)\nsns.barplot(y='network', x='relation_activity', data=df, hue='hemi',ax=ax2)\n\n#df_2  = df.loc[(df['network'] == 'Visual2')]\n\nprint(df)",
   "execution_count": null,
   "outputs": []
  },
  {
   "cell_type": "code",
   "metadata": {
    "id": "gHY9uGc5bSzt",
    "cell_id": "00042-40a99d98-9a9d-4c5f-8b1b-ce67566b3bc7",
    "deepnote_to_be_reexecuted": true,
    "source_hash": "c6d2a124",
    "deepnote_cell_type": "code"
   },
   "source": "group_contrast = 0\nfor s in subjects:\n  for r in [0,1]:\n    data = load_single_timeseries(subject=s,experiment=my_exp,run=r,remove_mean=True)\n    evs = load_evs(subject=s, experiment=my_exp,run=r)\n\n    match_activity = average_frames(data, evs, my_exp, 'match')\n    relation_activity = average_frames(data, evs, my_exp, 'relation')\n\n    contrast = match_activity - relation_activity\n    group_contrast += contrast\n\ngroup_contrast /= (len(subjects)*2)  # remember: 2 sessions per subject\n",
   "execution_count": null,
   "outputs": []
  },
  {
   "cell_type": "code",
   "metadata": {
    "id": "cS2gYKq3tL-7",
    "cell_id": "00043-207a5f10-ae35-4ceb-8645-3a9759801c08",
    "deepnote_to_be_reexecuted": true,
    "source_hash": "b623e53d",
    "deepnote_cell_type": "code"
   },
   "source": "",
   "execution_count": null,
   "outputs": []
  },
  {
   "cell_type": "code",
   "metadata": {
    "id": "w-dQvH1jbgE7",
    "cell_id": "00044-2d0a5a3a-d818-465f-adcd-79d60c1665c3",
    "deepnote_to_be_reexecuted": true,
    "source_hash": "189b8b96",
    "deepnote_cell_type": "code"
   },
   "source": "df = pd.DataFrame({'contrast':group_contrast,'network':region_info['network'],'hemi':region_info['hemi']})\n# we will plot the left foot minus right foot contrast so we only need one plot\nsns.barplot(y='network', x='contrast', data=df, hue='hemi')\n\ndf_match = pd.DataFrame({'match_activity':match_activity,'network':region_info['network'],'hemi':region_info['hemi']})\ndf_relation = pd.DataFrame({'match_activity':match_activity,'relation_activity':relation_activity, 'network':region_info['network'],'hemi':region_info['hemi']})\n#df1 = pd.DataFrame({'match_activity':match_activity,'relation_activity':relation_activity, 'network':region_info['network'],'hemi':region_info['hemi']})\n#df1  = df1.loc[(df1['network'] == 'Visual2') & (df1['hemi'] == 'Right')]\n#print(df1)\nprint(type(df_match))",
   "execution_count": null,
   "outputs": []
  },
  {
   "cell_type": "code",
   "metadata": {
    "id": "T9Qr4KZKtNPk",
    "cell_id": "00045-d1100fd5-0d7e-4302-9a68-726e5f2fd1e4",
    "deepnote_to_be_reexecuted": true,
    "source_hash": "e75b837c",
    "deepnote_cell_type": "code"
   },
   "source": "match_rev = match_activity.reshape(-1,1)",
   "execution_count": null,
   "outputs": []
  },
  {
   "cell_type": "code",
   "metadata": {
    "id": "nJncaBtFtkQs",
    "cell_id": "00046-561c4090-9383-499c-943a-929339bb1594",
    "deepnote_to_be_reexecuted": true,
    "source_hash": "11199f3",
    "deepnote_cell_type": "code"
   },
   "source": "a = relation_activity - match_rev\na.shape\nprint(a)",
   "execution_count": null,
   "outputs": []
  },
  {
   "cell_type": "code",
   "metadata": {
    "id": "FIcD1JlOj6TJ",
    "cell_id": "00047-9f96f206-0996-4ba4-bee5-6e3c65ccec0d",
    "deepnote_to_be_reexecuted": true,
    "source_hash": "e776c539",
    "deepnote_cell_type": "code"
   },
   "source": "plt.imshow(a)\nplt.show()",
   "execution_count": null,
   "outputs": []
  },
  {
   "cell_type": "code",
   "metadata": {
    "id": "yEpLr15rih_e",
    "cell_id": "00048-7c07e965-0c50-4d55-b77f-e8886c527b64",
    "deepnote_to_be_reexecuted": true,
    "source_hash": "11023678",
    "deepnote_cell_type": "code"
   },
   "source": "#print(region_info['network'])",
   "execution_count": null,
   "outputs": []
  },
  {
   "cell_type": "code",
   "metadata": {
    "id": "0rnbLqsjvVgD",
    "cell_id": "00049-5f8305c5-faee-4f61-a6cd-3830b012408e",
    "deepnote_to_be_reexecuted": true,
    "source_hash": "9627c153",
    "deepnote_cell_type": "code"
   },
   "source": "def heatmap(data, row_labels, col_labels, ax=None,\n            cbar_kw={}, cbarlabel=\"\", **kwargs):\n    \"\"\"\n    Create a heatmap from a numpy array and two lists of labels.\n\n    Parameters\n    ----------\n    data\n        A 2D numpy array of shape (N, M).\n    row_labels\n        A list or array of length N with the labels for the rows.\n    col_labels\n        A list or array of length M with the labels for the columns.\n    ax\n        A `matplotlib.axes.Axes` instance to which the heatmap is plotted.  If\n        not provided, use current axes or create a new one.  Optional.\n    cbar_kw\n        A dictionary with arguments to `matplotlib.Figure.colorbar`.  Optional.\n    cbarlabel\n        The label for the colorbar.  Optional.\n    **kwargs\n        All other arguments are forwarded to `imshow`.\n    \"\"\"\n\n    if not ax:\n        ax = plt.gca()\n\n    # Plot the heatmap\n    im = ax.imshow(data, **kwargs)\n\n    # Create colorbar\n    cbar = ax.figure.colorbar(im, ax=ax, **cbar_kw)\n    cbar.ax.set_ylabel(cbarlabel, rotation=-90, va=\"bottom\")\n\n    # We want to show all ticks...\n    ax.set_xticks(np.arange(data.shape[1]))\n    ax.set_yticks(np.arange(data.shape[0]))\n    # ... and label them with the respective list entries.\n    ax.set_xticklabels(col_labels)\n    ax.set_yticklabels(row_labels)\n\n    # Let the horizontal axes labeling appear on top.\n    ax.tick_params(top=True, bottom=False,\n                   labeltop=True, labelbottom=False)\n\n    # Rotate the tick labels and set their alignment.\n    plt.setp(ax.get_xticklabels(), rotation=-30, ha=\"right\",\n             rotation_mode=\"anchor\")\n\n    # Turn spines off and create white grid.\n    ax.spines[:].set_visible(False)\n\n    ax.set_xticks(np.arange(data.shape[1]+1)-.5, minor=True)\n    ax.set_yticks(np.arange(data.shape[0]+1)-.5, minor=True)\n    ax.grid(which=\"minor\", color=\"w\", linestyle='-', linewidth=3)\n    ax.tick_params(which=\"minor\", bottom=False, left=False)\n\n    return im, cbar\n\n\ndef annotate_heatmap(im, data=None, valfmt=\"{x:.2f}\",\n                     textcolors=(\"black\", \"white\"),\n                     threshold=None, **textkw):\n    \"\"\"\n    A function to annotate a heatmap.\n\n    Parameters\n    ----------\n    im\n        The AxesImage to be labeled.\n    data\n        Data used to annotate.  If None, the image's data is used.  Optional.\n    valfmt\n        The format of the annotations inside the heatmap.  This should either\n        use the string format method, e.g. \"$ {x:.2f}\", or be a\n        `matplotlib.ticker.Formatter`.  Optional.\n    textcolors\n        A pair of colors.  The first is used for values below a threshold,\n        the second for those above.  Optional.\n    threshold\n        Value in data units according to which the colors from textcolors are\n        applied.  If None (the default) uses the middle of the colormap as\n        separation.  Optional.\n    **kwargs\n        All other arguments are forwarded to each call to `text` used to create\n        the text labels.\n    \"\"\"\n\n    if not isinstance(data, (list, np.ndarray)):\n        data = im.get_array()\n\n    # Normalize the threshold to the images color range.\n    if threshold is not None:\n        threshold = im.norm(threshold)\n    else:\n        threshold = im.norm(data.max())/2.\n\n    # Set default alignment to center, but allow it to be\n    # overwritten by textkw.\n    kw = dict(horizontalalignment=\"center\",\n              verticalalignment=\"center\")\n    kw.update(textkw)\n\n    # Get the formatter in case a string is supplied\n    if isinstance(valfmt, str):\n        valfmt = matplotlib.ticker.StrMethodFormatter(valfmt)\n\n    # Loop over the data and create a `Text` for each \"pixel\".\n    # Change the text's color depending on the data.\n    texts = []\n    for i in range(data.shape[0]):\n        for j in range(data.shape[1]):\n            kw.update(color=textcolors[int(im.norm(data[i, j]) > threshold)])\n            text = im.axes.text(j, i, valfmt(data[i, j], None), **kw)\n            texts.append(text)\n\n    return texts",
   "execution_count": null,
   "outputs": []
  },
  {
   "cell_type": "code",
   "metadata": {
    "id": "ZAz2sWP4vjl7",
    "cell_id": "00050-d9a11523-e9c5-4f36-bb97-ce5960bed5dc",
    "deepnote_to_be_reexecuted": true,
    "source_hash": "72818de6",
    "deepnote_cell_type": "code"
   },
   "source": "fig, ax = plt.subplots()\n\nim, cbar = heatmap(a, region_info['network'], region_info['network'], cmap=\"YlGn\")\ntexts = annotate_heatmap(im, valfmt=\"{x:.1f} t\")\n\nfig.tight_layout()\nplt.show()",
   "execution_count": null,
   "outputs": []
  },
  {
   "cell_type": "code",
   "metadata": {
    "id": "26HPCra8_woy",
    "cell_id": "00051-28632cfc-097f-4e67-84a2-2b759d0260e4",
    "deepnote_to_be_reexecuted": true,
    "source_hash": "4f52cc6b",
    "deepnote_cell_type": "code"
   },
   "source": "!pip install -U --user nilearn\n\nimport nilearn",
   "execution_count": null,
   "outputs": []
  },
  {
   "cell_type": "code",
   "metadata": {
    "id": "LRfc_Stu_22W",
    "cell_id": "00052-74a70b19-84c0-4914-a47f-8974f7382000",
    "deepnote_to_be_reexecuted": true,
    "source_hash": "6d7faedd",
    "deepnote_cell_type": "code"
   },
   "source": "import sys\nfor i in sys.path:print(i)",
   "execution_count": null,
   "outputs": []
  },
  {
   "cell_type": "code",
   "metadata": {
    "id": "qAkt1z_mBccP",
    "cell_id": "00053-4e31185e-609b-4f7d-b85f-c4d7fe9d736d",
    "deepnote_to_be_reexecuted": true,
    "source_hash": "a962a3fc",
    "deepnote_cell_type": "code"
   },
   "source": "sys.path.append('path to your module')\n",
   "execution_count": null,
   "outputs": []
  },
  {
   "cell_type": "code",
   "metadata": {
    "id": "HbKw6L13-x2g",
    "cell_id": "00054-1d1ed905-817d-4f97-8ce5-554b39e74258",
    "deepnote_to_be_reexecuted": true,
    "source_hash": "82dca247",
    "deepnote_cell_type": "code"
   },
   "source": "from nilearn.input_data import NiftiLabelsMasker\nmasker = NiftiLabelsMasker(labels_img=atlas_filename, standardize=True)",
   "execution_count": null,
   "outputs": []
  },
  {
   "cell_type": "code",
   "metadata": {
    "id": "8g7zm2VohciK",
    "cell_id": "00055-2506035b-20c9-42ed-92d4-1d4b38a97c9e",
    "deepnote_to_be_reexecuted": true,
    "source_hash": "bbc03bc5",
    "deepnote_cell_type": "code"
   },
   "source": "subjects = os.listdir('./hcp_task/subjects')\nsubjects = [i for i in subjects if i.startswith('.') == False]\nsubjects[:10]",
   "execution_count": null,
   "outputs": []
  },
  {
   "cell_type": "markdown",
   "source": "<a style='text-decoration:none;line-height:16px;display:flex;color:#5B5B62;padding:10px;justify-content:end;' href='https://deepnote.com?utm_source=created-in-deepnote-cell&projectId=6295fdfe-0fe7-4eff-a146-eea081f08ccc' target=\"_blank\">\n<img alt='Created in deepnote.com' style='display:inline;max-height:16px;margin:0px;margin-right:7.5px;' src='data:image/svg+xml;base64,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' > </img>\nCreated in <span style='font-weight:600;margin-left:4px;'>Deepnote</span></a>",
   "metadata": {
    "tags": [],
    "created_in_deepnote_cell": true,
    "deepnote_cell_type": "markdown"
   }
  }
 ],
 "nbformat": 4,
 "nbformat_minor": 0,
 "metadata": {
  "colab": {
   "name": "HCP relation task.ipynb",
   "provenance": []
  },
  "kernelspec": {
   "name": "python3",
   "display_name": "Python 3"
  },
  "language_info": {
   "name": "python"
  },
  "deepnote_notebook_id": "6df9b365-7aed-4b9f-b787-6f7487198d18",
  "deepnote": {},
  "deepnote_execution_queue": []
 }
}